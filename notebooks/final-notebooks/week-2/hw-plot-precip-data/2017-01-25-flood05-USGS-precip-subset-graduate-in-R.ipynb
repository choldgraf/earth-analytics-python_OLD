{
 "cells": [
  {
   "cell_type": "raw",
   "metadata": {},
   "source": [
    "---\n",
    "layout: single\n",
    "title: \"Subset & aggregate time series precipitation data in R using mutate(), group_by() and summarise()\"\n",
    "excerpt: \"This lesson introduces the mutate() and group_by() dplyr functions - which allow you to aggregate or summarize time series data by a particular field - in this case we will aggregate data by day to get daily precipitation totals for Boulder during the 2013 floods.\"\n",
    "authors: ['Leah Wasser']\n",
    "modified: '{:%Y-%m-%d}'.format(datetime.now())\n",
    "category: [course-materials]\n",
    "class-lesson: ['hw-ggplot2-r']\n",
    "week: 2\n",
    "permalink: /course-materials/earth-analytics/week-2/aggregate-time-series-data-r/\n",
    "nav-title: 'GRAD / BONUS: aggregate data'\n",
    "sidebar:\n",
    "  nav:\n",
    "author_profile: false\n",
    "comments: true\n",
    "order: 5\n",
    "course: \"earth-analytics\"\n",
    "topics:\n",
    "  reproducible-science-and-programming: ['RStudio']\n",
    "  time-series:\n",
    "  data-exploration-and-analysis: ['data-visualization']\n",
    "---\n"
   ]
  },
  {
   "cell_type": "markdown",
   "metadata": {},
   "source": [
    "\n",
    "\n",
    "{% include toc title=\"In This Lesson\" icon=\"file-text\" %}\n",
    "\n",
    "\n",
    "\n",
    "\n",
    "\n",
    "Bonus / graduate activity. In this lesson, you will PLOT precipitation data in R.\n",
    "\n",
    "However, these data were collected over several decades and sometimes there are\n",
    "\n",
    "multiple data points per day. The data are also not cleaned. You will find\n",
    "\n",
    "heading names that may not be meaningful, and other issues with the data.\n",
    "\n",
    "\n",
    "\n",
    "This lesson provides the basic skills that you need to create a plot of daily\n",
    "\n",
    "precipitation, for 30 years surrounding the 2013 flood. You will use the skills\n",
    "\n",
    "that you learned in the previous lessons, coupled with the skills in this lesson\n",
    "\n",
    "to process the data.\n",
    "\n",
    "\n",
    "\n",
    "<div class='notice--success' markdown=\"1\">\n",
    "\n",
    "\n",
    "\n",
    "## <i class=\"fa fa-graduation-cap\" aria-hidden=\"true\"></i> Learning Objectives\n",
    "\n",
    "\n",
    "\n",
    "After completing this tutorial, you will be able to:\n",
    "\n",
    "\n",
    "\n",
    "* Aggregate data by a day in R\n",
    "\n",
    "* View names and rename columns in a dataframe.\n",
    "\n",
    "\n",
    "\n",
    "### Things You'll Need To Complete This Lesson\n",
    "\n",
    "\n",
    "\n",
    "Please be sure you have the most current version of R and, preferably,\n",
    "\n",
    "`RStudio` to write your code.\n",
    "\n",
    "\n",
    "\n",
    " **R Skill Level:** Intermediate - To succeed in this tutorial, you will need to\n",
    "\n",
    "have basic knowledge for use of the `R` software program.\n",
    "\n",
    "\n",
    "\n",
    "### R Libraries to Install:\n",
    "\n",
    "\n",
    "\n",
    "* **ggplot2:** `install.packages(\"ggplot2\")`\n",
    "\n",
    "* **plotly:** `install.packages(\"dplyr\")`\n",
    "\n",
    "\n",
    "\n",
    "#### Data Download\n",
    "\n",
    "\n",
    "\n",
    "If you haven't already downloaded this data (from the previous lesson), do so now.\n",
    "\n",
    "\n",
    "\n",
    "[<i class=\"fa fa-download\" aria-hidden=\"true\"></i> Download Week 2 Data](https://ndownloader.figshare.com/files/7426738){:data-proofer-ignore='' .btn }\n",
    "\n",
    "\n",
    "\n",
    "</div>\n",
    "\n",
    "\n",
    "\n",
    "\n",
    "\n",
    "## Work with Precipitation Data\n",
    "\n",
    "\n",
    "\n",
    "## R Libraries\n",
    "\n",
    "\n",
    "\n",
    "To get started, load the `ggplot2` and `dplyr` libraries, setup your working\n",
    "\n",
    "directory and set `stringsAsFactors` to FALSE using `options()`.\n",
    "\n",
    "\n"
   ]
  },
  {
   "cell_type": "code",
   "execution_count": 1,
   "metadata": {
    "collapsed": true
   },
   "outputs": [],
   "source": [
    "# ```{r echo=FALSE}\n",
    "\n",
    "# knitr::opts_chunk$set(echo = TRUE, message = FALSE, warning=FALSE)\n",
    "\n",
    "\n",
    "\n",
    "# ```\n"
   ]
  },
  {
   "cell_type": "code",
   "execution_count": 1,
   "metadata": {
    "collapsed": true
   },
   "outputs": [],
   "source": [
    "import numpy as np\n",
    "import pandas as pd\n",
    "import matplotlib.pyplot as plt\n",
    "import earthlab as et\n",
    "%matplotlib inline"
   ]
  },
  {
   "cell_type": "code",
   "execution_count": 2,
   "metadata": {
    "collapsed": true
   },
   "outputs": [],
   "source": [
    "# ```{r load-libraries, echo=F }\n",
    "\n",
    "\n",
    "\n",
    "# # setwd(\"working-dir-path-here\")\n",
    "\n",
    "\n",
    "\n",
    "# # load packages\n",
    "\n",
    "# library(ggplot2)\n",
    "\n",
    "# library(dplyr)\n",
    "\n",
    "\n",
    "\n",
    "# options(stringsAsFactors = FALSE)\n",
    "\n",
    "\n",
    "\n",
    "# ```\n"
   ]
  },
  {
   "cell_type": "markdown",
   "metadata": {},
   "source": [
    "\n",
    "\n",
    "\n",
    "\n",
    "## Import Precipitation Data\n",
    "\n",
    "\n",
    "\n",
    "We will use the `805333-precip-daily-1948-2013.csv` dataset for this assignment.\n",
    "\n",
    "in this analysis. This dataset contains the precipitation values collected daily\n",
    "\n",
    "from the COOP station 050843 in Boulder, CO for 1 January 2003 through 31 December 2013.\n",
    "\n",
    "\n",
    "\n",
    "Import the data into R and then view the data structure.\n",
    "\n",
    "\n"
   ]
  },
  {
   "cell_type": "code",
   "execution_count": 6,
   "metadata": {},
   "outputs": [
    {
     "name": "stdout",
     "output_type": "stream",
     "text": [
      "Replace is False and data exists, so doing nothing. Use replace==True to re-download the data.\n"
     ]
    },
    {
     "data": {
      "text/html": [
       "<div>\n",
       "<style>\n",
       "    .dataframe thead tr:only-child th {\n",
       "        text-align: right;\n",
       "    }\n",
       "\n",
       "    .dataframe thead th {\n",
       "        text-align: left;\n",
       "    }\n",
       "\n",
       "    .dataframe tbody tr th {\n",
       "        vertical-align: top;\n",
       "    }\n",
       "</style>\n",
       "<table border=\"1\" class=\"dataframe\">\n",
       "  <thead>\n",
       "    <tr style=\"text-align: right;\">\n",
       "      <th></th>\n",
       "      <th>STATION</th>\n",
       "      <th>STATION_NAME</th>\n",
       "      <th>ELEVATION</th>\n",
       "      <th>LATITUDE</th>\n",
       "      <th>LONGITUDE</th>\n",
       "      <th>DATE</th>\n",
       "      <th>HPCP</th>\n",
       "      <th>Measurement Flag</th>\n",
       "      <th>Quality Flag</th>\n",
       "    </tr>\n",
       "  </thead>\n",
       "  <tbody>\n",
       "    <tr>\n",
       "      <th>0</th>\n",
       "      <td>COOP:050843</td>\n",
       "      <td>BOULDER 2 CO US</td>\n",
       "      <td>unknown</td>\n",
       "      <td>unknown</td>\n",
       "      <td>unknown</td>\n",
       "      <td>19480801 01:00</td>\n",
       "      <td>0.00</td>\n",
       "      <td>g</td>\n",
       "      <td></td>\n",
       "    </tr>\n",
       "    <tr>\n",
       "      <th>1</th>\n",
       "      <td>COOP:050843</td>\n",
       "      <td>BOULDER 2 CO US</td>\n",
       "      <td>unknown</td>\n",
       "      <td>unknown</td>\n",
       "      <td>unknown</td>\n",
       "      <td>19480802 15:00</td>\n",
       "      <td>0.05</td>\n",
       "      <td></td>\n",
       "      <td></td>\n",
       "    </tr>\n",
       "    <tr>\n",
       "      <th>2</th>\n",
       "      <td>COOP:050843</td>\n",
       "      <td>BOULDER 2 CO US</td>\n",
       "      <td>unknown</td>\n",
       "      <td>unknown</td>\n",
       "      <td>unknown</td>\n",
       "      <td>19480803 09:00</td>\n",
       "      <td>0.01</td>\n",
       "      <td></td>\n",
       "      <td></td>\n",
       "    </tr>\n",
       "    <tr>\n",
       "      <th>3</th>\n",
       "      <td>COOP:050843</td>\n",
       "      <td>BOULDER 2 CO US</td>\n",
       "      <td>unknown</td>\n",
       "      <td>unknown</td>\n",
       "      <td>unknown</td>\n",
       "      <td>19480803 14:00</td>\n",
       "      <td>0.03</td>\n",
       "      <td></td>\n",
       "      <td></td>\n",
       "    </tr>\n",
       "    <tr>\n",
       "      <th>4</th>\n",
       "      <td>COOP:050843</td>\n",
       "      <td>BOULDER 2 CO US</td>\n",
       "      <td>unknown</td>\n",
       "      <td>unknown</td>\n",
       "      <td>unknown</td>\n",
       "      <td>19480803 15:00</td>\n",
       "      <td>0.03</td>\n",
       "      <td></td>\n",
       "      <td></td>\n",
       "    </tr>\n",
       "  </tbody>\n",
       "</table>\n",
       "</div>"
      ],
      "text/plain": [
       "       STATION     STATION_NAME ELEVATION LATITUDE LONGITUDE            DATE  \\\n",
       "0  COOP:050843  BOULDER 2 CO US   unknown  unknown   unknown  19480801 01:00   \n",
       "1  COOP:050843  BOULDER 2 CO US   unknown  unknown   unknown  19480802 15:00   \n",
       "2  COOP:050843  BOULDER 2 CO US   unknown  unknown   unknown  19480803 09:00   \n",
       "3  COOP:050843  BOULDER 2 CO US   unknown  unknown   unknown  19480803 14:00   \n",
       "4  COOP:050843  BOULDER 2 CO US   unknown  unknown   unknown  19480803 15:00   \n",
       "\n",
       "   HPCP Measurement Flag Quality Flag  \n",
       "0  0.00                g               \n",
       "1  0.05                                \n",
       "2  0.01                                \n",
       "3  0.03                                \n",
       "4  0.03                                "
      ]
     },
     "execution_count": 6,
     "metadata": {},
     "output_type": "execute_result"
    }
   ],
   "source": [
    "path = et.data.get_data('week_02-hw')\n",
    "precip_file = path + '/precipitation/805333-precip-daily-1948-2013.csv'\n",
    "precip_boulder = pd.read_csv(precip_file)\n",
    "precip_boulder.head()"
   ]
  },
  {
   "cell_type": "code",
   "execution_count": 1,
   "metadata": {
    "collapsed": true
   },
   "outputs": [],
   "source": [
    "# ```{r import-precip, echo=F}\n",
    "\n",
    "\n",
    "\n",
    "# #precip_file <- \"data/flood-co-2013/precip/805325-precip_daily_2003-2013.csv\"\n",
    "\n",
    "# precip_file <- \"data/week2/precipitation/805333-precip-daily-1948-2013.csv\"\n",
    "\n",
    "\n",
    "\n",
    "# # import precip data into R data.frame\n",
    "\n",
    "# precip.boulder <- read.csv(precip_file,\n",
    "\n",
    "#                            header = TRUE)\n",
    "\n",
    "\n",
    "\n",
    "# # view first 6 lines of the data\n",
    "\n",
    "# head(precip.boulder)\n",
    "\n",
    "\n",
    "\n",
    "# # view structure of data\n",
    "\n",
    "# str(precip.boulder)\n",
    "\n",
    "\n",
    "\n",
    "# ```\n"
   ]
  },
  {
   "cell_type": "markdown",
   "metadata": {},
   "source": [
    "\n",
    "\n",
    "## About the Data\n",
    "\n",
    "\n",
    "\n",
    "The structure of the data are similar to what you saw in previous lessons. HPCP\n",
    "\n",
    "is the total precipitation given in inches, recorded\n",
    "\n",
    "for the hour ending at the time specified by DATE. There is a designated missing\n",
    "\n",
    "data value of 999.99. Note that hours with no precipitation are not recorded.\n",
    "\n",
    "\n",
    "\n",
    "\n",
    "\n",
    "The metadata for this file is located in your week2 directory:\n",
    "\n",
    "`PRECIP_HLY_documentation.pdf` file that can be downloaded along with the data.\n",
    "\n",
    "(Note, as of Sept. 2016, there is a mismatch in the data downloaded and the\n",
    "\n",
    "documentation. The differences are in the units and missing data value:\n",
    "\n",
    "inches/999.99 (standard) or millimeters/25399.75 (metric)).\n",
    "\n",
    "\n",
    "\n",
    "### NoData Values\n",
    "\n",
    "\n",
    "\n",
    "Next, check out the data. Are there no data values? If so, make sure to adjust your\n",
    "\n",
    "data import code above to account for no data values. Then determine how many no\n",
    "\n",
    "data values you have in your dataset.\n",
    "\n",
    "\n"
   ]
  },
  {
   "cell_type": "code",
   "execution_count": 8,
   "metadata": {},
   "outputs": [
    {
     "data": {
      "image/png": "[encoded data removed]",
      "text/plain": [
       "<matplotlib.figure.Figure at 0x10db26908>"
      ]
     },
     "metadata": {},
     "output_type": "display_data"
    }
   ],
   "source": [
    "fig, ax = plt.subplots()\n",
    "ax.hist(precip_boulder['HPCP'])\n",
    "ax.set(title=\"histogram of data\");"
   ]
  },
  {
   "cell_type": "code",
   "execution_count": null,
   "metadata": {
    "collapsed": true
   },
   "outputs": [],
   "source": [
    "# ``` {r no-data-values-hist, echo=F, fig.cap=\"histogram of data\"}\n",
    "\n",
    "# # plot histogram\n",
    "\n",
    "# hist(precip.boulder$HPCP, main =\"Are there NA values?\")"
   ]
  },
  {
   "cell_type": "code",
   "execution_count": 14,
   "metadata": {},
   "outputs": [
    {
     "data": {
      "image/png": "[encoded data removed]",
      "text/plain": [
       "<matplotlib.figure.Figure at 0x110012978>"
      ]
     },
     "metadata": {},
     "output_type": "display_data"
    }
   ],
   "source": [
    "precip_boulder = pd.read_csv(precip_file, na_values=[999.99])\n",
    "fig, ax = plt.subplots()\n",
    "ax.hist(precip_boulder['HPCP'].dropna())\n",
    "ax.set(title=\"This looks better after the reimporting with\\n no data values specified\",\n",
    "       xlabel=\"Precip (inches)\", ylabel=\"Frequency\");"
   ]
  },
  {
   "cell_type": "code",
   "execution_count": 1,
   "metadata": {
    "collapsed": true
   },
   "outputs": [],
   "source": [
    "# precip.boulder <- read.csv(precip_file,\n",
    "\n",
    "#                            header = TRUE, na.strings = 999.99)\n",
    "\n",
    "\n",
    "\n",
    "# hist(precip.boulder$HPCP, main =\"This looks better after the reimporting with\\n no data values specified\", xlab=\"Precip (inches)\", ylab=\"Frequency\")\n",
    "\n",
    "\n",
    "\n",
    "\n",
    "\n",
    "# ```"
   ]
  },
  {
   "cell_type": "markdown",
   "metadata": {},
   "source": [
    "\n",
    "\n",
    "\n"
   ]
  },
  {
   "cell_type": "code",
   "execution_count": 15,
   "metadata": {},
   "outputs": [
    {
     "name": "stdout",
     "output_type": "stream",
     "text": [
      "How many NA values are there?\n",
      "STATION               0\n",
      "STATION_NAME          0\n",
      "ELEVATION             0\n",
      "LATITUDE              0\n",
      "LONGITUDE             0\n",
      "DATE                  0\n",
      "HPCP                401\n",
      "Measurement Flag      0\n",
      "Quality Flag          0\n",
      "dtype: int64\n"
     ]
    }
   ],
   "source": [
    "print(\"How many NA values are there?\")\n",
    "print(precip_boulder.isnull().sum())"
   ]
  },
  {
   "cell_type": "code",
   "execution_count": 1,
   "metadata": {
    "collapsed": true
   },
   "outputs": [],
   "source": [
    "# ```{r how-many-na}\n",
    "\n",
    "# print(\"how many NA values are there?\")\n",
    "\n",
    "# sum(is.na(precip.boulder))\n",
    "\n",
    "# ```\n"
   ]
  },
  {
   "cell_type": "markdown",
   "metadata": {},
   "source": [
    "\n",
    "\n",
    "### Convert Date and Time\n",
    "\n",
    "\n",
    "\n",
    "Compared to the previous lessons, notice that we now have date & time in our date field.\n",
    "\n",
    "To deal with both date and time, we use the `as.POSIXct()` method rather than\n",
    "\n",
    "as.date which we used previously. The syntax to convert to POSIXct is similar to\n",
    "\n",
    "what we used previously, but now, we will add the hour (H) and minute (M) to the\n",
    "\n",
    "format argument as follows:\n",
    "\n",
    "\n",
    "\n",
    "`as.POSIXct(column-you-want-to-convert-here, format=\"%Y%m%d %H:%M\")`\n",
    "\n",
    "\n"
   ]
  },
  {
   "cell_type": "code",
   "execution_count": 17,
   "metadata": {},
   "outputs": [
    {
     "data": {
      "text/plain": [
       "0   1948-08-01 01:00:00\n",
       "1   1948-08-02 15:00:00\n",
       "2   1948-08-03 09:00:00\n",
       "3   1948-08-03 14:00:00\n",
       "4   1948-08-03 15:00:00\n",
       "Name: DATE, dtype: datetime64[ns]"
      ]
     },
     "execution_count": 17,
     "metadata": {},
     "output_type": "execute_result"
    }
   ],
   "source": [
    "precip_boulder['DATE'] = pd.to_datetime(precip_boulder['DATE'])\n",
    "precip_boulder['DATE'].head()"
   ]
  },
  {
   "cell_type": "code",
   "execution_count": 1,
   "metadata": {
    "collapsed": true
   },
   "outputs": [],
   "source": [
    "# ```{r convert-date, echo=F, results='hide'}\n",
    "\n",
    "\n",
    "\n",
    "# # convert to date/time and retain as a new field\n",
    "\n",
    "# precip.boulder$DATE <- as.POSIXct(precip.boulder$DATE,\n",
    "\n",
    "#                                   format=\"%Y%m%d %H:%M\")\n",
    "\n",
    "#                                   # date in the format: YearMonthDay Hour:Minute\n",
    "\n",
    "\n",
    "\n",
    "# # double check structure\n",
    "\n",
    "# str(precip.boulder$DATE)\n",
    "\n",
    "\n",
    "\n",
    "# ```\n"
   ]
  },
  {
   "cell_type": "markdown",
   "metadata": {},
   "source": [
    "\n",
    "\n",
    "* For more information on date/time classes, see the NEON tutorial\n",
    "\n",
    "<a href=\"http://neondataskills.org/R/time-series-convert-date-time-class-POSIX/\" target=\"_blank\"> *Dealing With Dates & Times in R - as.Date, POSIXct, POSIXlt*</a>.\n",
    "\n",
    "\n",
    "\n",
    "\n",
    "\n",
    "## Plot Precipitation Data\n",
    "\n",
    "\n",
    "\n",
    "Next, let's have a look at the data. Plot using `ggplot()`. Format the plot using\n",
    "\n",
    "the colors, labels, etc that are most clear and look the best. Your plot does not\n",
    "\n",
    "need to look like the one below!\n",
    "\n",
    "\n"
   ]
  },
  {
   "cell_type": "code",
   "execution_count": 19,
   "metadata": {},
   "outputs": [
    {
     "data": {
      "image/png": "[encoded data removed]",
      "text/plain": [
       "<matplotlib.figure.Figure at 0x10ffe6f98>"
      ]
     },
     "metadata": {},
     "output_type": "display_data"
    }
   ],
   "source": [
    "fig, ax = plt.subplots()\n",
    "ax.plot('DATE', 'HPCP', 'o', data=precip_boulder)\n",
    "ax.set(xlabel='Date', ylabel='Precipitation (Inches)',\n",
    "       title=\"Hourly Precipitation - Boulder Station\\n 1948-2013\");"
   ]
  },
  {
   "cell_type": "code",
   "execution_count": 1,
   "metadata": {
    "collapsed": true
   },
   "outputs": [],
   "source": [
    "# ``` {r plot-precip-hourly, echo=F, fig.cap=\"hourly precipitation\"}\n",
    "\n",
    "\n",
    "\n",
    "# # plot the data using ggplot2\n",
    "\n",
    "# precPlot_hourly <- ggplot(precip.boulder, aes(DATE, HPCP)) +   # the variables of interest\n",
    "\n",
    "#       geom_point(stat=\"identity\") +   # create a bar graph\n",
    "\n",
    "#       xlab(\"Date\") + ylab(\"Precipitation (Inches)\") +  # label the x & y axes\n",
    "\n",
    "#       ggtitle(\"Hourly Precipitation - Boulder Station\\n 1948-2013\")  # add a title\n",
    "\n",
    "\n",
    "\n",
    "# precPlot_hourly\n",
    "\n",
    "\n",
    "\n",
    "# ```\n"
   ]
  },
  {
   "cell_type": "markdown",
   "metadata": {},
   "source": [
    "\n",
    "\n",
    "## Differences in the data\n",
    "\n",
    "Any ideas what might be causing the notable difference in the plotted data through time?\n",
    "\n",
    "\n"
   ]
  },
  {
   "cell_type": "code",
   "execution_count": 25,
   "metadata": {
    "collapsed": true
   },
   "outputs": [],
   "source": [
    "precip_boulder['HPCP_round'] = precip_boulder['HPCP'].apply(np.round, decimals=1)"
   ]
  },
  {
   "cell_type": "code",
   "execution_count": 26,
   "metadata": {
    "collapsed": true
   },
   "outputs": [],
   "source": [
    "# ``` {r plot-precip-hourly-round, echo=F, fig.cap=\"hourly precipitation\"}\n",
    "\n",
    "# # round precip\n",
    "\n",
    "# precip.boulder$HPCP_round <- round(precip.boulder$HPCP, digits = 1)"
   ]
  },
  {
   "cell_type": "code",
   "execution_count": 27,
   "metadata": {},
   "outputs": [
    {
     "data": {
      "image/png": "[encoded data removed]",
      "text/plain": [
       "<matplotlib.figure.Figure at 0x110d72b70>"
      ]
     },
     "metadata": {},
     "output_type": "display_data"
    }
   ],
   "source": [
    "fig, ax = plt.subplots()\n",
    "ax.plot('DATE', 'HPCP_round', 'o', data=precip_boulder)\n",
    "ax.set(xlabel='Date', ylabel='Precipitation (Inches)',\n",
    "       title=\"Hourly Precipitation - Boulder Station\\n 1948-2013\");"
   ]
  },
  {
   "cell_type": "code",
   "execution_count": 1,
   "metadata": {
    "collapsed": true
   },
   "outputs": [],
   "source": [
    "# # plot the data using ggplot2\n",
    "\n",
    "# precPlot_hourly_round <- ggplot(precip.boulder, aes(DATE, HPCP_round)) +   # the variables of interest\n",
    "\n",
    "#       geom_point(stat=\"identity\") +   # create a bar graph\n",
    "\n",
    "#       xlab(\"Date\") + ylab(\"Precipitation (Inches)\") +  # label the x & y axes\n",
    "\n",
    "#       ggtitle(\"Hourly Precipitation - Boulder Station\\n 1948-2013\")  # add a title\n",
    "\n",
    "\n",
    "\n",
    "# precPlot_hourly_round\n",
    "\n",
    "\n",
    "\n",
    "# ```"
   ]
  },
  {
   "cell_type": "markdown",
   "metadata": {},
   "source": [
    "\n",
    "\n",
    "It is difficult to interpret this plot which spans so many years at such a fine\n",
    "\n",
    "temporal scale. For our research project, we only need to explore 30 years of data.\n",
    "\n",
    "Let's do the following:\n",
    "\n",
    "\n",
    "\n",
    "1. Aggregate the precipitation totals (sum) by day.\n",
    "\n",
    "2. Subset the data for 30 years (we learned how to do this in a previous lesson).\n",
    "\n",
    "\n",
    "\n",
    "#### Aggregating and summarizing data\n",
    "\n",
    "\n",
    "\n",
    "To aggregate data by a particular variable or time period, we can create a new column\n",
    "\n",
    "in our dataset called day. We will take all of the values for each day and add them\n",
    "\n",
    "using the `sum()` function. We can do all of this efficiently using dplyr mutate() function.\n",
    "\n",
    "\n",
    "\n",
    "We use the `mutate()` function to add a new column called **day** to a new data.frame called **daily_sum_precip**. Note that we used `as.Date()` to just grab the dates rather than dates and times which are stored in the POSIX format.\n",
    "\n",
    "\n",
    "\n",
    "\n"
   ]
  },
  {
   "cell_type": "code",
   "execution_count": 44,
   "metadata": {},
   "outputs": [
    {
     "data": {
      "text/html": [
       "<div>\n",
       "<style>\n",
       "    .dataframe thead tr:only-child th {\n",
       "        text-align: right;\n",
       "    }\n",
       "\n",
       "    .dataframe thead th {\n",
       "        text-align: left;\n",
       "    }\n",
       "\n",
       "    .dataframe tbody tr th {\n",
       "        vertical-align: top;\n",
       "    }\n",
       "</style>\n",
       "<table border=\"1\" class=\"dataframe\">\n",
       "  <thead>\n",
       "    <tr style=\"text-align: right;\">\n",
       "      <th></th>\n",
       "      <th>HPCP</th>\n",
       "      <th>HPCP_round</th>\n",
       "    </tr>\n",
       "    <tr>\n",
       "      <th>DATE</th>\n",
       "      <th></th>\n",
       "      <th></th>\n",
       "    </tr>\n",
       "  </thead>\n",
       "  <tbody>\n",
       "    <tr>\n",
       "      <th>2003-01-01</th>\n",
       "      <td>0.0</td>\n",
       "      <td>0.0</td>\n",
       "    </tr>\n",
       "    <tr>\n",
       "      <th>2003-01-02</th>\n",
       "      <td>NaN</td>\n",
       "      <td>NaN</td>\n",
       "    </tr>\n",
       "    <tr>\n",
       "      <th>2003-01-03</th>\n",
       "      <td>NaN</td>\n",
       "      <td>NaN</td>\n",
       "    </tr>\n",
       "    <tr>\n",
       "      <th>2003-01-04</th>\n",
       "      <td>NaN</td>\n",
       "      <td>NaN</td>\n",
       "    </tr>\n",
       "    <tr>\n",
       "      <th>2003-01-05</th>\n",
       "      <td>NaN</td>\n",
       "      <td>NaN</td>\n",
       "    </tr>\n",
       "  </tbody>\n",
       "</table>\n",
       "</div>"
      ],
      "text/plain": [
       "            HPCP  HPCP_round\n",
       "DATE                        \n",
       "2003-01-01   0.0         0.0\n",
       "2003-01-02   NaN         NaN\n",
       "2003-01-03   NaN         NaN\n",
       "2003-01-04   NaN         NaN\n",
       "2003-01-05   NaN         NaN"
      ]
     },
     "execution_count": 44,
     "metadata": {},
     "output_type": "execute_result"
    }
   ],
   "source": [
    "precip_boulder_day = precip_boulder.resample('D', on='DATE').sum()\n",
    "precip_boulder_day = precip_boulder_day.query('DATE >= 2003 and DATE <= 2013')\n",
    "precip_boulder_day.head()"
   ]
  },
  {
   "cell_type": "code",
   "execution_count": 1,
   "metadata": {
    "collapsed": true
   },
   "outputs": [],
   "source": [
    "# ```{r daily-summaries }\n",
    "\n",
    "# # use dplyr\n",
    "\n",
    "# daily_sum_precip <- precip.boulder %>%\n",
    "\n",
    "#   mutate(day = as.Date(DATE, format=\"%Y-%m-%d\"))   # create a new column called day w the date\n",
    "\n",
    "\n",
    "\n",
    "\n",
    "\n",
    "# # let's look at the new column\n",
    "\n",
    "# head(daily_sum_precip$day)\n",
    "\n",
    "\n",
    "\n",
    "# ```\n"
   ]
  },
  {
   "cell_type": "markdown",
   "metadata": {},
   "source": [
    "\n"
   ]
  },
  {
   "cell_type": "code",
   "execution_count": 45,
   "metadata": {},
   "outputs": [
    {
     "data": {
      "image/png": "[encoded data removed]",
      "text/plain": [
       "<matplotlib.figure.Figure at 0x1100a2ba8>"
      ]
     },
     "metadata": {},
     "output_type": "display_data"
    }
   ],
   "source": [
    "fig, ax = plt.subplots()\n",
    "ax.plot('DATE', 'HPCP_round', 'o', data=precip_boulder_day.reset_index())\n",
    "ax.set(xlabel='Date', ylabel='Precipitation (Inches)',\n",
    "       title=\"Hourly Precipitation - Boulder Station\\n 2003-2013\");"
   ]
  },
  {
   "cell_type": "code",
   "execution_count": 1,
   "metadata": {
    "collapsed": true
   },
   "outputs": [],
   "source": [
    "# ```{r plot-daily, echo=F, warning=F, fig.cap=\"Daily precip plot\"}\n",
    "\n",
    "# precPlot_daily1 <- ggplot(data=precip.boulder,  # the data frame\n",
    "\n",
    "#       aes(DATE, HPCP)) +   # the variables of interest\n",
    "\n",
    "#       geom_bar(stat=\"identity\") +   # create a bar graph\n",
    "\n",
    "#       xlab(\"Date\") + ylab(\"Precipitation (Inches)\") +  # label the x & y axes\n",
    "\n",
    "#       ggtitle(\"Daily Precipitation - Boulder Station\\n 2003-2013\")  # add a title\n",
    "\n",
    "\n",
    "\n",
    "# precPlot_daily1\n",
    "\n",
    "\n",
    "\n",
    "# ```\n"
   ]
  },
  {
   "cell_type": "markdown",
   "metadata": {},
   "source": [
    "\n",
    "\n",
    "Next we `summarize()` the precipitation column (total_precip) - grouped by day.\n",
    "\n",
    "What this means is that we ADD UP all of the values for each day to get a grand\n",
    "\n",
    "total amount of precipitation each day.\n",
    "\n",
    "\n",
    "\n",
    "\n"
   ]
  },
  {
   "cell_type": "code",
   "execution_count": 54,
   "metadata": {},
   "outputs": [
    {
     "data": {
      "text/html": [
       "<div>\n",
       "<style>\n",
       "    .dataframe thead tr:only-child th {\n",
       "        text-align: right;\n",
       "    }\n",
       "\n",
       "    .dataframe thead th {\n",
       "        text-align: left;\n",
       "    }\n",
       "\n",
       "    .dataframe tbody tr th {\n",
       "        vertical-align: top;\n",
       "    }\n",
       "</style>\n",
       "<table border=\"1\" class=\"dataframe\">\n",
       "  <thead>\n",
       "    <tr style=\"text-align: right;\">\n",
       "      <th></th>\n",
       "      <th>HPCP</th>\n",
       "      <th>HPCP_round</th>\n",
       "    </tr>\n",
       "    <tr>\n",
       "      <th>DATE</th>\n",
       "      <th></th>\n",
       "      <th></th>\n",
       "    </tr>\n",
       "  </thead>\n",
       "  <tbody>\n",
       "    <tr>\n",
       "      <th>1948-08-01</th>\n",
       "      <td>0.00</td>\n",
       "      <td>0.0</td>\n",
       "    </tr>\n",
       "    <tr>\n",
       "      <th>1948-08-02</th>\n",
       "      <td>0.05</td>\n",
       "      <td>0.0</td>\n",
       "    </tr>\n",
       "    <tr>\n",
       "      <th>1948-08-03</th>\n",
       "      <td>0.07</td>\n",
       "      <td>0.0</td>\n",
       "    </tr>\n",
       "    <tr>\n",
       "      <th>1948-08-04</th>\n",
       "      <td>0.14</td>\n",
       "      <td>0.0</td>\n",
       "    </tr>\n",
       "    <tr>\n",
       "      <th>1948-08-05</th>\n",
       "      <td>0.02</td>\n",
       "      <td>0.0</td>\n",
       "    </tr>\n",
       "  </tbody>\n",
       "</table>\n",
       "</div>"
      ],
      "text/plain": [
       "            HPCP  HPCP_round\n",
       "DATE                        \n",
       "1948-08-01  0.00         0.0\n",
       "1948-08-02  0.05         0.0\n",
       "1948-08-03  0.07         0.0\n",
       "1948-08-04  0.14         0.0\n",
       "1948-08-05  0.02         0.0"
      ]
     },
     "execution_count": 54,
     "metadata": {},
     "output_type": "execute_result"
    }
   ],
   "source": [
    "# Not sure how the stuff below is different from the stuff above, should double check!\n",
    "daily_sum_precip = precip_boulder.resample('D', on='DATE').sum()\n",
    "daily_sum_precip.head()"
   ]
  },
  {
   "cell_type": "code",
   "execution_count": 1,
   "metadata": {
    "collapsed": true
   },
   "outputs": [],
   "source": [
    "# ``` {r daily-summ}\n",
    "\n",
    "# # use dplyr\n",
    "\n",
    "# daily_sum_precip <- precip.boulder %>%\n",
    "\n",
    "#   mutate(day = as.Date(DATE, format=\"%Y-%m-%d\")) %>%\n",
    "\n",
    "#   group_by(day) %>% # group by the day column\n",
    "\n",
    "#   summarise(total_precip=sum(HPCP)) # calculate the SUM of all precipitation that occured on each day\n",
    "\n",
    "\n",
    "\n",
    "# # how large is the resulting data frame?\n",
    "\n",
    "# nrow(daily_sum_precip)\n",
    "\n",
    "\n",
    "\n",
    "# # view the results\n",
    "\n",
    "# head(daily_sum_precip)\n",
    "\n",
    "\n",
    "\n",
    "# # view column names\n",
    "\n",
    "# names(daily_sum_precip)\n",
    "\n",
    "\n",
    "\n",
    "# ```\n"
   ]
  },
  {
   "cell_type": "markdown",
   "metadata": {},
   "source": [
    "\n",
    "\n",
    "\n",
    "\n",
    "Now plot the daily data.\n",
    "\n",
    "\n"
   ]
  },
  {
   "cell_type": "code",
   "execution_count": 1,
   "metadata": {
    "collapsed": true
   },
   "outputs": [],
   "source": [
    "# ``` {r daily-prec-plot, echo=F, warning=F, fig.cap=\"Daily precipitation for boulder\"}\n",
    "\n",
    "# # plot daily data\n",
    "\n",
    "# precPlot_daily <- ggplot(daily_sum_precip, aes(day, total_precip)) +\n",
    "\n",
    "#       geom_bar(stat=\"identity\") +\n",
    "\n",
    "#       xlab(\"Date\") + ylab(\"Precipitation (inches)\") +\n",
    "\n",
    "#       ggtitle(\"Daily Precipitation - Boulder Station\\n 2003-2013\")\n",
    "\n",
    "\n",
    "\n",
    "# precPlot_daily\n",
    "\n",
    "# ```\n"
   ]
  },
  {
   "cell_type": "markdown",
   "metadata": {},
   "source": [
    "\n",
    "\n",
    "\n",
    "\n",
    "Finally, plot a temporal subsets of the data from 2000-2013. We learned how to\n",
    "\n",
    "do this in the previous lessons.\n",
    "\n",
    "\n",
    "\n",
    "\n",
    "\n",
    "Now we can easily see the dramatic rainfall event in mid-September!\n",
    "\n",
    "\n",
    "\n",
    "<i class=\"fa fa-star\"></i> **R Tip:** If you are using a date-time class, instead\n",
    "\n",
    "of just a date class, you need to use `scale_x_datetime()`.\n",
    "\n",
    "{: .notice}\n",
    "\n",
    "\n",
    "\n",
    "#### Subset The Data\n",
    "\n",
    "\n",
    "\n",
    "If we wanted to, we could subset this data set using the same code that we used\n",
    "\n",
    "previously to subset! An example of the subsetted plot is below.\n",
    "\n",
    "\n"
   ]
  },
  {
   "cell_type": "code",
   "execution_count": 58,
   "metadata": {
    "scrolled": true
   },
   "outputs": [
    {
     "data": {
      "image/png": "[encoded data removed]",
      "text/plain": [
       "<matplotlib.figure.Figure at 0x10ffe6438>"
      ]
     },
     "metadata": {},
     "output_type": "display_data"
    }
   ],
   "source": [
    "this_daily_sum = daily_sum_precip.query('DATE >= \"2012-12-31\" and DATE <= \"2013-12-31\"')\n",
    "\n",
    "fig, ax = plt.subplots()\n",
    "ax.plot('DATE', 'HPCP_round', 'o', data=this_daily_sum.reset_index())\n",
    "ax.set(xlabel='Date', ylabel='Precipitation (Inches)',\n",
    "       title=\"Daily Precipitation - Boulder Station\\n 2012-2013\");"
   ]
  },
  {
   "cell_type": "code",
   "execution_count": 1,
   "metadata": {
    "collapsed": true
   },
   "outputs": [],
   "source": [
    "# ``` {r subset-data, echo=F, warning='hide', fig.cap=\"final precip plot daily sum\"}\n",
    "\n",
    "\n",
    "\n",
    "# # use dplyr\n",
    "\n",
    "# daily_sum_precip_subset <- daily_sum_precip %>%\n",
    "\n",
    "#   filter(day >= as.Date('2012-12-31') & day <= as.Date('2013-12-31'))\n",
    "\n",
    "\n",
    "\n",
    "\n",
    "\n",
    "# # create new plot\n",
    "\n",
    "# precPlot_30yrs <- ggplot(daily_sum_precip_subset, aes(day, total_precip)) +\n",
    "\n",
    "#   geom_bar(stat=\"identity\") +\n",
    "\n",
    "#   xlab(\"Date\") + ylab(\"Precipitation (inches)\") +\n",
    "\n",
    "#   ggtitle(\"Daily Total Precipitation 2012 - 2013 for Boulder Creek\")\n",
    "\n",
    "\n",
    "\n",
    "# precPlot_30yrs\n",
    "\n",
    "\n",
    "\n",
    "# ```\n"
   ]
  }
 ],
 "metadata": {
  "kernelspec": {
   "display_name": "Python 3",
   "language": "python",
   "name": "python3"
  },
  "language_info": {
   "codemirror_mode": {
    "name": "ipython",
    "version": 3
   },
   "file_extension": ".py",
   "mimetype": "text/x-python",
   "name": "python",
   "nbconvert_exporter": "python",
   "pygments_lexer": "ipython3",
   "version": "3.6.0"
  },
  "toc": {
   "toc_cell": false,
   "toc_number_sections": false,
   "toc_threshold": "2",
   "toc_window_display": false
  }
 },
 "nbformat": 4,
 "nbformat_minor": 2
}
