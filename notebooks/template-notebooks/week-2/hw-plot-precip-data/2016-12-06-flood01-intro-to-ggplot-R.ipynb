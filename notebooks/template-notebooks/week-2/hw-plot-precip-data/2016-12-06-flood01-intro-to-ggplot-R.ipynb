{
 "cells": [
  {
   "cell_type": "raw",
   "metadata": {},
   "source": [
    "---\n",
    "layout: single\n",
    "title: \"Plot with GGPLOT\"\n",
    "excerpt: 'This lesson walks through using GGPLOT2 to plot data.'\n",
    "authors: ['Leah Wasser', 'Data Carpentry']\n",
    "modified: '{:%Y-%m-%d}'.format(datetime.now())\n",
    "category: [course-materials]\n",
    "class-lesson: ['hw-ggplot2-r']\n",
    "module-description: 'This tutorial covers how to plot time series data in R using ggplot2.\n",
    "  It also covers converting data stored in data/time format into an R date time class.'\n",
    "module-nav-title: 'Time Series Data in R'\n",
    "module-title: 'Work with Sensor Network Derived Time Series Data in R'\n",
    "module-type: 'homework'\n",
    "nav-title: 'GGPLOT R'\n",
    "permalink: /course-materials/earth-analytics/week-2/hw-ggplot2-r/\n",
    "week: 2\n",
    "sidebar:\n",
    "  nav:\n",
    "author_profile: false\n",
    "comments: true\n",
    "order: 1\n",
    "---\n"
   ]
  },
  {
   "cell_type": "markdown",
   "metadata": {},
   "source": [
    "\n",
    "\n",
    "{% include toc title=\"In This Lesson\" icon=\"file-text\" %}\n",
    "\n",
    "\n",
    "\n",
    "In this tutorial, we will explore more advanced plotting techniques using `ggplot2`.\n",
    "\n",
    "\n",
    "\n",
    "<div class='notice--success' markdown=\"1\">\n",
    "\n",
    "\n",
    "\n",
    "## <i class=\"fa fa-graduation-cap\" aria-hidden=\"true\"></i> Learning Objectives\n",
    "\n",
    "At the end of this activity, you will be able to:\n",
    "\n",
    "\n",
    "\n",
    "* Use the `ggplot()` plot function to create custom plots.\n",
    "\n",
    "* Add labels to x and y axes and a title to your ggplot plot.\n",
    "\n",
    "* Customize the colors and look of a ggplot plot.\n",
    "\n",
    "\n",
    "\n",
    "## <i class=\"fa fa-check-square-o fa-2\" aria-hidden=\"true\"></i> What you need\n",
    "\n",
    "\n",
    "\n",
    "You need `R` and `RStudio` to complete this tutorial. Also you should have\n",
    "\n",
    "an `earth-analytics` directory setup on your computer with a `/data`\n",
    "\n",
    "directory with it.\n",
    "\n",
    "\n",
    "\n",
    "* [How to Setup R / RStudio](/course-materials/earth-analytics/week-1/setup-r-rstudio/)\n",
    "\n",
    "* [Setup your working directory](/course-materials/earth-analytics/week-1/setup-working-directory/)\n",
    "\n",
    "* [Intro to the R & RStudio Interface](/course-materials/earth-analytics/week-1/intro-to-r-and-rstudio)\n",
    "\n",
    "\n",
    "\n",
    "</div>\n",
    "\n",
    "\n",
    "\n",
    "\n",
    "\n",
    "In our week 1 homework, we used the quick plot function of ggplot2 to plot our data.\n",
    "\n",
    "In this tutorial, we'll explore ggplot - which offers many more advanced plotting\n",
    "\n",
    "features.\n",
    "\n",
    "\n",
    "\n",
    "Let's explore the code below to create a quick plot.\n",
    "\n",
    "\n"
   ]
  },
  {
   "cell_type": "code",
   "execution_count": 1,
   "metadata": {
    "collapsed": true
   },
   "outputs": [],
   "source": [
    "```{r plot-data, fig.cap=\"quick plot of precip data\"}\n",
    "\n",
    "\n",
    "\n",
    "# load the ggplot2 library for plotting\n",
    "\n",
    "library(ggplot2)\n",
    "\n",
    "\n",
    "\n",
    "# download data from figshare\n",
    "\n",
    "# note that we already downloaded the data to our laptops previously\n",
    "\n",
    "# but in case you don't have it - re-download it by uncommenting the code below.\n",
    "\n",
    "#download.file(url = \"https://ndownloader.figshare.com/files/7010681\",\n",
    "\n",
    "#              destfile = \"data/boulder-precip.csv\")\n",
    "\n",
    "\n",
    "\n",
    "# import data\n",
    "\n",
    "boulder_precip <- read.csv(file=\"data/boulder-precip.csv\")\n",
    "\n",
    "\n",
    "\n",
    "# view first few rows of the data\n",
    "\n",
    "head(boulder_precip)\n",
    "\n",
    "\n",
    "\n",
    "# when we download the data we create a dataframe\n",
    "\n",
    "# view each column of the data frame using its name (or header)\n",
    "\n",
    "boulder_precip$DATE\n",
    "\n",
    "\n",
    "\n",
    "# view the precip column\n",
    "\n",
    "boulder_precip$PRECIP\n",
    "\n",
    "\n",
    "\n",
    "# q plot stands for quick plot. Let's use it to plot our data\n",
    "\n",
    "qplot(x=boulder_precip$DATE,\n",
    "\n",
    "      y=boulder_precip$PRECIP)\n",
    "\n",
    "\n",
    "\n",
    "```\n"
   ]
  },
  {
   "cell_type": "markdown",
   "metadata": {},
   "source": [
    "\n",
    "\n",
    "## Plotting with ggplot2\n",
    "\n",
    "\n",
    "\n",
    "`ggplot2` is a plotting package that makes it simple to create complex plots\n",
    "\n",
    "from data in a dataframe. It uses default settings, which help to create\n",
    "\n",
    "publication quality plots with a minimal amount of settings and tweaking.\n",
    "\n",
    "\n",
    "\n",
    "ggplot graphics are built step by step by adding new elements.\n",
    "\n",
    "\n",
    "\n",
    "To build a ggplot we need to:\n",
    "\n",
    "\n",
    "\n",
    "- bind the plot to a specific data frame using the `data` argument\n",
    "\n",
    "\n"
   ]
  },
  {
   "cell_type": "code",
   "execution_count": 1,
   "metadata": {
    "collapsed": true
   },
   "outputs": [],
   "source": [
    "```{r, eval=FALSE, purl=FALSE, fig.cap=\"ggplot binding\"}\n",
    "\n",
    "ggplot(data = boulder_precip)\n",
    "\n",
    "\n",
    "\n",
    "```\n"
   ]
  },
  {
   "cell_type": "markdown",
   "metadata": {},
   "source": [
    "\n",
    "\n",
    "- define aesthetics (`aes`), by selecting the variables to be plotted and the variables to define the presentation\n",
    "\n",
    "     such as plotting size, shape color, etc.,\n",
    "\n",
    "\n"
   ]
  },
  {
   "cell_type": "code",
   "execution_count": 1,
   "metadata": {
    "collapsed": true
   },
   "outputs": [],
   "source": [
    "```{r, eval=FALSE, purl=FALSE, fig.cap=\"ggplot example plot precip\"}\n",
    "\n",
    "ggplot(data = boulder_precip, aes(x = DATE, y = PRECIP))\n",
    "\n",
    "```\n"
   ]
  },
  {
   "cell_type": "markdown",
   "metadata": {},
   "source": [
    "\n",
    "\n",
    "- add `geoms` -- graphical representation of the data in the plot (points,\n",
    "\n",
    "     lines, bars). To add a geom to the plot use `+` operator:\n",
    "\n",
    "\n"
   ]
  },
  {
   "cell_type": "code",
   "execution_count": 1,
   "metadata": {
    "collapsed": true
   },
   "outputs": [],
   "source": [
    "```{r first-ggplot, purl=FALSE, fig.cap=\"ggplot boulder precip\"}\n",
    "\n",
    "ggplot(data = boulder_precip,  aes(x = DATE, y = PRECIP)) +\n",
    "\n",
    "  geom_point()\n",
    "\n",
    "\n",
    "\n",
    "```\n"
   ]
  },
  {
   "cell_type": "markdown",
   "metadata": {},
   "source": [
    "\n",
    "\n",
    "The `+` in the `ggplot2` package is particularly useful because it allows you\n",
    "\n",
    "to modify existing `ggplot` objects. This means you can easily set up plot\n",
    "\n",
    "\"templates\" and conveniently explore different types of plots, so the above\n",
    "\n",
    "plot can also be generated with code like this:\n",
    "\n",
    "\n"
   ]
  },
  {
   "cell_type": "code",
   "execution_count": 1,
   "metadata": {
    "collapsed": true
   },
   "outputs": [],
   "source": [
    "```{r, first-ggplot-with-plus, eval=FALSE, purl=FALSE, fig.cap=\"first ggplot\"}\n",
    "\n",
    "# Create the plot object (nothing will render on your screen)\n",
    "\n",
    "precip_plot <-  ggplot(data = boulder_precip,  aes(x = DATE, y = PRECIP))\n",
    "\n",
    "\n",
    "\n",
    "# Draw the plot\n",
    "\n",
    "precip_plot + geom_point()\n",
    "\n",
    "\n",
    "\n",
    "```\n"
   ]
  },
  {
   "cell_type": "markdown",
   "metadata": {},
   "source": [
    "\n"
   ]
  },
  {
   "cell_type": "code",
   "execution_count": 1,
   "metadata": {
    "collapsed": true
   },
   "outputs": [],
   "source": [
    "```{r, eval=FALSE, purl=TRUE, echo=FALSE, purl=FALSE, fig.cap=\"2nd ggplot\"}\n",
    "\n",
    "# Create\n",
    "\n",
    "precip_plot <-  ggplot(data = boulder_precip,  aes(x = DATE, y = PRECIP))\n",
    "\n",
    "\n",
    "\n",
    "# Draw the plot\n",
    "\n",
    "precip_plot + geom_point()\n",
    "\n",
    "```\n"
   ]
  },
  {
   "cell_type": "markdown",
   "metadata": {},
   "source": [
    "\n",
    "\n",
    "\n",
    "\n",
    "We can also apply a color to our points\n",
    "\n",
    "\n"
   ]
  },
  {
   "cell_type": "code",
   "execution_count": 1,
   "metadata": {
    "collapsed": true
   },
   "outputs": [],
   "source": [
    "```{r adding-colors, purl=FALSE, fig.cap=\"ggplot with blue points\"}\n",
    "\n",
    "ggplot(data = boulder_precip,  aes(x = DATE, y = PRECIP)) +\n",
    "\n",
    "    geom_point(color = \"blue\")\n",
    "\n",
    "\n",
    "\n",
    "```\n"
   ]
  },
  {
   "cell_type": "markdown",
   "metadata": {},
   "source": [
    "\n",
    "\n",
    "And adjust the transparency.\n",
    "\n",
    "\n"
   ]
  },
  {
   "cell_type": "code",
   "execution_count": 1,
   "metadata": {
    "collapsed": true
   },
   "outputs": [],
   "source": [
    "```{r add-alpha, fig.cap=\"ggplot with blue points and alpha\"}\n",
    "\n",
    "ggplot(data = boulder_precip,  aes(x = DATE, y = PRECIP)) +\n",
    "\n",
    "    geom_point(alpha=.5, color = \"blue\")\n",
    "\n",
    "\n",
    "\n",
    "```\n"
   ]
  },
  {
   "cell_type": "markdown",
   "metadata": {},
   "source": [
    "\n",
    "\n",
    "\n",
    "\n",
    "Or to color each value in the plot differently:\n",
    "\n",
    "\n"
   ]
  },
  {
   "cell_type": "code",
   "execution_count": 1,
   "metadata": {
    "collapsed": true
   },
   "outputs": [],
   "source": [
    "```{r color-by-species, purl=FALSE, fig.cap=\"ggplot with colored points\"}\n",
    "\n",
    "ggplot(data = boulder_precip,  aes(x = DATE, y = PRECIP)) +\n",
    "\n",
    "    geom_point(alpha = 0.9, aes(color=PRECIP))\n",
    "\n",
    "\n",
    "\n",
    "```\n"
   ]
  },
  {
   "cell_type": "markdown",
   "metadata": {},
   "source": [
    "\n",
    "\n",
    "\n",
    "\n",
    "We can turn our plot into a bar plot.\n",
    "\n",
    "\n"
   ]
  },
  {
   "cell_type": "code",
   "execution_count": 1,
   "metadata": {
    "collapsed": true
   },
   "outputs": [],
   "source": [
    "```{r barplot, purl=FALSE, fig.cap=\"ggplot with bars\"}\n",
    "\n",
    "ggplot(data = boulder_precip,  aes(x = DATE, y = PRECIP)) +\n",
    "\n",
    "    geom_bar(stat=\"identity\")\n",
    "\n",
    "\n",
    "\n",
    "```\n"
   ]
  },
  {
   "cell_type": "markdown",
   "metadata": {},
   "source": [
    "\n",
    "\n",
    "Turn the bar outlines blue\n",
    "\n",
    "\n"
   ]
  },
  {
   "cell_type": "code",
   "execution_count": 1,
   "metadata": {
    "collapsed": true
   },
   "outputs": [],
   "source": [
    "```{r bar-color, purl=FALSE, fig.cap=\"ggplot with blue bars\"}\n",
    "\n",
    "ggplot(data = boulder_precip,  aes(x = DATE, y = PRECIP)) +\n",
    "\n",
    "    geom_bar(stat=\"identity\", color=\"blue\")\n",
    "\n",
    "\n",
    "\n",
    "```\n"
   ]
  },
  {
   "cell_type": "markdown",
   "metadata": {},
   "source": [
    "\n",
    "\n",
    "Change the fill to bright green.\n",
    "\n",
    "\n"
   ]
  },
  {
   "cell_type": "code",
   "execution_count": 1,
   "metadata": {
    "collapsed": true
   },
   "outputs": [],
   "source": [
    "```{r barcolor2, purl=FALSE, fig.cap=\"ggplot with green bars\"}\n",
    "\n",
    "ggplot(data = boulder_precip,  aes(x = DATE, y = PRECIP)) +\n",
    "\n",
    "    geom_bar(stat=\"identity\", color=\"blue\", fill=\"green\")\n",
    "\n",
    "\n",
    "\n",
    "```\n"
   ]
  },
  {
   "cell_type": "markdown",
   "metadata": {},
   "source": [
    "\n",
    "\n",
    "\n",
    "\n",
    "## Adding Labels\n",
    "\n",
    "\n",
    "\n",
    "You can add labels to your plots as well. Let's add a title, and x and y labels.\n"
   ]
  },
  {
   "cell_type": "code",
   "execution_count": 1,
   "metadata": {
    "collapsed": true
   },
   "outputs": [],
   "source": [
    "```{r add-title, fig.cap=\"ggplot with labels\" }\n",
    "\n",
    "ggplot(data = boulder_precip,  aes(x = DATE, y = PRECIP)) +\n",
    "\n",
    "    geom_point(alpha = 0.9, aes(color=PRECIP)) +\n",
    "\n",
    "    ggtitle(\"Precipitation - Boulder, Colorado 2013\")\n",
    "\n",
    "```\n"
   ]
  },
  {
   "cell_type": "markdown",
   "metadata": {},
   "source": [
    "\n",
    "\n",
    "x and y labels...\n",
    "\n",
    "\n",
    "\n",
    "\n"
   ]
  },
  {
   "cell_type": "code",
   "execution_count": 1,
   "metadata": {
    "collapsed": true
   },
   "outputs": [],
   "source": [
    "```{r add-title2, fig.cap=\"ggplot with title and labels\" }\n",
    "\n",
    "ggplot(data = boulder_precip,  aes(x = DATE, y = PRECIP)) +\n",
    "\n",
    "    geom_point(alpha = 0.9, aes(color=PRECIP)) +\n",
    "\n",
    "    ggtitle(\"Precipitation - Boulder, Colorado 2013\") +\n",
    "\n",
    "    xlab(\"x label here\") + ylab(\"y label here\")\n",
    "\n",
    "\n",
    "\n",
    "```\n"
   ]
  }
 ],
 "metadata": {
  "kernelspec": {
   "display_name": "Python 3",
   "language": "python",
   "name": "python3"
  },
  "language_info": {
   "codemirror_mode": {
    "name": "ipython",
    "version": 3
   },
   "file_extension": ".py",
   "mimetype": "text/x-python",
   "name": "python",
   "nbconvert_exporter": "python",
   "pygments_lexer": "ipython3",
   "version": "3.6.0"
  }
 },
 "nbformat": 4,
 "nbformat_minor": 2
}
