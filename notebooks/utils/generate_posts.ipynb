{
 "cells": [
  {
   "cell_type": "code",
   "execution_count": 1,
   "metadata": {
    "collapsed": true
   },
   "outputs": [],
   "source": [
    "import nbformat as nf\n",
    "import nbconvert as nc\n",
    "import os\n",
    "import subprocess\n",
    "from glob import glob\n",
    "from tqdm import tqdm\n",
    "from datetime import datetime\n",
    "import shutil as sh"
   ]
  },
  {
   "cell_type": "code",
   "execution_count": 2,
   "metadata": {
    "collapsed": true
   },
   "outputs": [],
   "source": [
    "# Path to root of site\n",
    "path_root = os.path.abspath('../../')\n",
    "\n",
    "# Finds the ipynb files\n",
    "files = glob('../final-notebooks/*/*/*.ipynb')\n",
    "\n",
    "# A dictionary that runs the function with the value as input\n",
    "run_keys = {'modified': lambda a: a.format(datetime.today())}\n",
    "\n",
    "# Where to save the MD posts\n",
    "save_path = '../../_posts/earth-analytics-python/'"
   ]
  },
  {
   "cell_type": "code",
   "execution_count": 3,
   "metadata": {},
   "outputs": [
    {
     "name": "stderr",
     "output_type": "stream",
     "text": [
      "100%|██████████| 30/30 [00:53<00:00,  1.90s/it]\n"
     ]
    }
   ],
   "source": [
    "for ifile in tqdm(files):\n",
    "    # Find file names etc\n",
    "    path = ifile.split('final-notebooks/')[-1]  # \n",
    "    path_tmp_file = os.path.basename(path)\n",
    "    file_name = os.path.splitext(path_tmp_file)[0]\n",
    "    path_folders = os.path.dirname(path)\n",
    "    path_rel_to_root = os.path.dirname(ifile.split('final-notebooks')[1])\n",
    "\n",
    "    # Read in notebook, pull meta cell\n",
    "    ntbk = nf.read(ifile, nf.NO_CONVERT)\n",
    "    meta = ntbk['cells'][0]\n",
    "    if meta['cell_type'] == 'raw':\n",
    "\n",
    "        # Only use lines with key: val pairs\n",
    "        metalines = meta['source'].split('\\n') \n",
    "        for ii, ln in enumerate(metalines):\n",
    "            if '---' in ln:\n",
    "                continue\n",
    "            split = ln.split(': ')\n",
    "            if len(split) < 2:\n",
    "                continue\n",
    "            if len(split) > 2:\n",
    "                ln_type = split[0]\n",
    "                ln_val = ': '.join(split[1:])\n",
    "            else:\n",
    "                ln_type, ln_val = split  \n",
    "                \n",
    "            # If we have a function for one of the keys, run it and replace the value\n",
    "            if ln_type not in run_keys.keys():\n",
    "                continue\n",
    "            new_val = eval(run_keys[ln_type](ln_val))\n",
    "            metalines[ii] = ': '.join([ln_type, new_val])\n",
    "        \n",
    "        # Replace the meta cell\n",
    "        meta['source'] = '\\n'.join(metalines)\n",
    "        ntbk['cells'][0] = meta\n",
    "\n",
    "    # Write the file\n",
    "    path_save_tmp_file = os.path.join('./tmp', path_tmp_file)\n",
    "    nf.write(ntbk, path_save_tmp_file)\n",
    "    \n",
    "    # Call nbconvert\n",
    "    build_path = os.path.join(path_root, \"_posts/course-materials/earth-analytics/{}\".format(path_rel_to_root))\n",
    "    build_call = '--FilesWriter.build_directory={}'.format(build_path)\n",
    "    \n",
    "    path_imgs_root = os.path.relpath(path_root, build_path)\n",
    "    images_path = os.path.join(path_imgs_root, \"images/course-materials/earth-analytics/{}\".format(path_rel_to_root))\n",
    "    images_call = '--NbConvertApp.output_files_dir={}'.format(images_path)\n",
    "\n",
    "\n",
    "    subprocess.call(['jupyter', 'nbconvert',\n",
    "                     '--to', 'markdown',\n",
    "                     images_call, build_call, path_save_tmp_file])\n",
    "    \n",
    "    # Clean up\n",
    "    os.remove(path_save_tmp_file)"
   ]
  },
  {
   "cell_type": "code",
   "execution_count": null,
   "metadata": {
    "collapsed": true
   },
   "outputs": [],
   "source": []
  }
 ],
 "metadata": {
  "kernelspec": {
   "display_name": "Python [default]",
   "language": "python",
   "name": "python3"
  },
  "language_info": {
   "codemirror_mode": {
    "name": "ipython",
    "version": 3
   },
   "file_extension": ".py",
   "mimetype": "text/x-python",
   "name": "python",
   "nbconvert_exporter": "python",
   "pygments_lexer": "ipython3",
   "version": "3.5.2"
  },
  "toc": {
   "toc_cell": false,
   "toc_number_sections": false,
   "toc_threshold": "2",
   "toc_window_display": false
  }
 },
 "nbformat": 4,
 "nbformat_minor": 2
}
