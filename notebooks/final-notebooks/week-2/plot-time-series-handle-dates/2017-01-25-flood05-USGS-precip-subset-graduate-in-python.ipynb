{
 "cells": [
  {
   "cell_type": "raw",
   "metadata": {},
   "source": [
    "---\n",
    "layout: single\n",
    "title: \"Subset & aggregate time series precipitation data in Python using ...\"\n",
    "excerpt: \"This lesson introduces the mutate() and group_by() dplyr functions - which allow you to aggregate or summarize time series data by a particular field - in this case we will aggregate data by day to get daily precipitation totals for Boulder during the 2013 floods.\"\n",
    "authors: ['Leah Wasser']\n",
    "modified: '{:%Y-%m-%d}'.format(datetime.now())\n",
    "category: [course-materials]\n",
    "class-lesson: ['time-series-python']\n",
    "course: 'earth-analytics-python'\n",
    "week: 2\n",
    "permalink: /course-materials/earth-analytics-python/week-2/aggregate-time-series-data-r/\n",
    "nav-title: 'Bonus: aggregate data'\n",
    "sidebar:\n",
    "  nav:\n",
    "author_profile: false\n",
    "comments: true\n",
    "order: 5\n",
    "topics:\n",
    "  reproducible-science-and-programming: ['RStudio']\n",
    "  time-series:\n",
    "  data-exploration-and-analysis: ['data-visualization']\n",
    "---\n"
   ]
  },
  {
   "cell_type": "markdown",
   "metadata": {},
   "source": [
    "{% include toc title=\"In This Lesson\" icon=\"file-text\" %}\n",
    "\n",
    "This lesson supports the graduate student additional homework assignment component \n",
    "to create a final subsetted and aggregated plot. Here we will plot USGS precipitation time \n",
    "series data, however, there are several cleaning setps that you will need to consider\n",
    "when working with these data including:\n",
    "\n",
    "1. these data were collected over several decades and the data were not always collected consistently\n",
    "1. sometimes there are multiple data points per day which need to be aggragated to find a total precipitation value\n",
    "1. the data are also not cleaned. You will find heading names that may not be meaningful, and other issues with the data that need to be explored\n",
    "\n",
    "Working with these data is more akin to working with real data that you will download \n",
    "and need to work with rather than data that has been cleaned for you by your instructor!\n",
    "\n",
    "You will use the skills\n",
    "that you learned in the previous lessons, coupled with the skills in this lesson\n",
    "to process the data.\n",
    "\n",
    "<div class='notice--success' markdown=\"1\">\n",
    "\n",
    "## <i class=\"fa fa-graduation-cap\" aria-hidden=\"true\"></i> Learning Objectives\n",
    "\n",
    "After completing this tutorial, you will be able to:\n",
    "\n",
    "* Aggregate data by a day in `Python`\n",
    "* View data.frame column names and clean-up / rename dataframe column names.\n",
    "\n",
    "### Things You'll Need To Complete This Lesson\n",
    "\n",
    "You need `Python` and `Jupyter notebooks` to complete this tutorial. Also you should have\n",
    "an `earth-analytics` directory setup on your computer with a `/data`\n",
    "directory with it.\n",
    "\n",
    "#### Data Download\n",
    "\n",
    "Please download the data (used throughout this series of lessons) if you don't already have it on your computer.\n",
    "\n",
    "[<i class=\"fa fa-download\" aria-hidden=\"true\"></i> Download Week 2 Data](https://ndownloader.figshare.com/files/7426738){:data-proofer-ignore='' .btn }\n",
    "\n",
    "</div>\n",
    "\n",
    "\n",
    "## Work with Precipitation Data\n",
    "\n",
    "To get started we will load the needed Python libraries.\n",
    "Notice below i've also set a plot style. This is optional!"
   ]
  },
  {
   "cell_type": "code",
   "execution_count": 37,
   "metadata": {
    "collapsed": true
   },
   "outputs": [],
   "source": [
    "import numpy as np\n",
    "import pandas as pd\n",
    "import matplotlib.pyplot as plt\n",
    "import os\n",
    "plt.ion()\n",
    "\n",
    "# set default figure size\n",
    "from pylab import rcParams\n",
    "rcParams['figure.figsize'] = 10, 7\n",
    "\n",
    "# set working directory -- can i set this as a hidden line of code and then have my usual teaser commented out set your wd line??\n",
    "os.chdir(\"/Users/lewa8222/Documents/earth-analytics/\")\n",
    "# set matplotlib styles\n",
    "plt.style.use('ggplot')"
   ]
  },
  {
   "cell_type": "markdown",
   "metadata": {},
   "source": [
    "## Import Precipitation Data\n",
    "\n",
    "We will use the `805333-precip-daily-1948-2013.csv` dataset for this assignment.\n",
    "in this analysis. This dataset contains the precipitation values collected daily\n",
    "from the COOP station 050843 in Boulder, CO for 1 January 2003 through 31 December 2013.\n",
    "\n",
    "To begin, import the data into Python and then view the data structure.\n"
   ]
  },
  {
   "cell_type": "code",
   "execution_count": 46,
   "metadata": {
    "tags": [
     "hide"
    ]
   },
   "outputs": [
    {
     "data": {
      "text/html": [
       "<div>\n",
       "<table border=\"1\" class=\"dataframe\">\n",
       "  <thead>\n",
       "    <tr style=\"text-align: right;\">\n",
       "      <th></th>\n",
       "      <th>STATION</th>\n",
       "      <th>STATION_NAME</th>\n",
       "      <th>ELEVATION</th>\n",
       "      <th>LATITUDE</th>\n",
       "      <th>LONGITUDE</th>\n",
       "      <th>DATE</th>\n",
       "      <th>HPCP</th>\n",
       "      <th>Measurement Flag</th>\n",
       "      <th>Quality Flag</th>\n",
       "    </tr>\n",
       "  </thead>\n",
       "  <tbody>\n",
       "    <tr>\n",
       "      <th>0</th>\n",
       "      <td>COOP:050843</td>\n",
       "      <td>BOULDER 2 CO US</td>\n",
       "      <td>unknown</td>\n",
       "      <td>unknown</td>\n",
       "      <td>unknown</td>\n",
       "      <td>19480801 01:00</td>\n",
       "      <td>0.00</td>\n",
       "      <td>g</td>\n",
       "      <td></td>\n",
       "    </tr>\n",
       "    <tr>\n",
       "      <th>1</th>\n",
       "      <td>COOP:050843</td>\n",
       "      <td>BOULDER 2 CO US</td>\n",
       "      <td>unknown</td>\n",
       "      <td>unknown</td>\n",
       "      <td>unknown</td>\n",
       "      <td>19480802 15:00</td>\n",
       "      <td>0.05</td>\n",
       "      <td></td>\n",
       "      <td></td>\n",
       "    </tr>\n",
       "    <tr>\n",
       "      <th>2</th>\n",
       "      <td>COOP:050843</td>\n",
       "      <td>BOULDER 2 CO US</td>\n",
       "      <td>unknown</td>\n",
       "      <td>unknown</td>\n",
       "      <td>unknown</td>\n",
       "      <td>19480803 09:00</td>\n",
       "      <td>0.01</td>\n",
       "      <td></td>\n",
       "      <td></td>\n",
       "    </tr>\n",
       "    <tr>\n",
       "      <th>3</th>\n",
       "      <td>COOP:050843</td>\n",
       "      <td>BOULDER 2 CO US</td>\n",
       "      <td>unknown</td>\n",
       "      <td>unknown</td>\n",
       "      <td>unknown</td>\n",
       "      <td>19480803 14:00</td>\n",
       "      <td>0.03</td>\n",
       "      <td></td>\n",
       "      <td></td>\n",
       "    </tr>\n",
       "    <tr>\n",
       "      <th>4</th>\n",
       "      <td>COOP:050843</td>\n",
       "      <td>BOULDER 2 CO US</td>\n",
       "      <td>unknown</td>\n",
       "      <td>unknown</td>\n",
       "      <td>unknown</td>\n",
       "      <td>19480803 15:00</td>\n",
       "      <td>0.03</td>\n",
       "      <td></td>\n",
       "      <td></td>\n",
       "    </tr>\n",
       "  </tbody>\n",
       "</table>\n",
       "</div>"
      ],
      "text/plain": [
       "       STATION     STATION_NAME ELEVATION LATITUDE LONGITUDE            DATE  \\\n",
       "0  COOP:050843  BOULDER 2 CO US   unknown  unknown   unknown  19480801 01:00   \n",
       "1  COOP:050843  BOULDER 2 CO US   unknown  unknown   unknown  19480802 15:00   \n",
       "2  COOP:050843  BOULDER 2 CO US   unknown  unknown   unknown  19480803 09:00   \n",
       "3  COOP:050843  BOULDER 2 CO US   unknown  unknown   unknown  19480803 14:00   \n",
       "4  COOP:050843  BOULDER 2 CO US   unknown  unknown   unknown  19480803 15:00   \n",
       "\n",
       "   HPCP Measurement Flag Quality Flag  \n",
       "0  0.00                g               \n",
       "1  0.05                                \n",
       "2  0.01                                \n",
       "3  0.03                                \n",
       "4  0.03                                "
      ]
     },
     "execution_count": 46,
     "metadata": {},
     "output_type": "execute_result"
    }
   ],
   "source": [
    "# import data - this code should be hidden\n",
    "# Chris - anywhere you see echo=FALSE in the code that means hide the code.\n",
    "precip_file = 'data/week2/precipitation/805333-precip-daily-1948-2013.csv'\n",
    "precip_boulder = pd.read_csv(precip_file)\n",
    "precip_boulder.head()"
   ]
  },
  {
   "cell_type": "code",
   "execution_count": 47,
   "metadata": {
    "tags": [
     "hide"
    ]
   },
   "outputs": [
    {
     "data": {
      "text/plain": [
       "STATION              object\n",
       "STATION_NAME         object\n",
       "ELEVATION            object\n",
       "LATITUDE             object\n",
       "LONGITUDE            object\n",
       "DATE                 object\n",
       "HPCP                float64\n",
       "Measurement Flag     object\n",
       "Quality Flag         object\n",
       "dtype: object"
      ]
     },
     "execution_count": 47,
     "metadata": {},
     "output_type": "execute_result"
    }
   ],
   "source": [
    "precip_boulder.dtypes"
   ]
  },
  {
   "cell_type": "markdown",
   "metadata": {},
   "source": [
    "## About the Data\n",
    "\n",
    "The structure of the data is similar to what you saw in previous lessons. The `HPCP`\n",
    "column contains the total precipitation given in inches, recorded\n",
    "for the hour ending at the time specified by DATE. There is a designated missing\n",
    "data value of `999.99`. Note that if there is no data in a particular hour, then \n",
    "no value is recorded.\n",
    "\n",
    "The metadata for this file is located in your week2 directory:\n",
    "`PRECIP_HLY_documentation.pdf` file that can be downloaded along with the data.\n",
    "(Note, as of Sept. 2016, there is a mismatch in the data downloaded and the\n",
    "documentation. The differences are in the units and missing data value:\n",
    "inches/999.99 (standard) or millimeters/25399.75 (metric)).\n",
    "\n",
    "### NoData Values\n",
    "\n",
    "Be sure to explore the data closely. If there are no data values in the data, make sure to adjust your\n",
    "data import code above to account for no data values. Then determine how many no\n",
    "data values you have in your dataset."
   ]
  },
  {
   "cell_type": "code",
   "execution_count": 48,
   "metadata": {
    "tags": [
     "hide"
    ]
   },
   "outputs": [
    {
     "data": {
      "image/png": "[encoded data removed]",
      "text/plain": [
       "<matplotlib.figure.Figure at 0x11914b6d8>"
      ]
     },
     "metadata": {},
     "output_type": "display_data"
    }
   ],
   "source": [
    "fig, ax = plt.subplots()\n",
    "# note that this won't plot without removing the NA values -- be sure to teach this earlier....\n",
    "ax.hist(precip_boulder['HPCP'].dropna())\n",
    "ax.set(title=\"Precipitation histogram \\n data imported without no data values\");"
   ]
  },
  {
   "cell_type": "code",
   "execution_count": 49,
   "metadata": {
    "tags": [
     "hide"
    ]
   },
   "outputs": [
    {
     "data": {
      "image/png": "[encoded data removed]",
      "text/plain": [
       "<matplotlib.figure.Figure at 0x11c55ccf8>"
      ]
     },
     "metadata": {},
     "output_type": "display_data"
    }
   ],
   "source": [
    "# import data and include on data value assignment\n",
    "precip_boulder = pd.read_csv(precip_file, \n",
    "                             na_values=[999.99])\n",
    "\n",
    "# then plot the data \n",
    "fig, ax = plt.subplots()\n",
    "ax.hist(precip_boulder['HPCP'].dropna())\n",
    "ax.set(title=\"This looks better after the reimporting with\\n no data values specified\",\n",
    "       xlabel=\"Precip (inches)\", ylabel=\"Frequency\");"
   ]
  },
  {
   "cell_type": "code",
   "execution_count": 17,
   "metadata": {},
   "outputs": [
    {
     "name": "stdout",
     "output_type": "stream",
     "text": [
      "How many NA values are there?\n",
      "STATION               0\n",
      "STATION_NAME          0\n",
      "ELEVATION             0\n",
      "LATITUDE              0\n",
      "LONGITUDE             0\n",
      "DATE                  0\n",
      "HPCP                401\n",
      "Measurement Flag      0\n",
      "Quality Flag          0\n",
      "dtype: int64\n"
     ]
    }
   ],
   "source": [
    "print(\"How many NA values are there?\")\n",
    "print(precip_boulder.isnull().sum())"
   ]
  },
  {
   "cell_type": "markdown",
   "metadata": {},
   "source": [
    "### Convert Date and Time\n",
    "\n",
    "Compared to the data that we worked with in previous lessons where we were only working with dates, these data contains dates and times. Lucky for us, pandas is very good at recognizing date and datetime formats. "
   ]
  },
  {
   "cell_type": "code",
   "execution_count": 50,
   "metadata": {},
   "outputs": [
    {
     "data": {
      "text/plain": [
       "0   1948-08-01 01:00:00\n",
       "1   1948-08-02 15:00:00\n",
       "2   1948-08-03 09:00:00\n",
       "3   1948-08-03 14:00:00\n",
       "4   1948-08-03 15:00:00\n",
       "Name: DATE, dtype: datetime64[ns]"
      ]
     },
     "execution_count": 50,
     "metadata": {},
     "output_type": "execute_result"
    }
   ],
   "source": [
    "precip_boulder['DATE'] = pd.to_datetime(precip_boulder['DATE'])\n",
    "precip_boulder['DATE'].head()"
   ]
  },
  {
   "cell_type": "markdown",
   "metadata": {},
   "source": [
    "## Plot Precipitation Data\n",
    "\n",
    "Next, let's have explore the data further by plotting it. Format the plot using\n",
    "the colors, labels, etc that are most clear and look the best. Your plot does not\n",
    "need to look like the one below!\n"
   ]
  },
  {
   "cell_type": "code",
   "execution_count": 51,
   "metadata": {},
   "outputs": [
    {
     "data": {
      "image/png": "[encoded data removed]",
      "text/plain": [
       "<matplotlib.figure.Figure at 0x11c268da0>"
      ]
     },
     "metadata": {},
     "output_type": "display_data"
    }
   ],
   "source": [
    "fig, ax = plt.subplots()\n",
    "ax.plot('DATE', 'HPCP', 'o', data=precip_boulder)\n",
    "ax.set(xlabel='Date', ylabel='Precipitation (Inches)',\n",
    "       title=\"Hourly Precipitation - Boulder Station\\n 1948-2013\");"
   ]
  },
  {
   "cell_type": "markdown",
   "metadata": {},
   "source": [
    "## Differences in the data\n",
    "\n",
    "The plot above brings to light a visual difference in the data that seems to begin around 1970. What do you notice? Any ideas what might be causing the notable difference in the plotted data through time?\n"
   ]
  },
  {
   "cell_type": "code",
   "execution_count": 54,
   "metadata": {
    "collapsed": true
   },
   "outputs": [],
   "source": [
    "# round the data \n",
    "precip_boulder['HPCP_round'] = precip_boulder['HPCP'].apply(np.round, decimals=1)"
   ]
  },
  {
   "cell_type": "code",
   "execution_count": 55,
   "metadata": {},
   "outputs": [
    {
     "data": {
      "text/plain": [
       "0        0.0\n",
       "1        0.0\n",
       "2        0.0\n",
       "3        0.0\n",
       "4        0.0\n",
       "5        0.0\n",
       "6        0.0\n",
       "7        0.0\n",
       "8        0.0\n",
       "9        0.0\n",
       "10       0.0\n",
       "11       0.0\n",
       "12       0.0\n",
       "13       0.0\n",
       "14       0.0\n",
       "15       0.0\n",
       "16       0.0\n",
       "17       NaN\n",
       "18       0.0\n",
       "19       0.0\n",
       "20       0.0\n",
       "21       0.0\n",
       "22       0.0\n",
       "23       0.1\n",
       "24       0.1\n",
       "25       0.0\n",
       "26       0.0\n",
       "27       0.0\n",
       "28       0.0\n",
       "29       0.0\n",
       "        ... \n",
       "14446    0.1\n",
       "14447    0.2\n",
       "14448    0.1\n",
       "14449    0.1\n",
       "14450    0.1\n",
       "14451    0.1\n",
       "14452    0.1\n",
       "14453    0.1\n",
       "14454    0.1\n",
       "14455    0.1\n",
       "14456    0.1\n",
       "14457    0.1\n",
       "14458    0.1\n",
       "14459    0.1\n",
       "14460    0.2\n",
       "14461    0.0\n",
       "14462    0.1\n",
       "14463    0.1\n",
       "14464    0.1\n",
       "14465    0.1\n",
       "14466    0.0\n",
       "14467    0.1\n",
       "14468    0.1\n",
       "14469    0.1\n",
       "14470    0.1\n",
       "14471    NaN\n",
       "14472    NaN\n",
       "14473    0.1\n",
       "14474    NaN\n",
       "14475    NaN\n",
       "Name: HPCP_round, dtype: float64"
      ]
     },
     "execution_count": 55,
     "metadata": {},
     "output_type": "execute_result"
    }
   ],
   "source": [
    "precip_boulder['HPCP_round']"
   ]
  },
  {
   "cell_type": "code",
   "execution_count": 56,
   "metadata": {},
   "outputs": [
    {
     "data": {
      "image/png": "[encoded data removed]",
      "text/plain": [
       "<matplotlib.figure.Figure at 0x11c5f3a58>"
      ]
     },
     "metadata": {},
     "output_type": "display_data"
    }
   ],
   "source": [
    "# drop na is very important... need to ensure this is taught in earlier lessons! \n",
    "fig, ax = plt.subplots()\n",
    "ax.plot('DATE', 'HPCP_round', 'o', data=precip_boulder.dropna())\n",
    "ax.set(xlabel='Date', ylabel='Precipitation (Inches)',\n",
    "       title=\"Hourly Precipitation - Boulder Station\\n 1948-2013\");"
   ]
  },
  {
   "cell_type": "markdown",
   "metadata": {},
   "source": [
    "## Subset the data\n",
    "\n",
    "For our research project, we only need to explore 30 years of data.\n",
    "There's no need to work with the entire dataset so let's do the following:\n",
    "\n",
    "1. Aggregate the precipitation totals (sum) by day.\n",
    "1. Subset the data for 30 years (we learned how to do this in a previous lesson).\n",
    "\n",
    "#### Aggregate and summarize data\n",
    "\n",
    "To aggregate data by a particular variable or time period, we can create a new object \n",
    "called in our dataset called day. We will take all of the values for each day and add them\n",
    "using the `.sum()` function.  \n",
    "\n",
    "We use the `mutate()` function to add a new column called **day** to a new data.frame called **daily_sum_precip**. Note that we used `as.Date()` to just grab the dates rather than dates and times which are stored in the POSIX format.\n",
    "\n"
   ]
  },
  {
   "cell_type": "code",
   "execution_count": 58,
   "metadata": {},
   "outputs": [
    {
     "data": {
      "text/html": [
       "<div>\n",
       "<table border=\"1\" class=\"dataframe\">\n",
       "  <thead>\n",
       "    <tr style=\"text-align: right;\">\n",
       "      <th></th>\n",
       "      <th>STATION</th>\n",
       "      <th>STATION_NAME</th>\n",
       "      <th>ELEVATION</th>\n",
       "      <th>LATITUDE</th>\n",
       "      <th>LONGITUDE</th>\n",
       "      <th>DATE</th>\n",
       "      <th>HPCP</th>\n",
       "      <th>Measurement Flag</th>\n",
       "      <th>Quality Flag</th>\n",
       "      <th>HPCP_round</th>\n",
       "    </tr>\n",
       "  </thead>\n",
       "  <tbody>\n",
       "    <tr>\n",
       "      <th>0</th>\n",
       "      <td>COOP:050843</td>\n",
       "      <td>BOULDER 2 CO US</td>\n",
       "      <td>unknown</td>\n",
       "      <td>unknown</td>\n",
       "      <td>unknown</td>\n",
       "      <td>1948-08-01 01:00:00</td>\n",
       "      <td>0.00</td>\n",
       "      <td>g</td>\n",
       "      <td></td>\n",
       "      <td>0.0</td>\n",
       "    </tr>\n",
       "    <tr>\n",
       "      <th>1</th>\n",
       "      <td>COOP:050843</td>\n",
       "      <td>BOULDER 2 CO US</td>\n",
       "      <td>unknown</td>\n",
       "      <td>unknown</td>\n",
       "      <td>unknown</td>\n",
       "      <td>1948-08-02 15:00:00</td>\n",
       "      <td>0.05</td>\n",
       "      <td></td>\n",
       "      <td></td>\n",
       "      <td>0.0</td>\n",
       "    </tr>\n",
       "    <tr>\n",
       "      <th>2</th>\n",
       "      <td>COOP:050843</td>\n",
       "      <td>BOULDER 2 CO US</td>\n",
       "      <td>unknown</td>\n",
       "      <td>unknown</td>\n",
       "      <td>unknown</td>\n",
       "      <td>1948-08-03 09:00:00</td>\n",
       "      <td>0.01</td>\n",
       "      <td></td>\n",
       "      <td></td>\n",
       "      <td>0.0</td>\n",
       "    </tr>\n",
       "    <tr>\n",
       "      <th>3</th>\n",
       "      <td>COOP:050843</td>\n",
       "      <td>BOULDER 2 CO US</td>\n",
       "      <td>unknown</td>\n",
       "      <td>unknown</td>\n",
       "      <td>unknown</td>\n",
       "      <td>1948-08-03 14:00:00</td>\n",
       "      <td>0.03</td>\n",
       "      <td></td>\n",
       "      <td></td>\n",
       "      <td>0.0</td>\n",
       "    </tr>\n",
       "    <tr>\n",
       "      <th>4</th>\n",
       "      <td>COOP:050843</td>\n",
       "      <td>BOULDER 2 CO US</td>\n",
       "      <td>unknown</td>\n",
       "      <td>unknown</td>\n",
       "      <td>unknown</td>\n",
       "      <td>1948-08-03 15:00:00</td>\n",
       "      <td>0.03</td>\n",
       "      <td></td>\n",
       "      <td></td>\n",
       "      <td>0.0</td>\n",
       "    </tr>\n",
       "  </tbody>\n",
       "</table>\n",
       "</div>"
      ],
      "text/plain": [
       "       STATION     STATION_NAME ELEVATION LATITUDE LONGITUDE  \\\n",
       "0  COOP:050843  BOULDER 2 CO US   unknown  unknown   unknown   \n",
       "1  COOP:050843  BOULDER 2 CO US   unknown  unknown   unknown   \n",
       "2  COOP:050843  BOULDER 2 CO US   unknown  unknown   unknown   \n",
       "3  COOP:050843  BOULDER 2 CO US   unknown  unknown   unknown   \n",
       "4  COOP:050843  BOULDER 2 CO US   unknown  unknown   unknown   \n",
       "\n",
       "                 DATE  HPCP Measurement Flag Quality Flag  HPCP_round  \n",
       "0 1948-08-01 01:00:00  0.00                g                      0.0  \n",
       "1 1948-08-02 15:00:00  0.05                                       0.0  \n",
       "2 1948-08-03 09:00:00  0.01                                       0.0  \n",
       "3 1948-08-03 14:00:00  0.03                                       0.0  \n",
       "4 1948-08-03 15:00:00  0.03                                       0.0  "
      ]
     },
     "execution_count": 58,
     "metadata": {},
     "output_type": "execute_result"
    }
   ],
   "source": [
    "precip_boulder.head()"
   ]
  },
  {
   "cell_type": "code",
   "execution_count": 80,
   "metadata": {},
   "outputs": [
    {
     "data": {
      "text/html": [
       "<div>\n",
       "<table border=\"1\" class=\"dataframe\">\n",
       "  <thead>\n",
       "    <tr style=\"text-align: right;\">\n",
       "      <th></th>\n",
       "      <th>HPCP</th>\n",
       "      <th>HPCP_round</th>\n",
       "    </tr>\n",
       "    <tr>\n",
       "      <th>DATE</th>\n",
       "      <th></th>\n",
       "      <th></th>\n",
       "    </tr>\n",
       "  </thead>\n",
       "  <tbody>\n",
       "    <tr>\n",
       "      <th>2012-03-31</th>\n",
       "      <td>0.0</td>\n",
       "      <td>0.0</td>\n",
       "    </tr>\n",
       "    <tr>\n",
       "      <th>2012-04-30</th>\n",
       "      <td>1.1</td>\n",
       "      <td>1.1</td>\n",
       "    </tr>\n",
       "    <tr>\n",
       "      <th>2012-05-31</th>\n",
       "      <td>1.5</td>\n",
       "      <td>1.5</td>\n",
       "    </tr>\n",
       "    <tr>\n",
       "      <th>2012-06-30</th>\n",
       "      <td>0.0</td>\n",
       "      <td>0.0</td>\n",
       "    </tr>\n",
       "    <tr>\n",
       "      <th>2012-07-31</th>\n",
       "      <td>2.8</td>\n",
       "      <td>2.8</td>\n",
       "    </tr>\n",
       "    <tr>\n",
       "      <th>2012-08-31</th>\n",
       "      <td>0.2</td>\n",
       "      <td>0.2</td>\n",
       "    </tr>\n",
       "    <tr>\n",
       "      <th>2012-09-30</th>\n",
       "      <td>1.7</td>\n",
       "      <td>1.7</td>\n",
       "    </tr>\n",
       "    <tr>\n",
       "      <th>2012-10-31</th>\n",
       "      <td>1.1</td>\n",
       "      <td>1.1</td>\n",
       "    </tr>\n",
       "    <tr>\n",
       "      <th>2012-11-30</th>\n",
       "      <td>0.3</td>\n",
       "      <td>0.3</td>\n",
       "    </tr>\n",
       "    <tr>\n",
       "      <th>2012-12-31</th>\n",
       "      <td>0.5</td>\n",
       "      <td>0.5</td>\n",
       "    </tr>\n",
       "  </tbody>\n",
       "</table>\n",
       "</div>"
      ],
      "text/plain": [
       "            HPCP  HPCP_round\n",
       "DATE                        \n",
       "2012-03-31   0.0         0.0\n",
       "2012-04-30   1.1         1.1\n",
       "2012-05-31   1.5         1.5\n",
       "2012-06-30   0.0         0.0\n",
       "2012-07-31   2.8         2.8\n",
       "2012-08-31   0.2         0.2\n",
       "2012-09-30   1.7         1.7\n",
       "2012-10-31   1.1         1.1\n",
       "2012-11-30   0.3         0.3\n",
       "2012-12-31   0.5         0.5"
      ]
     },
     "execution_count": 80,
     "metadata": {},
     "output_type": "execute_result"
    }
   ],
   "source": [
    "# Create a new dataframe with resample or aggretage the data by day \n",
    "precip_boulder_day = precip_boulder.resample(rule='M', on='DATE').sum()\n",
    "# subset the data for the years 2003 - 2013\n",
    "precip_boulder_day = precip_boulder_day.query('DATE >= 2003 and DATE <= 2013')\n",
    "\n",
    "precip_boulder_day.tail(10)"
   ]
  },
  {
   "cell_type": "code",
   "execution_count": 94,
   "metadata": {},
   "outputs": [
    {
     "data": {
      "text/plain": [
       "HPCP                 float64\n",
       "HPCP_round           float64\n",
       "theDate       datetime64[ns]\n",
       "dtype: object"
      ]
     },
     "execution_count": 94,
     "metadata": {},
     "output_type": "execute_result"
    }
   ],
   "source": [
    "# above the date becomes an index. turn it into a column for plotting \n",
    "precip_boulder_day['theDate'] = precip_boulder_day.index\n",
    "precip_boulder_day.tail()\n",
    "\n",
    "precip_boulder_day.dtypes\n",
    "#precip_boulder_day[\"DATE\"]\n",
    "#precip_boulder_day['DATE'] = pd.to_datetime(precip_boulder_day['DATE'])\n",
    "#precip_boulder_day.Date = pd.to_datetime(precip_boulder_day['DATE'], format='%Y-%m-%d %H:%M:%S.%f') \n",
    "#precip_boulder_day.set_index('DATE', inplace=True)\n",
    "\n",
    "\n",
    "# why is the date missing here? it's almost as if it's in another space loking at the tail results above...\n",
    "#precip_boulder_day.dtypes"
   ]
  },
  {
   "cell_type": "code",
   "execution_count": 98,
   "metadata": {},
   "outputs": [
    {
     "data": {
      "image/png": "[encoded data removed]",
      "text/plain": [
       "<matplotlib.figure.Figure at 0x11c9e5358>"
      ]
     },
     "metadata": {},
     "output_type": "display_data"
    }
   ],
   "source": [
    "# THIS IS PANDAS AGAIN... removed reset_inde\n",
    "fig, ax = plt.subplots()\n",
    "ax.bar(precip_boulder_day['theDate'].values, precip_boulder_day['HPCP_round'].values)\n",
    "ax.set(xlabel='Date', ylabel='Precipitation (Inches)',\n",
    "       title=\"Hourly Precipitation - Boulder Station\\n 2003-2013\");"
   ]
  },
  {
   "cell_type": "code",
   "execution_count": 30,
   "metadata": {
    "collapsed": true
   },
   "outputs": [],
   "source": [
    "# ```{r plot-daily, echo=F, warning=F, fig.cap=\"Daily precip plot\"}\n",
    "\n",
    "# precPlot_daily1 <- ggplot(data=precip.boulder,  # the data frame\n",
    "\n",
    "#       aes(DATE, HPCP)) +   # the variables of interest\n",
    "\n",
    "#       geom_bar(stat=\"identity\") +   # create a bar graph\n",
    "\n",
    "#       xlab(\"Date\") + ylab(\"Precipitation (Inches)\") +  # label the x & y axes\n",
    "\n",
    "#       ggtitle(\"Daily Precipitation - Boulder Station\\n 2003-2013\")  # add a title\n",
    "\n",
    "\n",
    "\n",
    "# precPlot_daily1\n",
    "\n",
    "\n",
    "\n",
    "# ```\n"
   ]
  },
  {
   "cell_type": "markdown",
   "metadata": {},
   "source": [
    "\n",
    "\n",
    "Next we `summarize()` the precipitation column (total_precip) - grouped by day.\n",
    "\n",
    "What this means is that we ADD UP all of the values for each day to get a grand\n",
    "\n",
    "total amount of precipitation each day.\n",
    "\n",
    "\n",
    "\n",
    "\n"
   ]
  },
  {
   "cell_type": "code",
   "execution_count": 91,
   "metadata": {},
   "outputs": [
    {
     "data": {
      "text/html": [
       "<div>\n",
       "<table border=\"1\" class=\"dataframe\">\n",
       "  <thead>\n",
       "    <tr style=\"text-align: right;\">\n",
       "      <th></th>\n",
       "      <th>HPCP</th>\n",
       "      <th>HPCP_round</th>\n",
       "    </tr>\n",
       "    <tr>\n",
       "      <th>DATE</th>\n",
       "      <th></th>\n",
       "      <th></th>\n",
       "    </tr>\n",
       "  </thead>\n",
       "  <tbody>\n",
       "    <tr>\n",
       "      <th>1948-08-01</th>\n",
       "      <td>0.00</td>\n",
       "      <td>0.0</td>\n",
       "    </tr>\n",
       "    <tr>\n",
       "      <th>1948-08-02</th>\n",
       "      <td>0.05</td>\n",
       "      <td>0.0</td>\n",
       "    </tr>\n",
       "    <tr>\n",
       "      <th>1948-08-03</th>\n",
       "      <td>0.07</td>\n",
       "      <td>0.0</td>\n",
       "    </tr>\n",
       "    <tr>\n",
       "      <th>1948-08-04</th>\n",
       "      <td>0.14</td>\n",
       "      <td>0.0</td>\n",
       "    </tr>\n",
       "    <tr>\n",
       "      <th>1948-08-05</th>\n",
       "      <td>0.02</td>\n",
       "      <td>0.0</td>\n",
       "    </tr>\n",
       "  </tbody>\n",
       "</table>\n",
       "</div>"
      ],
      "text/plain": [
       "            HPCP  HPCP_round\n",
       "DATE                        \n",
       "1948-08-01  0.00         0.0\n",
       "1948-08-02  0.05         0.0\n",
       "1948-08-03  0.07         0.0\n",
       "1948-08-04  0.14         0.0\n",
       "1948-08-05  0.02         0.0"
      ]
     },
     "execution_count": 91,
     "metadata": {},
     "output_type": "execute_result"
    }
   ],
   "source": [
    "# Not sure how the stuff below is different from the stuff above, should double check!\n",
    "daily_sum_precip = precip_boulder.resample('D', on='DATE').sum()\n",
    "daily_sum_precip.head()"
   ]
  },
  {
   "cell_type": "code",
   "execution_count": 32,
   "metadata": {
    "collapsed": true
   },
   "outputs": [],
   "source": [
    "# ``` {r daily-summ}\n",
    "\n",
    "# # use dplyr\n",
    "\n",
    "# daily_sum_precip <- precip.boulder %>%\n",
    "\n",
    "#   mutate(day = as.Date(DATE, format=\"%Y-%m-%d\")) %>%\n",
    "\n",
    "#   group_by(day) %>% # group by the day column\n",
    "\n",
    "#   summarise(total_precip=sum(HPCP)) # calculate the SUM of all precipitation that occured on each day\n",
    "\n",
    "\n",
    "\n",
    "# # how large is the resulting data frame?\n",
    "\n",
    "# nrow(daily_sum_precip)\n",
    "\n",
    "\n",
    "\n",
    "# # view the results\n",
    "\n",
    "# head(daily_sum_precip)\n",
    "\n",
    "\n",
    "\n",
    "# # view column names\n",
    "\n",
    "# names(daily_sum_precip)\n",
    "\n",
    "\n",
    "\n",
    "# ```\n"
   ]
  },
  {
   "cell_type": "markdown",
   "metadata": {},
   "source": [
    "\n",
    "\n",
    "\n",
    "\n",
    "Now plot the daily data.\n",
    "\n",
    "\n"
   ]
  },
  {
   "cell_type": "code",
   "execution_count": 33,
   "metadata": {
    "collapsed": true
   },
   "outputs": [],
   "source": [
    "# ``` {r daily-prec-plot, echo=F, warning=F, fig.cap=\"Daily precipitation for boulder\"}\n",
    "\n",
    "# # plot daily data\n",
    "\n",
    "# precPlot_daily <- ggplot(daily_sum_precip, aes(day, total_precip)) +\n",
    "\n",
    "#       geom_bar(stat=\"identity\") +\n",
    "\n",
    "#       xlab(\"Date\") + ylab(\"Precipitation (inches)\") +\n",
    "\n",
    "#       ggtitle(\"Daily Precipitation - Boulder Station\\n 2003-2013\")\n",
    "\n",
    "\n",
    "\n",
    "# precPlot_daily\n",
    "\n",
    "# ```\n"
   ]
  },
  {
   "cell_type": "markdown",
   "metadata": {},
   "source": [
    "\n",
    "\n",
    "\n",
    "\n",
    "Finally, plot a temporal subsets of the data from 2000-2013. We learned how to\n",
    "\n",
    "do this in the previous lessons.\n",
    "\n",
    "\n",
    "\n",
    "\n",
    "\n",
    "Now we can easily see the dramatic rainfall event in mid-September!\n",
    "\n",
    "\n",
    "\n",
    "<i class=\"fa fa-star\"></i> **R Tip:** If you are using a date-time class, instead\n",
    "\n",
    "of just a date class, you need to use `scale_x_datetime()`.\n",
    "\n",
    "{: .notice}\n",
    "\n",
    "\n",
    "\n",
    "#### Subset The Data\n",
    "\n",
    "\n",
    "\n",
    "If we wanted to, we could subset this data set using the same code that we used\n",
    "\n",
    "previously to subset! An example of the subsetted plot is below.\n",
    "\n",
    "\n"
   ]
  },
  {
   "cell_type": "code",
   "execution_count": 34,
   "metadata": {
    "scrolled": true
   },
   "outputs": [
    {
     "data": {
      "image/png": "[encoded data removed]",
      "text/plain": [
       "<matplotlib.figure.Figure at 0x11c6f3668>"
      ]
     },
     "metadata": {},
     "output_type": "display_data"
    }
   ],
   "source": [
    "this_daily_sum = daily_sum_precip.query('DATE >= \"2012-12-31\" and DATE <= \"2013-12-31\"')\n",
    "\n",
    "fig, ax = plt.subplots()\n",
    "ax.plot('DATE', 'HPCP_round', 'o', data=this_daily_sum.reset_index())\n",
    "ax.set(xlabel='Date', ylabel='Precipitation (Inches)',\n",
    "       title=\"Daily Precipitation - Boulder Station\\n 2012-2013\");"
   ]
  },
  {
   "cell_type": "code",
   "execution_count": 35,
   "metadata": {
    "collapsed": true
   },
   "outputs": [],
   "source": [
    "# ``` {r subset-data, echo=F, warning='hide', fig.cap=\"final precip plot daily sum\"}\n",
    "\n",
    "\n",
    "\n",
    "# # use dplyr\n",
    "\n",
    "# daily_sum_precip_subset <- daily_sum_precip %>%\n",
    "\n",
    "#   filter(day >= as.Date('2012-12-31') & day <= as.Date('2013-12-31'))\n",
    "\n",
    "\n",
    "\n",
    "\n",
    "\n",
    "# # create new plot\n",
    "\n",
    "# precPlot_30yrs <- ggplot(daily_sum_precip_subset, aes(day, total_precip)) +\n",
    "\n",
    "#   geom_bar(stat=\"identity\") +\n",
    "\n",
    "#   xlab(\"Date\") + ylab(\"Precipitation (inches)\") +\n",
    "\n",
    "#   ggtitle(\"Daily Total Precipitation 2012 - 2013 for Boulder Creek\")\n",
    "\n",
    "\n",
    "\n",
    "# precPlot_30yrs\n",
    "\n",
    "\n",
    "\n",
    "# ```\n"
   ]
  },
  {
   "cell_type": "code",
   "execution_count": null,
   "metadata": {
    "collapsed": true
   },
   "outputs": [],
   "source": []
  }
 ],
 "metadata": {
  "celltoolbar": "Tags",
  "kernelspec": {
   "display_name": "Python 3",
   "language": "python",
   "name": "python3"
  },
  "language_info": {
   "codemirror_mode": {
    "name": "ipython",
    "version": 3
   },
   "file_extension": ".py",
   "mimetype": "text/x-python",
   "name": "python",
   "nbconvert_exporter": "python",
   "pygments_lexer": "ipython3",
   "version": "3.6.0"
  },
  "toc": {
   "toc_cell": false,
   "toc_number_sections": false,
   "toc_threshold": "2",
   "toc_window_display": false
  }
 },
 "nbformat": 4,
 "nbformat_minor": 2
}
