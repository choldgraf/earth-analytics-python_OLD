{
 "cells": [
  {
   "cell_type": "raw",
   "metadata": {},
   "source": [
    "---\n",
    "layout: single\n",
    "title: \"Subset and plot time series data in Python - Flooding & erosion data\"\n",
    "excerpt: \"This lesson walks through extracting temporal subsets of time series data using the pandas subset function. In the previous lesson we learned how to convert data containing a data field into a data class. In this lesson we subset the data and create refined time series plots using matplotlib. We'll cover how to set the x and y limits on a matplotlib plot to only plot a subset of the data and how to format an axis containing dates.\"\n",
    "authors: ['Leah Wasser', 'Chris Holdgraf']\n",
    "modified: '{:%Y-%m-%d}'.format(datetime.now())\n",
    "category: [course-materials]\n",
    "class-lesson: ['time-series-python']\n",
    "course: 'earth-analytics-python'\n",
    "permalink: /course-materials/earth-analytics-python/week-2/subset-time-series-data-python/\n",
    "nav-title: 'Subset time series data in Python'\n",
    "week: 2\n",
    "sidebar:\n",
    "  nav:\n",
    "author_profile: false\n",
    "comments: true\n",
    "order: 3\n",
    "topics:\n",
    "  reproducible-science-and-programming: ['Jupyter notebook']\n",
    "  time-series:\n",
    "  data-exploration-and-analysis: ['data-visualization']\n",
    "---\n"
   ]
  },
  {
   "cell_type": "markdown",
   "metadata": {},
   "source": [
    "{% include toc title=\"In This Lesson\" icon=\"file-text\" %}\n",
    "\n",
    "\n",
    "In this lesson, we will learn how to import time series data into `Python`. We will \n",
    "test our skills with  dealing with NA values, and ensuring the time comes in as a time data type.\n",
    "Finally we will plot the data using `matplotlib`.\n",
    "\n",
    "<div class='notice--success' markdown=\"1\">\n",
    "\n",
    "## <i class=\"fa fa-graduation-cap\" aria-hidden=\"true\"></i> Learning Objectives\n",
    "\n",
    "After completing this tutorial, you will be able to:\n",
    "\n",
    "* Import a text file in .csv format into Python.\n",
    "* Plot quantitative time series data using matplotlib \n",
    "* Assign missing data values `NaN` in `Python` when the data are imported into Python to ensure that the data plot and can be analyzed correctly.\n",
    "* Subset data temporally using the `pandas` `.query()` function \n",
    "\n",
    "## <i class=\"fa fa-check-square-o fa-2\" aria-hidden=\"true\"></i> What you need\n",
    "\n",
    "You need `Python 3.x` and `Jupyter notebooks` to complete this tutorial. Also you should have\n",
    "an `earth-analytics` directory setup on your computer with a `/data`\n",
    "directory with it.\n",
    "\n",
    "* [How to Setup R / RStudio](/course-materials/earth-analytics/week-1/setup-r-rstudio/)\n",
    "* [Setup your working directory](/course-materials/earth-analytics/week-1/setup-working-directory/)\n",
    "* [Intro to the R & RStudio Interface](/course-materials/earth-analytics/week-1/intro-to-r-and-rstudio)\n",
    "\n",
    "[<i class=\"fa fa-download\" aria-hidden=\"true\"></i> Download Week 2 Data](https://ndownloader.figshare.com/files/7426738){:data-proofer-ignore='' .btn }\n",
    "\n",
    "</div>\n",
    "\n",
    "\n",
    "\n",
    "## Get started with time series data\n",
    "Let's get started by loading the required python libraries into our Jupyter notebook. \n",
    "We will be using \n",
    "\n",
    "* numpy # work with arrays and perform quantitative analysis\n",
    "* pandas # work with data frames\n",
    "* matplotlib pyplot # plot the data\n",
    "* os # manage working directory paths\n",
    "* urllib # import data from a url\n",
    "\n",
    "In this lesson. "
   ]
  },
  {
   "cell_type": "code",
   "execution_count": 2,
   "metadata": {
    "collapsed": true
   },
   "outputs": [],
   "source": [
    "# load python libraries\n",
    "import numpy as np\n",
    "import pandas as pd\n",
    "import matplotlib.pyplot as plt\n",
    "import os\n",
    "import urllib\n",
    "plt.ion()\n",
    "# be sure to set your working directory\\n\",\n",
    "os.chdir(\"/Users/lewa8222/Documents/earth-analytics/\")"
   ]
  },
  {
   "cell_type": "code",
   "execution_count": 3,
   "metadata": {
    "tags": [
     "hide",
     "cell.metadata.hide_input=True"
    ]
   },
   "outputs": [],
   "source": [
    "# This is the code that i used to process the data -- can we hide this chunk and potentially not run it but atleast hide it?\n",
    "precip_boulder = pd.read_csv('data/week2/precipitation/805325-precip-daily-2003-2013.csv', \n",
    "                             parse_dates=['DATE'])\n",
    "# aggregate the data by date\n",
    "precip_boulder_daily = precip_boulder.groupby('DATE').aggregate(\n",
    "    {'HPCP': 'sum', 'STATION': 'first', 'ELEVATION': 'first',\n",
    "     'STATION_NAME': 'first', 'LATITUDE': 'first', 'LONGITUDE': 'first'})\n",
    "# rename the HPCP column to a human readable column name\n",
    "precip_boulder_daily = precip_boulder_daily.rename(columns={'HPCP': 'DAILY_PRECIP'})\n",
    "# add the year column\n",
    "precip_boulder_daily['YEAR'] = precip_boulder_daily.index.year\n",
    "# julian is wrong?? - \n",
    "precip_boulder_daily['JULIAN'] = precip_boulder_daily.index.date\n",
    "# is this really jday??\n",
    "#precip_boulder_daily['JULIAN'].head()\n",
    "# this is exporting to a csv... i'm not sure if we still need to do this. \n",
    "# precip_boulder_daily.to_csv('./data/week_02-hw/precipitation/805325-precip-dailysum-2003-2013.csv')"
   ]
  },
  {
   "cell_type": "markdown",
   "metadata": {},
   "source": [
    "## Import precipitation data\n",
    "\n",
    "We will use a precipitation data derived from data accessed through the\n",
    "National Centers for Environmental Information (formerly\n",
    "National Climate Data Center) Cooperative Observer Network (COOP)\n",
    "station 050843 in Boulder, CO. The data time span is: 1 January 2003 through 31\n",
    "December 2013.\n",
    "\n",
    "We can use pandas `ps.read_csv()` to import the `.csv` file.\n",
    "\n",
    "Important: please note that your instructor has added several columns to this data that \n",
    "would not usually be there if you downloaded it directly. The added columns include:\n",
    "\n",
    "* Year and\n",
    "* Julian day"
   ]
  },
  {
   "cell_type": "code",
   "execution_count": 5,
   "metadata": {},
   "outputs": [
    {
     "data": {
      "text/html": [
       "<div>\n",
       "<table border=\"1\" class=\"dataframe\">\n",
       "  <thead>\n",
       "    <tr style=\"text-align: right;\">\n",
       "      <th></th>\n",
       "      <th>DATE</th>\n",
       "      <th>DAILY_PRECIP</th>\n",
       "      <th>STATION</th>\n",
       "      <th>STATION_NAME</th>\n",
       "      <th>ELEVATION</th>\n",
       "      <th>LATITUDE</th>\n",
       "      <th>LONGITUDE</th>\n",
       "      <th>YEAR</th>\n",
       "      <th>JULIAN</th>\n",
       "    </tr>\n",
       "  </thead>\n",
       "  <tbody>\n",
       "    <tr>\n",
       "      <th>0</th>\n",
       "      <td>2003-01-01</td>\n",
       "      <td>0.00</td>\n",
       "      <td>COOP:050843</td>\n",
       "      <td>BOULDER 2 CO US</td>\n",
       "      <td>1650.5</td>\n",
       "      <td>40.03389</td>\n",
       "      <td>-105.28111</td>\n",
       "      <td>2003</td>\n",
       "      <td>1</td>\n",
       "    </tr>\n",
       "    <tr>\n",
       "      <th>1</th>\n",
       "      <td>2003-01-05</td>\n",
       "      <td>999.99</td>\n",
       "      <td>COOP:050843</td>\n",
       "      <td>BOULDER 2 CO US</td>\n",
       "      <td>1650.5</td>\n",
       "      <td>40.03389</td>\n",
       "      <td>-105.28111</td>\n",
       "      <td>2003</td>\n",
       "      <td>5</td>\n",
       "    </tr>\n",
       "    <tr>\n",
       "      <th>2</th>\n",
       "      <td>2003-02-01</td>\n",
       "      <td>0.00</td>\n",
       "      <td>COOP:050843</td>\n",
       "      <td>BOULDER 2 CO US</td>\n",
       "      <td>1650.5</td>\n",
       "      <td>40.03389</td>\n",
       "      <td>-105.28111</td>\n",
       "      <td>2003</td>\n",
       "      <td>32</td>\n",
       "    </tr>\n",
       "    <tr>\n",
       "      <th>3</th>\n",
       "      <td>2003-02-02</td>\n",
       "      <td>999.99</td>\n",
       "      <td>COOP:050843</td>\n",
       "      <td>BOULDER 2 CO US</td>\n",
       "      <td>1650.5</td>\n",
       "      <td>40.03389</td>\n",
       "      <td>-105.28111</td>\n",
       "      <td>2003</td>\n",
       "      <td>33</td>\n",
       "    </tr>\n",
       "    <tr>\n",
       "      <th>4</th>\n",
       "      <td>2003-02-03</td>\n",
       "      <td>0.40</td>\n",
       "      <td>COOP:050843</td>\n",
       "      <td>BOULDER 2 CO US</td>\n",
       "      <td>1650.5</td>\n",
       "      <td>40.03389</td>\n",
       "      <td>-105.28111</td>\n",
       "      <td>2003</td>\n",
       "      <td>34</td>\n",
       "    </tr>\n",
       "    <tr>\n",
       "      <th>5</th>\n",
       "      <td>2003-02-05</td>\n",
       "      <td>0.20</td>\n",
       "      <td>COOP:050843</td>\n",
       "      <td>BOULDER 2 CO US</td>\n",
       "      <td>1650.5</td>\n",
       "      <td>40.03389</td>\n",
       "      <td>-105.28111</td>\n",
       "      <td>2003</td>\n",
       "      <td>36</td>\n",
       "    </tr>\n",
       "  </tbody>\n",
       "</table>\n",
       "</div>"
      ],
      "text/plain": [
       "        DATE  DAILY_PRECIP      STATION     STATION_NAME  ELEVATION  LATITUDE  \\\n",
       "0 2003-01-01          0.00  COOP:050843  BOULDER 2 CO US     1650.5  40.03389   \n",
       "1 2003-01-05        999.99  COOP:050843  BOULDER 2 CO US     1650.5  40.03389   \n",
       "2 2003-02-01          0.00  COOP:050843  BOULDER 2 CO US     1650.5  40.03389   \n",
       "3 2003-02-02        999.99  COOP:050843  BOULDER 2 CO US     1650.5  40.03389   \n",
       "4 2003-02-03          0.40  COOP:050843  BOULDER 2 CO US     1650.5  40.03389   \n",
       "5 2003-02-05          0.20  COOP:050843  BOULDER 2 CO US     1650.5  40.03389   \n",
       "\n",
       "   LONGITUDE  YEAR  JULIAN  \n",
       "0 -105.28111  2003       1  \n",
       "1 -105.28111  2003       5  \n",
       "2 -105.28111  2003      32  \n",
       "3 -105.28111  2003      33  \n",
       "4 -105.28111  2003      34  \n",
       "5 -105.28111  2003      36  "
      ]
     },
     "execution_count": 5,
     "metadata": {},
     "output_type": "execute_result"
    }
   ],
   "source": [
    "# import the data\n",
    "# note why do the data have \n",
    "#precip_boulder = pd.read_csv('data/week2/precipitation/805325-precip-dailysum-2003-2013.csv', \n",
    "#                             parse_dates=['DATE'])\n",
    "\n",
    "#precip_boulder.head(6)"
   ]
  },
  {
   "cell_type": "code",
   "execution_count": 35,
   "metadata": {},
   "outputs": [
    {
     "data": {
      "text/html": [
       "<div>\n",
       "<table border=\"1\" class=\"dataframe\">\n",
       "  <thead>\n",
       "    <tr style=\"text-align: right;\">\n",
       "      <th></th>\n",
       "      <th>DAILY_PRECIP</th>\n",
       "      <th>ELEVATION</th>\n",
       "      <th>LATITUDE</th>\n",
       "      <th>LONGITUDE</th>\n",
       "      <th>YEAR</th>\n",
       "      <th>JULIAN</th>\n",
       "    </tr>\n",
       "  </thead>\n",
       "  <tbody>\n",
       "    <tr>\n",
       "      <th>count</th>\n",
       "      <td>792.000000</td>\n",
       "      <td>792.0</td>\n",
       "      <td>792.000000</td>\n",
       "      <td>792.000000</td>\n",
       "      <td>792.000000</td>\n",
       "      <td>792.000000</td>\n",
       "    </tr>\n",
       "    <tr>\n",
       "      <th>mean</th>\n",
       "      <td>5.297045</td>\n",
       "      <td>1650.5</td>\n",
       "      <td>40.033850</td>\n",
       "      <td>-105.281106</td>\n",
       "      <td>2007.967172</td>\n",
       "      <td>175.541667</td>\n",
       "    </tr>\n",
       "    <tr>\n",
       "      <th>std</th>\n",
       "      <td>70.915223</td>\n",
       "      <td>0.0</td>\n",
       "      <td>0.000045</td>\n",
       "      <td>0.000005</td>\n",
       "      <td>3.149287</td>\n",
       "      <td>98.536373</td>\n",
       "    </tr>\n",
       "    <tr>\n",
       "      <th>min</th>\n",
       "      <td>0.000000</td>\n",
       "      <td>1650.5</td>\n",
       "      <td>40.033800</td>\n",
       "      <td>-105.281110</td>\n",
       "      <td>2003.000000</td>\n",
       "      <td>1.000000</td>\n",
       "    </tr>\n",
       "    <tr>\n",
       "      <th>25%</th>\n",
       "      <td>0.100000</td>\n",
       "      <td>1650.5</td>\n",
       "      <td>40.033800</td>\n",
       "      <td>-105.281110</td>\n",
       "      <td>2005.000000</td>\n",
       "      <td>96.000000</td>\n",
       "    </tr>\n",
       "    <tr>\n",
       "      <th>50%</th>\n",
       "      <td>0.100000</td>\n",
       "      <td>1650.5</td>\n",
       "      <td>40.033890</td>\n",
       "      <td>-105.281110</td>\n",
       "      <td>2008.000000</td>\n",
       "      <td>167.000000</td>\n",
       "    </tr>\n",
       "    <tr>\n",
       "      <th>75%</th>\n",
       "      <td>0.300000</td>\n",
       "      <td>1650.5</td>\n",
       "      <td>40.033890</td>\n",
       "      <td>-105.281100</td>\n",
       "      <td>2011.000000</td>\n",
       "      <td>255.250000</td>\n",
       "    </tr>\n",
       "    <tr>\n",
       "      <th>max</th>\n",
       "      <td>999.990000</td>\n",
       "      <td>1650.5</td>\n",
       "      <td>40.033890</td>\n",
       "      <td>-105.281100</td>\n",
       "      <td>2013.000000</td>\n",
       "      <td>365.000000</td>\n",
       "    </tr>\n",
       "  </tbody>\n",
       "</table>\n",
       "</div>"
      ],
      "text/plain": [
       "       DAILY_PRECIP  ELEVATION    LATITUDE   LONGITUDE         YEAR  \\\n",
       "count    792.000000      792.0  792.000000  792.000000   792.000000   \n",
       "mean       5.297045     1650.5   40.033850 -105.281106  2007.967172   \n",
       "std       70.915223        0.0    0.000045    0.000005     3.149287   \n",
       "min        0.000000     1650.5   40.033800 -105.281110  2003.000000   \n",
       "25%        0.100000     1650.5   40.033800 -105.281110  2005.000000   \n",
       "50%        0.100000     1650.5   40.033890 -105.281110  2008.000000   \n",
       "75%        0.300000     1650.5   40.033890 -105.281100  2011.000000   \n",
       "max      999.990000     1650.5   40.033890 -105.281100  2013.000000   \n",
       "\n",
       "           JULIAN  \n",
       "count  792.000000  \n",
       "mean   175.541667  \n",
       "std     98.536373  \n",
       "min      1.000000  \n",
       "25%     96.000000  \n",
       "50%    167.000000  \n",
       "75%    255.250000  \n",
       "max    365.000000  "
      ]
     },
     "execution_count": 35,
     "metadata": {},
     "output_type": "execute_result"
    }
   ],
   "source": [
    "# view data summary statistics\n",
    "#boulder_daily_precip.describe()"
   ]
  },
  {
   "cell_type": "code",
   "execution_count": 6,
   "metadata": {},
   "outputs": [
    {
     "data": {
      "text/html": [
       "<div>\n",
       "<table border=\"1\" class=\"dataframe\">\n",
       "  <thead>\n",
       "    <tr style=\"text-align: right;\">\n",
       "      <th></th>\n",
       "      <th>DATE</th>\n",
       "      <th>DAILY_PRECIP</th>\n",
       "      <th>STATION</th>\n",
       "      <th>STATION_NAME</th>\n",
       "      <th>ELEVATION</th>\n",
       "      <th>LATITUDE</th>\n",
       "      <th>LONGITUDE</th>\n",
       "      <th>YEAR</th>\n",
       "      <th>JULIAN</th>\n",
       "    </tr>\n",
       "  </thead>\n",
       "  <tbody>\n",
       "    <tr>\n",
       "      <th>0</th>\n",
       "      <td>2003-01-01</td>\n",
       "      <td>0.00</td>\n",
       "      <td>COOP:050843</td>\n",
       "      <td>BOULDER 2 CO US</td>\n",
       "      <td>1650.5</td>\n",
       "      <td>40.03389</td>\n",
       "      <td>-105.28111</td>\n",
       "      <td>2003</td>\n",
       "      <td>1</td>\n",
       "    </tr>\n",
       "    <tr>\n",
       "      <th>1</th>\n",
       "      <td>2003-01-05</td>\n",
       "      <td>999.99</td>\n",
       "      <td>COOP:050843</td>\n",
       "      <td>BOULDER 2 CO US</td>\n",
       "      <td>1650.5</td>\n",
       "      <td>40.03389</td>\n",
       "      <td>-105.28111</td>\n",
       "      <td>2003</td>\n",
       "      <td>5</td>\n",
       "    </tr>\n",
       "    <tr>\n",
       "      <th>2</th>\n",
       "      <td>2003-02-01</td>\n",
       "      <td>0.00</td>\n",
       "      <td>COOP:050843</td>\n",
       "      <td>BOULDER 2 CO US</td>\n",
       "      <td>1650.5</td>\n",
       "      <td>40.03389</td>\n",
       "      <td>-105.28111</td>\n",
       "      <td>2003</td>\n",
       "      <td>32</td>\n",
       "    </tr>\n",
       "    <tr>\n",
       "      <th>3</th>\n",
       "      <td>2003-02-02</td>\n",
       "      <td>999.99</td>\n",
       "      <td>COOP:050843</td>\n",
       "      <td>BOULDER 2 CO US</td>\n",
       "      <td>1650.5</td>\n",
       "      <td>40.03389</td>\n",
       "      <td>-105.28111</td>\n",
       "      <td>2003</td>\n",
       "      <td>33</td>\n",
       "    </tr>\n",
       "    <tr>\n",
       "      <th>4</th>\n",
       "      <td>2003-02-03</td>\n",
       "      <td>0.40</td>\n",
       "      <td>COOP:050843</td>\n",
       "      <td>BOULDER 2 CO US</td>\n",
       "      <td>1650.5</td>\n",
       "      <td>40.03389</td>\n",
       "      <td>-105.28111</td>\n",
       "      <td>2003</td>\n",
       "      <td>34</td>\n",
       "    </tr>\n",
       "  </tbody>\n",
       "</table>\n",
       "</div>"
      ],
      "text/plain": [
       "        DATE  DAILY_PRECIP      STATION     STATION_NAME  ELEVATION  LATITUDE  \\\n",
       "0 2003-01-01          0.00  COOP:050843  BOULDER 2 CO US     1650.5  40.03389   \n",
       "1 2003-01-05        999.99  COOP:050843  BOULDER 2 CO US     1650.5  40.03389   \n",
       "2 2003-02-01          0.00  COOP:050843  BOULDER 2 CO US     1650.5  40.03389   \n",
       "3 2003-02-02        999.99  COOP:050843  BOULDER 2 CO US     1650.5  40.03389   \n",
       "4 2003-02-03          0.40  COOP:050843  BOULDER 2 CO US     1650.5  40.03389   \n",
       "\n",
       "   LONGITUDE  YEAR  JULIAN  \n",
       "0 -105.28111  2003       1  \n",
       "1 -105.28111  2003       5  \n",
       "2 -105.28111  2003      32  \n",
       "3 -105.28111  2003      33  \n",
       "4 -105.28111  2003      34  "
      ]
     },
     "execution_count": 6,
     "metadata": {},
     "output_type": "execute_result"
    }
   ],
   "source": [
    "# In the previous lesson we downloaded the data using the code below. \n",
    "#urllib.request.urlretrieve(url='https://ndownloader.figshare.com/files/7283285', \n",
    "#                           filename= 'data/week2/805325-precip-dailysum_2003-2013.csv')\n",
    "\n",
    "\n",
    "# read the data into python\n",
    "boulder_daily_precip = pd.read_csv('data/week2/precipitation/805325-precip-dailysum-2003-2013.csv', \n",
    "                                   parse_dates=['DATE'])\n",
    "# view first 5 rows\n",
    "boulder_daily_precip.head()"
   ]
  },
  {
   "cell_type": "code",
   "execution_count": 38,
   "metadata": {},
   "outputs": [
    {
     "data": {
      "text/plain": [
       "DATE            datetime64[ns]\n",
       "DAILY_PRECIP           float64\n",
       "STATION                 object\n",
       "STATION_NAME            object\n",
       "ELEVATION              float64\n",
       "LATITUDE               float64\n",
       "LONGITUDE              float64\n",
       "YEAR                     int64\n",
       "JULIAN                   int64\n",
       "dtype: object"
      ]
     },
     "execution_count": 38,
     "metadata": {},
     "output_type": "execute_result"
    }
   ],
   "source": [
    "# view structure of data\n",
    "boulder_daily_precip.dtypes"
   ]
  },
  {
   "cell_type": "code",
   "execution_count": 39,
   "metadata": {},
   "outputs": [
    {
     "data": {
      "text/plain": [
       "count    792.000000\n",
       "mean       5.297045\n",
       "std       70.915223\n",
       "min        0.000000\n",
       "25%        0.100000\n",
       "50%        0.100000\n",
       "75%        0.300000\n",
       "max      999.990000\n",
       "Name: DAILY_PRECIP, dtype: float64"
      ]
     },
     "execution_count": 39,
     "metadata": {},
     "output_type": "execute_result"
    }
   ],
   "source": [
    "# view summary stats for the precip data - note the max value\n",
    "boulder_daily_precip['DAILY_PRECIP'].describe()\n"
   ]
  },
  {
   "cell_type": "code",
   "execution_count": 8,
   "metadata": {},
   "outputs": [
    {
     "data": {
      "text/plain": [
       "999.99000000000001"
      ]
     },
     "execution_count": 8,
     "metadata": {},
     "output_type": "execute_result"
    }
   ],
   "source": [
    "# view max value\n",
    "boulder_daily_precip['DAILY_PRECIP'].max()"
   ]
  },
  {
   "cell_type": "markdown",
   "metadata": {},
   "source": [
    "### About the Data\n",
    "\n",
    "Viewing the structure of these data, we can see that different types of data are included in\n",
    "this file.\n",
    "\n",
    "* **STATION** and **STATION_NAME**: Identification of the COOP station.\n",
    "* **ELEVATION, LATITUDE** and **LONGITUDE**: The spatial location of the station.\n",
    "* **DATE**: The date when the data were collected in the format: YYYYMMDD. Notice that DATE is\n",
    "currently class `chr`, meaning the data is interpreted as a character class and\n",
    "not as a date.\n",
    "* **DAILY_PRECIP**: The total precipitation in inches. Important: the metadata\n",
    "notes that the value 999.99 indicates missing data. Also important,\n",
    "hours with no precipitation are not recorded.\n",
    "* **YEAR**: the year the data were collected\n",
    "* **JULIAN**: the JULIAN DAY the data were collected.\n",
    "\n",
    "\n",
    "Additional information about the data, known as metadata, is available in the\n",
    "<a href=\"https://ndownloader.figshare.com/files/7283453\">PRECIP_HLY_documentation.pdf</a>.\n",
    "The metadata tell us that the noData value for these data is 999.99. IMPORTANT:\n",
    "we have modified these data a bit for ease of teaching and learning. Specifically,\n",
    "we've aggregated the data to represent daily sum values and added some noData\n",
    "values to ensure you learn how to clean them!\n",
    "\n",
    "You can download the original complete data subset with additional documentation\n",
    "<a href=\"https://figshare.com/articles/NEON_Remote_Sensing_Boulder_Flood_2013_Teaching_Data_Subset_Lee_Hill_Road/3146284\">here. </a>\n",
    "\n",
    "<div class=\"notice--warning\" markdown=\"1\">\n",
    "\n",
    "## <i class=\"fa fa-pencil-square-o\" aria-hidden=\"true\"></i> Optional challenge\n",
    "\n",
    "Using everything you've learned in the previous lessons:\n",
    "\n",
    "* Import the dataset: `data/week2/precipitation/805325-precip-dailysum-2003-2013.csv`\n",
    "* Clean the data by assigning noData values to `NA`\n",
    "* Make sure the date column is a date class\n",
    "* When you are done, plot it using `ggplot()`.\n",
    "  * Be sure to include a TITLE, and label the X and Y axes.\n",
    "  * Change the color of the plotted points\n",
    "\n",
    "Some notes to help you along:\n",
    "\n",
    "* Date: be sure to take of the date format when you import the data.\n",
    "* NoData Values: We know that the no data value = 999.99. We can account for this\n",
    "when we read in the data. Remember how?\n",
    "\n",
    "Your final plot should look something like the plot below.\n",
    "</div>"
   ]
  },
  {
   "cell_type": "code",
   "execution_count": 33,
   "metadata": {
    "tags": [
     "hide"
    ]
   },
   "outputs": [
    {
     "data": {
      "text/plain": [
       "<matplotlib.text.Text at 0x10bd4e6a0>"
      ]
     },
     "execution_count": 33,
     "metadata": {},
     "output_type": "execute_result"
    },
    {
     "data": {
      "image/png": "[encoded data removed]",
      "text/plain": [
       "<matplotlib.figure.Figure at 0x1100121d0>"
      ]
     },
     "metadata": {},
     "output_type": "display_data"
    }
   ],
   "source": [
    "# this code chunk needs to be hidden but show the final plot! this is a challenge exercise \n",
    "# so i want to show the plot so they know what the final should look like. \n",
    "# import the data specifying the na_value \n",
    "boulder_daily_precip = pd.read_csv('data/week2/precipitation/805325-precip-dailysum-2003-2013.csv', \n",
    "                                   parse_dates=['DATE'],\n",
    "                                   na_values=[999.99])\n",
    "\n",
    "# set figure size\n",
    "from pylab import rcParams\n",
    "rcParams['figure.figsize'] = 10, 7\n",
    "# plot the data \n",
    "fig, ax = plt.subplots()\n",
    "# note the use of .values here...\n",
    "ax.scatter(boulder_daily_precip['DATE'].values, boulder_daily_precip['DAILY_PRECIP'].values)\n",
    "#ax.set(xlabel=\"Date\", \n",
    "#       ylabel=\"Precipitation (Inches)\", \n",
    "#       title=\"\");\n",
    "# can i setup some sort of template to control all of the sizes?\n",
    "fig.suptitle('Hourly Precipitation - Boulder Station\\n 2003-2013', fontsize=20)\n",
    "plt.xlabel('Date', fontsize=16)\n",
    "plt.ylabel('Precipitation (Inches)', fontsize=16)\n",
    "# can i make this plot bigger and prettier?? \n",
    "# can i get rid of the matplotlib message? "
   ]
  },
  {
   "cell_type": "markdown",
   "metadata": {},
   "source": [
    "\n",
    "<i fa fa-star></i>**Data Tip:** in case i want to keep this tip....\n",
    "{: .notice--success}\n",
    "\n",
    "\n",
    "<div class=\"notice--warning\" markdown=\"1\">\n",
    "## <i class=\"fa fa-pencil-square-o\" aria-hidden=\"true\"></i> Optional challenge\n",
    "\n",
    "Take a close look at the plot.\n",
    "\n",
    "* What does each point represent?\n",
    "* Use the `.min()` and `.max()` functions to determine the minimum and maximum precipitation values for the 10 year span.\n",
    "\n",
    "</div>\n",
    "\n",
    "## Subset the Data\n",
    "\n",
    "We can subset the data temporally, to focus in on a shorter time period. Let's \n",
    "create a subset of data for the time period around the flood between **15\n",
    "August to 15 October 2013**. We will use the pandas `.query()` function\n",
    "to do this.\n",
    "\n",
    "To subset by a range of dates, we specify the range as follows\n",
    "\n",
    "`DATE > \"2013-08-15\" and DATE <= \"2013-10-15\"`\n",
    "\n",
    "In the code above we are asking python to only select rows where the DATE value is greater than 2013-08-15 and less than 2013-10-15"
   ]
  },
  {
   "cell_type": "code",
   "execution_count": 35,
   "metadata": {},
   "outputs": [
    {
     "name": "stdout",
     "output_type": "stream",
     "text": [
      "2013-08-21 00:00:00\n",
      "2013-10-11 00:00:00\n"
     ]
    }
   ],
   "source": [
    "# subset the data \n",
    "precip_boulder_AugOct = boulder_daily_precip.query('DATE >= \"2013-08-15\" and DATE <= \"2013-10-15\"')\n",
    "# did it work? \n",
    "print(precip_boulder_AugOct['DATE'].min())\n",
    "print(precip_boulder_AugOct['DATE'].max())"
   ]
  },
  {
   "cell_type": "markdown",
   "metadata": {},
   "source": [
    "# is there a pipes equivalent in python?\n",
    "\n",
    "### Plot subsetted data\n",
    "\n",
    "Once we've subsetted the data, we can plot the data to focus in on the new time period.\n",
    "\n"
   ]
  },
  {
   "cell_type": "code",
   "execution_count": 55,
   "metadata": {},
   "outputs": [
    {
     "data": {
      "image/png": "[encoded data removed]",
      "text/plain": [
       "<matplotlib.figure.Figure at 0x1117f3860>"
      ]
     },
     "metadata": {},
     "output_type": "display_data"
    }
   ],
   "source": [
    "# create figure -- is this using pandas again?\n",
    "rcParams['figure.figsize'] = 8, 7\n",
    "fig, ax = plt.subplots()\n",
    "ax.bar(precip_boulder_AugOct['DATE'].values, precip_boulder_AugOct['DAILY_PRECIP'].values)\n",
    "#plt.setp(ax.get_xticklabels(), rotation=30)\n",
    "ax.set(xlim=[\"2013-08-01\", \"2013-11-01\"]);\n",
    "# add titles and format as you see fit\n",
    "fig.suptitle('Daily Total Precipitation \\nAug - Oct 2013 for Boulder Creek', fontsize=20)\n",
    "plt.xlabel('Date', fontsize=16)\n",
    "plt.ylabel('Precipitation (Inches)', fontsize=16)\n",
    "\n",
    "# looks like there is a date formater that we can use...\n",
    "\n",
    "# http://matplotlib.org/1.5.3/examples/pylab_examples/date_demo1.html\n",
    "# maybe make the tick labels larger too\n",
    "# format the ticks -- this should be included in the previous lesson\n",
    "from matplotlib.dates import YearLocator, MonthLocator, DateFormatter\n",
    "months = MonthLocator()  # every month\n",
    "yearsFmt = DateFormatter('%b %d')\n",
    "ax.xaxis.set_major_locator(months)\n",
    "ax.xaxis.set_major_formatter(yearsFmt)\n",
    "ax.xaxis.set_minor_locator(months)\n",
    "ax.autoscale_view()"
   ]
  },
  {
   "cell_type": "markdown",
   "metadata": {},
   "source": [
    "<div class=\"notice--warning\" markdown=\"1\">\n",
    "\n",
    "## <i class=\"fa fa-pencil-square-o\" aria-hidden=\"true\"></i> Challenge\n",
    "\n",
    "Create a subset from the `boulder_daily_precip` data using the same date range in 2012 to compare to the 2013 plot.\n",
    "Use the ylim() argument to ensure the y axis range is the SAME as the previous\n",
    "plot - from 0 to 10\".\n",
    "\n",
    "How different was the rainfall in 2012?\n",
    "\n",
    "HINT: type `?lims` in the console to see how the `xlim` and `ylim` arguments work.\n",
    "\n",
    "\n",
    "</div>"
   ]
  },
  {
   "cell_type": "code",
   "execution_count": 63,
   "metadata": {
    "tags": [
     "hide"
    ]
   },
   "outputs": [
    {
     "data": {
      "image/png": "[encoded data removed]",
      "text/plain": [
       "<matplotlib.figure.Figure at 0x111a07438>"
      ]
     },
     "metadata": {},
     "output_type": "display_data"
    }
   ],
   "source": [
    "# hide this code from the students but show the output plot\n",
    "# how can i create a panel of two subsets in matplot lib?\n",
    "precip_boulder_AugOct_2 = boulder_daily_precip.query('DATE > \"2012-08-15\" and DATE <= \"2012-10-15\"')\n",
    "fig, ax = plt.subplots()\n",
    "ax.bar(precip_boulder_AugOct_2012['DATE'].values, precip_boulder_AugOct_2012['DAILY_PRECIP'].values)\n",
    "\n",
    "ax.set(xlabel=\"Date\", ylabel=\"Precipitation (inches)\",\n",
    "       title=\"Daily Total Precipitation Aug - Oct 2012 for Boulder Creek\",\n",
    "       xlim=[\"2012-08-01\", \"2012-11-01\"],\n",
    "       ylim=[0,10])\n",
    "# be sure to format the dates properly\n",
    "ax.xaxis.set_major_locator(months)\n",
    "ax.xaxis.set_major_formatter(yearsFmt)\n",
    "ax.xaxis.set_minor_locator(months)\n",
    "ax.autoscale_view()"
   ]
  },
  {
   "cell_type": "markdown",
   "metadata": {},
   "source": [
    "# to customize / template\n",
    "\n",
    "https://stackoverflow.com/questions/12444716/how-do-i-set-the-figure-title-and-axes-labels-font-size-in-matplotlib\n",
    "\n",
    "# want to add universal styles so i don't have to set the font sizes, etc each time. "
   ]
  },
  {
   "cell_type": "code",
   "execution_count": 73,
   "metadata": {},
   "outputs": [
    {
     "data": {
      "image/png": "[encoded data removed]",
      "text/plain": [
       "<matplotlib.figure.Figure at 0x1119dc128>"
      ]
     },
     "metadata": {},
     "output_type": "display_data"
    }
   ],
   "source": [
    "rcParams['figure.figsize'] = 9, 10\n",
    "\n",
    "plt.figure(1) \n",
    "ax=plt.subplot(211)\n",
    "ax.bar(precip_boulder_AugOct['DATE'].values, precip_boulder_AugOct['DAILY_PRECIP'].values)\n",
    "#plt.setp(ax.get_xticklabels(), rotation=30)\n",
    "ax.set(xlim=[\"2013-08-01\", \"2013-11-01\"]);\n",
    "# add titles and format  - why isn't the title showing up here??\n",
    "fig.suptitle('Daily Total Precipitation \\nAug - Oct 2013 for Boulder Creek', fontsize=20)\n",
    "plt.xlabel('Date', fontsize=16)\n",
    "plt.ylabel('Precipitation (Inches)', fontsize=16)\n",
    "\n",
    "# format the ticks -- this should be included in the previous lesson\n",
    "from matplotlib.dates import YearLocator, MonthLocator, DateFormatter\n",
    "months = MonthLocator()  # every month\n",
    "yearsFmt = DateFormatter('%b %d')\n",
    "ax.xaxis.set_major_locator(months)\n",
    "ax.xaxis.set_major_formatter(yearsFmt)\n",
    "ax.xaxis.set_minor_locator(months)\n",
    "ax.autoscale_view()\n",
    "\n",
    "ax=plt.subplot(212)\n",
    "ax.bar(precip_boulder_AugOct_2012['DATE'].values, precip_boulder_AugOct_2012['DAILY_PRECIP'].values)\n",
    "\n",
    "ax.set(xlabel=\"Date\", ylabel=\"Precipitation (inches)\",\n",
    "       title=\"Daily Total Precipitation Aug - Oct 2012 for Boulder Creek\",\n",
    "       xlim=[\"2012-08-01\", \"2012-11-01\"],\n",
    "       ylim=[0,10])\n",
    "# be sure to format the dates properly\n",
    "ax.xaxis.set_major_locator(months)\n",
    "ax.xaxis.set_major_formatter(yearsFmt)\n",
    "ax.xaxis.set_minor_locator(months)\n",
    "ax.autoscale_view()"
   ]
  }
 ],
 "metadata": {
  "celltoolbar": "Tags",
  "kernelspec": {
   "display_name": "Python 3",
   "language": "python",
   "name": "python3"
  },
  "language_info": {
   "codemirror_mode": {
    "name": "ipython",
    "version": 3
   },
   "file_extension": ".py",
   "mimetype": "text/x-python",
   "name": "python",
   "nbconvert_exporter": "python",
   "pygments_lexer": "ipython3",
   "version": "3.6.0"
  },
  "toc": {
   "toc_cell": false,
   "toc_number_sections": false,
   "toc_threshold": "2",
   "toc_window_display": false
  }
 },
 "nbformat": 4,
 "nbformat_minor": 2
}
