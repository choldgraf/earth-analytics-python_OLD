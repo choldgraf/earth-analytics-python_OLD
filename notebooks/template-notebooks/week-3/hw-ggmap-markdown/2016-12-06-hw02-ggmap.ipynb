{
 "cells": [
  {
   "cell_type": "raw",
   "metadata": {},
   "source": [
    "---\n",
    "layout: single\n",
    "title: \"Add a basemap to a R markdown report using ggmap\"\n",
    "excerpt: \".\"\n",
    "authors: ['Leah Wasser']\n",
    "modified: '{:%Y-%m-%d}'.format(datetime.now())\n",
    "category: [course-materials]\n",
    "class-lesson: ['hw-lidar-r']\n",
    "permalink: /course-materials/earth-analytics/week-3/ggmap-basemap/\n",
    "nav-title: 'Create ggmap basemap'\n",
    "week: 3\n",
    "sidebar:\n",
    "  nav:\n",
    "author_profile: false\n",
    "comments: true\n",
    "order: 2\n",
    "---\n"
   ]
  },
  {
   "cell_type": "markdown",
   "metadata": {},
   "source": [
    "\n",
    "\n",
    "{% include toc title=\"In This Lesson\" icon=\"file-text\" %}\n",
    "\n",
    "\n",
    "\n",
    "\n",
    "\n",
    "<div class='notice--success' markdown=\"1\">\n",
    "\n",
    "\n",
    "\n",
    "## <i class=\"fa fa-graduation-cap\" aria-hidden=\"true\"></i> Learning Objectives\n",
    "\n",
    "\n",
    "\n",
    "After completing this tutorial, you will be able to:\n",
    "\n",
    "\n",
    "\n",
    "* Create a quick basemap using ggmap OR\n",
    "\n",
    "* Create a quick basemap using the maps package\n",
    "\n",
    "\n",
    "\n",
    "## <i class=\"fa fa-check-square-o fa-2\" aria-hidden=\"true\"></i> What you need\n",
    "\n",
    "\n",
    "\n",
    "You need `R` and `RStudio` to complete this tutorial. Also you should have\n",
    "\n",
    "an `earth-analytics` directory setup on your computer with a `/data`\n",
    "\n",
    "directory with it.\n",
    "\n",
    "\n",
    "\n",
    "* install **devtools**: `install.packages('devtools')`\n",
    "\n",
    "* install **ggmap** from github: `devtools::install_github(\"dkahle/ggmap\")`\n",
    "\n",
    "* install **maps**: `install.packages('maps')`\n",
    "\n",
    "\n",
    "\n",
    "* [How to Setup R / RStudio](/course-materials/earth-analytics/week-1/setup-r-rstudio/)\n",
    "\n",
    "* [Setup your working directory](/course-materials/earth-analytics/week-1/setup-working-directory/)\n",
    "\n",
    "\n",
    "\n",
    "</div>\n",
    "\n",
    "\n",
    "\n",
    "\n"
   ]
  },
  {
   "cell_type": "code",
   "execution_count": 1,
   "metadata": {
    "collapsed": true
   },
   "outputs": [],
   "source": [
    "```{r ggmap-setup }\n",
    "\n",
    "# install devtools\n",
    "\n",
    "#install.packages(\"devtools\")\n",
    "\n",
    "# install ggmap from dev space\n",
    "\n",
    "# devtools::install_github(\"dkahle/ggmap\")\n",
    "\n",
    "\n",
    "\n",
    "library(ggmap)\n",
    "\n",
    "```\n"
   ]
  },
  {
   "cell_type": "markdown",
   "metadata": {},
   "source": [
    "\n",
    "\n",
    "## Create basemap\n",
    "\n",
    "\n",
    "\n",
    "First, let's create a basemap that shows the location of our stream gage.\n",
    "\n",
    "\n",
    "\n",
    "\n"
   ]
  },
  {
   "cell_type": "code",
   "execution_count": 1,
   "metadata": {
    "collapsed": true
   },
   "outputs": [],
   "source": [
    "```{r create-base-map, fig.cap=\"ggmap base plot\" }\n",
    "\n",
    "myMap <- get_map(location = \"Boulder, Colorado\",\n",
    "\n",
    "          source=\"google\",\n",
    "\n",
    "          maptype=\"terrain\", crop=FALSE,\n",
    "\n",
    "          zoom=6)\n",
    "\n",
    "# plot map\n",
    "\n",
    "ggmap(myMap)\n",
    "\n",
    "\n",
    "\n",
    "```\n"
   ]
  },
  {
   "cell_type": "markdown",
   "metadata": {},
   "source": [
    "\n",
    "\n",
    "Next, let's add a point to our map representing the location of our actual stream\n",
    "\n",
    "gage data.\n",
    "\n",
    "\n",
    "\n",
    "Latitude: 40.051667\n",
    "\n",
    "Longitude: 105.178333\n",
    "\n",
    "\n",
    "\n",
    "USGS gage 06730200\n",
    "\n",
    "40°03'06\"\t105°10'42\"\n",
    "\n",
    "\n"
   ]
  },
  {
   "cell_type": "code",
   "execution_count": 1,
   "metadata": {
    "collapsed": true
   },
   "outputs": [],
   "source": [
    "```{r add-points-to-map, fig.cap=\"ggmap with location point on it. \" }\n",
    "\n",
    "# add points to your map\n",
    "\n",
    "# creating a sample data.frame with your lat/lon points\n",
    "\n",
    "lon <- c(-105.178333)\n",
    "\n",
    "lat <- c(40.051667)\n",
    "\n",
    "df <- as.data.frame(cbind(lon,lat))\n",
    "\n",
    "\n",
    "\n",
    "# create a map with a point location for boulder.\n",
    "\n",
    "ggmap(myMap) + labs(x = \"\", y = \"\") +\n",
    "\n",
    "  geom_point(data = df, aes(x = lon, y = lat, fill = \"red\", alpha = 0.2), size = 5, shape = 19) +\n",
    "\n",
    "  guides(fill=FALSE, alpha=FALSE, size=FALSE)\n",
    "\n",
    "\n",
    "\n",
    "\n",
    "\n",
    "```\n"
   ]
  },
  {
   "cell_type": "markdown",
   "metadata": {},
   "source": [
    "\n",
    "\n",
    "## Alternative - maps package\n",
    "\n",
    "\n",
    "\n",
    "If you can't install ggmap, you can also create nice basemaps using the maps \n",
    "\n",
    "package. THe maps package allows you to quickly create basemaps of a study areas.\n",
    "\n",
    "It utilizes a set of vector based layers including layers that map\n",
    "\n",
    "\n",
    "\n",
    "* countries across the globe\n",
    "\n",
    "* the United States and associated counties\n",
    "\n",
    "* and more\n",
    "\n",
    "\n",
    "\n",
    "You can use the Maps package, combined with the R base plot functions to add \n",
    "\n",
    "base layers to your map.\n",
    "\n",
    "\n"
   ]
  },
  {
   "cell_type": "code",
   "execution_count": 1,
   "metadata": {
    "collapsed": true
   },
   "outputs": [],
   "source": [
    "```{r load-maps-package}\n",
    "\n",
    "\n",
    "\n",
    "#install.packages('maps')\n",
    "\n",
    "library(maps)\n",
    "\n",
    "```\n"
   ]
  },
  {
   "cell_type": "markdown",
   "metadata": {},
   "source": [
    "\n",
    "\n",
    "## Create a basic map of the United States\n",
    "\n",
    "\n"
   ]
  },
  {
   "cell_type": "code",
   "execution_count": 1,
   "metadata": {
    "collapsed": true
   },
   "outputs": [],
   "source": [
    "```{r create-us-map, fig.cap=\"vector map of the US\"}\n",
    "\n",
    "map('state')\n",
    "\n",
    "# add a title to your map\n",
    "\n",
    "title('Map of the United States')\n",
    "\n",
    "```\n"
   ]
  },
  {
   "cell_type": "markdown",
   "metadata": {},
   "source": [
    "\n",
    "\n",
    "Customize colors. \n"
   ]
  },
  {
   "cell_type": "code",
   "execution_count": 1,
   "metadata": {
    "collapsed": true
   },
   "outputs": [],
   "source": [
    "```{r create-us-map-colors, fig.cap=\"vector map of the US with colors\"}\n",
    "\n",
    "map('state', col=\"darkgray\", fill=TRUE, border=\"white\")\n",
    "\n",
    "# add a title to your map\n",
    "\n",
    "title('Map of the United States')\n",
    "\n",
    "```\n"
   ]
  },
  {
   "cell_type": "markdown",
   "metadata": {},
   "source": [
    "\n",
    "\n",
    "Create a map of Colorado with county boundaries.\n",
    "\n",
    "\n"
   ]
  },
  {
   "cell_type": "code",
   "execution_count": 1,
   "metadata": {
    "collapsed": true
   },
   "outputs": [],
   "source": [
    "```{r create-CO-map-colors, fig.cap=\"vector map of the CO with colors\"}\n",
    "\n",
    "map('county', regions=\"Colorado\", col=\"darkgray\", fill=TRUE, border=\"grey80\")\n",
    "\n",
    "map('state', regions=\"Colorado\", col=\"black\", add=T)\n",
    "\n",
    "# add the x, y location of the stream guage using the points \n",
    "\n",
    "# notice i used two colors adn sized to may the symbol look a little brighter\n",
    "\n",
    "points(x=-105.178333, y=40.051667, pch=21, col=\"violetred4\", cex=2)\n",
    "\n",
    "points(x=-105.178333, y=40.051667, pch=8, col=\"white\", cex=1.3)\n",
    "\n",
    "# add a title to your map\n",
    "\n",
    "title('County Map of Colorado\\nStream gage location')\n",
    "\n",
    "```\n"
   ]
  },
  {
   "cell_type": "markdown",
   "metadata": {},
   "source": [
    "\n",
    "\n",
    "You can stack several map layers using `add=TRUE`. Notice you can create multi-line\n",
    "\n",
    "titles using `\\n`.\n",
    "\n",
    "\n"
   ]
  },
  {
   "cell_type": "code",
   "execution_count": 1,
   "metadata": {
    "collapsed": true
   },
   "outputs": [],
   "source": [
    "```{r create-map, fig.cap=\"Create final map\"}\n",
    "\n",
    "\n",
    "\n",
    "map('state', fill=TRUE, col=\"darkgray\", border=\"white\", lwd=1)\n",
    "\n",
    "map(database = \"usa\", lwd=1, add=T)\n",
    "\n",
    "# add the adjacent parts of the US; can't forget my homeland\n",
    "\n",
    "map(\"state\",\"colorado\", col=\"springgreen\", \n",
    "\n",
    "    lwd=1, fill=TRUE, add=TRUE)  \n",
    "\n",
    "# add gage location\n",
    "\n",
    "title(\"Stream gage location\\nBoulder, Colorado\")\n",
    "\n",
    "# add the x, y location of hte stream guage using the points \n",
    "\n",
    "points(x=-105.178333, y=40.051667, pch=8, col=\"red\", cex=1.3)\n",
    "\n",
    "```\n"
   ]
  }
 ],
 "metadata": {
  "kernelspec": {
   "display_name": "Python 3",
   "language": "python",
   "name": "python3"
  },
  "language_info": {
   "codemirror_mode": {
    "name": "ipython",
    "version": 3
   },
   "file_extension": ".py",
   "mimetype": "text/x-python",
   "name": "python",
   "nbconvert_exporter": "python",
   "pygments_lexer": "ipython3",
   "version": "3.6.0"
  }
 },
 "nbformat": 4,
 "nbformat_minor": 2
}
