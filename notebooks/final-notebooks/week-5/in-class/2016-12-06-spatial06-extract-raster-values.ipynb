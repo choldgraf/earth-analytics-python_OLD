{
 "cells": [
  {
   "cell_type": "raw",
   "metadata": {
    "deletable": true,
    "editable": true
   },
   "source": [
    "---\n",
    "layout: single\n",
    "title: \"Extract raster values using vector boundaries in R\"\n",
    "excerpt: \"This lesson reviews how to extract data from a raster dataset using a\n",
    "vector dataset. \"\n",
    "authors: ['Leah Wasser']\n",
    "modified: '{:%Y-%m-%d}'.format(datetime.now())\n",
    "category: [course-materials]\n",
    "class-lesson: ['class-intro-spatial-r']\n",
    "permalink: /course-materials/earth-analytics/week-5/extract-data-from-raster/\n",
    "nav-title: 'Extract data from raster'\n",
    "week: 5\n",
    "sidebar:\n",
    "  nav:\n",
    "author_profile: false\n",
    "comments: true\n",
    "order: 6\n",
    "---\n"
   ]
  },
  {
   "cell_type": "markdown",
   "metadata": {
    "deletable": true,
    "editable": true
   },
   "source": [
    "\n",
    "\n",
    "{% include toc title=\"In This Lesson\" icon=\"file-text\" %}\n",
    "\n",
    "\n",
    "\n",
    "<div class='notice--success' markdown=\"1\">\n",
    "\n",
    "\n",
    "\n",
    "## <i class=\"fa fa-graduation-cap\" aria-hidden=\"true\"></i> Learning Objectives\n",
    "\n",
    "\n",
    "\n",
    "After completing this tutorial, you will be able to:\n",
    "\n",
    "\n",
    "\n",
    "* Use the `extract()` function to extract raster values using a vector extent or set of extents.\n",
    "\n",
    "* Create a scatter plot with a one to one line in `R`.\n",
    "\n",
    "* Understand the concept of uncertainty as it's associated with remote sensing data.\n",
    "\n",
    "\n",
    "\n",
    "## <i class=\"fa fa-check-square-o fa-2\" aria-hidden=\"true\"></i> What you need\n",
    "\n",
    "\n",
    "\n",
    "You will need a computer with internet access to complete this lesson and the data for week 5 of the course.\n",
    "\n",
    "\n",
    "\n",
    "[<i class=\"fa fa-download\" aria-hidden=\"true\"></i> Download Week 5 Data (~500 MB)](https://ndownloader.figshare.com/files/7525363){:data-proofer-ignore='' .btn }\n",
    "\n",
    "\n",
    "\n",
    "\n",
    "\n",
    "</div>\n",
    "\n",
    "\n",
    "\n",
    "\n"
   ]
  },
  {
   "cell_type": "code",
   "execution_count": 1,
   "metadata": {
    "collapsed": true,
    "deletable": true,
    "editable": true
   },
   "outputs": [],
   "source": [
    "```{r import-plot-DSM, warning=FALSE}\n",
    "\n",
    "# load libraries\n",
    "\n",
    "library(raster)\n",
    "\n",
    "library(rgdal)\n",
    "\n",
    "library(rgeos)\n",
    "\n",
    "library(ggplot2)\n",
    "\n",
    "library(dplyr)\n",
    "\n",
    "\n",
    "\n",
    "options(stringsAsFactors = FALSE)\n",
    "\n",
    "\n",
    "\n",
    "# set working directory\n",
    "\n",
    "# setwd(\"path-here/earth-analytics\")\n",
    "\n",
    "```\n"
   ]
  },
  {
   "cell_type": "markdown",
   "metadata": {
    "deletable": true,
    "editable": true
   },
   "source": [
    "\n",
    "\n",
    "## Import Canopy Height Model\n",
    "\n",
    "\n",
    "\n",
    "First, we will import a canopy height model created by the NEON project. In the\n",
    "\n",
    "previous lessons / weeks we learned how to make a canopy height model by\n",
    "\n",
    "subtracting the Digital elevation model (DEM) from the Digital surface model (DSM).\n",
    "\n",
    "\n"
   ]
  },
  {
   "cell_type": "code",
   "execution_count": 16,
   "metadata": {
    "collapsed": true
   },
   "outputs": [],
   "source": [
    "import numpy as np\n",
    "import rasterio as rio\n",
    "import matplotlib.pyplot as plt\n",
    "plt.ion()"
   ]
  },
  {
   "cell_type": "code",
   "execution_count": 34,
   "metadata": {
    "collapsed": false
   },
   "outputs": [
    {
     "data": {
      "text/plain": [
       "(array([  1.00000000e+00,   0.00000000e+00,   0.00000000e+00,\n",
       "          0.00000000e+00,   0.00000000e+00,   0.00000000e+00,\n",
       "          0.00000000e+00,   0.00000000e+00,   0.00000000e+00,\n",
       "          2.17334630e+07]),\n",
       " array([-9999.        , -8994.51200027, -7990.02400055, -6985.53600082,\n",
       "        -5981.0480011 , -4976.56000137, -3972.07200165, -2967.58400192,\n",
       "        -1963.0960022 ,  -958.60800247,    45.87999725]),\n",
       " <a list of 10 Patch objects>)"
      ]
     },
     "execution_count": 34,
     "metadata": {},
     "output_type": "execute_result"
    },
    {
     "data": {
      "image/png": "[encoded data removed]",
      "text/plain": [
       "<matplotlib.figure.Figure at 0x1437c1a58>"
      ]
     },
     "metadata": {},
     "output_type": "display_data"
    }
   ],
   "source": [
    "SJER_chm = rio.open('../../../../../../../data/week05/california/SJER/2013/lidar/SJER_lidarCHM.tif')\n",
    "bounds = SJER_chm.bounds\n",
    "data = SJER_chm.read()\n",
    "\n",
    "fig, ax = plt.subplots()\n",
    "ax.hist(data.ravel())\n",
    "\n",
    "# ```{r import-chm, fig.cap=\"Histogram of CHM values\"}\n",
    "\n",
    "# # import canopy height model (CHM).\n",
    "\n",
    "# SJER_chm <- raster(\"data/week5/california/SJER/2013/lidar/SJER_lidarCHM.tif\")\n",
    "\n",
    "# SJER_chm\n",
    "\n",
    "\n",
    "\n",
    "# # plot the data\n",
    "\n",
    "# hist(SJER_chm,\n",
    "\n",
    "#      main=\"Histogram of Canopy Height\\n NEON SJER Field Site\",\n",
    "\n",
    "#      col=\"springgreen\",\n",
    "\n",
    "#      xlab=\"Height (m)\")\n",
    "\n",
    "\n",
    "\n",
    "# ```\n"
   ]
  },
  {
   "cell_type": "markdown",
   "metadata": {
    "deletable": true,
    "editable": true
   },
   "source": [
    "\n",
    "\n",
    "\n",
    "\n",
    "There are a lot of values in our CHM that == 0. Let's set those to `NA` and plot\n",
    "\n",
    "again.\n",
    "\n",
    "\n"
   ]
  },
  {
   "cell_type": "code",
   "execution_count": 25,
   "metadata": {
    "collapsed": false
   },
   "outputs": [
    {
     "data": {
      "text/plain": [
       "(array([  1.88095100e+06,   2.31442800e+06,   5.17942000e+05,\n",
       "          2.73809000e+05,   1.13669000e+05,   1.97720000e+04,\n",
       "          1.07300000e+03,   3.30000000e+01,   0.00000000e+00,\n",
       "          9.00000000e+00]),\n",
       " array([  2.        ,   6.38799973,  10.77599945,  15.16399918,\n",
       "         19.5519989 ,  23.93999863,  28.32799835,  32.71599808,\n",
       "         37.1039978 ,  41.49199753,  45.87999725]),\n",
       " <a list of 10 Patch objects>)"
      ]
     },
     "execution_count": 25,
     "metadata": {},
     "output_type": "execute_result"
    },
    {
     "data": {
      "image/png": "[encoded data removed]",
      "text/plain": [
       "<matplotlib.figure.Figure at 0x134e62160>"
      ]
     },
     "metadata": {},
     "output_type": "display_data"
    }
   ],
   "source": [
    "data_ravel = data.ravel()\n",
    "data_ravel = data_ravel[data_ravel > 0]\n",
    "fig, ax = plt.subplots()\n",
    "ax.hist(data_ravel)\n",
    "\n",
    "# ```{r view-histogram-na-0, fig.cap=\"histogram of chm values\"}\n",
    "\n",
    "\n",
    "\n",
    "# # set values of 0 to NA as these are not trees\n",
    "\n",
    "# SJER_chm[SJER_chm==0] <- NA\n",
    "\n",
    "\n",
    "\n",
    "# # plot the modified data\n",
    "\n",
    "# hist(SJER_chm,\n",
    "\n",
    "#      main=\"Histogram of Canopy Height\\n pixels==0 set to NA\",\n",
    "\n",
    "#      col=\"springgreen\",\n",
    "\n",
    "#      xlab=\"Height (m)\")\n",
    "\n",
    "\n",
    "\n",
    "# ```\n"
   ]
  },
  {
   "cell_type": "markdown",
   "metadata": {
    "deletable": true,
    "editable": true
   },
   "source": [
    "\n",
    "\n",
    "## Part 2. Does our CHM data compare to field measured tree heights?\n",
    "\n",
    "\n",
    "\n",
    "We now have a canopy height model for our study area in California. However, how\n",
    "\n",
    "do the height values extracted from the CHM compare to our laboriously collected,\n",
    "\n",
    "field measured canopy height data? To figure this out, we will use *in situ* collected\n",
    "\n",
    "tree height data, measured within circular plots across our study area. We will compare\n",
    "\n",
    "the maximum measured tree height value to the maximum LiDAR derived height value\n",
    "\n",
    "for each circular plot using regression.\n",
    "\n",
    "\n",
    "\n",
    "For this activity, we will use the a `csv` (comma separate value) file,\n",
    "\n",
    "located in `SJER/2013/insitu/veg_structure/D17_2013_SJER_vegStr.csv`.\n",
    "\n",
    "\n"
   ]
  },
  {
   "cell_type": "code",
   "execution_count": 31,
   "metadata": {
    "collapsed": true
   },
   "outputs": [],
   "source": [
    "import geopandas as gpd\n",
    "from rasterio import plot as riop"
   ]
  },
  {
   "cell_type": "code",
   "execution_count": 27,
   "metadata": {
    "collapsed": true
   },
   "outputs": [],
   "source": [
    "SJER_plots = gpd.read_file('../../../../../../../data/week05/california/SJER/vector_data/SJER_plot_centroids.shp')"
   ]
  },
  {
   "cell_type": "code",
   "execution_count": 37,
   "metadata": {
    "collapsed": false
   },
   "outputs": [
    {
     "data": {
      "text/plain": [
       "BoundingBox(left=254571.0, bottom=4107303.0, right=258867.0, top=4112362.0)"
      ]
     },
     "execution_count": 37,
     "metadata": {},
     "output_type": "execute_result"
    }
   ],
   "source": []
  },
  {
   "cell_type": "code",
   "execution_count": 41,
   "metadata": {
    "collapsed": false
   },
   "outputs": [
    {
     "data": {
      "text/plain": [
       "[<matplotlib.text.Text at 0x1643dbb70>]"
      ]
     },
     "execution_count": 41,
     "metadata": {},
     "output_type": "execute_result"
    },
    {
     "data": {
      "image/png": "[encoded data removed]",
      "text/plain": [
       "<matplotlib.figure.Figure at 0x16436da90>"
      ]
     },
     "metadata": {},
     "output_type": "display_data"
    }
   ],
   "source": [
    "fig, ax = plt.subplots()\n",
    "ax.imshow(SJER_chm.read()[0], extent=[bounds.left, bounds.right, bounds.bottom, bounds.top],\n",
    "          vmin=data_ravel.min(), vmax=data_ravel.max())\n",
    "SJER_plots.plot(ax=ax, markersize=50, color='r')\n",
    "ax.set(title=\"SJER  Plot Locations\")"
   ]
  },
  {
   "cell_type": "code",
   "execution_count": 1,
   "metadata": {
    "collapsed": true,
    "deletable": true,
    "editable": true
   },
   "outputs": [],
   "source": [
    "```{r read-plot-data, fig.cap=\"canopy height model / plot locations plot\" }\n",
    "\n",
    "# import plot centroids\n",
    "\n",
    "SJER_plots <- readOGR(\"data/week5/california/SJER/vector_data\",\n",
    "\n",
    "                      \"SJER_plot_centroids\")\n",
    "\n",
    "\n",
    "\n",
    "# Overlay the centroid points and the stem locations on the CHM plot\n",
    "\n",
    "plot(SJER_chm,\n",
    "\n",
    "     main=\"SJER  Plot Locations\",\n",
    "\n",
    "     col=gray.colors(100, start=.3, end=.9))\n",
    "\n",
    "\n",
    "\n",
    "# pch 0 = square\n",
    "\n",
    "plot(SJER_plots,\n",
    "\n",
    "     pch = 16,\n",
    "\n",
    "     cex = 2,\n",
    "\n",
    "     col = 2,\n",
    "\n",
    "     add=TRUE)\n",
    "\n",
    "\n",
    "\n",
    "```\n"
   ]
  },
  {
   "cell_type": "markdown",
   "metadata": {
    "deletable": true,
    "editable": true
   },
   "source": [
    "\n",
    "\n",
    "### Extract CMH data within 20 m radius of each plot centroid.\n",
    "\n",
    "\n",
    "\n",
    "Next, we will create a boundary region (called a buffer) representing the spatial\n",
    "\n",
    "extent of each plot (where trees were measured). We will then extract all CHM pixels\n",
    "\n",
    "that fall within the plot boundary to use to estimate tree height for that plot.\n",
    "\n",
    "\n",
    "\n",
    "There are a few ways to go about this task. If our plots are circular, then we can\n",
    "\n",
    "use the `extract()` function.\n",
    "\n",
    "\n",
    "\n",
    "<figure>\n",
    "\n",
    "    <img src=\"{{ site.url }}/images/course-materials/earth-analytics/week-5/buffer-circular.png\" alt=\"buffer circular\">\n",
    "\n",
    "    <figcaption>The extract function in R allows you to specify a circular buffer\n",
    "\n",
    "    radius around an x,y point location. Values for all pixels in the specified\n",
    "\n",
    "    raster that fall within the circular buffer are extracted. In this case, we\n",
    "\n",
    "    will tell R to extract the maximum value of all pixels using the fun=max\n",
    "\n",
    "    command. Source: Colin Williams, NEON\n",
    "\n",
    "    </figcaption>\n",
    "\n",
    "</figure>\n",
    "\n",
    "\n",
    "\n",
    "### Extract Plot Data Using Circle: 20m Radius Plots\n",
    "\n",
    "\n"
   ]
  },
  {
   "cell_type": "code",
   "execution_count": 1,
   "metadata": {
    "collapsed": true,
    "deletable": true,
    "editable": true
   },
   "outputs": [],
   "source": [
    "```{r extract-plot-data }\n",
    "\n",
    "# Insitu sampling took place within 40m x 40m square plots, so we use a 20m radius.\n",
    "\n",
    "# Note that below will return a data.frame containing the max height\n",
    "\n",
    "# calculated from all pixels in the buffer for each plot\n",
    "\n",
    "SJER_height <- extract(SJER_chm,\n",
    "\n",
    "                    SJER_plots,\n",
    "\n",
    "                    buffer = 20, # specify a 20 m radius\n",
    "\n",
    "                    fun=mean, # extract the MEAN value from each plot\n",
    "\n",
    "                    sp=TRUE, # create spatial object\n",
    "\n",
    "                    stringsAsFactors=FALSE)\n",
    "\n",
    "\n",
    "\n",
    "```\n"
   ]
  },
  {
   "cell_type": "markdown",
   "metadata": {
    "deletable": true,
    "editable": true
   },
   "source": [
    "\n",
    "\n",
    "#### Explore The Data Distribution\n",
    "\n",
    "\n",
    "\n",
    "If you want to explore the data distribution of pixel height values in each plot,\n",
    "\n",
    "you could remove the `fun` call to max and generate a list.\n",
    "\n",
    "`cent_ovrList <- extract(chm,centroid_sp,buffer = 20)`. It's good to look at the\n",
    "\n",
    "distribution of values we've extracted for each plot. Then you could generate a\n",
    "\n",
    "histogram for each plot `hist(cent_ovrList[[2]])`. If we wanted, we could loop\n",
    "\n",
    "through several plots and create histograms using a `for loop`.\n",
    "\n",
    "\n"
   ]
  },
  {
   "cell_type": "code",
   "execution_count": 1,
   "metadata": {
    "collapsed": true,
    "deletable": true,
    "editable": true
   },
   "outputs": [],
   "source": [
    "```{r explore-data-distribution, eval=FALSE }\n",
    "\n",
    "# cent_ovrList <- extract(chm,centroid_sp,buffer = 20)\n",
    "\n",
    "# create histograms for the first 5 plots of data\n",
    "\n",
    "# for (i in 1:5) {\n",
    "\n",
    "#  hist(cent_ovrList[[i]], main=(paste(\"plot\",i)))\n",
    "\n",
    "#  }\n",
    "\n",
    "\n",
    "\n",
    "```\n"
   ]
  },
  {
   "cell_type": "markdown",
   "metadata": {
    "deletable": true,
    "editable": true
   },
   "source": [
    "\n",
    "\n",
    "\n",
    "\n",
    "### Derive Square Plot boundaries, then CHM values around a point\n",
    "\n",
    "For how to extract square plots using a plot centroid value, check out the\n",
    "\n",
    "<a href=\"http://neondataskills.org/working-with-field-data/Field-Data-Polygons-From-Centroids\" target=\"_blank\"> extracting square shapes activity </a>.\n",
    "\n",
    "\n",
    "\n",
    " <figure>\n",
    "\n",
    "    <img src=\"{{ site.url }}/images/course-materials/earth-analytics/week-5/buffer-square.png\" alt=\"Image showing the buffer area for a plot.\">\n",
    "\n",
    "    <figcaption>If you had square shaped plots, the code in the link above would\n",
    "\n",
    "    extract pixel values within a square shaped buffer. Source: Colin Williams, NEON\n",
    "\n",
    "    </figcaption>\n",
    "\n",
    "</figure>\n",
    "\n",
    "\n",
    "\n",
    "\n",
    "\n",
    "\n",
    "\n",
    "## Extract descriptive stats from *In situ* Data\n",
    "\n",
    "In our final step, we will extract summary height values from our field data.\n",
    "\n",
    "We will use the `dplyr` library to do this efficiently.\n",
    "\n",
    "\n",
    "\n",
    "First let's see how many plots are in our tree height data. Note that our tree\n",
    "\n",
    "height data is stored in csv format.\n",
    "\n",
    "\n"
   ]
  },
  {
   "cell_type": "code",
   "execution_count": 1,
   "metadata": {
    "collapsed": true,
    "deletable": true,
    "editable": true
   },
   "outputs": [],
   "source": [
    "```{r unique-plots }\n",
    "\n",
    "# import the centroid data and the vegetation structure data\n",
    "\n",
    "SJER_insitu <- read.csv(\"data/week5/california/SJER/2013/insitu/veg_structure/D17_2013_SJER_vegStr.csv\",\n",
    "\n",
    "                        stringsAsFactors = FALSE)\n",
    "\n",
    "\n",
    "\n",
    "# get list of unique plots\n",
    "\n",
    "unique(SJER_plots$Plot_ID)\n",
    "\n",
    "\n",
    "\n",
    "```\n"
   ]
  },
  {
   "cell_type": "markdown",
   "metadata": {
    "deletable": true,
    "editable": true
   },
   "source": [
    "\n",
    "\n",
    "## Extract Max Tree Height\n",
    "\n",
    "\n",
    "\n",
    "Next, we can use dplyr to extract a summary tree height value for each plot. In\n",
    "\n",
    "this case, we will calculate the mean MEASURED tree height value for each\n",
    "\n",
    "plot. This value represents the average tree in each plot. We will also calculate\n",
    "\n",
    "the max height representing the max height for each plot.\n",
    "\n",
    "\n",
    "\n",
    "FInally, we will compare the mean measured tree height per plot to the mean\n",
    "\n",
    "tree height extracted from the lidar CHM.\n",
    "\n",
    "\n"
   ]
  },
  {
   "cell_type": "code",
   "execution_count": 1,
   "metadata": {
    "collapsed": true,
    "deletable": true,
    "editable": true
   },
   "outputs": [],
   "source": [
    "```{r analyze-plot-dplyr }\n",
    "\n",
    "# find the max and mean stem height for each plot\n",
    "\n",
    "insitu_stem_height <- SJER_insitu %>%\n",
    "\n",
    "  group_by(plotid) %>%\n",
    "\n",
    "  summarise(insitu_max = max(stemheight), insitu_avg = mean(stemheight))\n",
    "\n",
    "\n",
    "\n",
    "# view the data frame to make sure we're happy with the column names.\n",
    "\n",
    "head(insitu_stem_height)\n",
    "\n",
    "\n",
    "\n",
    "```\n"
   ]
  },
  {
   "cell_type": "markdown",
   "metadata": {
    "deletable": true,
    "editable": true
   },
   "source": [
    "\n",
    "\n",
    "\n",
    "\n",
    "### Merge InSitu Data With Spatial data.frame\n",
    "\n",
    "\n",
    "\n",
    "Once we have our summarized insitu data, we can `merge` it into the centroids\n",
    "\n",
    "`data.frame`. Merge requires two data.frames and the names of the columns\n",
    "\n",
    "containing the unique ID that we will merge the data on. In this case, we will\n",
    "\n",
    "merge the data on the plot_id column. Notice that it's spelled slightly differently\n",
    "\n",
    "in both data.frames so we'll need to tell R what it's called in each data.frame.\n",
    "\n",
    "\n"
   ]
  },
  {
   "cell_type": "code",
   "execution_count": 1,
   "metadata": {
    "collapsed": true,
    "deletable": true,
    "editable": true
   },
   "outputs": [],
   "source": [
    "```{r merge-dataframe}\n",
    "\n",
    "# merge the insitu data into the centroids data.frame\n",
    "\n",
    "SJER_height <- merge(SJER_height,\n",
    "\n",
    "                     insitu_stem_height,\n",
    "\n",
    "                   by.x = 'Plot_ID',\n",
    "\n",
    "                   by.y = 'plotid')\n",
    "\n",
    "\n",
    "\n",
    "SJER_height@data\n",
    "\n",
    "\n",
    "\n",
    "```\n"
   ]
  },
  {
   "cell_type": "markdown",
   "metadata": {
    "deletable": true,
    "editable": true
   },
   "source": [
    "\n",
    "\n",
    "## Plot by height\n",
    "\n",
    "\n"
   ]
  },
  {
   "cell_type": "code",
   "execution_count": 1,
   "metadata": {
    "collapsed": true,
    "deletable": true,
    "editable": true
   },
   "outputs": [],
   "source": [
    "```{r create-spatial-plot, fig.cap=\"Plots sized by vegetation height\"}\n",
    "\n",
    "# plot canopy height model\n",
    "\n",
    "plot(SJER_chm,\n",
    "\n",
    "     main=\"Vegetation Plots \\nSymbol size by Average Tree Height\",\n",
    "\n",
    "     legend=F)\n",
    "\n",
    "\n",
    "\n",
    "# add plot location sized by tree height\n",
    "\n",
    "plot(SJER_height,\n",
    "\n",
    "     pch=19,\n",
    "\n",
    "     cex=(SJER_height$SJER_lidarCHM)/10, # size symbols according to tree height attribute normalized by 10\n",
    "\n",
    "     add=T)\n",
    "\n",
    "\n",
    "\n",
    "# place legend outside of the plot\n",
    "\n",
    "par(xpd=T)\n",
    "\n",
    "legend(SJER_chm@extent@xmax+250,\n",
    "\n",
    "       SJER_chm@extent@ymax,\n",
    "\n",
    "       legend=\"plot location \\nsized by \\ntree height\",\n",
    "\n",
    "       pch=19,\n",
    "\n",
    "       bty='n')\n",
    "\n",
    "\n",
    "\n",
    "```\n"
   ]
  },
  {
   "cell_type": "markdown",
   "metadata": {
    "deletable": true,
    "editable": true
   },
   "source": [
    "\n",
    "\n",
    "\n",
    "\n",
    "### Plot Data (CHM vs Measured)\n",
    "\n",
    "Let's create a plot that illustrates the relationship between in situ measured\n",
    "\n",
    "max canopy height values and lidar derived max canopy height values.\n",
    "\n",
    "\n",
    "\n",
    "\n"
   ]
  },
  {
   "cell_type": "code",
   "execution_count": 1,
   "metadata": {
    "collapsed": true,
    "deletable": true,
    "editable": true
   },
   "outputs": [],
   "source": [
    "```{r plot-w-ggplot, fig.cap=\"ggplot - measured vs lidar chm.\"}\n",
    "\n",
    "# create plot\n",
    "\n",
    "ggplot(SJER_height@data, aes(x=SJER_lidarCHM, y = insitu_avg)) +\n",
    "\n",
    "  geom_point() +\n",
    "\n",
    "  theme_bw() +\n",
    "\n",
    "  ylab(\"Mean measured height\") +\n",
    "\n",
    "  xlab(\"Mean LiDAR pixel\") +\n",
    "\n",
    "  ggtitle(\"Lidar Derived Mean Tree Height \\nvs. InSitu Measured Mean Tree Height (m)\")\n",
    "\n",
    "\n",
    "\n",
    "```\n"
   ]
  },
  {
   "cell_type": "markdown",
   "metadata": {
    "deletable": true,
    "editable": true
   },
   "source": [
    "\n",
    "\n",
    "Next, let's fix the plot adding a 1:1 line and making the x and y axis the same .\n",
    "\n",
    "\n"
   ]
  },
  {
   "cell_type": "code",
   "execution_count": 1,
   "metadata": {
    "collapsed": true,
    "deletable": true,
    "editable": true
   },
   "outputs": [],
   "source": [
    "```{r plot-w-ggplot2, fig.cap=\"ggplot - measured vs lidar chm w one to one line.\"}\n",
    "\n",
    "# create plot\n",
    "\n",
    "ggplot(SJER_height@data, aes(x=SJER_lidarCHM, y = insitu_avg)) +\n",
    "\n",
    "  geom_point() +\n",
    "\n",
    "  theme_bw() +\n",
    "\n",
    "  ylab(\"Mean measured height\") +\n",
    "\n",
    "  xlab(\"Mean LiDAR pixel\") +\n",
    "\n",
    "  xlim(0,15) + ylim(0,15) + # set x and y limits to 0-20\n",
    "\n",
    "  geom_abline(intercept = 0, slope=1) + # add one to one line\n",
    "\n",
    "  ggtitle(\"Lidar Derived Tree Height \\nvs. InSitu Measured Tree Height\")\n",
    "\n",
    "\n",
    "\n",
    "```\n"
   ]
  },
  {
   "cell_type": "markdown",
   "metadata": {
    "deletable": true,
    "editable": true
   },
   "source": [
    "\n",
    "\n",
    "We can also add a regression fit to our plot. Explore the GGPLOT options and\n",
    "\n",
    "customize your plot.\n",
    "\n",
    "\n"
   ]
  },
  {
   "cell_type": "code",
   "execution_count": 1,
   "metadata": {
    "collapsed": true,
    "deletable": true,
    "editable": true
   },
   "outputs": [],
   "source": [
    "```{r ggplot-data, fig.cap=\"Scatterplot measured height compared to lidar chm.\"}\n",
    "\n",
    "# plot with regression fit\n",
    "\n",
    "p <- ggplot(SJER_height@data, aes(x=SJER_lidarCHM, y = insitu_avg)) +\n",
    "\n",
    "  geom_point() +\n",
    "\n",
    "  ylab(\"Maximum Measured Height\") +\n",
    "\n",
    "  xlab(\"Maximum LiDAR Height\")+\n",
    "\n",
    "    xlim(0,15) + ylim(0,15) + # set x and y limits to 0-20\n",
    "\n",
    "  geom_abline(intercept = 0, slope=1)+\n",
    "\n",
    "  geom_smooth(method=lm)\n",
    "\n",
    "\n",
    "\n",
    "p + theme(panel.background = element_rect(colour = \"grey\")) +\n",
    "\n",
    "  ggtitle(\"LiDAR CHM Derived vs Measured Tree Height\") +\n",
    "\n",
    "  theme(plot.title=element_text(family=\"sans\", face=\"bold\", size=20, vjust=1.9)) +\n",
    "\n",
    "  theme(axis.title.y = element_text(family=\"sans\", face=\"bold\", size=14, angle=90, hjust=0.54, vjust=1)) +\n",
    "\n",
    "  theme(axis.title.x = element_text(family=\"sans\", face=\"bold\", size=14, angle=00, hjust=0.54, vjust=-.2))\n",
    "\n",
    "\n",
    "\n",
    "```\n"
   ]
  },
  {
   "cell_type": "markdown",
   "metadata": {
    "deletable": true,
    "editable": true
   },
   "source": [
    "\n",
    "\n",
    "\n",
    "\n",
    "## View Difference: lidar vs measured\n",
    "\n",
    "\n"
   ]
  },
  {
   "cell_type": "code",
   "execution_count": 1,
   "metadata": {
    "collapsed": true,
    "deletable": true,
    "editable": true
   },
   "outputs": [],
   "source": [
    "```{r view-diff, fig.cap=\"box plot showing differences between chm and measured heights.\"}\n",
    "\n",
    "# Calculate difference\n",
    "\n",
    "SJER_height@data$ht_diff <-  (SJER_height@data$SJER_lidarCHM - SJER_height@data$insitu_avg)\n",
    "\n",
    "\n",
    "\n",
    "\n",
    "\n",
    "\n",
    "\n",
    "# create bar plot using ggplot()\n",
    "\n",
    "ggplot(data=SJER_height@data,\n",
    "\n",
    "       aes(x=Plot_ID, y=ht_diff, fill=Plot_ID)) +\n",
    "\n",
    "       geom_bar(stat=\"identity\") +\n",
    "\n",
    "       xlab(\"Plot Name\") + ylab(\"Height difference (m)\")\n",
    "\n",
    "       ggtitle(\"Difference: \\nLidar avg height - in situ avg height (m)\")\n",
    "\n",
    "\n",
    "\n",
    "```\n"
   ]
  }
 ],
 "metadata": {
  "kernelspec": {
   "display_name": "Python 3",
   "language": "python",
   "name": "python3"
  },
  "language_info": {
   "codemirror_mode": {
    "name": "ipython",
    "version": 3
   },
   "file_extension": ".py",
   "mimetype": "text/x-python",
   "name": "python",
   "nbconvert_exporter": "python",
   "pygments_lexer": "ipython3",
   "version": "3.6.0"
  }
 },
 "nbformat": 4,
 "nbformat_minor": 2
}
