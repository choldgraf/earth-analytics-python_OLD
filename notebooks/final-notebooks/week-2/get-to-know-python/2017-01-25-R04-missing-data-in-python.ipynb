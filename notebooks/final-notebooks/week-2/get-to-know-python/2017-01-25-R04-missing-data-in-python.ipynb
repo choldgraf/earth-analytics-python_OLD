{
 "cells": [
  {
   "cell_type": "raw",
   "metadata": {},
   "source": [
    "---\n",
    "layout: single\n",
    "title: \"Missing data in Python\"\n",
    "excerpt: \"This tutorial introduces the concept of missing of no data values in Python.\"\n",
    "authors: ['Data Carpentry', 'Leah Wasser']\n",
    "category: [course-materials]\n",
    "class-lesson: ['get-to-know-r']\n",
    "permalink: /course-materials/earth-analytics-python/week-2/missing-data-in-python-na/\n",
    "nav-title: 'Missing data'\n",
    "dateCreated: 2017-05-23\n",
    "modified: '{:%Y-%m-%d}'.format(datetime.now())\n",
    "week: 2\n",
    "sidebar:\n",
    "  nav:\n",
    "author_profile: false\n",
    "comments: true\n",
    "order: 4\n",
    "course: \"earth-analytics-python\"\n",
    "topics:\n",
    "  reproducible-science-and-programming: ['jupyter-notebooks']\n",
    "---\n"
   ]
  },
  {
   "cell_type": "markdown",
   "metadata": {},
   "source": [
    "{% include toc title=\"In This Lesson\" icon=\"file-text\" %}\n",
    "\n",
    "This lesson covers how to work with no data values in `R`.\n",
    "\n",
    "<div class='notice--success' markdown=\"1\">\n",
    "\n",
    "## <i class=\"fa fa-graduation-cap\" aria-hidden=\"true\"></i> Learning Objectives\n",
    "At the end of this activity, you will be able to:\n",
    "\n",
    "* Understand why it is important to make note of missing data values.\n",
    "* Be able to define what a `NA` value is in `R` and how it is used in a vector.\n",
    "\n",
    "## <i class=\"fa fa-check-square-o fa-2\" aria-hidden=\"true\"></i> What you need\n",
    "\n",
    "You need R and RStudio to complete this tutorial. Also we recommend have you\n",
    "have an `earth-analytics` directory setup on your computer with a `/data`\n",
    "directory with it.\n",
    "\n",
    "* [How to Setup R / R Studio](/course-materials/earth-analytics/week-1/setup-r-rstudio/)\n",
    "* [Setup your working directory](/course-materials/earth-analytics/week-1/setup-working-directory/)\n",
    "\n",
    "\n",
    "</div>\n",
    "\n",
    "## Missing data - No Data Values\n",
    "\n",
    "Sometimes, our data are missing values. Imagine a spreadsheet in Microsoft excel\n",
    "with cells that are blank. If the cells are blank, we don't know for sure whether\n",
    "those data weren't collected, or something someone forgot to fill in. To account\n",
    "for data that are missing (not by mistake) we can put a value in those cells\n",
    "that represents `no data`.\n",
    "\n",
    "The `R` programming language uses the value `NA` to represent missing data values."
   ]
  },
  {
   "cell_type": "code",
   "execution_count": 10,
   "metadata": {
    "collapsed": true
   },
   "outputs": [],
   "source": [
    "# work with numeric data\n",
    "import numpy as np\n",
    "# work with tabular data - dataframes\n",
    "import pandas as pd\n",
    "# download data from a url\n",
    "import urllib\n",
    "import os\n",
    "# note that the dir names are week02 rather than week2. week 02 is better but i want to wait to fix all of the R lessons before fixing them here.\n"
   ]
  },
  {
   "cell_type": "code",
   "execution_count": 11,
   "metadata": {},
   "outputs": [],
   "source": [
    "# be sure to set your working directory\\n\",\n",
    "os.chdir(\"/Users/lewa8222/Documents/earth-analytics/\")"
   ]
  },
  {
   "cell_type": "code",
   "execution_count": 12,
   "metadata": {},
   "outputs": [
    {
     "data": {
      "text/plain": [
       "array(['Mercury', 'Venus', 'Earth', 'Mars', 'Jupiter', 'Saturn', 'Uranus',\n",
       "       'Neptune', 'nan'], \n",
       "      dtype='<U7')"
      ]
     },
     "execution_count": 12,
     "metadata": {},
     "output_type": "execute_result"
    }
   ],
   "source": [
    "planets = np.array([\"Mercury\", \"Venus\", \"Earth\", \"Mars\", \"Jupiter\", \"Saturn\", \"Uranus\",\n",
    "                    \"Neptune\", np.nan])\n",
    "planets"
   ]
  },
  {
   "cell_type": "code",
   "execution_count": 3,
   "metadata": {
    "collapsed": true
   },
   "outputs": [],
   "source": []
  },
  {
   "cell_type": "markdown",
   "metadata": {},
   "source": [
    "When the numpy library is loaded, the default setting for most base functions that read data into `python` is to\n",
    "interpret `np.nan` as a missing value.\n",
    "\n",
    "## Customizing no data values\n",
    "\n",
    "Sometimes, you'll find a dataset that uses another value for missing data. In some\n",
    "disciplines, for example -999 is sometimes used. If there are multiple types of\n",
    "missing values in your dataset, you can extend what `R` considers a missing value when it reads\n",
    "the file in using  \"`na_values`\" argument. For instance, if you wanted to read\n",
    "in a `.CSV` file named `temperature_example.csv` that had missing values represented as an empty\n",
    "cell, a single blank space, and the value -999, you would use:"
   ]
  },
  {
   "cell_type": "code",
   "execution_count": 7,
   "metadata": {
    "collapsed": true
   },
   "outputs": [],
   "source": []
  },
  {
   "cell_type": "code",
   "execution_count": 14,
   "metadata": {},
   "outputs": [
    {
     "data": {
      "text/plain": [
       "('data/week2/temperature_example.csv',\n",
       " <http.client.HTTPMessage at 0x10af34be0>)"
      ]
     },
     "execution_count": 14,
     "metadata": {},
     "output_type": "execute_result"
    }
   ],
   "source": [
    "#path = et.download(\"https://ndownloader.figshare.com/files/7275959\", 'temperature_example.csv',\n",
    "#                  '/Users/choldgraf/data_earthlab/week_02/')\n",
    "\n",
    "# download file from Earth Lab figshare repository\n",
    "urllib.request.urlretrieve(url='https://ndownloader.figshare.com/files/7275959', \n",
    "                           filename= 'data/week2/temperature_example.csv')"
   ]
  },
  {
   "cell_type": "code",
   "execution_count": 16,
   "metadata": {},
   "outputs": [
    {
     "data": {
      "text/html": [
       "<div>\n",
       "<table border=\"1\" class=\"dataframe\">\n",
       "  <thead>\n",
       "    <tr style=\"text-align: right;\">\n",
       "      <th></th>\n",
       "      <th>avg_temp</th>\n",
       "      <th>day</th>\n",
       "    </tr>\n",
       "  </thead>\n",
       "  <tbody>\n",
       "    <tr>\n",
       "      <th>0</th>\n",
       "      <td>55.0</td>\n",
       "      <td>thursday</td>\n",
       "    </tr>\n",
       "    <tr>\n",
       "      <th>1</th>\n",
       "      <td>25.0</td>\n",
       "      <td>tuesday</td>\n",
       "    </tr>\n",
       "    <tr>\n",
       "      <th>2</th>\n",
       "      <td>NaN</td>\n",
       "      <td>wednesday</td>\n",
       "    </tr>\n",
       "    <tr>\n",
       "      <th>3</th>\n",
       "      <td>-999.0</td>\n",
       "      <td>saturday</td>\n",
       "    </tr>\n",
       "    <tr>\n",
       "      <th>4</th>\n",
       "      <td>15.0</td>\n",
       "      <td>thursday</td>\n",
       "    </tr>\n",
       "    <tr>\n",
       "      <th>5</th>\n",
       "      <td>25.0</td>\n",
       "      <td>tuesday</td>\n",
       "    </tr>\n",
       "    <tr>\n",
       "      <th>6</th>\n",
       "      <td>65.0</td>\n",
       "      <td>thursday</td>\n",
       "    </tr>\n",
       "    <tr>\n",
       "      <th>7</th>\n",
       "      <td>NaN</td>\n",
       "      <td>tuesday</td>\n",
       "    </tr>\n",
       "    <tr>\n",
       "      <th>8</th>\n",
       "      <td>95.0</td>\n",
       "      <td>thursday</td>\n",
       "    </tr>\n",
       "    <tr>\n",
       "      <th>9</th>\n",
       "      <td>-999.0</td>\n",
       "      <td>monday</td>\n",
       "    </tr>\n",
       "    <tr>\n",
       "      <th>10</th>\n",
       "      <td>85.0</td>\n",
       "      <td>monday</td>\n",
       "    </tr>\n",
       "    <tr>\n",
       "      <th>11</th>\n",
       "      <td>-999.0</td>\n",
       "      <td>monday</td>\n",
       "    </tr>\n",
       "    <tr>\n",
       "      <th>12</th>\n",
       "      <td>85.0</td>\n",
       "      <td>monday</td>\n",
       "    </tr>\n",
       "  </tbody>\n",
       "</table>\n",
       "</div>"
      ],
      "text/plain": [
       "    avg_temp         day\n",
       "0       55.0    thursday\n",
       "1       25.0     tuesday\n",
       "2        NaN   wednesday\n",
       "3     -999.0    saturday\n",
       "4       15.0    thursday\n",
       "5       25.0     tuesday\n",
       "6       65.0    thursday\n",
       "7        NaN     tuesday\n",
       "8       95.0    thursday\n",
       "9     -999.0      monday\n",
       "10      85.0      monday\n",
       "11    -999.0      monday\n",
       "12      85.0      monday"
      ]
     },
     "execution_count": 16,
     "metadata": {},
     "output_type": "execute_result"
    }
   ],
   "source": [
    "# import data frame without specifying missing data values\n",
    "temp_df = pd.read_csv('data/week2/temperature_example.csv')\n",
    "temp_df"
   ]
  },
  {
   "cell_type": "markdown",
   "metadata": {},
   "source": [
    "In the example above, we imported the data and the -999.0 values imported as numeric values. This will in turn impact any statistics or calculations run on that data column."
   ]
  },
  {
   "cell_type": "code",
   "execution_count": 19,
   "metadata": {},
   "outputs": [
    {
     "data": {
      "text/plain": [
       "avg_temp   -231.545455\n",
       "dtype: float64"
      ]
     },
     "execution_count": 19,
     "metadata": {},
     "output_type": "execute_result"
    }
   ],
   "source": [
    "temp_df.mean()"
   ]
  },
  {
   "cell_type": "markdown",
   "metadata": {},
   "source": [
    "However, if we specify what the missing data values is when we import that data, then it will be assigned a np.nan value. Python will thus know to ignore those cells when it performs calculations on the data."
   ]
  },
  {
   "cell_type": "code",
   "execution_count": 20,
   "metadata": {},
   "outputs": [
    {
     "data": {
      "text/html": [
       "<div>\n",
       "<table border=\"1\" class=\"dataframe\">\n",
       "  <thead>\n",
       "    <tr style=\"text-align: right;\">\n",
       "      <th></th>\n",
       "      <th>avg_temp</th>\n",
       "      <th>day</th>\n",
       "    </tr>\n",
       "  </thead>\n",
       "  <tbody>\n",
       "    <tr>\n",
       "      <th>0</th>\n",
       "      <td>55.0</td>\n",
       "      <td>thursday</td>\n",
       "    </tr>\n",
       "    <tr>\n",
       "      <th>1</th>\n",
       "      <td>25.0</td>\n",
       "      <td>tuesday</td>\n",
       "    </tr>\n",
       "    <tr>\n",
       "      <th>2</th>\n",
       "      <td>NaN</td>\n",
       "      <td>wednesday</td>\n",
       "    </tr>\n",
       "    <tr>\n",
       "      <th>3</th>\n",
       "      <td>NaN</td>\n",
       "      <td>saturday</td>\n",
       "    </tr>\n",
       "    <tr>\n",
       "      <th>4</th>\n",
       "      <td>15.0</td>\n",
       "      <td>thursday</td>\n",
       "    </tr>\n",
       "    <tr>\n",
       "      <th>5</th>\n",
       "      <td>25.0</td>\n",
       "      <td>tuesday</td>\n",
       "    </tr>\n",
       "    <tr>\n",
       "      <th>6</th>\n",
       "      <td>65.0</td>\n",
       "      <td>thursday</td>\n",
       "    </tr>\n",
       "    <tr>\n",
       "      <th>7</th>\n",
       "      <td>NaN</td>\n",
       "      <td>tuesday</td>\n",
       "    </tr>\n",
       "    <tr>\n",
       "      <th>8</th>\n",
       "      <td>95.0</td>\n",
       "      <td>thursday</td>\n",
       "    </tr>\n",
       "    <tr>\n",
       "      <th>9</th>\n",
       "      <td>NaN</td>\n",
       "      <td>monday</td>\n",
       "    </tr>\n",
       "    <tr>\n",
       "      <th>10</th>\n",
       "      <td>85.0</td>\n",
       "      <td>monday</td>\n",
       "    </tr>\n",
       "    <tr>\n",
       "      <th>11</th>\n",
       "      <td>NaN</td>\n",
       "      <td>monday</td>\n",
       "    </tr>\n",
       "    <tr>\n",
       "      <th>12</th>\n",
       "      <td>85.0</td>\n",
       "      <td>monday</td>\n",
       "    </tr>\n",
       "  </tbody>\n",
       "</table>\n",
       "</div>"
      ],
      "text/plain": [
       "    avg_temp         day\n",
       "0       55.0    thursday\n",
       "1       25.0     tuesday\n",
       "2        NaN   wednesday\n",
       "3        NaN    saturday\n",
       "4       15.0    thursday\n",
       "5       25.0     tuesday\n",
       "6       65.0    thursday\n",
       "7        NaN     tuesday\n",
       "8       95.0    thursday\n",
       "9        NaN      monday\n",
       "10      85.0      monday\n",
       "11       NaN      monday\n",
       "12      85.0      monday"
      ]
     },
     "execution_count": 20,
     "metadata": {},
     "output_type": "execute_result"
    }
   ],
   "source": [
    "temp_df2 = pd.read_csv('data/week2/temperature_example.csv', \n",
    "                       na_values=['NA', ' ', '-999'])\n",
    "temp_df2"
   ]
  },
  {
   "cell_type": "code",
   "execution_count": 21,
   "metadata": {},
   "outputs": [
    {
     "data": {
      "text/plain": [
       "avg_temp    56.25\n",
       "dtype: float64"
      ]
     },
     "execution_count": 21,
     "metadata": {},
     "output_type": "execute_result"
    }
   ],
   "source": [
    "temp_df2.mean()"
   ]
  },
  {
   "cell_type": "code",
   "execution_count": 16,
   "metadata": {
    "collapsed": true
   },
   "outputs": [],
   "source": [
    "# ```{r, read-na-values-custom }\n",
    "\n",
    "# # download file\n",
    "\n",
    "# download.file(\"https://ndownloader.figshare.com/files/7275959\",\n",
    "\n",
    "#               \"data/week2/temperature_example.csv\")\n",
    "\n",
    "\n",
    "\n",
    "# # import data but don't specify no data values - what happens?\n",
    "\n",
    "# temp_df <- read.csv(file = \"data/week2/temperature_example.csv\")\n",
    "\n",
    "\n",
    "\n",
    "# # import data but specify no data values - what happens?\n",
    "\n",
    "# temp_df2 <- read.csv(file = \"data/week2/temperature_example.csv\",\n",
    "\n",
    "#                      na.strings = c(\"NA\", \" \", \"-999\"))\n",
    "\n",
    "\n",
    "\n",
    "# ```\n"
   ]
  },
  {
   "cell_type": "markdown",
   "metadata": {},
   "source": [
    "In the example below, note how a mean value is calculated differently depending\n",
    "upon on how NA values are treated when the data are imported.\n",
    "\n",
    "\n",
    "# What's the difference between doing np.mean and dataframe.mean() ??\n",
    "# why is dropna used below whereas it's not used in the previous 2 cells? it doesn't seem to ignore the na values unless they're explicetiy sent to dropna() ??\n"
   ]
  },
  {
   "cell_type": "code",
   "execution_count": 17,
   "metadata": {},
   "outputs": [
    {
     "data": {
      "text/plain": [
       "avg_temp   -231.545455\n",
       "dtype: float64"
      ]
     },
     "execution_count": 17,
     "metadata": {},
     "output_type": "execute_result"
    }
   ],
   "source": [
    "np.mean(temp_df)"
   ]
  },
  {
   "cell_type": "code",
   "execution_count": 18,
   "metadata": {},
   "outputs": [
    {
     "data": {
      "text/plain": [
       "avg_temp    56.25\n",
       "dtype: float64"
      ]
     },
     "execution_count": 18,
     "metadata": {},
     "output_type": "execute_result"
    }
   ],
   "source": [
    "np.mean(temp_df2)"
   ]
  },
  {
   "cell_type": "code",
   "execution_count": 23,
   "metadata": {},
   "outputs": [
    {
     "name": "stdout",
     "output_type": "stream",
     "text": [
      "-231.54545454545453\n",
      "56.25\n"
     ]
    }
   ],
   "source": [
    "print(np.mean(temp_df['avg_temp'].dropna()))\n",
    "print(np.mean(temp_df2['avg_temp'].dropna()))"
   ]
  },
  {
   "cell_type": "markdown",
   "metadata": {},
   "source": [
    "Notice a difference between `temp_df` and `temp_df2` ?\n",
    "\n",
    "<div class=\"notice--warning\" markdown=\"1\">\n",
    "\n",
    "## <i class=\"fa fa-pencil-square-o\" aria-hidden=\"true\"></i> Optional challenge\n",
    "\n",
    "* **Question**: Why, in the the example above did mean(temp_df$avg_temp) return\n",
    "a value of NA?\n",
    "\n",
    "<!-- * _Answer_: Because if there are NA values in a dataset, R can not automatically\n",
    "perform the calculation. you need to add a na.rm=TRUE to remove NA values. -->\n",
    "\n",
    "* **Question**: Why, in the the example above did mean(temp_df$avg_temp, na.rm = TRUE)\n",
    "also return a value of NA?\n",
    "\n",
    "<!-- * _Answer_: Because we didn't remove NA values when we imported the first data.frame. thus\n",
    "if there are NA values in a dataset, R can not automatically\n",
    "perform the calculation even with using na.rm=TRUE because there are no NA values\n",
    "in the data.frame . -->\n",
    "</div>\n",
    "\n",
    "When performing mathematical operations on numbers in `R`, most functions will\n",
    "return the value `NA` if the data you are working with include missing values.\n",
    "This allows you to see that you have missing data in your dataset. You can add the\n",
    "argument `na.rm=TRUE` to calculate the result while ignoring the missing values.\n",
    "\n",
    "# below this seems to be a different way of handing missing data. what's the best approach? previously we did .dropna "
   ]
  },
  {
   "cell_type": "code",
   "execution_count": 21,
   "metadata": {},
   "outputs": [
    {
     "name": "stdout",
     "output_type": "stream",
     "text": [
      "nan\n",
      "nan\n"
     ]
    }
   ],
   "source": [
    "heights = np.array([2, 4, 4, np.nan, 6])\n",
    "print(np.mean(heights))\n",
    "print(np.max(heights))"
   ]
  },
  {
   "cell_type": "code",
   "execution_count": 23,
   "metadata": {},
   "outputs": [
    {
     "name": "stdout",
     "output_type": "stream",
     "text": [
      "4.0\n",
      "6.0\n"
     ]
    }
   ],
   "source": [
    "print(np.mean(heights[~np.isnan(heights)]))\n",
    "print(np.max(heights[~np.isnan(heights)]))"
   ]
  },
  {
   "cell_type": "code",
   "execution_count": 25,
   "metadata": {},
   "outputs": [
    {
     "name": "stdout",
     "output_type": "stream",
     "text": [
      "4.0\n",
      "6.0\n"
     ]
    }
   ],
   "source": [
    "print(np.nanmean(heights))\n",
    "print(np.nanmax(heights))"
   ]
  },
  {
   "cell_type": "code",
   "execution_count": 1,
   "metadata": {
    "collapsed": true
   },
   "outputs": [],
   "source": [
    "# ```{r math-no-data }\n",
    "\n",
    "# heights <- c(2, 4, 4, NA, 6)\n",
    "\n",
    "# mean(heights)\n",
    "\n",
    "# max(heights)\n",
    "\n",
    "# mean(heights, na.rm = TRUE)\n",
    "\n",
    "# max(heights, na.rm = TRUE)\n",
    "\n",
    "# ```\n"
   ]
  },
  {
   "cell_type": "markdown",
   "metadata": {},
   "source": [
    "\n",
    "\n",
    "The functions, `is.na()`, `na.omit()`, and `complete.cases()` are all useful for\n",
    "\n",
    "figuring out if your data has assigned (`NA`) no-data values. See below for\n",
    "\n",
    "examples.\n",
    "\n",
    "\n",
    "\n",
    "\n"
   ]
  },
  {
   "cell_type": "code",
   "execution_count": 24,
   "metadata": {},
   "outputs": [
    {
     "data": {
      "text/plain": [
       "array([ 2.,  4.,  4.,  6.])"
      ]
     },
     "execution_count": 24,
     "metadata": {},
     "output_type": "execute_result"
    }
   ],
   "source": [
    "heights[~np.isnan(heights)]"
   ]
  },
  {
   "cell_type": "code",
   "execution_count": null,
   "metadata": {
    "collapsed": true
   },
   "outputs": [],
   "source": [
    "# no \"omit\" function in python nor \"complete cases\""
   ]
  },
  {
   "cell_type": "code",
   "execution_count": 1,
   "metadata": {
    "collapsed": true
   },
   "outputs": [],
   "source": [
    "# ```{r, purl=FALSE}\n",
    "\n",
    "# # Extract those elements which are not missing values.\n",
    "\n",
    "# heights[!is.na(heights)]\n",
    "\n",
    "\n",
    "\n",
    "# # Returns the object with incomplete cases removed. The returned object is atomic.\n",
    "\n",
    "# na.omit(heights)\n",
    "\n",
    "\n",
    "\n",
    "# # Extract those elements which are complete cases.\n",
    "\n",
    "# heights[complete.cases(heights)]\n",
    "\n",
    "\n",
    "\n",
    "# ```\n"
   ]
  },
  {
   "cell_type": "markdown",
   "metadata": {},
   "source": [
    "\n",
    "<div class=\"notice--warning\" markdown=\"1\">\n",
    "## <i class=\"fa fa-pencil-square-o\" aria-hidden=\"true\"></i> Challenge\n",
    "\n",
    "* **Question**: Why does the following piece of code return a warning?\n",
    "\n",
    "</div>\n",
    "\n",
    "# remove or change this challenge as it's not an issue in python - it seems python by default knows to ignore NAN values. Is this correct? "
   ]
  },
  {
   "cell_type": "code",
   "execution_count": 24,
   "metadata": {},
   "outputs": [
    {
     "data": {
      "text/plain": [
       "4.0"
      ]
     },
     "execution_count": 24,
     "metadata": {},
     "output_type": "execute_result"
    }
   ],
   "source": [
    "# This doesn't return a warning in python\n",
    "sample = np.array([2, 4, 4, np.nan, 6])\n",
    "np.nanmean(sample)"
   ]
  },
  {
   "cell_type": "code",
   "execution_count": 1,
   "metadata": {
    "collapsed": true
   },
   "outputs": [],
   "source": [
    "# ```{r, purl=FALSE}\n",
    "\n",
    "# sample <- c(2, 4, 4, \"NA\", 6)\n",
    "\n",
    "# mean(sample, na.rm = TRUE)\n",
    "\n",
    "# ```\n"
   ]
  }
 ],
 "metadata": {
  "kernelspec": {
   "display_name": "Python 3",
   "language": "python",
   "name": "python3"
  },
  "language_info": {
   "codemirror_mode": {
    "name": "ipython",
    "version": 3
   },
   "file_extension": ".py",
   "mimetype": "text/x-python",
   "name": "python",
   "nbconvert_exporter": "python",
   "pygments_lexer": "ipython3",
   "version": "3.6.0"
  },
  "toc": {
   "toc_cell": false,
   "toc_number_sections": false,
   "toc_threshold": "2",
   "toc_window_display": false
  }
 },
 "nbformat": 4,
 "nbformat_minor": 2
}
