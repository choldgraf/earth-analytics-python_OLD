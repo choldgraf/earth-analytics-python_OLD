{
 "cells": [
  {
   "cell_type": "raw",
   "metadata": {},
   "source": [
    "---\n",
    "layout: single\n",
    "title: \"Working with function arguments\"\n",
    "excerpt: \" .\"\n",
    "authors: ['Max Joseph', 'Software Carpentry',  'Leah Wasser']\n",
    "modified: '{:%Y-%m-%d}'.format(datetime.now())\n",
    "category: [course-materials]\n",
    "class-lesson: ['automating-your-science-r']\n",
    "permalink: /course-materials/earth-analytics/week-8/function-arguments-r/\n",
    "nav-title: 'Function arguments'\n",
    "week: 8\n",
    "sidebar:\n",
    "  nav:\n",
    "author_profile: false\n",
    "comments: true\n",
    "order: 6\n",
    "---\n"
   ]
  },
  {
   "cell_type": "markdown",
   "metadata": {},
   "source": [
    "\n",
    "\n",
    "\n",
    "\n",
    "{% include toc title=\"In This Lesson\" icon=\"file-text\" %}\n",
    "\n",
    "\n",
    "\n",
    "<div class='notice--success' markdown=\"1\">\n",
    "\n",
    "\n",
    "\n",
    "## <i class=\"fa fa-graduation-cap\" aria-hidden=\"true\"></i> Learning Objectives\n",
    "\n",
    "\n",
    "\n",
    "After completing this tutorial, you will be able to:\n",
    "\n",
    "\n",
    "\n",
    "* Define the purpose of a function argument.\n",
    "\n",
    "* Use default vs. required function arguments in a function.\n",
    "\n",
    "\n",
    "\n",
    "## <i class=\"fa fa-check-square-o fa-2\" aria-hidden=\"true\"></i> What you need\n",
    "\n",
    "\n",
    "\n",
    "You will need a computer with internet access to complete this lesson.\n",
    "\n",
    "\n",
    "\n",
    "</div>\n",
    "\n",
    "\n",
    "\n",
    "In the previous lessons, we have used many different functions and function\n",
    "\n",
    "arguments to customize our code.\n",
    "\n",
    "\n"
   ]
  },
  {
   "cell_type": "code",
   "execution_count": 1,
   "metadata": {
    "collapsed": true
   },
   "outputs": [],
   "source": [
    "```{r import-raster, echo=F}\n",
    "\n",
    "library(raster)\n",
    "\n",
    "library(rgdal)\n",
    "\n",
    "```\n"
   ]
  },
  {
   "cell_type": "markdown",
   "metadata": {},
   "source": [
    "\n",
    "\n",
    "For example, we used numerous arguments to plot our data including:\n",
    "\n",
    "\n",
    "\n",
    "1. `main` to add a title\n",
    "\n",
    "2. `axes = FALSE` to remove the axes of our plot\n",
    "\n",
    "3. `box = FALSE` to remove the box surrounding the plot.\n",
    "\n",
    "\n",
    "\n",
    "In the example below, we call each argument by name and then assign it a value\n",
    "\n",
    "based on the type of argument it is. For example the value for the `main = ` argument\n",
    "\n",
    "is a text string which is the title that we want `R` to add to our plot.\n",
    "\n",
    "\n"
   ]
  },
  {
   "cell_type": "code",
   "execution_count": 1,
   "metadata": {
    "collapsed": true
   },
   "outputs": [],
   "source": [
    "```{r plot-ndvi, fig.cap=\"ndvi plot\", fig.width=7, fig.height=5}\n",
    "\n",
    "# import and plot landsat\n",
    "\n",
    "landsat_ndvi <- raster(\"data/week6/outputs/landsat_ndvi.tif\")\n",
    "\n",
    "plot(landsat_ndvi,\n",
    "\n",
    "     main = \"ndvi title - rendered using a function argument\",\n",
    "\n",
    "     axes = FALSE,\n",
    "\n",
    "     box = FALSE)\n",
    "\n",
    "```\n"
   ]
  },
  {
   "cell_type": "markdown",
   "metadata": {},
   "source": [
    "\n",
    "\n",
    "Function arguments allow us to customize how a function runs. For example, we can\n",
    "\n",
    "use the `plot()` function to plot many different types of data! And we can use the\n",
    "\n",
    "`main` argument to customize the title. We use axes and box to customize how the\n",
    "\n",
    "plot looks. This is a powerful function as it can be used to do many different\n",
    "\n",
    "things and is customizable in many ways that we may need / want!\n",
    "\n",
    "\n",
    "\n",
    "## Argument order matters\n",
    "\n",
    "\n",
    "\n",
    "Let's next talk about the order or arguments in a function. `R` has three ways\n",
    "\n",
    "that arguments supplied by you are matched to the *formal arguments* of the\n",
    "\n",
    "function definition:\n",
    "\n",
    "\n",
    "\n",
    "1. **By complete name:** i.e. you type `main = \"\"` and `R` matches main to the argument called `main`.\n",
    "\n",
    "2. **By order or position when you call an argument:** i.e. you call `plot(raster, \"title here\")`, `R` will read these two variables in the order that you provide them. This can cause the function to fail if they are not in the right order!\n",
    "\n",
    "3. **By partial name:** (matching on initial *n* characters of the argument name) - we are not going to review this in class. Beware using this \"feature\".\n",
    "\n",
    "\n",
    "\n",
    "Arguments are matched in the manner outlined above.\n",
    "\n",
    "\n",
    "\n",
    "* R first tries to find arguments according to the complete name,\n",
    "\n",
    "* then by partial matching of names,\n",
    "\n",
    "* and finally by position.\n",
    "\n",
    "\n",
    "\n",
    "With that in mind, let's look at the help for `read.csv()`:\n",
    "\n",
    "\n"
   ]
  },
  {
   "cell_type": "code",
   "execution_count": 1,
   "metadata": {
    "collapsed": true
   },
   "outputs": [],
   "source": [
    "```{r, eval=FALSE}\n",
    "\n",
    "# view help for the csv function\n",
    "\n",
    "?read.csv\n",
    "\n",
    "```\n"
   ]
  },
  {
   "cell_type": "markdown",
   "metadata": {},
   "source": [
    "\n",
    "\n",
    "There's a lot of information available in the help. The the most important part\n",
    "\n",
    "is the first couple of lines:\n",
    "\n",
    "\n"
   ]
  },
  {
   "cell_type": "code",
   "execution_count": 1,
   "metadata": {
    "collapsed": true
   },
   "outputs": [],
   "source": [
    "```{r, eval=FALSE}\n",
    "\n",
    "read.csv(file, header = TRUE, sep = \",\", quote = \"\\\"\",\n",
    "\n",
    "         dec = \".\", fill = TRUE, comment.char = \"\", ...)\n",
    "\n",
    "```\n"
   ]
  },
  {
   "cell_type": "markdown",
   "metadata": {},
   "source": [
    "\n",
    "\n",
    "This tells us that `read.csv()` has one argument, `file`, that doesn't have a\n",
    "\n",
    "default value, and six other arguments that do have a default value.\n",
    "\n",
    "\n",
    "\n",
    "Now we understand why the following code returns an error:\n",
    "\n",
    "\n"
   ]
  },
  {
   "cell_type": "code",
   "execution_count": 1,
   "metadata": {
    "collapsed": true
   },
   "outputs": [],
   "source": [
    "```{r, results=\"hide\", error = TRUE}\n",
    "\n",
    "precip_data <- read.csv(FALSE, \"data/week2/precipitation/precip-boulder-aug-oct-2013.csv\")\n",
    "\n",
    "```\n"
   ]
  },
  {
   "cell_type": "markdown",
   "metadata": {},
   "source": [
    "\n",
    "\n",
    "The code above fails because `FALSE` is assigned to `file` and the filename is assigned to\n",
    "\n",
    "the argument `header`.\n",
    "\n",
    "\n",
    "\n",
    "## Default function arguments\n",
    "\n",
    "\n",
    "\n",
    "We have passed arguments to functions in two ways:\n",
    "\n",
    "\n",
    "\n",
    "1. Directly: `plot(landsat_ndvi)`,\n",
    "\n",
    "2. and by name: `read.csv(file = \"data/week2/precipitation/precip-boulder-aug-oct-2013.csv\", header = FALSE)`.\n",
    "\n",
    "\n",
    "\n",
    "We can pass the arguments to `read.csv` without naming them if they are in the\n",
    "\n",
    "order that R expects.\n",
    "\n",
    "\n"
   ]
  },
  {
   "cell_type": "code",
   "execution_count": 1,
   "metadata": {
    "collapsed": true
   },
   "outputs": [],
   "source": [
    "```{r, eval=F}\n",
    "\n",
    "precip_data <- read.csv(\"data/week2/precipitation/precip-boulder-aug-oct-2013.csv\",\n",
    "\n",
    "                FALSE)\n",
    "\n",
    "```\n"
   ]
  },
  {
   "cell_type": "markdown",
   "metadata": {},
   "source": [
    "\n",
    "\n",
    "However, the position of the arguments matter if they are not named.\n",
    "\n",
    "Does the code below return an error?\n",
    "\n",
    "\n"
   ]
  },
  {
   "cell_type": "code",
   "execution_count": 1,
   "metadata": {
    "collapsed": true
   },
   "outputs": [],
   "source": [
    "```{r, eval=F}\n",
    "\n",
    "# import csv\n",
    "\n",
    "precip_data <- read.csv(header = FALSE,\n",
    "\n",
    "                file = \"data/week2/precipitation/precip-boulder-aug-oct-2013.csv\")\n",
    "\n",
    "\n",
    "\n",
    "```\n"
   ]
  },
  {
   "cell_type": "markdown",
   "metadata": {},
   "source": [
    "\n",
    "\n",
    "But this code below doesn't work. Make sense?\n",
    "\n",
    "\n"
   ]
  },
  {
   "cell_type": "code",
   "execution_count": 1,
   "metadata": {
    "collapsed": true
   },
   "outputs": [],
   "source": [
    "```{r, error = TRUE}\n",
    "\n",
    "dat <- read.csv(FALSE,\n",
    "\n",
    "                \"data/week2/precipitation/precip-boulder-aug-oct-2013.csv\")\n",
    "\n",
    "\n",
    "\n",
    "```\n"
   ]
  }
 ],
 "metadata": {
  "kernelspec": {
   "display_name": "Python 3",
   "language": "python",
   "name": "python3"
  },
  "language_info": {
   "codemirror_mode": {
    "name": "ipython",
    "version": 3
   },
   "file_extension": ".py",
   "mimetype": "text/x-python",
   "name": "python",
   "nbconvert_exporter": "python",
   "pygments_lexer": "ipython3",
   "version": "3.6.0"
  }
 },
 "nbformat": 4,
 "nbformat_minor": 2
}
