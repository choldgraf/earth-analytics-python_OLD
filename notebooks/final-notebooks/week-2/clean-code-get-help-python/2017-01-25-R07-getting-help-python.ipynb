{
 "cells": [
  {
   "cell_type": "raw",
   "metadata": {},
   "source": [
    "---\n",
    "layout: single\n",
    "title: \"Get Help with Python\"\n",
    "excerpt: \"This tutorial covers ways to get help when you are stuck in Python. \"\n",
    "authors: ['Chris Holdgraf', 'Data Carpentry', 'Leah Wasser']\n",
    "category: [course-materials]\n",
    "class-lesson: ['write-clean-python-code']\n",
    "course: 'earth-analytics-python'\n",
    "permalink: /course-materials/earth-analytics-python/week-2/about-and-get-help-with-Python/\n",
    "nav-title: 'About Python & Get Help'\n",
    "dateCreated: 2017-05-05\n",
    "modified: '{:%Y-%m-%d}'.format(datetime.now())\n",
    "week: 2\n",
    "sidebar:\n",
    "  nav:\n",
    "author_profile: false\n",
    "comments: true\n",
    "order: 2\n",
    "---\n"
   ]
  },
  {
   "cell_type": "markdown",
   "metadata": {},
   "source": [
    "{% include toc title=\"In This Lesson\" icon=\"file-text\" %}\n",
    "\n",
    "<div class='notice--success' markdown=\"1\">\n",
    "\n",
    "\n",
    "## <i class=\"fa fa-graduation-cap\" aria-hidden=\"true\"></i> Learning Objectives\n",
    "\n",
    "At the end of this activity, you will be able to:\n",
    "\n",
    "* List 2 ways that you can get help when you are stuck using Python.\n",
    "* List several features of Python that makes it a versatile tool for scientific programming.\n",
    "\n",
    "## <i class=\"fa fa-check-square-o fa-2\" aria-hidden=\"true\"></i> What you need\n",
    "\n",
    "A computer with internet access.\n",
    "\n",
    "</div>\n",
    "\n",
    "\n",
    "\n",
    "## Basics of Python\n",
    "\n",
    "`Python` is a versatile, open source programming/scripting language that's useful both\n",
    "for statistics but also data science.\n",
    "\n",
    "# Add some stats on python here...\n",
    "\n",
    "* Free/Libre/Open Source Software under the [GPL version 2](https://www.gnu.org/licenses/old-licenses/gpl-2.0.html).\n",
    "* Superior (if not just comparable) to commercial alternatives. R has over 7,000\n",
    "  user contributed packages at this time. It's widely used both in academia and\n",
    "  industry.\n",
    "* Available on all platforms.\n",
    "* Not just for statistics, but also general purpose programming.\n",
    "* For people who have experience in programmming: Python is both an object-oriented\n",
    "\n",
    "  and a so-called [functional language](http://adv-r.had.co.nz/Functional-programming.html).\n",
    "* Large and growing community of peers.\n",
    "\n",
    "\n",
    "\n",
    "## Seeking help\n",
    "\n",
    "Below we discuss a few ways that you can get help when you are stuck in Python.\n",
    "\n",
    "## I know the name of the function I want to use, but I'm not sure how to use it\n",
    "\n",
    "If you need help with a specific function, let's say creating a barplot `.bar()`, you can type:\n"
   ]
  },
  {
   "cell_type": "code",
   "execution_count": 1,
   "metadata": {
    "collapsed": true
   },
   "outputs": [],
   "source": [
    "import matplotlib.pyplot as plt\n",
    "plt.bar?"
   ]
  },
  {
   "cell_type": "markdown",
   "metadata": {},
   "source": [
    "When you type `plt.bar?` in the Python console, you are asking Python to look for the documentation\n",
    "for the `.bar()` function.\n",
    "\n",
    "If you just need to remind yourself of the names of the arguments that can be used\n",
    "with the function, you can use the tab button as you type in the function name for help:\n",
    "\n",
    "# is there a way to list all arguments for a function?\n"
   ]
  },
  {
   "cell_type": "code",
   "execution_count": null,
   "metadata": {
    "collapsed": true
   },
   "outputs": [],
   "source": [
    "# plt.bar(<TAB>"
   ]
  }
 ],
 "metadata": {
  "kernelspec": {
   "display_name": "Python 3",
   "language": "python",
   "name": "python3"
  },
  "language_info": {
   "codemirror_mode": {
    "name": "ipython",
    "version": 3
   },
   "file_extension": ".py",
   "mimetype": "text/x-python",
   "name": "python",
   "nbconvert_exporter": "python",
   "pygments_lexer": "ipython3",
   "version": "3.6.0"
  },
  "toc": {
   "toc_cell": false,
   "toc_number_sections": false,
   "toc_threshold": "2",
   "toc_window_display": false
  }
 },
 "nbformat": 4,
 "nbformat_minor": 2
}
