{
 "cells": [
  {
   "cell_type": "raw",
   "metadata": {},
   "source": [
    "---\n",
    "layout: single\n",
    "title: \"Objects and variables in Python\"\n",
    "excerpt: \"This tutorial introduces the Python programming language. It is\n",
    "designed for someone who has not used Python before. We will work with precipitation and\n",
    "stream discharge data for Boulder County.\"\n",
    "authors: ['Chris Holdgraf', 'Leah Wasser', 'Data Carpentry']\n",
    "category: [course-materials]\n",
    "class-lesson: ['get-to-know-python']\n",
    "permalink: /course-materials/earth-analytics-python/week-2/objects-and-variables-in-python/\n",
    "nav-title: 'Objects in Python'\n",
    "dateCreated: 2017-05-23\n",
    "modified: '{:%Y-%m-%d}'.format(datetime.now())\n",
    "course: \"earth-analytics-python\"\n",
    "week: 2\n",
    "sidebar:\n",
    "  nav:\n",
    "author_profile: false\n",
    "comments: true\n",
    "order: 2\n",
    "---\n",
    "\n"
   ]
  },
  {
   "cell_type": "markdown",
   "metadata": {},
   "source": [
    "{% include toc title=\"In This Lesson\" icon=\"file-text\" %}\n",
    "\n",
    "\n",
    "<div class='notice--success' markdown=\"1\">\n",
    "\n",
    "## <i class=\"fa fa-graduation-cap\" aria-hidden=\"true\"></i> Learning Objectives\n",
    "At the end of this activity, you will be able to:\n",
    "\n",
    "* Be able to create, modify and use objects or variables in `Python`.\n",
    "* Be able to define the key differences between the str (string) and num (number) classes in `Python` in terms of how R can or can not perform calculations with each.\n",
    "\n",
    "## <i class=\"fa fa-check-square-o fa-2\" aria-hidden=\"true\"></i> What you need\n",
    "\n",
    "You need R and RStudio to complete this tutorial. Also we recommend have you\n",
    "have an `earth-analytics` directory setup on your computer with a `/data`\n",
    "directory with it.\n",
    "\n",
    "* [How to Setup R / R Studio](/course-materials/earth-analytics-python/week-1/setup-r-rstudio/)\n",
    "* [Setup your working directory](/course-materials/earth-analytics-python/week-1/setup-working-directory/)\n",
    "\n",
    "</div>\n",
    "\n",
    "\n",
    "## Creating objects\n",
    "\n",
    "You can get output from `Python` by typing a mathematical equation into the console -\n",
    "For example, if you type in `3 + 5`, `R` will calculate the output value."
   ]
  },
  {
   "cell_type": "code",
   "execution_count": 1,
   "metadata": {},
   "outputs": [
    {
     "data": {
      "text/plain": [
       "8"
      ]
     },
     "execution_count": 1,
     "metadata": {},
     "output_type": "execute_result"
    }
   ],
   "source": [
    "# add 3 + 5\n",
    "3 + 5"
   ]
  },
  {
   "cell_type": "code",
   "execution_count": 2,
   "metadata": {},
   "outputs": [
    {
     "data": {
      "text/plain": [
       "1.7142857142857142"
      ]
     },
     "execution_count": 2,
     "metadata": {},
     "output_type": "execute_result"
    }
   ],
   "source": [
    "# divide 12 by 7\n",
    "12 / 7"
   ]
  },
  {
   "cell_type": "markdown",
   "metadata": {},
   "source": [
    "However, is it more useful to assign _values_ to _objects_. To create an object, we need to give it a name followed by the assignment operator `=`, and the value we want to give it:"
   ]
  },
  {
   "cell_type": "code",
   "execution_count": 4,
   "metadata": {},
   "outputs": [
    {
     "data": {
      "text/plain": [
       "55"
      ]
     },
     "execution_count": 4,
     "metadata": {},
     "output_type": "execute_result"
    }
   ],
   "source": [
    "# assign weight_kg to the value of 55\n",
    "weight_kg = 55\n",
    "\n",
    "# view object value\n",
    "weight_kg"
   ]
  },
  {
   "cell_type": "markdown",
   "metadata": {},
   "source": [
    "## Expressive readable object names\n",
    "\n",
    "# Be sure to fix the link below to reserved names for python if that exists...\n",
    "\n",
    "We can name our objects in python anything that we want. For example: `x`, `current_temperature`, or\n",
    "`subject_id`. However, it is best to use clear, descriptive words when naming\n",
    "objects to ensure your code is easy to follow. Using a naming convention that explains to someone reading the code what the object is or in the case of a function, what it does, is often referenced as as element of Expressive Programming.  \n",
    "\n",
    "We will discuss best practicing for coding a bit later - in the [clean coding\n",
    "lesson](/course-materials/earth-analytics-python/week-2/write-clean-code-with-r/). For now, here are some tips to improve your code:\n",
    "\n",
    "1. **Keep object names short:** this makes them easier to read when scanning through code.\n",
    "2. **Use meaningful / expressive names that describe the contents of the object that you are creating:** For example: `precip` is a more useful name that tells us something about the object compared to `x`\n",
    "3. **Don't start names with numbers!** Objects that start with a number are NOT VALID in R.\n",
    "4. **Avoid names that are existing functions in Python:** e.g.,\n",
    "`if`, `else`, `for`, see\n",
    "[here](https://stat.ethz.ch/R-manual/R-devel/library/base/html/Reserved.html)\n",
    "\n",
    "A few other notes about object names in `Python`:\n",
    "\n",
    "* `Python` is case sensitive (e.g., `weight_kg` is different from `Weight_kg`).\n",
    "* Avoid other function names (e.g., `c`, `T`, `mean`, `data`, `df`, `weights`).\n",
    "* Use nouns for variable names, and verbs for function names.\n",
    "* Avoid using dots in object names - e.g. `my.dataset` - dots have a special meaning in R (for methods) and other programming languages. Instead use underscores `my_dataset`.\n",
    "\n",
    "## View object value\n",
    "When assigning a value to an object, `Python` does not print anything. You can force\n",
    "it to print the value by using parentheses or by typing the name:"
   ]
  },
  {
   "cell_type": "code",
   "execution_count": 1,
   "metadata": {},
   "outputs": [
    {
     "data": {
      "text/plain": [
       "55"
      ]
     },
     "execution_count": 1,
     "metadata": {},
     "output_type": "execute_result"
    }
   ],
   "source": [
    "# here weight_kg is assigned to the value 55 however nothing is printed\n",
    "weight_kg = 55  \n",
    "# a variable name at the end of a cell will be printed by Jupyter notebook\n",
    "weight_kg "
   ]
  },
  {
   "cell_type": "code",
   "execution_count": 2,
   "metadata": {},
   "outputs": [
    {
     "ename": "NameError",
     "evalue": "name 'Weight_kg' is not defined",
     "output_type": "error",
     "traceback": [
      "\u001b[0;31m---------------------------------------------------------------------------\u001b[0m",
      "\u001b[0;31mNameError\u001b[0m                                 Traceback (most recent call last)",
      "\u001b[0;32m<ipython-input-2-b8c9261fc186>\u001b[0m in \u001b[0;36m<module>\u001b[0;34m()\u001b[0m\n\u001b[0;32m----> 1\u001b[0;31m \u001b[0mWeight_kg\u001b[0m\u001b[0;34m\u001b[0m\u001b[0m\n\u001b[0m",
      "\u001b[0;31mNameError\u001b[0m: name 'Weight_kg' is not defined"
     ]
    }
   ],
   "source": [
    "# python is case sensitive\n",
    "Weight_kg"
   ]
  },
  {
   "cell_type": "markdown",
   "metadata": {},
   "source": [
    "Now that `Python` has stored `weight_kg` in memory, we can do arithmetic with it. For\n",
    "instance, we may want to convert this weight in pounds (weight in pounds is 2.2\n",
    "times the weight in kg):"
   ]
  },
  {
   "cell_type": "code",
   "execution_count": 5,
   "metadata": {},
   "outputs": [
    {
     "data": {
      "text/plain": [
       "121.00000000000001"
      ]
     },
     "execution_count": 5,
     "metadata": {},
     "output_type": "execute_result"
    }
   ],
   "source": [
    "2.2 * weight_kg"
   ]
  },
  {
   "cell_type": "markdown",
   "metadata": {},
   "source": [
    "We can also change a variable's value by assigning it a new value:"
   ]
  },
  {
   "cell_type": "code",
   "execution_count": 7,
   "metadata": {},
   "outputs": [
    {
     "data": {
      "text/plain": [
       "126.72000000000001"
      ]
     },
     "execution_count": 7,
     "metadata": {},
     "output_type": "execute_result"
    }
   ],
   "source": [
    "weight_kg = 57.6\n",
    "2.2 * weight_kg"
   ]
  },
  {
   "cell_type": "markdown",
   "metadata": {},
   "source": [
    "Assigning a value to one variable does not change the values of\n",
    "other variables. For example, let's store the animal's weight in pounds in a new\n",
    "variable, `weight_lb`:"
   ]
  },
  {
   "cell_type": "code",
   "execution_count": 8,
   "metadata": {
    "collapsed": true
   },
   "outputs": [],
   "source": [
    "weight_lb = 2.2 * weight_kg"
   ]
  },
  {
   "cell_type": "markdown",
   "metadata": {},
   "source": [
    "\n",
    "\n",
    "and then change `weight_kg` to 100.\n",
    "\n",
    "\n"
   ]
  },
  {
   "cell_type": "code",
   "execution_count": 9,
   "metadata": {
    "collapsed": true
   },
   "outputs": [],
   "source": [
    "weight_kg = 100"
   ]
  },
  {
   "cell_type": "markdown",
   "metadata": {},
   "source": [
    "What do you think is the current content of the object `weight_lb`? 126.5 or 200?\n",
    "\n",
    "<div class=\"notice--warning\" markdown=\"1\">\n",
    "\n",
    "## <i class=\"fa fa-pencil-square-o\" aria-hidden=\"true\"></i> Optional challenge activity\n",
    "\n",
    "What are the values of each object defined in EACH LINE OF code below?\n",
    "\n",
    "```python\n",
    "mass = 47.5            # mass?\n",
    "age  = 122             # age?\n",
    "mass = mass * 2.0      # mass?\n",
    "age  = age - 20        # age?\n",
    "mass_index = mass / age  # mass_index?\n",
    "```\n",
    "\n",
    "</div>"
   ]
  },
  {
   "cell_type": "markdown",
   "metadata": {
    "collapsed": true
   },
   "source": [
    "<!-- Answers to go here... -->\n"
   ]
  }
 ],
 "metadata": {
  "kernelspec": {
   "display_name": "Python 3",
   "language": "python",
   "name": "python3"
  },
  "language_info": {
   "codemirror_mode": {
    "name": "ipython",
    "version": 3
   },
   "file_extension": ".py",
   "mimetype": "text/x-python",
   "name": "python",
   "nbconvert_exporter": "python",
   "pygments_lexer": "ipython3",
   "version": "3.6.0"
  },
  "toc": {
   "toc_cell": false,
   "toc_number_sections": false,
   "toc_threshold": "2",
   "toc_window_display": false
  }
 },
 "nbformat": 4,
 "nbformat_minor": 2
}
