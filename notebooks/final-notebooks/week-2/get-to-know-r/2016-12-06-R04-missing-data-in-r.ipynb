{
 "cells": [
  {
   "cell_type": "raw",
   "metadata": {},
   "source": [
    "---\n",
    "layout: single\n",
    "title: \"Missing data in R\"\n",
    "excerpt: \"This tutorial introduces the concept of missing of no data values in R.\"\n",
    "authors: ['Data Carpentry', 'Leah Wasser']\n",
    "category: [course-materials]\n",
    "class-lesson: ['get-to-know-r']\n",
    "permalink: /course-materials/earth-analytics/week-2/missing-data-in-r-na/\n",
    "nav-title: 'Missing data'\n",
    "dateCreated: 2016-12-13\n",
    "modified: '{:%Y-%m-%d}'.format(datetime.now())\n",
    "week: 2\n",
    "sidebar:\n",
    "  nav:\n",
    "author_profile: false\n",
    "comments: true\n",
    "order: 4\n",
    "---\n"
   ]
  },
  {
   "cell_type": "markdown",
   "metadata": {},
   "source": [
    "\n",
    "\n",
    "{% include toc title=\"In This Lesson\" icon=\"file-text\" %}\n",
    "\n",
    "\n",
    "\n",
    "This lesson covers how to work with no data values in `R`.\n",
    "\n",
    "\n",
    "\n",
    "<div class='notice--success' markdown=\"1\">\n",
    "\n",
    "\n",
    "\n",
    "## <i class=\"fa fa-graduation-cap\" aria-hidden=\"true\"></i> Learning Objectives\n",
    "\n",
    "At the end of this activity, you will be able to:\n",
    "\n",
    "\n",
    "\n",
    "* Understand why it is important to make note of missing data values.\n",
    "\n",
    "* Be able to define what a `NA` value is in `R` and how it is used in a vector.\n",
    "\n",
    "\n",
    "\n",
    "## <i class=\"fa fa-check-square-o fa-2\" aria-hidden=\"true\"></i> What you need\n",
    "\n",
    "\n",
    "\n",
    "You need R and RStudio to complete this tutorial. Also we recommend have you\n",
    "\n",
    "have an `earth-analytics` directory setup on your computer with a `/data`\n",
    "\n",
    "directory with it.\n",
    "\n",
    "\n",
    "\n",
    "* [How to Setup R / R Studio](/course-materials/earth-analytics/week-1/setup-r-rstudio/)\n",
    "\n",
    "* [Setup your working directory](/course-materials/earth-analytics/week-1/setup-working-directory/)\n",
    "\n",
    "\n",
    "\n",
    "\n",
    "\n",
    "</div>\n",
    "\n",
    "\n",
    "\n",
    "## Missing data - No Data Values\n",
    "\n",
    "\n",
    "\n",
    "Sometimes, our data are missing values. Imagine a spreadsheet in Microsoft excel\n",
    "\n",
    "with cells that are blank. If the cells are blank, we don't know for sure whether\n",
    "\n",
    "those data weren't collected, or something someone forgot to fill in. To account\n",
    "\n",
    "for data that are missing (not by mistake) we can put a value in those cells\n",
    "\n",
    "that represents `no data`.\n",
    "\n",
    "\n",
    "\n",
    "The `R` programming language uses the value `NA` to represent missing data values.\n",
    "\n",
    "\n"
   ]
  },
  {
   "cell_type": "code",
   "execution_count": 1,
   "metadata": {
    "collapsed": true
   },
   "outputs": [],
   "source": [
    "import numpy as np"
   ]
  },
  {
   "cell_type": "code",
   "execution_count": 2,
   "metadata": {
    "collapsed": true
   },
   "outputs": [],
   "source": [
    "planets = np.array([\"Mercury\", \"Venus\", \"Earth\", \"Mars\", \"Jupiter\", \"Saturn\", \"Uranus\",\n",
    "                    \"Neptune\", np.nan])"
   ]
  },
  {
   "cell_type": "code",
   "execution_count": 3,
   "metadata": {
    "collapsed": true
   },
   "outputs": [],
   "source": [
    "# ```{r no-data-values }\n",
    "\n",
    "\n",
    "\n",
    "# planets <- c(\"Mercury\", \"Venus\", \"Earth\", \"Mars\", \"Jupiter\", \"Saturn\", \"Uranus\",\n",
    "\n",
    "#              \"Neptune\", NA)\n",
    "\n",
    "\n",
    "\n",
    "# ```\n"
   ]
  },
  {
   "cell_type": "markdown",
   "metadata": {},
   "source": [
    "\n",
    "\n",
    "The default setting for most base functions that read data into `R` is to\n",
    "\n",
    "interpret `NA` as a missing value.\n",
    "\n",
    "\n",
    "\n",
    "## Customizing no data values\n",
    "\n",
    "\n",
    "\n",
    "Sometimes, you'll find a dataset that uses another value for missing data. In some\n",
    "\n",
    "disciplines, for example -999 is sometimes used. If there are multiple types of\n",
    "\n",
    "missing values in your dataset, you can extend what `R` considers a missing value when it reads\n",
    "\n",
    "the file in using  \"`na.strings`\" argument. For instance, if you wanted to read\n",
    "\n",
    "in a `.CSV` file named `temperature_example.csv` that had missing values represented as an empty\n",
    "\n",
    "cell, a single blank space, and the value -999, you would use:\n",
    "\n",
    "\n"
   ]
  },
  {
   "cell_type": "code",
   "execution_count": 7,
   "metadata": {
    "collapsed": true
   },
   "outputs": [],
   "source": [
    "import earthlab as et\n",
    "import pandas as pd"
   ]
  },
  {
   "cell_type": "code",
   "execution_count": 10,
   "metadata": {},
   "outputs": [
    {
     "name": "stdout",
     "output_type": "stream",
     "text": [
      "Replace is False and data exists, so doing nothing. Use replace==True to re-download the data.\n"
     ]
    }
   ],
   "source": [
    "path = et.download(\"https://ndownloader.figshare.com/files/7275959\", 'temperature_example.csv',\n",
    "                   '/Users/choldgraf/data_earthlab/week_02/')"
   ]
  },
  {
   "cell_type": "code",
   "execution_count": 15,
   "metadata": {
    "collapsed": true
   },
   "outputs": [],
   "source": [
    "temp_df = pd.read_csv(path)"
   ]
  },
  {
   "cell_type": "code",
   "execution_count": 13,
   "metadata": {
    "collapsed": true
   },
   "outputs": [],
   "source": [
    "temp_df2 = pd.read_csv(path, na_values=['NA', ' ', '-999'])"
   ]
  },
  {
   "cell_type": "code",
   "execution_count": 16,
   "metadata": {
    "collapsed": true
   },
   "outputs": [],
   "source": [
    "# ```{r, read-na-values-custom }\n",
    "\n",
    "# # download file\n",
    "\n",
    "# download.file(\"https://ndownloader.figshare.com/files/7275959\",\n",
    "\n",
    "#               \"data/week2/temperature_example.csv\")\n",
    "\n",
    "\n",
    "\n",
    "# # import data but don't specify no data values - what happens?\n",
    "\n",
    "# temp_df <- read.csv(file = \"data/week2/temperature_example.csv\")\n",
    "\n",
    "\n",
    "\n",
    "# # import data but specify no data values - what happens?\n",
    "\n",
    "# temp_df2 <- read.csv(file = \"data/week2/temperature_example.csv\",\n",
    "\n",
    "#                      na.strings = c(\"NA\", \" \", \"-999\"))\n",
    "\n",
    "\n",
    "\n",
    "# ```\n"
   ]
  },
  {
   "cell_type": "markdown",
   "metadata": {},
   "source": [
    "\n",
    "\n",
    "In the example below, note how a mean value is calculated differently depending\n",
    "\n",
    "upon on how NA values are treated when the data are imported.\n",
    "\n",
    "\n",
    "\n",
    "\n"
   ]
  },
  {
   "cell_type": "code",
   "execution_count": 17,
   "metadata": {},
   "outputs": [
    {
     "data": {
      "text/plain": [
       "avg_temp   -231.545455\n",
       "dtype: float64"
      ]
     },
     "execution_count": 17,
     "metadata": {},
     "output_type": "execute_result"
    }
   ],
   "source": [
    "np.mean(temp_df)"
   ]
  },
  {
   "cell_type": "code",
   "execution_count": 18,
   "metadata": {},
   "outputs": [
    {
     "data": {
      "text/plain": [
       "avg_temp    56.25\n",
       "dtype: float64"
      ]
     },
     "execution_count": 18,
     "metadata": {},
     "output_type": "execute_result"
    }
   ],
   "source": [
    "np.mean(temp_df2)"
   ]
  },
  {
   "cell_type": "code",
   "execution_count": 20,
   "metadata": {},
   "outputs": [
    {
     "name": "stdout",
     "output_type": "stream",
     "text": [
      "-231.54545454545453\n",
      "56.25\n"
     ]
    }
   ],
   "source": [
    "print(np.mean(temp_df['avg_temp'].dropna()))\n",
    "print(np.mean(temp_df2['avg_temp'].dropna()))"
   ]
  },
  {
   "cell_type": "code",
   "execution_count": 1,
   "metadata": {
    "collapsed": true
   },
   "outputs": [],
   "source": [
    "# ```{r na-remove}\n",
    "\n",
    "\n",
    "\n",
    "# mean(temp_df$avg_temp)\n",
    "\n",
    "# mean(temp_df2$avg_temp)\n",
    "\n",
    "\n",
    "\n",
    "# mean(temp_df$avg_temp, na.rm = TRUE)\n",
    "\n",
    "# mean(temp_df2$avg_temp, na.rm = TRUE)\n",
    "\n",
    "# ```\n"
   ]
  },
  {
   "cell_type": "markdown",
   "metadata": {},
   "source": [
    "\n",
    "\n",
    "Notice a difference between `temp_df` and `temp_df2` ?\n",
    "\n",
    "\n",
    "\n",
    "<div class=\"notice--warning\" markdown=\"1\">\n",
    "\n",
    "\n",
    "\n",
    "## <i class=\"fa fa-pencil-square-o\" aria-hidden=\"true\"></i> Optional challenge\n",
    "\n",
    "\n",
    "\n",
    "* **Question**: Why, in the the example above did mean(temp_df$avg_temp) return\n",
    "\n",
    "a value of NA?\n",
    "\n",
    "\n",
    "\n",
    "<!-- * _Answer_: Because if there are NA values in a dataset, R can not automatically\n",
    "\n",
    "perform the calculation. you need to add a na.rm=TRUE to remove NA values. -->\n",
    "\n",
    "\n",
    "\n",
    "* **Question**: Why, in the the example above did mean(temp_df$avg_temp, na.rm = TRUE)\n",
    "\n",
    "also return a value of NA?\n",
    "\n",
    "\n",
    "\n",
    "<!-- * _Answer_: Because we didn't remove NA values when we imported the first data.frame. thus\n",
    "\n",
    "if there are NA values in a dataset, R can not automatically\n",
    "\n",
    "perform the calculation even with using na.rm=TRUE because there are no NA values\n",
    "\n",
    "in the data.frame . -->\n",
    "\n",
    "</div>\n",
    "\n",
    "\n",
    "\n",
    "When performing mathematical operations on numbers in `R`, most functions will\n",
    "\n",
    "return the value `NA` if the data you are working with include missing values.\n",
    "\n",
    "This allows you to see that you have missing data in your dataset. You can add the\n",
    "\n",
    "argument `na.rm=TRUE` to calculate the result while ignoring the missing values.\n",
    "\n",
    "\n"
   ]
  },
  {
   "cell_type": "code",
   "execution_count": 21,
   "metadata": {},
   "outputs": [
    {
     "name": "stdout",
     "output_type": "stream",
     "text": [
      "nan\n",
      "nan\n"
     ]
    }
   ],
   "source": [
    "heights = np.array([2, 4, 4, np.nan, 6])\n",
    "print(np.mean(heights))\n",
    "print(np.max(heights))"
   ]
  },
  {
   "cell_type": "code",
   "execution_count": 23,
   "metadata": {},
   "outputs": [
    {
     "name": "stdout",
     "output_type": "stream",
     "text": [
      "4.0\n",
      "6.0\n"
     ]
    }
   ],
   "source": [
    "print(np.mean(heights[~np.isnan(heights)]))\n",
    "print(np.max(heights[~np.isnan(heights)]))"
   ]
  },
  {
   "cell_type": "code",
   "execution_count": 25,
   "metadata": {},
   "outputs": [
    {
     "name": "stdout",
     "output_type": "stream",
     "text": [
      "4.0\n",
      "6.0\n"
     ]
    }
   ],
   "source": [
    "print(np.nanmean(heights))\n",
    "print(np.nanmax(heights))"
   ]
  },
  {
   "cell_type": "code",
   "execution_count": 1,
   "metadata": {
    "collapsed": true
   },
   "outputs": [],
   "source": [
    "# ```{r math-no-data }\n",
    "\n",
    "# heights <- c(2, 4, 4, NA, 6)\n",
    "\n",
    "# mean(heights)\n",
    "\n",
    "# max(heights)\n",
    "\n",
    "# mean(heights, na.rm = TRUE)\n",
    "\n",
    "# max(heights, na.rm = TRUE)\n",
    "\n",
    "# ```\n"
   ]
  },
  {
   "cell_type": "markdown",
   "metadata": {},
   "source": [
    "\n",
    "\n",
    "The functions, `is.na()`, `na.omit()`, and `complete.cases()` are all useful for\n",
    "\n",
    "figuring out if your data has assigned (`NA`) no-data values. See below for\n",
    "\n",
    "examples.\n",
    "\n",
    "\n",
    "\n",
    "\n"
   ]
  },
  {
   "cell_type": "code",
   "execution_count": 24,
   "metadata": {},
   "outputs": [
    {
     "data": {
      "text/plain": [
       "array([ 2.,  4.,  4.,  6.])"
      ]
     },
     "execution_count": 24,
     "metadata": {},
     "output_type": "execute_result"
    }
   ],
   "source": [
    "heights[~np.isnan(heights)]"
   ]
  },
  {
   "cell_type": "code",
   "execution_count": null,
   "metadata": {
    "collapsed": true
   },
   "outputs": [],
   "source": [
    "# no \"omit\" function in python nor \"complete cases\""
   ]
  },
  {
   "cell_type": "code",
   "execution_count": 1,
   "metadata": {
    "collapsed": true
   },
   "outputs": [],
   "source": [
    "# ```{r, purl=FALSE}\n",
    "\n",
    "# # Extract those elements which are not missing values.\n",
    "\n",
    "# heights[!is.na(heights)]\n",
    "\n",
    "\n",
    "\n",
    "# # Returns the object with incomplete cases removed. The returned object is atomic.\n",
    "\n",
    "# na.omit(heights)\n",
    "\n",
    "\n",
    "\n",
    "# # Extract those elements which are complete cases.\n",
    "\n",
    "# heights[complete.cases(heights)]\n",
    "\n",
    "\n",
    "\n",
    "# ```\n"
   ]
  },
  {
   "cell_type": "markdown",
   "metadata": {},
   "source": [
    "\n",
    "\n",
    "<div class=\"notice--warning\" markdown=\"1\">\n",
    "\n",
    "\n",
    "\n",
    "## <i class=\"fa fa-pencil-square-o\" aria-hidden=\"true\"></i> Challenge\n",
    "\n",
    "\n",
    "\n",
    "* **Question**: Why does the following piece of code return a warning?\n",
    "\n",
    "\n"
   ]
  },
  {
   "cell_type": "code",
   "execution_count": 28,
   "metadata": {},
   "outputs": [
    {
     "data": {
      "text/plain": [
       "4.0"
      ]
     },
     "execution_count": 28,
     "metadata": {},
     "output_type": "execute_result"
    }
   ],
   "source": [
    "# This doesn't return a warning in python\n",
    "sample = np.array([2, 4, 4, np.nan, 6])\n",
    "np.nanmean(sample)"
   ]
  },
  {
   "cell_type": "code",
   "execution_count": 1,
   "metadata": {
    "collapsed": true
   },
   "outputs": [],
   "source": [
    "# ```{r, purl=FALSE}\n",
    "\n",
    "# sample <- c(2, 4, 4, \"NA\", 6)\n",
    "\n",
    "# mean(sample, na.rm = TRUE)\n",
    "\n",
    "# ```\n"
   ]
  }
 ],
 "metadata": {
  "kernelspec": {
   "display_name": "Python 3",
   "language": "python",
   "name": "python3"
  },
  "language_info": {
   "codemirror_mode": {
    "name": "ipython",
    "version": 3
   },
   "file_extension": ".py",
   "mimetype": "text/x-python",
   "name": "python",
   "nbconvert_exporter": "python",
   "pygments_lexer": "ipython3",
   "version": "3.6.0"
  },
  "toc": {
   "toc_cell": false,
   "toc_number_sections": false,
   "toc_threshold": "2",
   "toc_window_display": false
  }
 },
 "nbformat": 4,
 "nbformat_minor": 2
}
