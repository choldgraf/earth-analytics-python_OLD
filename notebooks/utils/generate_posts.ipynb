{
 "cells": [
  {
   "cell_type": "code",
   "execution_count": 2,
   "metadata": {},
   "outputs": [],
   "source": [
    "import nbformat as nf\n",
    "import nbconvert as nc\n",
    "import os\n",
    "import subprocess\n",
    "from glob import glob\n",
    "from tqdm import tqdm\n",
    "from datetime import datetime\n",
    "import shutil as sh"
   ]
  },
  {
   "cell_type": "code",
   "execution_count": 6,
   "metadata": {},
   "outputs": [],
   "source": [
    "# Path to root of site\n",
    "path_root = os.path.abspath('../../')\n",
    "\n",
    "# Finds the ipynb files\n",
    "files = glob('../final-notebooks/*/*/*.ipynb')\n",
    "\n",
    "# A dictionary that runs the function with the value as input\n",
    "run_keys = {'modified': lambda a: a.format(datetime.today())}\n",
    "\n",
    "# Where to save the MD posts\n",
    "save_path = '../../_posts/course-materials/earth-analytics-python/'"
   ]
  },
  {
   "cell_type": "code",
   "execution_count": 7,
   "metadata": {},
   "outputs": [
    {
     "name": "stderr",
     "output_type": "stream",
     "text": [
      "  0%|          | 0/30 [00:00<?, ?it/s]\n"
     ]
    },
    {
     "ename": "FileNotFoundError",
     "evalue": "[Errno 2] No such file or directory: './tmp/2016-12-06-erosion-02-precip-discharge-r-example.ipynb'",
     "output_type": "error",
     "traceback": [
      "\u001b[0;31m---------------------------------------------------------------------------\u001b[0m",
      "\u001b[0;31mFileNotFoundError\u001b[0m                         Traceback (most recent call last)",
      "\u001b[0;32m<ipython-input-7-ee22b699535b>\u001b[0m in \u001b[0;36m<module>\u001b[0;34m()\u001b[0m\n\u001b[1;32m     38\u001b[0m     \u001b[0;31m# Write the file\u001b[0m\u001b[0;34m\u001b[0m\u001b[0;34m\u001b[0m\u001b[0m\n\u001b[1;32m     39\u001b[0m     \u001b[0mpath_save_tmp_file\u001b[0m \u001b[0;34m=\u001b[0m \u001b[0mos\u001b[0m\u001b[0;34m.\u001b[0m\u001b[0mpath\u001b[0m\u001b[0;34m.\u001b[0m\u001b[0mjoin\u001b[0m\u001b[0;34m(\u001b[0m\u001b[0;34m'./tmp'\u001b[0m\u001b[0;34m,\u001b[0m \u001b[0mpath_tmp_file\u001b[0m\u001b[0;34m)\u001b[0m\u001b[0;34m\u001b[0m\u001b[0m\n\u001b[0;32m---> 40\u001b[0;31m     \u001b[0mnf\u001b[0m\u001b[0;34m.\u001b[0m\u001b[0mwrite\u001b[0m\u001b[0;34m(\u001b[0m\u001b[0mntbk\u001b[0m\u001b[0;34m,\u001b[0m \u001b[0mpath_save_tmp_file\u001b[0m\u001b[0;34m)\u001b[0m\u001b[0;34m\u001b[0m\u001b[0m\n\u001b[0m\u001b[1;32m     41\u001b[0m \u001b[0;34m\u001b[0m\u001b[0m\n\u001b[1;32m     42\u001b[0m     \u001b[0;31m# Call nbconvert\u001b[0m\u001b[0;34m\u001b[0m\u001b[0;34m\u001b[0m\u001b[0m\n",
      "\u001b[0;32m/Users/lewa8222/anaconda/lib/python3.6/site-packages/nbformat/__init__.py\u001b[0m in \u001b[0;36mwrite\u001b[0;34m(nb, fp, version, **kwargs)\u001b[0m\n\u001b[1;32m    161\u001b[0m     \"\"\"\n\u001b[1;32m    162\u001b[0m     \u001b[0;32mif\u001b[0m \u001b[0misinstance\u001b[0m\u001b[0;34m(\u001b[0m\u001b[0mfp\u001b[0m\u001b[0;34m,\u001b[0m \u001b[0;34m(\u001b[0m\u001b[0mpy3compat\u001b[0m\u001b[0;34m.\u001b[0m\u001b[0municode_type\u001b[0m\u001b[0;34m,\u001b[0m \u001b[0mbytes\u001b[0m\u001b[0;34m)\u001b[0m\u001b[0;34m)\u001b[0m\u001b[0;34m:\u001b[0m\u001b[0;34m\u001b[0m\u001b[0m\n\u001b[0;32m--> 163\u001b[0;31m         \u001b[0;32mwith\u001b[0m \u001b[0mio\u001b[0m\u001b[0;34m.\u001b[0m\u001b[0mopen\u001b[0m\u001b[0;34m(\u001b[0m\u001b[0mfp\u001b[0m\u001b[0;34m,\u001b[0m \u001b[0;34m'w'\u001b[0m\u001b[0;34m,\u001b[0m \u001b[0mencoding\u001b[0m\u001b[0;34m=\u001b[0m\u001b[0;34m'utf-8'\u001b[0m\u001b[0;34m)\u001b[0m \u001b[0;32mas\u001b[0m \u001b[0mf\u001b[0m\u001b[0;34m:\u001b[0m\u001b[0;34m\u001b[0m\u001b[0m\n\u001b[0m\u001b[1;32m    164\u001b[0m             \u001b[0;32mreturn\u001b[0m \u001b[0mwrite\u001b[0m\u001b[0;34m(\u001b[0m\u001b[0mnb\u001b[0m\u001b[0;34m,\u001b[0m \u001b[0mf\u001b[0m\u001b[0;34m,\u001b[0m \u001b[0mversion\u001b[0m\u001b[0;34m=\u001b[0m\u001b[0mversion\u001b[0m\u001b[0;34m,\u001b[0m \u001b[0;34m**\u001b[0m\u001b[0mkwargs\u001b[0m\u001b[0;34m)\u001b[0m\u001b[0;34m\u001b[0m\u001b[0m\n\u001b[1;32m    165\u001b[0m \u001b[0;34m\u001b[0m\u001b[0m\n",
      "\u001b[0;31mFileNotFoundError\u001b[0m: [Errno 2] No such file or directory: './tmp/2016-12-06-erosion-02-precip-discharge-r-example.ipynb'"
     ]
    }
   ],
   "source": [
    "for ifile in tqdm(files):\n",
    "    # Find file names etc\n",
    "    path = ifile.split('final-notebooks/')[-1]  # \n",
    "    path_tmp_file = os.path.basename(path)\n",
    "    file_name = os.path.splitext(path_tmp_file)[0]\n",
    "    path_folders = os.path.dirname(path)\n",
    "    path_rel_to_root = os.path.dirname(ifile.split('final-notebooks')[1])\n",
    "\n",
    "    # Read in notebook, pull meta cell\n",
    "    ntbk = nf.read(ifile, nf.NO_CONVERT)\n",
    "    meta = ntbk['cells'][0]\n",
    "    if meta['cell_type'] == 'raw':\n",
    "\n",
    "        # Only use lines with key: val pairs\n",
    "        metalines = meta['source'].split('\\n') \n",
    "        for ii, ln in enumerate(metalines):\n",
    "            if '---' in ln:\n",
    "                continue\n",
    "            split = ln.split(': ')\n",
    "            if len(split) < 2:\n",
    "                continue\n",
    "            if len(split) > 2:\n",
    "                ln_type = split[0]\n",
    "                ln_val = ': '.join(split[1:])\n",
    "            else:\n",
    "                ln_type, ln_val = split  \n",
    "                \n",
    "            # If we have a function for one of the keys, run it and replace the value\n",
    "            if ln_type not in run_keys.keys():\n",
    "                continue\n",
    "            new_val = eval(run_keys[ln_type](ln_val))\n",
    "            metalines[ii] = ': '.join([ln_type, new_val])\n",
    "        \n",
    "        # Replace the meta cell\n",
    "        meta['source'] = '\\n'.join(metalines)\n",
    "        ntbk['cells'][0] = meta\n",
    "\n",
    "    # Write the file\n",
    "    path_save_tmp_file = os.path.join('./tmp', path_tmp_file)\n",
    "    nf.write(ntbk, path_save_tmp_file)\n",
    "    \n",
    "    # Call nbconvert\n",
    "    build_path = os.path.join(path_root, \"_posts/course-materials/earth-analytics/{}\".format(path_rel_to_root))\n",
    "    build_call = '--FilesWriter.build_directory={}'.format(build_path)\n",
    "    \n",
    "    path_imgs_root = os.path.relpath(path_root, build_path)\n",
    "    images_path = os.path.join(path_imgs_root, \"images/course-materials/earth-analytics/{}\".format(path_rel_to_root))\n",
    "    images_call = '--NbConvertApp.output_files_dir={}'.format(images_path)\n",
    "\n",
    "\n",
    "    subprocess.call(['jupyter', 'nbconvert',\n",
    "                     '--to', 'markdown',\n",
    "                     images_call, build_call, path_save_tmp_file])\n",
    "    \n",
    "    # Clean up\n",
    "    os.remove(path_save_tmp_file)"
   ]
  },
  {
   "cell_type": "code",
   "execution_count": null,
   "metadata": {
    "collapsed": true
   },
   "outputs": [],
   "source": []
  }
 ],
 "metadata": {
  "kernelspec": {
   "display_name": "Python 3",
   "language": "python",
   "name": "python3"
  },
  "language_info": {
   "codemirror_mode": {
    "name": "ipython",
    "version": 3
   },
   "file_extension": ".py",
   "mimetype": "text/x-python",
   "name": "python",
   "nbconvert_exporter": "python",
   "pygments_lexer": "ipython3",
   "version": "3.6.0"
  },
  "toc": {
   "toc_cell": false,
   "toc_number_sections": false,
   "toc_threshold": "2",
   "toc_window_display": false
  }
 },
 "nbformat": 4,
 "nbformat_minor": 2
}
