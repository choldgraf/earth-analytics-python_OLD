{
 "cells": [
  {
   "cell_type": "raw",
   "metadata": {},
   "source": [
    "---\n",
    "layout: single\n",
    "title: \"Getting Help with R\"\n",
    "excerpt: \"This tutorial covers ways to get help when you are stuck in R. \"\n",
    "authors: ['Data Carpentry', 'Leah Wasser']\n",
    "category: [course-materials]\n",
    "class-lesson: ['get-to-know-python']\n",
    "permalink: /course-materials/earth-analytics-python/week-2/about-and-get-help-with-R/\n",
    "nav-title: 'About R / Getting Help'\n",
    "dateCreated: 2016-12-13\n",
    "modified: '{:%Y-%m-%d}'.format(datetime.now())\n",
    "week: 2\n",
    "sidebar:\n",
    "  nav:\n",
    "author_profile: false\n",
    "comments: true\n",
    "order: 7\n",
    "---\n"
   ]
  },
  {
   "cell_type": "markdown",
   "metadata": {},
   "source": [
    "\n",
    "\n",
    "{% include toc title=\"In This Lesson\" icon=\"file-text\" %}\n",
    "\n",
    "\n",
    "\n",
    "Getting help\n",
    "\n",
    "\n",
    "\n",
    "<div class='notice--success' markdown=\"1\">\n",
    "\n",
    "\n",
    "\n",
    "## <i class=\"fa fa-graduation-cap\" aria-hidden=\"true\"></i> Learning Objectives\n",
    "\n",
    "At the end of this activity, you will be able to:\n",
    "\n",
    "\n",
    "\n",
    "* List 2 ways that you can get help when you are stuck using R.\n",
    "\n",
    "* List several features of R that makes it a versatile tool for scientific programming.\n",
    "\n",
    "\n",
    "\n",
    "## <i class=\"fa fa-check-square-o fa-2\" aria-hidden=\"true\"></i> What you need\n",
    "\n",
    "\n",
    "\n",
    "A computer with internet access.\n",
    "\n",
    "\n",
    "\n",
    "</div>\n",
    "\n",
    "\n",
    "\n",
    "## Basics of R\n",
    "\n",
    "\n",
    "\n",
    "`R` is a versatile, open source programming/scripting language that's useful both\n",
    "\n",
    "for statistics but also data science. Inspired by the programming language S.\n",
    "\n",
    "\n",
    "\n",
    "* Free/Libre/Open Source Software under the [GPL version 2](https://www.gnu.org/licenses/old-licenses/gpl-2.0.html).\n",
    "\n",
    "* Superior (if not just comparable) to commercial alternatives. R has over 7,000\n",
    "\n",
    "  user contributed packages at this time. It's widely used both in academia and\n",
    "\n",
    "  industry.\n",
    "\n",
    "* Available on all platforms.\n",
    "\n",
    "* Not just for statistics, but also general purpose programming.\n",
    "\n",
    "* For people who have experience in programmming: R is both an object-oriented\n",
    "\n",
    "  and a so-called [functional language](http://adv-r.had.co.nz/Functional-programming.html).\n",
    "\n",
    "* Large and growing community of peers.\n",
    "\n",
    "\n",
    "\n",
    "## Seeking help\n",
    "\n",
    "\n",
    "\n",
    "Below we discuss a few ways that you can get help when you are stuck in R.\n",
    "\n",
    "\n",
    "\n",
    "\n",
    "\n",
    "## I know the name of the function I want to use, but I'm not sure how to use it\n",
    "\n",
    "\n",
    "\n",
    "If you need help with a specific function, let's say `barplot()`, you can type:\n",
    "\n",
    "\n"
   ]
  },
  {
   "cell_type": "code",
   "execution_count": 1,
   "metadata": {
    "collapsed": true
   },
   "outputs": [],
   "source": [
    "import matplotlib.pyplot as plt\n",
    "plt.bar?"
   ]
  },
  {
   "cell_type": "code",
   "execution_count": 1,
   "metadata": {
    "collapsed": true
   },
   "outputs": [],
   "source": [
    "# ```{r, eval=FALSE, purl=FALSE}\n",
    "\n",
    "# ?barplot\n",
    "\n",
    "# ```\n"
   ]
  },
  {
   "cell_type": "markdown",
   "metadata": {},
   "source": [
    "\n",
    "\n",
    "When you use the `?barplot` in the R console, you asking R to look for the documentation\n",
    "\n",
    "for the `barplot()` function.\n",
    "\n",
    "\n",
    "\n",
    "If you just need to remind yourself of the names of the arguments that can be used\n",
    "\n",
    "with the function, you can use:\n",
    "\n",
    "\n"
   ]
  },
  {
   "cell_type": "code",
   "execution_count": null,
   "metadata": {
    "collapsed": true
   },
   "outputs": [],
   "source": [
    "# plt.bar(<TAB>"
   ]
  },
  {
   "cell_type": "code",
   "execution_count": 1,
   "metadata": {
    "collapsed": true
   },
   "outputs": [],
   "source": [
    "# ```{r, eval=FALSE, purl=FALSE}\n",
    "\n",
    "# args(lm)\n",
    "\n",
    "# ```\n"
   ]
  },
  {
   "cell_type": "markdown",
   "metadata": {},
   "source": [
    "\n",
    "\n",
    "## I want to use a function that does X, there must be a function for it but I don't know which one...\n",
    "\n",
    "\n",
    "\n",
    "If you are looking for a function to do a particular task, you can use\n",
    "\n",
    "`help.search()` function, which is called by the double question mark `??`.\n",
    "\n",
    "However, this only looks through the installed packages for help pages with a\n",
    "\n",
    "match to your search request\n",
    "\n",
    "\n"
   ]
  },
  {
   "cell_type": "code",
   "execution_count": null,
   "metadata": {
    "collapsed": true
   },
   "outputs": [],
   "source": [
    "# This doesn't exist in python (to my knowledge)"
   ]
  },
  {
   "cell_type": "code",
   "execution_count": 1,
   "metadata": {
    "collapsed": true
   },
   "outputs": [],
   "source": [
    "# ```{r, eval=FALSE, purl=FALSE}\n",
    "\n",
    "# ??kruskal\n",
    "\n",
    "# ```\n"
   ]
  }
 ],
 "metadata": {
  "kernelspec": {
   "display_name": "Python 3",
   "language": "python",
   "name": "python3"
  },
  "language_info": {
   "codemirror_mode": {
    "name": "ipython",
    "version": 3
   },
   "file_extension": ".py",
   "mimetype": "text/x-python",
   "name": "python",
   "nbconvert_exporter": "python",
   "pygments_lexer": "ipython3",
   "version": "3.6.0"
  },
  "toc": {
   "toc_cell": false,
   "toc_number_sections": false,
   "toc_threshold": "2",
   "toc_window_display": false
  }
 },
 "nbformat": 4,
 "nbformat_minor": 2
}
