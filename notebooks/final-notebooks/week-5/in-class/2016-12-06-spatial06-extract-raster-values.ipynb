{
 "cells": [
  {
   "cell_type": "raw",
   "metadata": {
    "deletable": true,
    "editable": true
   },
   "source": [
    "---\n",
    "layout: single\n",
    "title: \"Extract raster values using vector boundaries in R\"\n",
    "excerpt: \"This lesson reviews how to extract data from a raster dataset using a\n",
    "vector dataset. \"\n",
    "authors: ['Leah Wasser']\n",
    "modified: '{:%Y-%m-%d}'.format(datetime.now())\n",
    "category: [course-materials]\n",
    "class-lesson: ['class-intro-spatial-r']\n",
    "permalink: /course-materials/earth-analytics/week-5/extract-data-from-raster/\n",
    "nav-title: 'Extract data from raster'\n",
    "week: 5\n",
    "sidebar:\n",
    "  nav:\n",
    "author_profile: false\n",
    "comments: true\n",
    "order: 6\n",
    "---\n"
   ]
  },
  {
   "cell_type": "code",
   "execution_count": null,
   "metadata": {
    "collapsed": true
   },
   "outputs": [],
   "source": []
  },
  {
   "cell_type": "markdown",
   "metadata": {
    "deletable": true,
    "editable": true
   },
   "source": [
    "{% include toc title=\"In This Lesson\" icon=\"file-text\" %}\n",
    "\n",
    "<div class='notice--success' markdown=\"1\">\n",
    "\n",
    "## <i class=\"fa fa-graduation-cap\" aria-hidden=\"true\"></i> Learning Objectives\n",
    "\n",
    "After completing this tutorial, you will be able to:\n",
    "\n",
    "* Use the `extract()` function to extract raster values using a vector extent or set of extents.\n",
    "* Create a scatter plot with a one to one line in `R`.\n",
    "* Understand the concept of uncertainty as it's associated with remote sensing data.\n",
    "\n",
    "## <i class=\"fa fa-check-square-o fa-2\" aria-hidden=\"true\"></i> What you need\n",
    "\n",
    "You will need a computer with internet access to complete this lesson and the data for week 5 of the course.\n",
    "\n",
    "[<i class=\"fa fa-download\" aria-hidden=\"true\"></i> Download Week 5 Data (~500 MB)](https://ndownloader.figshare.com/files/7525363){:data-proofer-ignore='' .btn }\n",
    "\n",
    "\n",
    "</div>\n",
    "\n",
    "First let's import the needed libraries and make sure our working directory is set"
   ]
  },
  {
   "cell_type": "code",
   "execution_count": 109,
   "metadata": {
    "collapsed": true,
    "deletable": true,
    "editable": true
   },
   "outputs": [],
   "source": [
    "# import all libraries\n",
    "import os\n",
    "import numpy as np\n",
    "import rasterio as rio\n",
    "import matplotlib.pyplot as plt\n",
    "import geopandas as gpd\n",
    "import rasterstats as rs\n",
    "import pandas as pd\n",
    "#from rasterio import plot as riop\n",
    "plt.ion()\n",
    "\n",
    "# be sure to set your working directory\n",
    "os.chdir(\"/Users/lewa8222/Documents/earth-analytics\")"
   ]
  },
  {
   "cell_type": "markdown",
   "metadata": {
    "deletable": true,
    "editable": true
   },
   "source": [
    "## Import Canopy Height Model\n",
    "\n",
    "First, we will import a canopy height model created by the NEON project. In the\n",
    "previous lessons / weeks we learned how to make a canopy height model by\n",
    "subtracting the Digital elevation model (DEM) from the Digital surface model (DSM).\n",
    "\n",
    "* first open and view histogram\n",
    "then fix data...\n",
    "\n",
    "## is there an easy way to view summary stats?"
   ]
  },
  {
   "cell_type": "code",
   "execution_count": 110,
   "metadata": {
    "collapsed": false
   },
   "outputs": [
    {
     "data": {
      "text/plain": [
       "<matplotlib.text.Text at 0x14de2b588>"
      ]
     },
     "execution_count": 110,
     "metadata": {},
     "output_type": "execute_result"
    },
    {
     "data": {
      "image/png": "[encoded data removed]",
      "text/plain": [
       "<matplotlib.figure.Figure at 0x14a97c550>"
      ]
     },
     "metadata": {},
     "output_type": "display_data"
    }
   ],
   "source": [
    "# So do i need to use a context manager each time  ??\n",
    "# i also don't understand this ravel part...\n",
    "SJER_chm = rio.open('data/week5/california/SJER/2013/lidar/SJER_lidarCHM.tif')\n",
    "\n",
    "# read in data -- not sure if masked = True works\n",
    "# can we create summary stats on the array?\n",
    "\n",
    "SJER_chm_data = SJER_chm.read(masked=True)\n",
    "\n",
    "# plot histogram\n",
    "# Need to add x and y labels to plot and title \n",
    "# note i don't think the -9999 no data value is being masked here properly -- there are no positive values in the histogram?\n",
    "# how does python handle bins??\n",
    "fig, ax = plt.subplots()\n",
    "ax.hist(SJER_chm_data.ravel())\n",
    "plt.title('Distribution of lidar canopy height values ')\n",
    "\n"
   ]
  },
  {
   "cell_type": "code",
   "execution_count": 111,
   "metadata": {
    "collapsed": false
   },
   "outputs": [
    {
     "name": "stdout",
     "output_type": "stream",
     "text": [
      "mean: 1.9355862432\n",
      "max: 45.88\n"
     ]
    },
    {
     "data": {
      "text/plain": [
       "0.0"
      ]
     },
     "execution_count": 111,
     "metadata": {},
     "output_type": "execute_result"
    }
   ],
   "source": [
    "print('mean:', SJER_chm_data.mean())\n",
    "print('max:', SJER_chm_data.max())\n",
    "SJER_chm_data.min()"
   ]
  },
  {
   "cell_type": "markdown",
   "metadata": {},
   "source": [
    "## Data values\n",
    "Looking at the distribution of data, it appears as if there is a skew around 0. IN this case, there are a lot of pixels with a value of 0 - where there are no trees. We may want to set these values to NA as the will impact our plot summary statistics.\n",
    "\n",
    "## Clean CHM data\n",
    "\n",
    "Notice that when we import the raster below, we use a context manager `with`. This creates a \n",
    "connection to our geotiff dataset. When the with segment of code ends, the connection to \n",
    "the dataset is then closed for us. \n",
    "\n",
    "In our code below we perform the following tasks\n",
    "\n",
    "1. we create a connection to the `SJER_lidarCHM.tif` geotiff file. \n",
    "2. We then read in the actual data as a numpy array. This allows us to manipulate the data. Notice that the code below uses `read(1)` - this tells python to only import the FIRST BAND of our raster. In this case we only have one band but we need to specify that we are only importing that one band. \n",
    "\n",
    "`SJER_chm_data = lidar_chm_src.read(1)`\n",
    "\n",
    "3. Finally we set all pixels that have the value of 0 to `nan` (no data values)\n",
    "`SJER_chm_data[SJER_chm_data==0] = np.nan`\n",
    "4. Finally we grab the spatial attributes of our original raster and save them to a variable called `profile`.\n",
    "\n",
    "`profile = lidar_chm_src.profile`"
   ]
  },
  {
   "cell_type": "code",
   "execution_count": 112,
   "metadata": {
    "collapsed": false
   },
   "outputs": [],
   "source": [
    "# load lidar canopy height model raster  using rasterio\n",
    "# note that we are using a context manager - with to do this \n",
    "with rio.open('data/week5/california/SJER/2013/lidar/SJER_lidarCHM.tif') as lidar_chm_src:\n",
    "    # read the data into a numpy array\n",
    "    # note that the (1) ensures you get a 2 dimensional object rather than 3\n",
    "    SJER_chm_data = lidar_chm_src.read(1) \n",
    "    # set CHM values of 0 to NAN\n",
    "    SJER_chm_data[SJER_chm_data==0] = np.nan\n",
    "    profile = lidar_chm_src.profile\n",
    "\n",
    "# https://mapbox.github.io/rasterio/quickstart.html\n"
   ]
  },
  {
   "cell_type": "markdown",
   "metadata": {},
   "source": [
    "Before we go any further, let's have a look at the profile object. This object is a dictionary that contains all of the spatial attributes of our original geotiff. \n",
    "\n",
    "When we read the data into a numpy array, it becomes a generic object with no spatial attributes. A numpy array only contains the pixel values for each cell stored in an `array` or matrix format. "
   ]
  },
  {
   "cell_type": "code",
   "execution_count": 113,
   "metadata": {
    "collapsed": false
   },
   "outputs": [
    {
     "data": {
      "text/plain": [
       "dict"
      ]
     },
     "execution_count": 113,
     "metadata": {},
     "output_type": "execute_result"
    }
   ],
   "source": [
    "type(profile)"
   ]
  },
  {
   "cell_type": "code",
   "execution_count": 114,
   "metadata": {
    "collapsed": false
   },
   "outputs": [
    {
     "ename": "SyntaxError",
     "evalue": "invalid syntax (<ipython-input-114-20aef61a79a4>, line 1)",
     "output_type": "error",
     "traceback": [
      "\u001b[0;36m  File \u001b[0;32m\"<ipython-input-114-20aef61a79a4>\"\u001b[0;36m, line \u001b[0;32m1\u001b[0m\n\u001b[0;31m    If we look at the profile object we will see all of the attributes. We are going to use that object to\u001b[0m\n\u001b[0m        ^\u001b[0m\n\u001b[0;31mSyntaxError\u001b[0m\u001b[0;31m:\u001b[0m invalid syntax\n"
     ]
    }
   ],
   "source": [
    "If we look at the profile object we will see all of the attributes. We are going to use that object to \n",
    "set all of the spatial attributes when we write out our modified numpy array to a new geotiff\n"
   ]
  },
  {
   "cell_type": "code",
   "execution_count": null,
   "metadata": {
    "collapsed": false
   },
   "outputs": [],
   "source": [
    "profile"
   ]
  },
  {
   "cell_type": "markdown",
   "metadata": {
    "deletable": true,
    "editable": true
   },
   "source": [
    "\n",
    "\n",
    "\n",
    "\n",
    "There are a lot of values in our CHM that == 0. Let's set those to `NA` and plot\n",
    "\n",
    "again.\n",
    "\n",
    "\n"
   ]
  },
  {
   "cell_type": "code",
   "execution_count": null,
   "metadata": {
    "collapsed": false
   },
   "outputs": [],
   "source": [
    "# load lidar canopy height model raster  using rasterio\n",
    "# note that we are using a context manager - with to do this \n",
    "with rio.open('data/week5/california/SJER/2013/lidar/SJER_lidarCHM.tif') as lidar_chm_src:\n",
    "    # read the data into a numpy array\n",
    "    # note that the (1) ensures you get a 2 dimensional object rather than 3\n",
    "    SJER_chm_data = lidar_chm_src.read(1) \n",
    "    # set CHM values of 0 to NAN\n",
    "    # currently this seems to be assigning all values to nan\n",
    "    # instead i set it tot he no data value which is -9999.0\n",
    "    SJER_chm_data[SJER_chm_data == 0] = -9999\n",
    "    profile = lidar_chm_src.profile\n"
   ]
  },
  {
   "cell_type": "code",
   "execution_count": null,
   "metadata": {
    "collapsed": false
   },
   "outputs": [],
   "source": [
    "# what is .ravel -- a flattened array? i don't think we want that \n",
    "#SJER_chm_data_ravel = SJER_chm_data.ravel()\n",
    "#SJER_chm_data_ravel = SJER_chm_data_ravel[SJER_chm_data_ravel > 0]\n",
    "\n",
    "# create histogram \n",
    "#fig, ax = plt.subplots()\n",
    "#ax.hist(SJER_chm_data_ravel)\n",
    "\n",
    "print('MEAN:',SJER_chm_data.mean())\n",
    "print('MIN:',SJER_chm_data.min())\n",
    "print('MAX:',SJER_chm_data.max())\n",
    "# create histogram \n",
    "#fig, ax = plt.subplots()\n",
    "#ax.hist(SJER_chm_data)"
   ]
  },
  {
   "cell_type": "code",
   "execution_count": null,
   "metadata": {
    "collapsed": false
   },
   "outputs": [],
   "source": [
    "# ok so this is a masked array -- need to better understand ravel\n",
    "# then need to understand how you'd export this to a geotiff if need be. \n",
    "type(SJER_chm_data)"
   ]
  },
  {
   "cell_type": "markdown",
   "metadata": {},
   "source": [
    "Finally, export the cleaned data to a geotiff. Notice that we have a nodatavalue specified in our profile object."
   ]
  },
  {
   "cell_type": "code",
   "execution_count": null,
   "metadata": {
    "collapsed": false
   },
   "outputs": [],
   "source": [
    "# assign cleaned lidar path\n",
    "lidar_path = 'sjer_chm_zero_removed.tif'\n",
    "# write a new geotiff using the spatial attributes of the original data \n",
    "with rio.open(lidar_path, 'w', **profile) as dst:\n",
    "     # astype ensures the output format is correct \n",
    "    dst.write(SJER_chm_data.astype(rio.float32), 1) \n"
   ]
  },
  {
   "cell_type": "markdown",
   "metadata": {},
   "source": [
    "Finally let's have a look at a historgram of the cleaned, exported CHM data. Note that when we import the \n",
    "data, we set masked=True to make sure that python maskes out our NA or no data values. "
   ]
  },
  {
   "cell_type": "code",
   "execution_count": null,
   "metadata": {
    "collapsed": false
   },
   "outputs": [],
   "source": [
    "with rio.open(lidar_path) as lidar_chm2_src:\n",
    "    SJER_chm2_data = lidar_chm2_src.read(1, masked=True)\n",
    "   \n",
    "# view mean, min max\n",
    "print('MEAN:',SJER_chm2_data.mean())\n",
    "print('MIN:',SJER_chm2_data.min())\n",
    "print('MAX:',SJER_chm2_data.max())\n",
    "\n"
   ]
  },
  {
   "cell_type": "markdown",
   "metadata": {},
   "source": [
    "## not sure why this histogram isn't plotting correctly? it's taking forever and then it seems to fail. "
   ]
  },
  {
   "cell_type": "code",
   "execution_count": null,
   "metadata": {
    "collapsed": false
   },
   "outputs": [],
   "source": [
    "# i don't understand how to deal with NA values with a np array. \n",
    "#SJER_chm2_data[SJER_chm2_data.mask]\n",
    "#SJER_chm2_data[SJER_chm2_data==-9999] = np.nan"
   ]
  },
  {
   "cell_type": "code",
   "execution_count": null,
   "metadata": {
    "collapsed": false
   },
   "outputs": [],
   "source": [
    "# create histogram \n",
    "#i don't understand why i can't just set the na value and have it ignore when i plot?\n",
    "# this isn't masked -- \n",
    "fig, ax = plt.subplots()\n",
    "#ax.hist(SJER_chm2_data.ravel())\n",
    "ax.hist(SJER_chm2_data[~np.isnan(SJER_chm2_data)])\n",
    "plt.title('Distribution of lidar canopy height values ')\n",
    "\n",
    "\n",
    "#A[~np.isnan(A)\n",
    "\n",
    "#plt.hist(SJER_chm2_data.ravel(), bins='auto')  # plt.hist passes it's arguments to np.histogram\n",
    "#plt.title(\"Histogram with 'auto' bins\")\n",
    "#plt.show()\n",
    "    \n",
    "# view the new data quickly.\n",
    "#lidar_path"
   ]
  },
  {
   "cell_type": "markdown",
   "metadata": {
    "deletable": true,
    "editable": true
   },
   "source": [
    "## Part 2. Does our CHM data compare to field measured tree heights?\n",
    "\n",
    "We now have a canopy height model for our study area in California. However, how\n",
    "do the height values extracted from the CHM compare to our laboriously collected,\n",
    "field measured canopy height data? To figure this out, we will use *in situ* collected\n",
    "tree height data, measured within circular plots across our study area. We will compare\n",
    "the maximum measured tree height value to the maximum LiDAR derived height value\n",
    "for each circular plot using regression.\n",
    "\n",
    "For this activity, we will use the a `csv` (comma separate value) file,\n",
    "located in `SJER/2013/insitu/veg_structure/D17_2013_SJER_vegStr.csv`."
   ]
  },
  {
   "cell_type": "markdown",
   "metadata": {
    "collapsed": true
   },
   "source": [
    "First we import the shapefile that contains the plot centroid locations using geopandas."
   ]
  },
  {
   "cell_type": "code",
   "execution_count": 125,
   "metadata": {
    "collapsed": false
   },
   "outputs": [
    {
     "data": {
      "text/plain": [
       "geopandas.geodataframe.GeoDataFrame"
      ]
     },
     "execution_count": 125,
     "metadata": {},
     "output_type": "execute_result"
    }
   ],
   "source": [
    "SJER_plots = gpd.read_file('data/week5/california/SJER/vector_data/SJER_plot_centroids.shp')\n",
    "type(SJER_plots)"
   ]
  },
  {
   "cell_type": "code",
   "execution_count": 126,
   "metadata": {
    "collapsed": false
   },
   "outputs": [
    {
     "data": {
      "text/plain": [
       "(254738.61799999999, 4107527.074, 258497.10200000001, 4112167.7779999999)"
      ]
     },
     "execution_count": 126,
     "metadata": {},
     "output_type": "execute_result"
    }
   ],
   "source": [
    "# view spatial extent of shapefile \n",
    "SJER_plots.total_bounds"
   ]
  },
  {
   "cell_type": "markdown",
   "metadata": {},
   "source": [
    "## Data structure\n",
    "We can use `SJER_plots.geom_type.head()` to determine the vector type of the shapefile that we imported. Below, we see that the data are stored as points. These points represent the centroid (or hte center) of the plot where trees were measured. We want to extract tree height values derived from the lidar data for the entire plot. To do this, we will need to create a BUFFER around the points."
   ]
  },
  {
   "cell_type": "code",
   "execution_count": 127,
   "metadata": {
    "collapsed": false
   },
   "outputs": [
    {
     "data": {
      "text/plain": [
       "0    Point\n",
       "1    Point\n",
       "2    Point\n",
       "3    Point\n",
       "4    Point\n",
       "dtype: object"
      ]
     },
     "execution_count": 127,
     "metadata": {},
     "output_type": "execute_result"
    }
   ],
   "source": [
    "SJER_plots.geom_type.head()"
   ]
  },
  {
   "cell_type": "markdown",
   "metadata": {},
   "source": [
    "In this case our plot size is 40m. If we create a circular buffer wiht a 20m diameter it will closely approximate where trees were measured on the ground. \n",
    "\n",
    "We can use the .buffer() function to create the buffer. Here the buffer size is specified in the () of the function. We will send the new object to a new shapefile using .to_file() as follows:\n",
    "\n",
    "`SJER_plots.buffer(20).to_file('path-to-shapefile-here.shp')`\n"
   ]
  },
  {
   "cell_type": "code",
   "execution_count": 128,
   "metadata": {
    "collapsed": true
   },
   "outputs": [],
   "source": [
    "# sneaky assign the buffer geometry to the points layer to maintain attributes\n",
    "SJER_plots[\"geometry\"] = SJER_plots.geometry.buffer(20)\n",
    "SJER_plots[\"geometry\"]\n",
    "\n",
    "# export the layer as a shapefile to use in zonal stats\n",
    "plot_buffer_path = 'plot_buffer.shp'\n",
    "SJER_plots.to_file(plot_buffer_path)"
   ]
  },
  {
   "cell_type": "code",
   "execution_count": 129,
   "metadata": {
    "collapsed": false
   },
   "outputs": [
    {
     "ename": "NameError",
     "evalue": "name 'data_ravel' is not defined",
     "output_type": "error",
     "traceback": [
      "\u001b[0;31m---------------------------------------------------------------------------\u001b[0m",
      "\u001b[0;31mNameError\u001b[0m                                 Traceback (most recent call last)",
      "\u001b[0;32m<ipython-input-129-a0ff65a26c88>\u001b[0m in \u001b[0;36m<module>\u001b[0;34m()\u001b[0m\n\u001b[1;32m      5\u001b[0m ax.imshow(SJER_chm.read()[0], \n\u001b[1;32m      6\u001b[0m           \u001b[0mextent\u001b[0m\u001b[0;34m=\u001b[0m\u001b[0;34m[\u001b[0m\u001b[0mbounds\u001b[0m\u001b[0;34m.\u001b[0m\u001b[0mleft\u001b[0m\u001b[0;34m,\u001b[0m \u001b[0mbounds\u001b[0m\u001b[0;34m.\u001b[0m\u001b[0mright\u001b[0m\u001b[0;34m,\u001b[0m \u001b[0mbounds\u001b[0m\u001b[0;34m.\u001b[0m\u001b[0mbottom\u001b[0m\u001b[0;34m,\u001b[0m \u001b[0mbounds\u001b[0m\u001b[0;34m.\u001b[0m\u001b[0mtop\u001b[0m\u001b[0;34m]\u001b[0m\u001b[0;34m,\u001b[0m\u001b[0;34m\u001b[0m\u001b[0m\n\u001b[0;32m----> 7\u001b[0;31m           \u001b[0mvmin\u001b[0m\u001b[0;34m=\u001b[0m\u001b[0mdata_ravel\u001b[0m\u001b[0;34m.\u001b[0m\u001b[0mmin\u001b[0m\u001b[0;34m(\u001b[0m\u001b[0;34m)\u001b[0m\u001b[0;34m,\u001b[0m\u001b[0;34m\u001b[0m\u001b[0m\n\u001b[0m\u001b[1;32m      8\u001b[0m           vmax=data_ravel.max())\n\u001b[1;32m      9\u001b[0m \u001b[0mSJER_plots\u001b[0m\u001b[0;34m.\u001b[0m\u001b[0mplot\u001b[0m\u001b[0;34m(\u001b[0m\u001b[0max\u001b[0m\u001b[0;34m=\u001b[0m\u001b[0max\u001b[0m\u001b[0;34m,\u001b[0m \u001b[0mmarkersize\u001b[0m\u001b[0;34m=\u001b[0m\u001b[0;36m10\u001b[0m\u001b[0;34m,\u001b[0m \u001b[0mcolor\u001b[0m\u001b[0;34m=\u001b[0m\u001b[0;34m'r'\u001b[0m\u001b[0;34m)\u001b[0m\u001b[0;34m\u001b[0m\u001b[0m\n",
      "\u001b[0;31mNameError\u001b[0m: name 'data_ravel' is not defined"
     ]
    },
    {
     "data": {
      "image/png": "[encoded data removed]",
      "text/plain": [
       "<matplotlib.figure.Figure at 0x14f490a90>"
      ]
     },
     "metadata": {},
     "output_type": "display_data"
    }
   ],
   "source": [
    "# need to change the cmap to greys\n",
    "# need to figure out whay this is plotting - it seems different from how we plotted earlier. \n",
    "\n",
    "fig, ax = plt.subplots()\n",
    "ax.imshow(SJER_chm.read()[0], \n",
    "          extent=[bounds.left, bounds.right, bounds.bottom, bounds.top],\n",
    "          vmin=data_ravel.min(), \n",
    "          vmax=data_ravel.max())\n",
    "SJER_plots.plot(ax=ax, markersize=10, color='r')\n",
    "ax.set(title=\"San Joachin - Tree Plot Locations\")"
   ]
  },
  {
   "cell_type": "code",
   "execution_count": null,
   "metadata": {
    "collapsed": true,
    "deletable": true,
    "editable": true
   },
   "outputs": [],
   "source": []
  },
  {
   "cell_type": "markdown",
   "metadata": {},
   "source": [
    "## Extract pixel values for each plot \n",
    "\n",
    "Once we have the boundary for each plot location (a 20m diameter circle) we can extract all of the pixels that fall within each circle using the function `zonal_stats` in the `rasterstats` library. \n",
    "\n"
   ]
  },
  {
   "cell_type": "markdown",
   "metadata": {
    "deletable": true,
    "editable": true
   },
   "source": [
    "### Extract CMH data within 20 m radius of each plot centroid.\n",
    "\n",
    "Next, we will create a boundary region (called a buffer) representing the spatial\n",
    "extent of each plot (where trees were measured). We will then extract all CHM pixels\n",
    "that fall within the plot boundary to use to estimate tree height for that plot.\n",
    "\n",
    "There are a few ways to go about this task. If our plots are circular, then we can\n",
    "use the `extract()` function.\n",
    "\n",
    "<figure>\n",
    "    <img src=\"{{ site.url }}/images/course-materials/earth-analytics/week-5/buffer-circular.png\" alt=\"buffer circular\">\n",
    "    <figcaption>The extract function in R allows you to specify a circular buffer\n",
    "    radius around an x,y point location. Values for all pixels in the specified\n",
    "    raster that fall within the circular buffer are extracted. In this case, we\n",
    "    will tell R to extract the maximum value of all pixels using the fun=max\n",
    "    command. Source: Colin Williams, NEON\n",
    "    </figcaption>\n",
    "</figure>\n",
    "\n",
    "### Extract Plot Data Using Circle: 20m Radius Plots"
   ]
  },
  {
   "cell_type": "code",
   "execution_count": 130,
   "metadata": {
    "collapsed": false,
    "deletable": true,
    "editable": true
   },
   "outputs": [
    {
     "name": "stderr",
     "output_type": "stream",
     "text": [
      "/Users/lewa8222/anaconda/lib/python3.6/site-packages/rasterstats/main.py:142: FutureWarning: The value of this property will change in version 1.0. Please see https://github.com/mapbox/rasterio/issues/86 for details.\n",
      "  with Raster(raster, affine, nodata, band) as rast:\n",
      "/Users/lewa8222/anaconda/lib/python3.6/site-packages/rasterstats/io.py:242: FutureWarning: GDAL-style transforms are deprecated and will not be supported in Rasterio 1.0.\n",
      "  self.affine = guard_transform(self.src.transform)\n"
     ]
    },
    {
     "data": {
      "text/plain": [
       "{'geometry': {'coordinates': [[(257426.967, 4111298.971),\n",
       "    (257426.87069453346, 4111297.010657193),\n",
       "    (257426.58270560807, 4111295.0691935597),\n",
       "    (257426.10580671465, 4111293.165306455),\n",
       "    (257425.44459065024, 4111291.3173313527),\n",
       "    (257424.60542528698, 4111289.5430652634),\n",
       "    (257423.59639224605, 4111287.8595953393),\n",
       "    (257422.42720906725, 4111286.2831343166),\n",
       "    (257421.10913562373, 4111284.828864376),\n",
       "    (257419.6548656833, 4111283.5107909325),\n",
       "    (257418.0784046604, 4111282.3416077537),\n",
       "    (257416.3949347365, 4111281.332574713),\n",
       "    (257414.62066864732, 4111280.4934093496),\n",
       "    (257412.7726935451, 4111279.832193285),\n",
       "    (257410.86880644032, 4111279.355294392),\n",
       "    (257408.9273428066, 4111279.0673054666),\n",
       "    (257406.967, 4111278.971),\n",
       "    (257405.00665719341, 4111279.0673054666),\n",
       "    (257403.06519355968, 4111279.355294392),\n",
       "    (257401.16130645492, 4111279.832193285),\n",
       "    (257399.3133313527, 4111280.4934093496),\n",
       "    (257397.5390652635, 4111281.332574713),\n",
       "    (257395.8555953396, 4111282.3416077537),\n",
       "    (257394.27913431672, 4111283.5107909325),\n",
       "    (257392.82486437628, 4111284.828864376),\n",
       "    (257391.50679093276, 4111286.2831343166),\n",
       "    (257390.33760775396, 4111287.8595953393),\n",
       "    (257389.32857471303, 4111289.5430652634),\n",
       "    (257388.48940934977, 4111291.3173313527),\n",
       "    (257387.82819328536, 4111293.165306455),\n",
       "    (257387.35129439193, 4111295.0691935597),\n",
       "    (257387.06330546655, 4111297.010657193),\n",
       "    (257386.967, 4111298.971),\n",
       "    (257387.06330546655, 4111300.9313428067),\n",
       "    (257387.35129439193, 4111302.87280644),\n",
       "    (257387.82819328536, 4111304.776693545),\n",
       "    (257388.48940934977, 4111306.624668647),\n",
       "    (257389.32857471303, 4111308.3989347364),\n",
       "    (257390.33760775396, 4111310.0824046605),\n",
       "    (257391.50679093276, 4111311.6588656832),\n",
       "    (257392.82486437628, 4111313.1131356237),\n",
       "    (257394.27913431672, 4111314.4312090673),\n",
       "    (257395.8555953396, 4111315.600392246),\n",
       "    (257397.5390652635, 4111316.6094252868),\n",
       "    (257399.3133313527, 4111317.44859065),\n",
       "    (257401.16130645492, 4111318.1098067146),\n",
       "    (257403.06519355968, 4111318.586705608),\n",
       "    (257405.00665719341, 4111318.874694533),\n",
       "    (257406.967, 4111318.971),\n",
       "    (257408.9273428066, 4111318.874694533),\n",
       "    (257410.86880644032, 4111318.586705608),\n",
       "    (257412.7726935451, 4111318.1098067146),\n",
       "    (257414.62066864732, 4111317.44859065),\n",
       "    (257416.3949347365, 4111316.6094252868),\n",
       "    (257418.0784046604, 4111315.600392246),\n",
       "    (257419.6548656833, 4111314.4312090673),\n",
       "    (257421.10913562373, 4111313.1131356237),\n",
       "    (257422.42720906725, 4111311.6588656832),\n",
       "    (257423.59639224605, 4111310.0824046605),\n",
       "    (257424.60542528698, 4111308.3989347364),\n",
       "    (257425.44459065024, 4111306.624668647),\n",
       "    (257426.10580671465, 4111304.776693545),\n",
       "    (257426.58270560807, 4111302.87280644),\n",
       "    (257426.87069453346, 4111300.9313428067),\n",
       "    (257426.967, 4111298.971)]],\n",
       "  'type': 'Polygon'},\n",
       " 'id': '1',\n",
       " 'properties': OrderedDict([('Plot_ID', 'SJER112'),\n",
       "              ('Point', 'center'),\n",
       "              ('easting', 257406.967),\n",
       "              ('northing', 4111298.971),\n",
       "              ('plot_type', 'trees'),\n",
       "              ('min', 2.0999999046325684),\n",
       "              ('max', 24.01999855041504),\n",
       "              ('mean', 10.3692772996614),\n",
       "              ('count', 443),\n",
       "              ('median', 7.869999885559082)]),\n",
       " 'type': 'Feature'}"
      ]
     },
     "execution_count": 130,
     "metadata": {},
     "output_type": "execute_result"
    }
   ],
   "source": [
    "# import new geotiff with 0's removed\n",
    "# Extract zonal stats\n",
    "sjer_tree_heights = rs.zonal_stats(plot_buffer_path, \n",
    "            lidar_path, \n",
    "            geojson_out=True,\n",
    "            copy_properties=True,\n",
    "            stats=\"count min mean max median\")\n",
    "# view first item in dictionary\n",
    "sjer_tree_heights[1]\n"
   ]
  },
  {
   "cell_type": "code",
   "execution_count": 131,
   "metadata": {
    "collapsed": false
   },
   "outputs": [
    {
     "data": {
      "text/html": [
       "<div>\n",
       "<table border=\"1\" class=\"dataframe\">\n",
       "  <thead>\n",
       "    <tr style=\"text-align: right;\">\n",
       "      <th></th>\n",
       "      <th>Plot_ID</th>\n",
       "      <th>Point</th>\n",
       "      <th>count</th>\n",
       "      <th>easting</th>\n",
       "      <th>geometry</th>\n",
       "      <th>max</th>\n",
       "      <th>mean</th>\n",
       "      <th>median</th>\n",
       "      <th>min</th>\n",
       "      <th>northing</th>\n",
       "      <th>plot_type</th>\n",
       "    </tr>\n",
       "  </thead>\n",
       "  <tbody>\n",
       "    <tr>\n",
       "      <th>0</th>\n",
       "      <td>SJER1068</td>\n",
       "      <td>center</td>\n",
       "      <td>161</td>\n",
       "      <td>255852.376</td>\n",
       "      <td>POLYGON ((255872.376 4111567.818, 255872.27969...</td>\n",
       "      <td>19.049999</td>\n",
       "      <td>11.544347</td>\n",
       "      <td>12.62</td>\n",
       "      <td>2.04</td>\n",
       "      <td>4111567.818</td>\n",
       "      <td>trees</td>\n",
       "    </tr>\n",
       "    <tr>\n",
       "      <th>1</th>\n",
       "      <td>SJER112</td>\n",
       "      <td>center</td>\n",
       "      <td>443</td>\n",
       "      <td>257406.967</td>\n",
       "      <td>POLYGON ((257426.967 4111298.971, 257426.87069...</td>\n",
       "      <td>24.019999</td>\n",
       "      <td>10.369277</td>\n",
       "      <td>7.87</td>\n",
       "      <td>2.10</td>\n",
       "      <td>4111298.971</td>\n",
       "      <td>trees</td>\n",
       "    </tr>\n",
       "    <tr>\n",
       "      <th>2</th>\n",
       "      <td>SJER116</td>\n",
       "      <td>center</td>\n",
       "      <td>643</td>\n",
       "      <td>256838.760</td>\n",
       "      <td>POLYGON ((256858.76 4110819.876, 256858.663694...</td>\n",
       "      <td>16.070000</td>\n",
       "      <td>7.518398</td>\n",
       "      <td>6.80</td>\n",
       "      <td>2.82</td>\n",
       "      <td>4110819.876</td>\n",
       "      <td>grass</td>\n",
       "    </tr>\n",
       "    <tr>\n",
       "      <th>3</th>\n",
       "      <td>SJER117</td>\n",
       "      <td>center</td>\n",
       "      <td>245</td>\n",
       "      <td>256176.947</td>\n",
       "      <td>POLYGON ((256196.947 4108752.026, 256196.85069...</td>\n",
       "      <td>11.059999</td>\n",
       "      <td>7.675346</td>\n",
       "      <td>7.93</td>\n",
       "      <td>3.24</td>\n",
       "      <td>4108752.026</td>\n",
       "      <td>trees</td>\n",
       "    </tr>\n",
       "    <tr>\n",
       "      <th>4</th>\n",
       "      <td>SJER120</td>\n",
       "      <td>center</td>\n",
       "      <td>17</td>\n",
       "      <td>255968.372</td>\n",
       "      <td>POLYGON ((255988.372 4110476.079, 255988.27569...</td>\n",
       "      <td>5.740000</td>\n",
       "      <td>4.591177</td>\n",
       "      <td>4.45</td>\n",
       "      <td>3.38</td>\n",
       "      <td>4110476.079</td>\n",
       "      <td>grass</td>\n",
       "    </tr>\n",
       "  </tbody>\n",
       "</table>\n",
       "</div>"
      ],
      "text/plain": [
       "    Plot_ID   Point  count     easting  \\\n",
       "0  SJER1068  center    161  255852.376   \n",
       "1   SJER112  center    443  257406.967   \n",
       "2   SJER116  center    643  256838.760   \n",
       "3   SJER117  center    245  256176.947   \n",
       "4   SJER120  center     17  255968.372   \n",
       "\n",
       "                                            geometry        max       mean  \\\n",
       "0  POLYGON ((255872.376 4111567.818, 255872.27969...  19.049999  11.544347   \n",
       "1  POLYGON ((257426.967 4111298.971, 257426.87069...  24.019999  10.369277   \n",
       "2  POLYGON ((256858.76 4110819.876, 256858.663694...  16.070000   7.518398   \n",
       "3  POLYGON ((256196.947 4108752.026, 256196.85069...  11.059999   7.675346   \n",
       "4  POLYGON ((255988.372 4110476.079, 255988.27569...   5.740000   4.591177   \n",
       "\n",
       "   median   min     northing plot_type  \n",
       "0   12.62  2.04  4111567.818     trees  \n",
       "1    7.87  2.10  4111298.971     trees  \n",
       "2    6.80  2.82  4110819.876     grass  \n",
       "3    7.93  3.24  4108752.026     trees  \n",
       "4    4.45  3.38  4110476.079     grass  "
      ]
     },
     "execution_count": 131,
     "metadata": {},
     "output_type": "execute_result"
    }
   ],
   "source": [
    "# turn extracted data into a pandas geo data frame \n",
    "SJER_lidar_height_df = gpd.GeoDataFrame.from_features(sjer_tree_heights)\n",
    "SJER_lidar_height_df.head()"
   ]
  },
  {
   "cell_type": "markdown",
   "metadata": {
    "deletable": true,
    "editable": true
   },
   "source": [
    "#### Explore The Data Distribution\n",
    "\n",
    "If you want to explore the data distribution of pixel height values in each plot,\n",
    "you could remove the `fun` call to max and generate a list.\n",
    "`cent_ovrList <- extract(chm,centroid_sp,buffer = 20)`. It's good to look at the\n",
    "distribution of values we've extracted for each plot. Then you could generate a\n",
    "histogram for each plot `hist(cent_ovrList[[2]])`. If we wanted, we could loop\n",
    "through several plots and create histograms using a `for loop`.\n"
   ]
  },
  {
   "cell_type": "code",
   "execution_count": null,
   "metadata": {
    "collapsed": true,
    "deletable": true,
    "editable": true
   },
   "outputs": [],
   "source": [
    "\n",
    "# this should show how to create a histogram of tree heights for each plot \n",
    "# we can skip this if it's not possible with  zonal stats...\n",
    "\n"
   ]
  },
  {
   "cell_type": "markdown",
   "metadata": {
    "deletable": true,
    "editable": true
   },
   "source": [
    "## Extract descriptive stats from *In situ* Data\n",
    "In our final step, we will extract summary height values from our field data.\n",
    "We will use the `dplyr` library to do this efficiently.\n",
    "\n",
    "First let's see how many plots are in our tree height data. Note that our tree\n",
    "height data is stored in csv format."
   ]
  },
  {
   "cell_type": "code",
   "execution_count": 132,
   "metadata": {
    "collapsed": false,
    "deletable": true,
    "editable": true
   },
   "outputs": [
    {
     "data": {
      "text/html": [
       "<div>\n",
       "<table border=\"1\" class=\"dataframe\">\n",
       "  <thead>\n",
       "    <tr style=\"text-align: right;\">\n",
       "      <th></th>\n",
       "      <th>siteid</th>\n",
       "      <th>sitename</th>\n",
       "      <th>plotid</th>\n",
       "      <th>easting</th>\n",
       "      <th>northing</th>\n",
       "      <th>taxonid</th>\n",
       "      <th>scientificname</th>\n",
       "      <th>indvidual_id</th>\n",
       "      <th>pointid</th>\n",
       "      <th>individualdistance</th>\n",
       "      <th>...</th>\n",
       "      <th>canopyform</th>\n",
       "      <th>livingcanopy</th>\n",
       "      <th>inplotcanopy</th>\n",
       "      <th>materialsampleid</th>\n",
       "      <th>dbhqf</th>\n",
       "      <th>stemmapqf</th>\n",
       "      <th>plant_group</th>\n",
       "      <th>common_name</th>\n",
       "      <th>aop_plot</th>\n",
       "      <th>unique_id</th>\n",
       "    </tr>\n",
       "  </thead>\n",
       "  <tbody>\n",
       "    <tr>\n",
       "      <th>0</th>\n",
       "      <td>SJER</td>\n",
       "      <td>San Joaquin</td>\n",
       "      <td>SJER128</td>\n",
       "      <td>257085.7</td>\n",
       "      <td>4111381.5</td>\n",
       "      <td>PISA2</td>\n",
       "      <td>Pinus sabiniana</td>\n",
       "      <td>1485</td>\n",
       "      <td>center</td>\n",
       "      <td>9.7</td>\n",
       "      <td>...</td>\n",
       "      <td>NaN</td>\n",
       "      <td>100</td>\n",
       "      <td>100</td>\n",
       "      <td>NaN</td>\n",
       "      <td>0</td>\n",
       "      <td>0</td>\n",
       "      <td>NaN</td>\n",
       "      <td>NaN</td>\n",
       "      <td>NaN</td>\n",
       "      <td>NaN</td>\n",
       "    </tr>\n",
       "    <tr>\n",
       "      <th>1</th>\n",
       "      <td>SJER</td>\n",
       "      <td>San Joaquin</td>\n",
       "      <td>SJER2796</td>\n",
       "      <td>256047.7</td>\n",
       "      <td>4111548.5</td>\n",
       "      <td>ARVI4</td>\n",
       "      <td>Arctostaphylos viscida</td>\n",
       "      <td>1622</td>\n",
       "      <td>NE</td>\n",
       "      <td>5.8</td>\n",
       "      <td>...</td>\n",
       "      <td>Hemisphere</td>\n",
       "      <td>70</td>\n",
       "      <td>100</td>\n",
       "      <td>f095</td>\n",
       "      <td>0</td>\n",
       "      <td>0</td>\n",
       "      <td>NaN</td>\n",
       "      <td>NaN</td>\n",
       "      <td>NaN</td>\n",
       "      <td>NaN</td>\n",
       "    </tr>\n",
       "    <tr>\n",
       "      <th>2</th>\n",
       "      <td>SJER</td>\n",
       "      <td>San Joaquin</td>\n",
       "      <td>SJER272</td>\n",
       "      <td>256722.9</td>\n",
       "      <td>4112170.2</td>\n",
       "      <td>ARVI4</td>\n",
       "      <td>Arctostaphylos viscida</td>\n",
       "      <td>1427</td>\n",
       "      <td>center</td>\n",
       "      <td>6.0</td>\n",
       "      <td>...</td>\n",
       "      <td>Hemisphere</td>\n",
       "      <td>35</td>\n",
       "      <td>100</td>\n",
       "      <td>NaN</td>\n",
       "      <td>0</td>\n",
       "      <td>0</td>\n",
       "      <td>NaN</td>\n",
       "      <td>NaN</td>\n",
       "      <td>NaN</td>\n",
       "      <td>NaN</td>\n",
       "    </tr>\n",
       "    <tr>\n",
       "      <th>3</th>\n",
       "      <td>SJER</td>\n",
       "      <td>San Joaquin</td>\n",
       "      <td>SJER112</td>\n",
       "      <td>257421.4</td>\n",
       "      <td>4111308.2</td>\n",
       "      <td>ARVI4</td>\n",
       "      <td>Arctostaphylos viscida</td>\n",
       "      <td>1511</td>\n",
       "      <td>center</td>\n",
       "      <td>17.2</td>\n",
       "      <td>...</td>\n",
       "      <td>Sphere</td>\n",
       "      <td>70</td>\n",
       "      <td>100</td>\n",
       "      <td>f035</td>\n",
       "      <td>0</td>\n",
       "      <td>0</td>\n",
       "      <td>NaN</td>\n",
       "      <td>NaN</td>\n",
       "      <td>NaN</td>\n",
       "      <td>NaN</td>\n",
       "    </tr>\n",
       "    <tr>\n",
       "      <th>4</th>\n",
       "      <td>SJER</td>\n",
       "      <td>San Joaquin</td>\n",
       "      <td>SJER272</td>\n",
       "      <td>256720.5</td>\n",
       "      <td>4112177.2</td>\n",
       "      <td>ARVI4</td>\n",
       "      <td>Arctostaphylos viscida</td>\n",
       "      <td>1431</td>\n",
       "      <td>center</td>\n",
       "      <td>9.9</td>\n",
       "      <td>...</td>\n",
       "      <td>Sphere</td>\n",
       "      <td>80</td>\n",
       "      <td>100</td>\n",
       "      <td>f087</td>\n",
       "      <td>0</td>\n",
       "      <td>0</td>\n",
       "      <td>NaN</td>\n",
       "      <td>NaN</td>\n",
       "      <td>NaN</td>\n",
       "      <td>NaN</td>\n",
       "    </tr>\n",
       "  </tbody>\n",
       "</table>\n",
       "<p>5 rows × 30 columns</p>\n",
       "</div>"
      ],
      "text/plain": [
       "  siteid     sitename    plotid   easting   northing taxonid  \\\n",
       "0   SJER  San Joaquin   SJER128  257085.7  4111381.5   PISA2   \n",
       "1   SJER  San Joaquin  SJER2796  256047.7  4111548.5   ARVI4   \n",
       "2   SJER  San Joaquin   SJER272  256722.9  4112170.2   ARVI4   \n",
       "3   SJER  San Joaquin   SJER112  257421.4  4111308.2   ARVI4   \n",
       "4   SJER  San Joaquin   SJER272  256720.5  4112177.2   ARVI4   \n",
       "\n",
       "           scientificname  indvidual_id pointid  individualdistance    ...     \\\n",
       "0         Pinus sabiniana          1485  center                 9.7    ...      \n",
       "1  Arctostaphylos viscida          1622      NE                 5.8    ...      \n",
       "2  Arctostaphylos viscida          1427  center                 6.0    ...      \n",
       "3  Arctostaphylos viscida          1511  center                17.2    ...      \n",
       "4  Arctostaphylos viscida          1431  center                 9.9    ...      \n",
       "\n",
       "   canopyform  livingcanopy  inplotcanopy  materialsampleid  dbhqf  stemmapqf  \\\n",
       "0         NaN           100           100               NaN      0          0   \n",
       "1  Hemisphere            70           100              f095      0          0   \n",
       "2  Hemisphere            35           100               NaN      0          0   \n",
       "3      Sphere            70           100              f035      0          0   \n",
       "4      Sphere            80           100              f087      0          0   \n",
       "\n",
       "   plant_group  common_name aop_plot unique_id  \n",
       "0          NaN          NaN      NaN       NaN  \n",
       "1          NaN          NaN      NaN       NaN  \n",
       "2          NaN          NaN      NaN       NaN  \n",
       "3          NaN          NaN      NaN       NaN  \n",
       "4          NaN          NaN      NaN       NaN  \n",
       "\n",
       "[5 rows x 30 columns]"
      ]
     },
     "execution_count": 132,
     "metadata": {},
     "output_type": "execute_result"
    }
   ],
   "source": [
    "# import in situ data\n",
    "path_insitu = 'data/week5/california/SJER/2013/insitu/veg_structure/D17_2013_SJER_vegStr.csv'\n",
    "SJER_insitu = pd.read_csv(path_insitu)\n",
    "# what is the structure of the data\n",
    "type(SJER_insitu)\n",
    "# view the first 5 rows of data\n",
    "SJER_insitu.head()"
   ]
  },
  {
   "cell_type": "markdown",
   "metadata": {},
   "source": [
    "We want to calculate a summary value of max tree height (the tallest tree measured) in each plot. \n",
    "We have a unique id for each plot - **plotid** that we can use to group the data. The tree height values themselves are located in the **stemheight** column.\n",
    "\n",
    "We can calculate this by using the .groupy() method in pandas. Note that the statement below \n",
    "\n",
    "## what is reset_index??"
   ]
  },
  {
   "cell_type": "markdown",
   "metadata": {
    "deletable": true,
    "editable": true
   },
   "source": [
    "## Extract Max Tree Height\n",
    "\n",
    "Next, we can use dplyr to extract a summary tree height value for each plot. In\n",
    "this case, we will calculate the mean MEASURED tree height value for each\n",
    "plot. This value represents the average tree in each plot. We will also calculate\n",
    "the max height representing the max height for each plot.\n",
    "\n",
    "FInally, we will compare the mean measured tree height per plot to the mean\n",
    "tree height extracted from the lidar CHM."
   ]
  },
  {
   "cell_type": "code",
   "execution_count": 133,
   "metadata": {
    "collapsed": false
   },
   "outputs": [
    {
     "data": {
      "text/html": [
       "<div>\n",
       "<table border=\"1\" class=\"dataframe\">\n",
       "  <thead>\n",
       "    <tr style=\"text-align: right;\">\n",
       "      <th></th>\n",
       "      <th>plotid</th>\n",
       "      <th>stemheight</th>\n",
       "    </tr>\n",
       "  </thead>\n",
       "  <tbody>\n",
       "    <tr>\n",
       "      <th>0</th>\n",
       "      <td>SJER1068</td>\n",
       "      <td>19.3</td>\n",
       "    </tr>\n",
       "    <tr>\n",
       "      <th>1</th>\n",
       "      <td>SJER112</td>\n",
       "      <td>23.9</td>\n",
       "    </tr>\n",
       "    <tr>\n",
       "      <th>2</th>\n",
       "      <td>SJER116</td>\n",
       "      <td>16.0</td>\n",
       "    </tr>\n",
       "    <tr>\n",
       "      <th>3</th>\n",
       "      <td>SJER117</td>\n",
       "      <td>11.0</td>\n",
       "    </tr>\n",
       "    <tr>\n",
       "      <th>4</th>\n",
       "      <td>SJER120</td>\n",
       "      <td>8.8</td>\n",
       "    </tr>\n",
       "    <tr>\n",
       "      <th>5</th>\n",
       "      <td>SJER128</td>\n",
       "      <td>18.2</td>\n",
       "    </tr>\n",
       "    <tr>\n",
       "      <th>6</th>\n",
       "      <td>SJER192</td>\n",
       "      <td>13.7</td>\n",
       "    </tr>\n",
       "    <tr>\n",
       "      <th>7</th>\n",
       "      <td>SJER272</td>\n",
       "      <td>12.4</td>\n",
       "    </tr>\n",
       "    <tr>\n",
       "      <th>8</th>\n",
       "      <td>SJER2796</td>\n",
       "      <td>9.4</td>\n",
       "    </tr>\n",
       "    <tr>\n",
       "      <th>9</th>\n",
       "      <td>SJER3239</td>\n",
       "      <td>17.9</td>\n",
       "    </tr>\n",
       "    <tr>\n",
       "      <th>10</th>\n",
       "      <td>SJER36</td>\n",
       "      <td>9.2</td>\n",
       "    </tr>\n",
       "    <tr>\n",
       "      <th>11</th>\n",
       "      <td>SJER361</td>\n",
       "      <td>11.8</td>\n",
       "    </tr>\n",
       "    <tr>\n",
       "      <th>12</th>\n",
       "      <td>SJER37</td>\n",
       "      <td>11.5</td>\n",
       "    </tr>\n",
       "    <tr>\n",
       "      <th>13</th>\n",
       "      <td>SJER4</td>\n",
       "      <td>10.8</td>\n",
       "    </tr>\n",
       "    <tr>\n",
       "      <th>14</th>\n",
       "      <td>SJER8</td>\n",
       "      <td>5.2</td>\n",
       "    </tr>\n",
       "    <tr>\n",
       "      <th>15</th>\n",
       "      <td>SJER824</td>\n",
       "      <td>26.5</td>\n",
       "    </tr>\n",
       "    <tr>\n",
       "      <th>16</th>\n",
       "      <td>SJER916</td>\n",
       "      <td>18.4</td>\n",
       "    </tr>\n",
       "    <tr>\n",
       "      <th>17</th>\n",
       "      <td>SJER952</td>\n",
       "      <td>7.7</td>\n",
       "    </tr>\n",
       "  </tbody>\n",
       "</table>\n",
       "</div>"
      ],
      "text/plain": [
       "      plotid  stemheight\n",
       "0   SJER1068        19.3\n",
       "1    SJER112        23.9\n",
       "2    SJER116        16.0\n",
       "3    SJER117        11.0\n",
       "4    SJER120         8.8\n",
       "5    SJER128        18.2\n",
       "6    SJER192        13.7\n",
       "7    SJER272        12.4\n",
       "8   SJER2796         9.4\n",
       "9   SJER3239        17.9\n",
       "10    SJER36         9.2\n",
       "11   SJER361        11.8\n",
       "12    SJER37        11.5\n",
       "13     SJER4        10.8\n",
       "14     SJER8         5.2\n",
       "15   SJER824        26.5\n",
       "16   SJER916        18.4\n",
       "17   SJER952         7.7"
      ]
     },
     "execution_count": 133,
     "metadata": {},
     "output_type": "execute_result"
    }
   ],
   "source": [
    "## extract max tree height for each plot\n",
    "insitu_stem_height = SJER_insitu.groupby('plotid').max()['stemheight'].reset_index()\n",
    "# view the top \n",
    "insitu_stem_height"
   ]
  },
  {
   "cell_type": "code",
   "execution_count": null,
   "metadata": {
    "collapsed": true,
    "deletable": true,
    "editable": true
   },
   "outputs": [],
   "source": []
  },
  {
   "cell_type": "markdown",
   "metadata": {
    "deletable": true,
    "editable": true
   },
   "source": [
    "### Merge InSitu Data With Spatial data.frame\n",
    "\n",
    "Once we have our summarized insitu data, we can `merge` it into the centroids\n",
    "`data.frame`. Merge requires two data.frames and the names of the columns\n",
    "containing the unique ID that we will merge the data on. In this case, we will\n",
    "merge the data on the plot_id column. Notice that it's spelled slightly differently\n",
    "in both data.frames so we'll need to tell R what it's called in each data.frame.\n"
   ]
  },
  {
   "cell_type": "code",
   "execution_count": 134,
   "metadata": {
    "collapsed": false,
    "deletable": true,
    "editable": true
   },
   "outputs": [
    {
     "data": {
      "text/html": [
       "<div>\n",
       "<table border=\"1\" class=\"dataframe\">\n",
       "  <thead>\n",
       "    <tr style=\"text-align: right;\">\n",
       "      <th></th>\n",
       "      <th>plotid</th>\n",
       "      <th>stemheight</th>\n",
       "      <th>Plot_ID</th>\n",
       "      <th>Point</th>\n",
       "      <th>count</th>\n",
       "      <th>easting</th>\n",
       "      <th>geometry</th>\n",
       "      <th>max</th>\n",
       "      <th>mean</th>\n",
       "      <th>median</th>\n",
       "      <th>min</th>\n",
       "      <th>northing</th>\n",
       "      <th>plot_type</th>\n",
       "    </tr>\n",
       "  </thead>\n",
       "  <tbody>\n",
       "    <tr>\n",
       "      <th>0</th>\n",
       "      <td>SJER1068</td>\n",
       "      <td>19.3</td>\n",
       "      <td>SJER1068</td>\n",
       "      <td>center</td>\n",
       "      <td>161</td>\n",
       "      <td>255852.376</td>\n",
       "      <td>POLYGON ((255872.376 4111567.818, 255872.27969...</td>\n",
       "      <td>19.049999</td>\n",
       "      <td>11.544347</td>\n",
       "      <td>12.620000</td>\n",
       "      <td>2.04</td>\n",
       "      <td>4111567.818</td>\n",
       "      <td>trees</td>\n",
       "    </tr>\n",
       "    <tr>\n",
       "      <th>1</th>\n",
       "      <td>SJER112</td>\n",
       "      <td>23.9</td>\n",
       "      <td>SJER112</td>\n",
       "      <td>center</td>\n",
       "      <td>443</td>\n",
       "      <td>257406.967</td>\n",
       "      <td>POLYGON ((257426.967 4111298.971, 257426.87069...</td>\n",
       "      <td>24.019999</td>\n",
       "      <td>10.369277</td>\n",
       "      <td>7.870000</td>\n",
       "      <td>2.10</td>\n",
       "      <td>4111298.971</td>\n",
       "      <td>trees</td>\n",
       "    </tr>\n",
       "    <tr>\n",
       "      <th>2</th>\n",
       "      <td>SJER116</td>\n",
       "      <td>16.0</td>\n",
       "      <td>SJER116</td>\n",
       "      <td>center</td>\n",
       "      <td>643</td>\n",
       "      <td>256838.760</td>\n",
       "      <td>POLYGON ((256858.76 4110819.876, 256858.663694...</td>\n",
       "      <td>16.070000</td>\n",
       "      <td>7.518398</td>\n",
       "      <td>6.800000</td>\n",
       "      <td>2.82</td>\n",
       "      <td>4110819.876</td>\n",
       "      <td>grass</td>\n",
       "    </tr>\n",
       "    <tr>\n",
       "      <th>3</th>\n",
       "      <td>SJER117</td>\n",
       "      <td>11.0</td>\n",
       "      <td>SJER117</td>\n",
       "      <td>center</td>\n",
       "      <td>245</td>\n",
       "      <td>256176.947</td>\n",
       "      <td>POLYGON ((256196.947 4108752.026, 256196.85069...</td>\n",
       "      <td>11.059999</td>\n",
       "      <td>7.675346</td>\n",
       "      <td>7.930000</td>\n",
       "      <td>3.24</td>\n",
       "      <td>4108752.026</td>\n",
       "      <td>trees</td>\n",
       "    </tr>\n",
       "    <tr>\n",
       "      <th>4</th>\n",
       "      <td>SJER120</td>\n",
       "      <td>8.8</td>\n",
       "      <td>SJER120</td>\n",
       "      <td>center</td>\n",
       "      <td>17</td>\n",
       "      <td>255968.372</td>\n",
       "      <td>POLYGON ((255988.372 4110476.079, 255988.27569...</td>\n",
       "      <td>5.740000</td>\n",
       "      <td>4.591177</td>\n",
       "      <td>4.450000</td>\n",
       "      <td>3.38</td>\n",
       "      <td>4110476.079</td>\n",
       "      <td>grass</td>\n",
       "    </tr>\n",
       "    <tr>\n",
       "      <th>5</th>\n",
       "      <td>SJER128</td>\n",
       "      <td>18.2</td>\n",
       "      <td>SJER128</td>\n",
       "      <td>center</td>\n",
       "      <td>381</td>\n",
       "      <td>257078.867</td>\n",
       "      <td>POLYGON ((257098.867 4111388.57, 257098.770694...</td>\n",
       "      <td>19.139999</td>\n",
       "      <td>8.987087</td>\n",
       "      <td>8.020000</td>\n",
       "      <td>2.16</td>\n",
       "      <td>4111388.570</td>\n",
       "      <td>trees</td>\n",
       "    </tr>\n",
       "    <tr>\n",
       "      <th>6</th>\n",
       "      <td>SJER192</td>\n",
       "      <td>13.7</td>\n",
       "      <td>SJER192</td>\n",
       "      <td>center</td>\n",
       "      <td>929</td>\n",
       "      <td>256683.434</td>\n",
       "      <td>POLYGON ((256703.434 4111071.087, 256703.33769...</td>\n",
       "      <td>16.549999</td>\n",
       "      <td>7.229096</td>\n",
       "      <td>6.630000</td>\n",
       "      <td>2.20</td>\n",
       "      <td>4111071.087</td>\n",
       "      <td>grass</td>\n",
       "    </tr>\n",
       "    <tr>\n",
       "      <th>7</th>\n",
       "      <td>SJER272</td>\n",
       "      <td>12.4</td>\n",
       "      <td>SJER272</td>\n",
       "      <td>center</td>\n",
       "      <td>711</td>\n",
       "      <td>256717.467</td>\n",
       "      <td>POLYGON ((256737.467 4112167.778, 256737.37069...</td>\n",
       "      <td>11.840000</td>\n",
       "      <td>7.107061</td>\n",
       "      <td>6.980000</td>\n",
       "      <td>2.37</td>\n",
       "      <td>4112167.778</td>\n",
       "      <td>trees</td>\n",
       "    </tr>\n",
       "    <tr>\n",
       "      <th>8</th>\n",
       "      <td>SJER2796</td>\n",
       "      <td>9.4</td>\n",
       "      <td>SJER2796</td>\n",
       "      <td>center</td>\n",
       "      <td>270</td>\n",
       "      <td>256034.390</td>\n",
       "      <td>POLYGON ((256054.39 4111533.879, 256054.293694...</td>\n",
       "      <td>20.279999</td>\n",
       "      <td>6.409630</td>\n",
       "      <td>6.230000</td>\n",
       "      <td>2.03</td>\n",
       "      <td>4111533.879</td>\n",
       "      <td>soil</td>\n",
       "    </tr>\n",
       "    <tr>\n",
       "      <th>9</th>\n",
       "      <td>SJER3239</td>\n",
       "      <td>17.9</td>\n",
       "      <td>SJER3239</td>\n",
       "      <td>center</td>\n",
       "      <td>195</td>\n",
       "      <td>258497.102</td>\n",
       "      <td>POLYGON ((258517.102 4109856.983, 258517.00569...</td>\n",
       "      <td>12.910000</td>\n",
       "      <td>6.009128</td>\n",
       "      <td>5.950000</td>\n",
       "      <td>2.02</td>\n",
       "      <td>4109856.983</td>\n",
       "      <td>soil</td>\n",
       "    </tr>\n",
       "    <tr>\n",
       "      <th>10</th>\n",
       "      <td>SJER36</td>\n",
       "      <td>9.2</td>\n",
       "      <td>SJER36</td>\n",
       "      <td>center</td>\n",
       "      <td>97</td>\n",
       "      <td>258277.829</td>\n",
       "      <td>POLYGON ((258297.829 4110161.674, 258297.73269...</td>\n",
       "      <td>8.990000</td>\n",
       "      <td>6.516288</td>\n",
       "      <td>6.680000</td>\n",
       "      <td>2.03</td>\n",
       "      <td>4110161.674</td>\n",
       "      <td>trees</td>\n",
       "    </tr>\n",
       "    <tr>\n",
       "      <th>11</th>\n",
       "      <td>SJER361</td>\n",
       "      <td>11.8</td>\n",
       "      <td>SJER361</td>\n",
       "      <td>center</td>\n",
       "      <td>72</td>\n",
       "      <td>256961.794</td>\n",
       "      <td>POLYGON ((256981.794 4107527.074, 256981.69769...</td>\n",
       "      <td>18.730000</td>\n",
       "      <td>13.899028</td>\n",
       "      <td>13.684999</td>\n",
       "      <td>2.12</td>\n",
       "      <td>4107527.074</td>\n",
       "      <td>grass</td>\n",
       "    </tr>\n",
       "    <tr>\n",
       "      <th>12</th>\n",
       "      <td>SJER37</td>\n",
       "      <td>11.5</td>\n",
       "      <td>SJER37</td>\n",
       "      <td>center</td>\n",
       "      <td>201</td>\n",
       "      <td>256148.197</td>\n",
       "      <td>POLYGON ((256168.197 4107578.841, 256168.10069...</td>\n",
       "      <td>11.490000</td>\n",
       "      <td>7.109850</td>\n",
       "      <td>7.100000</td>\n",
       "      <td>2.19</td>\n",
       "      <td>4107578.841</td>\n",
       "      <td>trees</td>\n",
       "    </tr>\n",
       "    <tr>\n",
       "      <th>13</th>\n",
       "      <td>SJER4</td>\n",
       "      <td>10.8</td>\n",
       "      <td>SJER4</td>\n",
       "      <td>center</td>\n",
       "      <td>395</td>\n",
       "      <td>257228.336</td>\n",
       "      <td>POLYGON ((257248.336 4109767.289, 257248.23969...</td>\n",
       "      <td>9.530000</td>\n",
       "      <td>5.034937</td>\n",
       "      <td>5.220000</td>\n",
       "      <td>2.15</td>\n",
       "      <td>4109767.289</td>\n",
       "      <td>trees</td>\n",
       "    </tr>\n",
       "    <tr>\n",
       "      <th>14</th>\n",
       "      <td>SJER8</td>\n",
       "      <td>5.2</td>\n",
       "      <td>SJER8</td>\n",
       "      <td>center</td>\n",
       "      <td>7</td>\n",
       "      <td>254738.618</td>\n",
       "      <td>POLYGON ((254758.618 4110249.265, 254758.52169...</td>\n",
       "      <td>4.150000</td>\n",
       "      <td>3.024286</td>\n",
       "      <td>3.000000</td>\n",
       "      <td>2.27</td>\n",
       "      <td>4110249.265</td>\n",
       "      <td>trees</td>\n",
       "    </tr>\n",
       "    <tr>\n",
       "      <th>15</th>\n",
       "      <td>SJER824</td>\n",
       "      <td>26.5</td>\n",
       "      <td>SJER824</td>\n",
       "      <td>center</td>\n",
       "      <td>382</td>\n",
       "      <td>256185.584</td>\n",
       "      <td>POLYGON ((256205.584 4110047.586, 256205.48769...</td>\n",
       "      <td>25.660000</td>\n",
       "      <td>7.720838</td>\n",
       "      <td>6.265000</td>\n",
       "      <td>2.09</td>\n",
       "      <td>4110047.586</td>\n",
       "      <td>soil</td>\n",
       "    </tr>\n",
       "    <tr>\n",
       "      <th>16</th>\n",
       "      <td>SJER916</td>\n",
       "      <td>18.4</td>\n",
       "      <td>SJER916</td>\n",
       "      <td>center</td>\n",
       "      <td>264</td>\n",
       "      <td>257460.486</td>\n",
       "      <td>POLYGON ((257480.486 4109616.679, 257480.38969...</td>\n",
       "      <td>18.730000</td>\n",
       "      <td>11.170795</td>\n",
       "      <td>10.980000</td>\n",
       "      <td>2.15</td>\n",
       "      <td>4109616.679</td>\n",
       "      <td>soil</td>\n",
       "    </tr>\n",
       "    <tr>\n",
       "      <th>17</th>\n",
       "      <td>SJER952</td>\n",
       "      <td>7.7</td>\n",
       "      <td>SJER952</td>\n",
       "      <td>center</td>\n",
       "      <td>42</td>\n",
       "      <td>255871.194</td>\n",
       "      <td>POLYGON ((255891.194 4110759.039, 255891.09769...</td>\n",
       "      <td>6.380000</td>\n",
       "      <td>4.149285</td>\n",
       "      <td>4.080000</td>\n",
       "      <td>2.84</td>\n",
       "      <td>4110759.039</td>\n",
       "      <td>grass</td>\n",
       "    </tr>\n",
       "  </tbody>\n",
       "</table>\n",
       "</div>"
      ],
      "text/plain": [
       "      plotid  stemheight   Plot_ID   Point  count     easting  \\\n",
       "0   SJER1068        19.3  SJER1068  center    161  255852.376   \n",
       "1    SJER112        23.9   SJER112  center    443  257406.967   \n",
       "2    SJER116        16.0   SJER116  center    643  256838.760   \n",
       "3    SJER117        11.0   SJER117  center    245  256176.947   \n",
       "4    SJER120         8.8   SJER120  center     17  255968.372   \n",
       "5    SJER128        18.2   SJER128  center    381  257078.867   \n",
       "6    SJER192        13.7   SJER192  center    929  256683.434   \n",
       "7    SJER272        12.4   SJER272  center    711  256717.467   \n",
       "8   SJER2796         9.4  SJER2796  center    270  256034.390   \n",
       "9   SJER3239        17.9  SJER3239  center    195  258497.102   \n",
       "10    SJER36         9.2    SJER36  center     97  258277.829   \n",
       "11   SJER361        11.8   SJER361  center     72  256961.794   \n",
       "12    SJER37        11.5    SJER37  center    201  256148.197   \n",
       "13     SJER4        10.8     SJER4  center    395  257228.336   \n",
       "14     SJER8         5.2     SJER8  center      7  254738.618   \n",
       "15   SJER824        26.5   SJER824  center    382  256185.584   \n",
       "16   SJER916        18.4   SJER916  center    264  257460.486   \n",
       "17   SJER952         7.7   SJER952  center     42  255871.194   \n",
       "\n",
       "                                             geometry        max       mean  \\\n",
       "0   POLYGON ((255872.376 4111567.818, 255872.27969...  19.049999  11.544347   \n",
       "1   POLYGON ((257426.967 4111298.971, 257426.87069...  24.019999  10.369277   \n",
       "2   POLYGON ((256858.76 4110819.876, 256858.663694...  16.070000   7.518398   \n",
       "3   POLYGON ((256196.947 4108752.026, 256196.85069...  11.059999   7.675346   \n",
       "4   POLYGON ((255988.372 4110476.079, 255988.27569...   5.740000   4.591177   \n",
       "5   POLYGON ((257098.867 4111388.57, 257098.770694...  19.139999   8.987087   \n",
       "6   POLYGON ((256703.434 4111071.087, 256703.33769...  16.549999   7.229096   \n",
       "7   POLYGON ((256737.467 4112167.778, 256737.37069...  11.840000   7.107061   \n",
       "8   POLYGON ((256054.39 4111533.879, 256054.293694...  20.279999   6.409630   \n",
       "9   POLYGON ((258517.102 4109856.983, 258517.00569...  12.910000   6.009128   \n",
       "10  POLYGON ((258297.829 4110161.674, 258297.73269...   8.990000   6.516288   \n",
       "11  POLYGON ((256981.794 4107527.074, 256981.69769...  18.730000  13.899028   \n",
       "12  POLYGON ((256168.197 4107578.841, 256168.10069...  11.490000   7.109850   \n",
       "13  POLYGON ((257248.336 4109767.289, 257248.23969...   9.530000   5.034937   \n",
       "14  POLYGON ((254758.618 4110249.265, 254758.52169...   4.150000   3.024286   \n",
       "15  POLYGON ((256205.584 4110047.586, 256205.48769...  25.660000   7.720838   \n",
       "16  POLYGON ((257480.486 4109616.679, 257480.38969...  18.730000  11.170795   \n",
       "17  POLYGON ((255891.194 4110759.039, 255891.09769...   6.380000   4.149285   \n",
       "\n",
       "       median   min     northing plot_type  \n",
       "0   12.620000  2.04  4111567.818     trees  \n",
       "1    7.870000  2.10  4111298.971     trees  \n",
       "2    6.800000  2.82  4110819.876     grass  \n",
       "3    7.930000  3.24  4108752.026     trees  \n",
       "4    4.450000  3.38  4110476.079     grass  \n",
       "5    8.020000  2.16  4111388.570     trees  \n",
       "6    6.630000  2.20  4111071.087     grass  \n",
       "7    6.980000  2.37  4112167.778     trees  \n",
       "8    6.230000  2.03  4111533.879      soil  \n",
       "9    5.950000  2.02  4109856.983      soil  \n",
       "10   6.680000  2.03  4110161.674     trees  \n",
       "11  13.684999  2.12  4107527.074     grass  \n",
       "12   7.100000  2.19  4107578.841     trees  \n",
       "13   5.220000  2.15  4109767.289     trees  \n",
       "14   3.000000  2.27  4110249.265     trees  \n",
       "15   6.265000  2.09  4110047.586      soil  \n",
       "16  10.980000  2.15  4109616.679      soil  \n",
       "17   4.080000  2.84  4110759.039     grass  "
      ]
     },
     "execution_count": 134,
     "metadata": {},
     "output_type": "execute_result"
    }
   ],
   "source": [
    "# join data\n",
    "# note the code below doesn't work because the attributes didn't transfer when i created the buffer object\n",
    "SJER_final_height = pd.merge(insitu_stem_height, \n",
    "                       SJER_lidar_height_df, \n",
    "                       left_on='plotid', \n",
    "                       right_on='Plot_ID')\n",
    "SJER_final_height"
   ]
  },
  {
   "cell_type": "markdown",
   "metadata": {
    "deletable": true,
    "editable": true
   },
   "source": [
    "\n",
    "\n",
    "## Plot by height\n",
    "\n",
    "\n"
   ]
  },
  {
   "cell_type": "code",
   "execution_count": 119,
   "metadata": {
    "collapsed": false,
    "deletable": true,
    "editable": true
   },
   "outputs": [
    {
     "data": {
      "text/plain": [
       "<matplotlib.axes._subplots.AxesSubplot at 0x14980ed30>"
      ]
     },
     "execution_count": 119,
     "metadata": {},
     "output_type": "execute_result"
    },
    {
     "data": {
      "image/png": "[encoded data removed]",
      "text/plain": [
       "<matplotlib.figure.Figure at 0x14c7b66d8>"
      ]
     },
     "metadata": {},
     "output_type": "display_data"
    }
   ],
   "source": [
    "# this is a spatial plot where the points are sized according to tree height\n",
    "# points overlaid on top of the chm ...\n",
    "\n",
    "# this is just a plot of field plot locations overlayed on top of the chm\n",
    "img = SJER_chm.read().squeeze()\n",
    "img[img == 0] = np.nan\n",
    "\n",
    "fig, ax = plt.subplots(figsize=(10, 10))\n",
    "# riop.show(SJER_chm, cmap='Greys', ax=ax)\n",
    "ax.imshow(img, cmap='Greys', extent=[SJER_chm.bounds[ii] for ii in [0, 2, 1, 3]])\n",
    "# why are the markers so tiny tiny?!\n",
    "SJER_plots.plot(ax=ax, markersize=500, color='r')"
   ]
  },
  {
   "cell_type": "markdown",
   "metadata": {
    "deletable": true,
    "editable": true
   },
   "source": [
    "\n",
    "\n",
    "\n",
    "\n",
    "### Plot Data (CHM vs Measured)\n",
    "\n",
    "Let's create a plot that illustrates the relationship between in situ measured\n",
    "\n",
    "max canopy height values and lidar derived max canopy height values.\n",
    "\n",
    "\n",
    "\n",
    "\n"
   ]
  },
  {
   "cell_type": "code",
   "execution_count": 135,
   "metadata": {
    "collapsed": false,
    "deletable": true,
    "editable": true
   },
   "outputs": [
    {
     "data": {
      "text/plain": [
       "<matplotlib.text.Text at 0x1419caa20>"
      ]
     },
     "execution_count": 135,
     "metadata": {},
     "output_type": "execute_result"
    },
    {
     "data": {
      "image/png": "[encoded data removed]",
      "text/plain": [
       "<matplotlib.figure.Figure at 0x141975ef0>"
      ]
     },
     "metadata": {},
     "output_type": "display_data"
    }
   ],
   "source": [
    "# this plot should be a scatter plot with labels and such\n",
    "# how to add x and y labels\n",
    "# http://pandas.pydata.org/pandas-docs/stable/generated/pandas.DataFrame.plot.html\n",
    "# Prettier plots: https://datasciencelab.wordpress.com/2013/12/21/beautiful-plots-with-pandas-and-matplotlib/\n",
    "fig, ax = plt.subplots(figsize=(10, 10))\n",
    "\n",
    "csfont = {'fontname':'Myriad Pro'}\n",
    "SJER_final_height.plot('max', 'stemheight', \n",
    "                       kind='scatter',\n",
    "                       title=\"Lidar vs measured tree height - SJER\", \n",
    "                       fontsize=14, ax=ax)\n",
    "\n",
    "ax.set(xlabel=\"Lidar derived max tree height\", \n",
    "       ylabel=\"Measured tree height (m)\")\n",
    "# Customize title, set position, allow space on top of plot for title\n",
    "# this doesn't work - i'm not sure why\n",
    "ax.set_title(ax.get_title(), \n",
    "             fontsize=30, \n",
    "             **csfont)\n",
    "# ax.set_xlabel(xlabel, fontsize=20, ha='left')\n",
    "\n"
   ]
  },
  {
   "cell_type": "markdown",
   "metadata": {
    "deletable": true,
    "editable": true
   },
   "source": [
    "\n",
    "\n",
    "Next, let's fix the plot adding a 1:1 line and making the x and y axis the same .\n",
    "\n",
    "## need to add a 1:1 line to the plot below\n"
   ]
  },
  {
   "cell_type": "code",
   "execution_count": 136,
   "metadata": {
    "collapsed": false,
    "deletable": true,
    "editable": true
   },
   "outputs": [
    {
     "data": {
      "text/plain": [
       "<matplotlib.text.Text at 0x12f09ee48>"
      ]
     },
     "execution_count": 136,
     "metadata": {},
     "output_type": "execute_result"
    },
    {
     "data": {
      "image/png": "[encoded data removed]",
      "text/plain": [
       "<matplotlib.figure.Figure at 0x1419a9c18>"
      ]
     },
     "metadata": {},
     "output_type": "display_data"
    }
   ],
   "source": [
    "# this plot should be a scatter plot with labels and such\n",
    "# how to add x and y labels\n",
    "# http://pandas.pydata.org/pandas-docs/stable/generated/pandas.DataFrame.plot.html\n",
    "# Prettier plots: https://datasciencelab.wordpress.com/2013/12/21/beautiful-plots-with-pandas-and-matplotlib/\n",
    "fig, ax = plt.subplots(figsize=(10, 10))\n",
    "\n",
    "csfont = {'fontname':'Myriad Pro'}\n",
    "SJER_final_height.plot('max', 'stemheight', \n",
    "                       kind='scatter',\n",
    "                       title=\"Lidar vs measured tree height - SJER\", \n",
    "                       fontsize=14, ax=ax)\n",
    "\n",
    "ax.set(xlabel=\"Lidar derived max tree height\", \n",
    "       ylabel=\"Measured tree height (m)\")\n",
    "# Customize title, set position, allow space on top of plot for title\n",
    "# this doesn't work - i'm not sure why\n",
    "ax.set_title(ax.get_title(), \n",
    "             fontsize=30, \n",
    "             **csfont)\n",
    "# ax.set_xlabel(xlabel, fontsize=20, ha='left')\n"
   ]
  },
  {
   "cell_type": "markdown",
   "metadata": {
    "deletable": true,
    "editable": true
   },
   "source": [
    "We can also add a regression fit to our plot. Explore the GGPLOT options and\n",
    "customize your plot.\n",
    "\n",
    "# need to add a regression fit to the plot below\n",
    "\n",
    "\n"
   ]
  },
  {
   "cell_type": "code",
   "execution_count": 116,
   "metadata": {
    "collapsed": false,
    "deletable": true,
    "editable": true
   },
   "outputs": [
    {
     "data": {
      "text/plain": [
       "<matplotlib.text.Text at 0x14c654748>"
      ]
     },
     "execution_count": 116,
     "metadata": {},
     "output_type": "execute_result"
    },
    {
     "data": {
      "image/png": "[encoded data removed]",
      "text/plain": [
       "<matplotlib.figure.Figure at 0x143388828>"
      ]
     },
     "metadata": {},
     "output_type": "display_data"
    }
   ],
   "source": [
    "# this plot should be a scatter plot with labels and such\n",
    "# how to add x and y labels\n",
    "# http://pandas.pydata.org/pandas-docs/stable/generated/pandas.DataFrame.plot.html\n",
    "# Prettier plots: https://datasciencelab.wordpress.com/2013/12/21/beautiful-plots-with-pandas-and-matplotlib/\n",
    "fig, ax = plt.subplots(figsize=(10, 10))\n",
    "\n",
    "csfont = {'fontname':'Myriad Pro'}\n",
    "SJER_final_height.plot('max', 'stemheight', \n",
    "                       kind='scatter',\n",
    "                       title=\"Lidar vs measured tree height - SJER\", \n",
    "                       fontsize=14, ax=ax)\n",
    "\n",
    "ax.set(xlabel=\"Lidar derived max tree height\", \n",
    "       ylabel=\"Measured tree height (m)\")\n",
    "# Customize title, set position, allow space on top of plot for title\n",
    "# this doesn't work - i'm not sure why\n",
    "ax.set_title(ax.get_title(), \n",
    "             fontsize=30, \n",
    "             **csfont)\n",
    "# ax.set_xlabel(xlabel, fontsize=20, ha='left')\n"
   ]
  },
  {
   "cell_type": "markdown",
   "metadata": {
    "deletable": true,
    "editable": true
   },
   "source": [
    "\n",
    "## View Difference: lidar vs measured\n",
    "\n",
    "# this doesn't look right... \n"
   ]
  },
  {
   "cell_type": "code",
   "execution_count": 137,
   "metadata": {
    "collapsed": false,
    "deletable": true,
    "editable": true
   },
   "outputs": [
    {
     "data": {
      "text/plain": [
       "<matplotlib.axes._subplots.AxesSubplot at 0x141965390>"
      ]
     },
     "execution_count": 137,
     "metadata": {},
     "output_type": "execute_result"
    },
    {
     "data": {
      "image/png": "[encoded data removed]",
      "text/plain": [
       "<matplotlib.figure.Figure at 0x1419bc278>"
      ]
     },
     "metadata": {},
     "output_type": "display_data"
    }
   ],
   "source": [
    "\n",
    "# Calculate difference\n",
    "# also need to add the plot id to each xaxis label\n",
    "SJER_final_height[\"lidar_measured\"] = SJER_final_height[\"max\"] - SJER_final_height[\"stemheight\"]\n",
    "SJER_final_height[\"lidar_measured\"].plot(kind=\"bar\")"
   ]
  }
 ],
 "metadata": {
  "kernelspec": {
   "display_name": "Python 3",
   "language": "python",
   "name": "python3"
  },
  "language_info": {
   "codemirror_mode": {
    "name": "ipython",
    "version": 3
   },
   "file_extension": ".py",
   "mimetype": "text/x-python",
   "name": "python",
   "nbconvert_exporter": "python",
   "pygments_lexer": "ipython3",
   "version": "3.6.0"
  }
 },
 "nbformat": 4,
 "nbformat_minor": 2
}
