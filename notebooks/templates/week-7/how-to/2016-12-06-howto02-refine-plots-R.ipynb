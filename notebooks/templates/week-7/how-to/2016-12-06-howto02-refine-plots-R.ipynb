{
 "cells": [
  {
   "cell_type": "raw",
   "metadata": {},
   "source": [
    "---\n",
    "layout: single\n",
    "title: \"Refine spatial plots in R. \"\n",
    "excerpt: \" \"\n",
    "authors: ['Leah Wasser']\n",
    "modified: '{:%Y-%m-%d}'.format(datetime.now())\n",
    "category: [course-materials]\n",
    "class-lesson: ['how-to-hints-week7']\n",
    "permalink: /course-materials/earth-analytics/week-7/refine-plots-report/\n",
    "nav-title: 'Refine spatial plots'\n",
    "week: 7\n",
    "sidebar:\n",
    "  nav:\n",
    "author_profile: false\n",
    "comments: true\n",
    "order: 2\n",
    "---\n"
   ]
  },
  {
   "cell_type": "markdown",
   "metadata": {},
   "source": [
    "\n",
    "\n",
    "{% include toc title=\"In This Lesson\" icon=\"file-text\" %}\n",
    "\n",
    "\n",
    "\n",
    "<div class='notice--success' markdown=\"1\">\n",
    "\n",
    "\n",
    "\n",
    "## <i class=\"fa fa-graduation-cap\" aria-hidden=\"true\"></i> Learning Objectives\n",
    "\n",
    "\n",
    "\n",
    "After completing this tutorial, you will be able to:\n",
    "\n",
    "\n",
    "\n",
    "* Remove borders and refine the size of plots in an output rmarkdown report.\n",
    "\n",
    "* Adjust the aspect ratio of a plot rendered to a pdf using knitr.\n",
    "\n",
    "* Customize the location of legends in a plot in R.\n",
    "\n",
    "\n",
    "\n",
    "## <i class=\"fa fa-check-square-o fa-2\" aria-hidden=\"true\"></i> What you need\n",
    "\n",
    "\n",
    "\n",
    "You will need a computer with internet access to complete this lesson and the\n",
    "\n",
    "data for week 6 of the course.\n",
    "\n",
    "\n",
    "\n",
    "[<i class=\"fa fa-download\" aria-hidden=\"true\"></i> Download Week 6 Data (~500 MB)](https://ndownloader.figshare.com/files/7677208){:data-proofer-ignore='' .btn }\n",
    "\n",
    "</div>\n",
    "\n",
    "\n",
    "\n",
    "\n"
   ]
  },
  {
   "cell_type": "code",
   "execution_count": 1,
   "metadata": {
    "collapsed": true
   },
   "outputs": [],
   "source": [
    "```{r crop-naip-imagey, echo=F, results='hide', message=F, warning=F}\n",
    "\n",
    "library(raster)\n",
    "\n",
    "library(rgeos)\n",
    "\n",
    "library(rgdal)\n",
    "\n",
    "# import stack\n",
    "\n",
    "# import vector that we used to crop the data\n",
    "\n",
    "# csf_crop <- readOGR(\"data/week6/vector_layers/fire_crop_box_500m.shp\")\n",
    "\n",
    "\n",
    "\n",
    "```\n"
   ]
  },
  {
   "cell_type": "markdown",
   "metadata": {},
   "source": [
    "\n",
    "\n",
    "In the previous lessons, we opened landsat and MODIS data in R. In this lesson,\n",
    "\n",
    "we will learn how to refine our plots in R to make our report look nicer and\n",
    "\n",
    "in turn more professional. First, let's import some data.\n",
    "\n",
    "\n",
    "\n",
    "\n"
   ]
  },
  {
   "cell_type": "code",
   "execution_count": 1,
   "metadata": {
    "collapsed": true
   },
   "outputs": [],
   "source": [
    "```{r create-variable}\n",
    "\n",
    "# import landsat data\n",
    "\n",
    "all_landsat_bands <- list.files(\"data/week6/Landsat/LC80340322016189-SC20170128091153/crop\",\n",
    "\n",
    "           pattern=glob2rx(\"*band*.tif$\"),\n",
    "\n",
    "           full.names = T) # use the dollar sign at the end to get all files that END WITH\n",
    "\n",
    "# create spatial stack\n",
    "\n",
    "all_landsat_bands_st <- stack(all_landsat_bands)\n",
    "\n",
    "```\n"
   ]
  },
  {
   "cell_type": "markdown",
   "metadata": {},
   "source": [
    "\n",
    "\n",
    "### Titles using plotRGB()\n",
    "\n",
    "\n",
    "\n",
    "\n",
    "\n",
    "You can try to add a title but it won't plot\n"
   ]
  },
  {
   "cell_type": "code",
   "execution_count": 1,
   "metadata": {
    "collapsed": true
   },
   "outputs": [],
   "source": [
    "```{r plot-rgb, fig.cap=\"Remove axes labels.\"}\n",
    "\n",
    "plotRGB(all_landsat_bands_st,\n",
    "\n",
    "        r=4,b=3,g=2,\n",
    "\n",
    "        stretch=\"hist\",\n",
    "\n",
    "        main=\"title here\")\n",
    "\n",
    "```\n"
   ]
  },
  {
   "cell_type": "markdown",
   "metadata": {},
   "source": [
    "\n",
    "\n",
    "\n",
    "\n",
    "If we add the `axes=T` argument to our plot, our title plots but we also get\n",
    "\n",
    "the x and y axis in black which doesn't look nice. We don't need those. As a work\n",
    "\n",
    "around we can set the x and y axis labels to\n",
    "\n",
    "plot using \"white\" (`col.axis=\"white\"`). Also we turn off the tick marks using `tck=0`.\n",
    "\n",
    "\n"
   ]
  },
  {
   "cell_type": "code",
   "execution_count": 1,
   "metadata": {
    "collapsed": true
   },
   "outputs": [],
   "source": [
    "```{r plot-rgb2, fig.cap=\"Remove axes labels.\"}\n",
    "\n",
    "# adjust the parameters so the axes colors are white. Also turn off tick marks.\n",
    "\n",
    "par(col.axis=\"white\", col.lab=\"white\", tck=0)\n",
    "\n",
    "# plot\n",
    "\n",
    "plotRGB(all_landsat_bands_st,\n",
    "\n",
    "        r=4,b=3,g=2,\n",
    "\n",
    "        stretch=\"hist\",\n",
    "\n",
    "        main=\"title here\",\n",
    "\n",
    "        axes=T)\n",
    "\n",
    "```\n"
   ]
  },
  {
   "cell_type": "markdown",
   "metadata": {},
   "source": [
    "\n",
    "\n",
    "The final step is to turn off box which leaves that annoying line on the left\n",
    "\n",
    "hand side and bottom of the plot.\n",
    "\n",
    "\n"
   ]
  },
  {
   "cell_type": "code",
   "execution_count": 1,
   "metadata": {
    "collapsed": true
   },
   "outputs": [],
   "source": [
    "```{r plot-rgb3, fig.cap=\"Remove axes labels.\"}\n",
    "\n",
    "# adjust the parameters so the axes colors are white. Also turn off tick marks.\n",
    "\n",
    "par(col.axis=\"white\", col.lab=\"white\", tck=0)\n",
    "\n",
    "# plot\n",
    "\n",
    "plotRGB(all_landsat_bands_st,\n",
    "\n",
    "        r=4,b=3,g=2,\n",
    "\n",
    "        stretch=\"hist\",\n",
    "\n",
    "        main=\"title here\",\n",
    "\n",
    "        axes=T)\n",
    "\n",
    "# set bounding box to white as well\n",
    "\n",
    "box(col=\"white\") # turn all of the lines to white\n",
    "\n",
    "\n",
    "\n",
    "```\n"
   ]
  },
  {
   "cell_type": "markdown",
   "metadata": {},
   "source": [
    "\n",
    "\n",
    "This looks nice, but now the plot itself is too tall. There is extra white space\n",
    "\n",
    "above and below the plot that we don't need. This is because the `dev` space\n",
    "\n",
    "where R studio renders plots is set to a particular size based upon how you've\n",
    "\n",
    "adjusted it and your monitor resolution. I can account for this too - using the\n",
    "\n",
    "code chunk arguments: `fig.width` and `fig.height`.\n",
    "\n",
    "\n",
    "\n",
    "In my plot below, I used `fig.width=7, fig.height=6` in  my code chunk arguments.\n",
    "\n",
    "The units are in inches.\n",
    "\n",
    "\n",
    "\n",
    "My code chunk looks like this: `{r plot-rgb4, fig.cap=\"Adjust figure width and height.\", fig.width=7, fig.height=6}`\n",
    "\n",
    "\n"
   ]
  },
  {
   "cell_type": "code",
   "execution_count": 1,
   "metadata": {
    "collapsed": true
   },
   "outputs": [],
   "source": [
    "```{r plot-rgb4, fig.cap=\"Adjust figure width and height.\", fig.width=7, fig.height=6}\n",
    "\n",
    "# adjust the parameters so the axes colors are white. Also turn off tick marks.\n",
    "\n",
    "par(col.axis=\"white\", col.lab=\"white\", tck=0)\n",
    "\n",
    "# plot\n",
    "\n",
    "plotRGB(all_landsat_bands_st,\n",
    "\n",
    "        r=4,b=3,g=2,\n",
    "\n",
    "        stretch=\"hist\",\n",
    "\n",
    "        main=\"title here\",\n",
    "\n",
    "        axes=T)\n",
    "\n",
    "# set bounding box to white as well\n",
    "\n",
    "box(col=\"white\") # turn all of the lines to white\n",
    "\n",
    "\n",
    "\n",
    "```\n"
   ]
  },
  {
   "cell_type": "markdown",
   "metadata": {},
   "source": [
    "\n",
    "\n",
    "Notice that now my plot has less white space above and below the image. This is because\n",
    "\n",
    "it's no longer plotting using a square aspect ratio - we've adjusted that! You can\n",
    "\n",
    "experiment with different fig width and height values depending upon the aspect\n",
    "\n",
    "ratio of the\n",
    "\n",
    "plot that you are trying to print to your report.\n",
    "\n",
    "\n",
    "\n",
    "\n",
    "\n",
    "## Reset dev\n",
    "\n",
    "\n",
    "\n",
    "Any time you modify the parameters, you should consider resetting the `dev()` space.\n",
    "\n",
    "Why? Because if you plot another plot in R, it will use the parameters that you\n",
    "\n",
    "set previously! In the case above we set the axes to white. This setting will\n",
    "\n",
    "become a global setting until you clear your plot space! To clear the plot dev\n",
    "\n",
    "space programmatically, use `dev.off()`.\n",
    "\n",
    "\n"
   ]
  },
  {
   "cell_type": "code",
   "execution_count": 1,
   "metadata": {
    "collapsed": true
   },
   "outputs": [],
   "source": [
    "```{r reset-dev, results='hide'}\n",
    "\n",
    "# reset dev (space where plots are rendered in RStudio)\n",
    "\n",
    "dev.off()\n",
    "\n",
    "```\n"
   ]
  },
  {
   "cell_type": "markdown",
   "metadata": {},
   "source": [
    "\n",
    "\n",
    "## Adjusting legends\n",
    "\n",
    "\n",
    "\n",
    "Legends can also be trick to figure out in R. Take a look at the plot below.\n",
    "\n",
    "It's not pretty. For one, we don't need the x and y axes on this plot.\n",
    "\n",
    "\n",
    "\n",
    "\n",
    "\n",
    "\n"
   ]
  },
  {
   "cell_type": "code",
   "execution_count": 1,
   "metadata": {
    "collapsed": true
   },
   "outputs": [],
   "source": [
    "```{r plot-ndvi2, echo=F}\n",
    "\n",
    "# calculate NDVI\n",
    "\n",
    "ndvi <- (all_landsat_bands_st[[5]] - all_landsat_bands_st[[4]]) / (all_landsat_bands_st[[5]] + all_landsat_bands_st[[4]])\n",
    "\n",
    "# plot ndvi\n",
    "\n",
    "# reclassify ndvi\n",
    "\n",
    "# create classification matrix\n",
    "\n",
    "reclass <- c(-1, .3, 1,\n",
    "\n",
    "             .3, .5, 2,\n",
    "\n",
    "             .5, 1, 3)\n",
    "\n",
    "# reshape the object into a matrix with columns and rows\n",
    "\n",
    "reclass_m <- matrix(reclass,\n",
    "\n",
    "                ncol=3,\n",
    "\n",
    "                byrow=TRUE)\n",
    "\n",
    "\n",
    "\n",
    "ndvi_classified <- reclassify(ndvi,\n",
    "\n",
    "                     reclass_m)\n",
    "\n",
    "the_colors <- c(\"grey\", \"yellow\", \"springgreen\")\n",
    "\n",
    "\n",
    "\n",
    "```\n"
   ]
  },
  {
   "cell_type": "markdown",
   "metadata": {},
   "source": [
    "\n"
   ]
  },
  {
   "cell_type": "code",
   "execution_count": 1,
   "metadata": {
    "collapsed": true
   },
   "outputs": [],
   "source": [
    "```{r plot-data1, fig.cap=\"ndvi plot - no legend\"}\n",
    "\n",
    "# plot ndvi with legend\n",
    "\n",
    "plot(ndvi_classified,\n",
    "\n",
    "     main=\"ndvi plot\",\n",
    "\n",
    "     col=the_colors)\n",
    "\n",
    "```\n"
   ]
  },
  {
   "cell_type": "markdown",
   "metadata": {},
   "source": [
    "First let's get rid of the unnecessary axes and turn off the legend.\n",
    "\n",
    "We can remote the axes & box that surrounds our image using: `axes=F` and `box=F`.\n",
    "\n",
    "\n"
   ]
  },
  {
   "cell_type": "code",
   "execution_count": 1,
   "metadata": {
    "collapsed": true
   },
   "outputs": [],
   "source": [
    "```{r plot-data2, fig.cap=\"ndvi plot - no legend\"}\n",
    "\n",
    "# plot ndvi with legend\n",
    "\n",
    "plot(ndvi_classified,\n",
    "\n",
    "     main=\"ndvi plot\",\n",
    "\n",
    "     col=the_colors,\n",
    "\n",
    "     axes=F, box=F)\n",
    "\n",
    "\n",
    "\n",
    "```\n"
   ]
  },
  {
   "cell_type": "markdown",
   "metadata": {},
   "source": [
    "\n",
    "\n",
    "Next, we turn off the legend and add our own legend. However, the legend isn't\n",
    "\n",
    "exactly where we want it to be here. It's above the plot and we'd like it to be\n",
    "\n",
    "to the right of the plot.\n",
    "\n",
    "\n"
   ]
  },
  {
   "cell_type": "code",
   "execution_count": 1,
   "metadata": {
    "collapsed": true
   },
   "outputs": [],
   "source": [
    "```{r plot-data3, fig.cap=\"ndvi plot - no legend\"}\n",
    "\n",
    "# plot ndvi with legend\n",
    "\n",
    "plot(ndvi_classified,\n",
    "\n",
    "     legend=F,\n",
    "\n",
    "     main=\"ndvi plot\",\n",
    "\n",
    "     col=the_colors,\n",
    "\n",
    "     axes=F, box=F)\n",
    "\n",
    "legend(\"topright\",\n",
    "\n",
    "       legend=c(\"Healthy vegetation\", \"Less healthy vegetation\", \"No vegetation\"),\n",
    "\n",
    "       fill= the_colors)\n",
    "\n",
    "```\n"
   ]
  },
  {
   "cell_type": "markdown",
   "metadata": {},
   "source": [
    "\n",
    "\n",
    "We can force the legend to plot outside of our axes using the parameter\n",
    "\n",
    "`xpd=T`. We can locate the legend in the upper right hand corner OUTSIDE\n",
    "\n",
    "of our plot by specifying the max x and y values derived from the `extent` of\n",
    "\n",
    "the spatial object that we are plotting\n",
    "\n",
    "\n",
    "\n",
    "Here I set the x max value to me the **furthest east** hand corner of my object extent.\n",
    "\n",
    "`x = ndvi_classified@extent@xmax`\n",
    "\n",
    "\n",
    "\n",
    "Here I set the y max value to me the **furthest north** of my object extent.\n",
    "\n",
    "`y = ndvi_classified@extent@ymax`\n",
    "\n",
    "\n",
    "\n",
    "\n"
   ]
  },
  {
   "cell_type": "code",
   "execution_count": 1,
   "metadata": {
    "collapsed": true
   },
   "outputs": [],
   "source": [
    "```{r fix-plot-legend, fig.cap=\"plot with legend in the upper right. \"}\n",
    "\n",
    "\n",
    "\n",
    "# plot ndvi with legend\n",
    "\n",
    "plot(ndvi_classified,\n",
    "\n",
    "     legend=F,\n",
    "\n",
    "     main=\"ndvi plot\",\n",
    "\n",
    "     col=the_colors,\n",
    "\n",
    "     axes=F, box=F)\n",
    "\n",
    "# set xpd to T to allow the legend to plot OUTSIDE of the plot area\n",
    "\n",
    "par(xpd=T)\n",
    "\n",
    "legend(x = ndvi_classified@extent@xmax, y=ndvi_classified@extent@ymax,\n",
    "\n",
    "       legend=c(\"Healthy vegetation\", \"Less healthy vegetation\", \"No vegetation\"),\n",
    "\n",
    "       fill= rev(the_colors)) # use rev to reverse the order of colors for the legend\n",
    "\n",
    "```\n"
   ]
  },
  {
   "cell_type": "markdown",
   "metadata": {},
   "source": [
    "\n",
    "\n",
    "Now, another problem with our legend. *The order of our colors is all wrong:* Grey should represent \"no vegetation\" and green should represent health vegetation. We can use `rev()` on our list of colors to reverse the order of colors drawn on the legend.\n",
    "\n",
    "\n"
   ]
  },
  {
   "cell_type": "code",
   "execution_count": 1,
   "metadata": {
    "collapsed": true
   },
   "outputs": [],
   "source": [
    "```{r fix-plot-legend22, fig.cap=\"plot with legend in the upper right. \"}\n",
    "\n",
    "\n",
    "\n",
    "# plot ndvi with legend\n",
    "\n",
    "plot(ndvi_classified,\n",
    "\n",
    "     legend=F,\n",
    "\n",
    "     main=\"ndvi plot\",\n",
    "\n",
    "     col=the_colors,\n",
    "\n",
    "     axes=F, box=F)\n",
    "\n",
    "# set xpd to T to allow the legend to plot OUTSIDE of the plot area\n",
    "\n",
    "par(xpd=T)\n",
    "\n",
    "legend(x = ndvi_classified@extent@xmax, y=ndvi_classified@extent@ymax,\n",
    "\n",
    "       legend=c(\"Healthy vegetation\", \"Less healthy vegetation\", \"No vegetation\"),\n",
    "\n",
    "       fill= rev(the_colors)) # use rev to reverse the order of colors for the legend\n",
    "\n",
    "```\n"
   ]
  },
  {
   "cell_type": "markdown",
   "metadata": {},
   "source": [
    "\n",
    "\n",
    "On to the pesky white space on either side of the plot. There are several\n",
    "\n",
    "ways to handle this. One is by specifying margins for out plot.\n",
    "\n",
    "\n",
    "\n",
    "Notice in the plot above that there is\n",
    "\n",
    "too much white space above and below the plot. In the case of my plot, the aspect\n",
    "\n",
    "ratio of width:height is not right. We want the height to be SMALLER to remove\n",
    "\n",
    "some of the white space. The white space is there because R is trying to plot\n",
    "\n",
    "our figure using a 1:1 aspect ratio. We can use the `mar` argument to adjust\n",
    "\n",
    "the white space on the bottom, left, top, or right sides of the plot.\n",
    "\n",
    "This makes room for our legend.\n",
    "\n",
    "\n",
    "\n",
    "Below, we adjusted the top margin to `2` and the right margin to `5`.\n",
    "\n",
    "This makes space for our legend but also makes a bit of space for our plot title.\n",
    "\n",
    "\n"
   ]
  },
  {
   "cell_type": "code",
   "execution_count": 1,
   "metadata": {
    "collapsed": true
   },
   "outputs": [],
   "source": [
    "```{r fix-plot-legend3, fig.cap=\"plot with legend in the upper right. \"}\n",
    "\n",
    "# set a margin for our figure\n",
    "\n",
    "par(xpd=F, mar=c(0,0,2,5))\n",
    "\n",
    "# plot ndvi with legend\n",
    "\n",
    "plot(ndvi_classified,\n",
    "\n",
    "     legend=F,\n",
    "\n",
    "     main=\"ndvi plot with axes & box turned off\",\n",
    "\n",
    "     col=the_colors,\n",
    "\n",
    "     axes=F,\n",
    "\n",
    "     box=F)\n",
    "\n",
    "# set xpd to T to allow the legend to plot OUTSIDE of the plot area\n",
    "\n",
    "par(xpd=T)\n",
    "\n",
    "legend(x = ndvi_classified@extent@xmax, y=ndvi_classified@extent@ymax,\n",
    "\n",
    "       legend=c(\"Healthy vegetation\", \"Less healthy vegetation\", \"No vegetation\"),\n",
    "\n",
    "       bty=F, # turn off legend border\n",
    "\n",
    "       fill= rev(the_colors)) # use rev to reverse the order of colors for the legend\n",
    "\n",
    "```\n"
   ]
  },
  {
   "cell_type": "markdown",
   "metadata": {},
   "source": [
    "\n"
   ]
  },
  {
   "cell_type": "code",
   "execution_count": 1,
   "metadata": {
    "collapsed": true
   },
   "outputs": [],
   "source": [
    "```{r dev-off-pls}\n",
    "\n",
    "dev.off()\n",
    "\n",
    "```\n"
   ]
  },
  {
   "cell_type": "markdown",
   "metadata": {},
   "source": [
    "\n",
    "\n",
    "I can do better than that however. That box around the legend is annoying. Let's\n",
    "\n",
    "remove it using the legend argument: `bty=\"n\"`. Let's also make the legend\n",
    "\n",
    "fonts a bit smaller using the argument `cex=.9`.\n",
    "\n",
    "\n"
   ]
  },
  {
   "cell_type": "code",
   "execution_count": 1,
   "metadata": {
    "collapsed": true
   },
   "outputs": [],
   "source": [
    "```{r fix-plot-legend33, fig.cap=\"plot with legend in the upper right. \"}\n",
    "\n",
    "# set a margin for our figure\n",
    "\n",
    "par(xpd=F, mar=c(0,0,2,5))\n",
    "\n",
    "# plot ndvi with legend\n",
    "\n",
    "plot(ndvi_classified,\n",
    "\n",
    "     legend=F,\n",
    "\n",
    "     main=\"ndvi plot with axes & box turned off\",\n",
    "\n",
    "     col=the_colors,\n",
    "\n",
    "     axes=F,\n",
    "\n",
    "     box=F)\n",
    "\n",
    "# set xpd to T to allow the legend to plot OUTSIDE of the plot area\n",
    "\n",
    "par(xpd=T)\n",
    "\n",
    "legend(x = ndvi_classified@extent@xmax, y=ndvi_classified@extent@ymax,\n",
    "\n",
    "       legend=c(\"Healthy vegetation\", \"Less healthy vegetation\", \"No vegetation\"),\n",
    "\n",
    "       fill= rev(the_colors),# use rev to reverse the order of colors for the legend\n",
    "\n",
    "       bty=\"n\", # turn off legend border\n",
    "\n",
    "       cex=.9)  # adjust legend font size\n",
    "\n",
    "```\n"
   ]
  },
  {
   "cell_type": "code",
   "execution_count": 1,
   "metadata": {
    "collapsed": true
   },
   "outputs": [],
   "source": [
    "```{r dev-off-pls2}\n",
    "\n",
    "dev.off()\n",
    "\n",
    "```\n"
   ]
  },
  {
   "cell_type": "markdown",
   "metadata": {},
   "source": [
    "\n",
    "\n",
    "If things are still not looking right, we can adjust the size of our output\n",
    "\n",
    "figure. Try adding the arguments fig.width and fig.height to your code chunk.\n",
    "\n",
    "`{r fix-plot-legend3, fig.cap=\"plot with legend in the upper right.\", fig.width=6, fig.height=4}`\n",
    "\n",
    "\n",
    "\n",
    "I use these values because i want the HEIGHT of the figure to be smaller. I want\n",
    "\n",
    "the WIDTH of the figure to be \"landscape\" or wider so i'll leave that value alone.\n",
    "\n",
    "\n",
    "\n",
    "Below, I set `fig.width=6`, `fig.height=4` in my code chunk. setting a smaller\n",
    "\n",
    "height pulled the title down closer to my plot. I've also decreased the font\n",
    "\n",
    "size of my legend using the `cex` legend argument. Note that you may have to play with the\n",
    "\n",
    "figure size a bit to get it just right.\n",
    "\n",
    "\n",
    "\n",
    "HINT: use `dev.size()`` to figure out the size of your plot dev space in RStudio.\n",
    "\n",
    "\n"
   ]
  },
  {
   "cell_type": "code",
   "execution_count": 1,
   "metadata": {
    "collapsed": true
   },
   "outputs": [],
   "source": [
    "```{r fix-plot-legend4, fig.cap=\"plot with legend in the upper right.\", fig.width=6, fig.height=4}\n",
    "\n",
    "# set a margin for our figure\n",
    "\n",
    "par(xpd=F, mar=c(0,0,2,6))\n",
    "\n",
    "# plot ndvi with legend\n",
    "\n",
    "plot(ndvi_classified,\n",
    "\n",
    "     legend=F,\n",
    "\n",
    "     main=\"NDVI plot with axes & box turned off & custom margins\\n to make room for the legend\",\n",
    "\n",
    "     col=the_colors,\n",
    "\n",
    "     axes=F,\n",
    "\n",
    "     box=F)\n",
    "\n",
    "# set xpd to T to allow the legend to plot OUTSIDE of the plot area\n",
    "\n",
    "par(xpd=T)\n",
    "\n",
    "legend(x = ndvi_classified@extent@xmax, y=ndvi_classified@extent@ymax,\n",
    "\n",
    "       legend=c(\"Healthy vegetation\", \"Less healthy vegetation\", \"No vegetation\"),\n",
    "\n",
    "       bty=\"n\", # turn off legend border\n",
    "\n",
    "       cex=.8, # make the legend font a bit smaller\n",
    "\n",
    "       fill= rev(the_colors)) # use rev to reverse the order of colors for the legend\n",
    "\n",
    "```\n"
   ]
  },
  {
   "cell_type": "markdown",
   "metadata": {},
   "source": [
    "\n",
    "\n",
    "While we are at it, let's add a border using a crop extent\n",
    "\n",
    "shapefile that was used to clip these data\n",
    "\n",
    "\n"
   ]
  },
  {
   "cell_type": "code",
   "execution_count": 1,
   "metadata": {
    "collapsed": true
   },
   "outputs": [],
   "source": [
    "```{r import-shape, results=\"hide\", fig.cap=\"add crop box\", , fig.width=6, fig.height=4}\n",
    "\n",
    "# import crop extent\n",
    "\n",
    "crop_ext <- readOGR(\"data/week6/vector_layers/fire_crop_box_2000m.shp\")\n",
    "\n",
    "# set a margin for our figure\n",
    "\n",
    "par(xpd=F, mar=c(0,0,2,6))\n",
    "\n",
    "# plot ndvi with legend\n",
    "\n",
    "plot(ndvi_classified,\n",
    "\n",
    "     legend=F,\n",
    "\n",
    "     main=\"NDVI plot with axes & box turned off & custom margins\\n to make room for the legend\",\n",
    "\n",
    "     col=the_colors,\n",
    "\n",
    "     axes=F,\n",
    "\n",
    "     box=F)\n",
    "\n",
    "\n",
    "\n",
    "plot(crop_ext,\n",
    "\n",
    "     lwd=2,\n",
    "\n",
    "     add=T)\n",
    "\n",
    "# set xpd to T to allow the legend to plot OUTSIDE of the plot area\n",
    "\n",
    "par(xpd=T)\n",
    "\n",
    "legend(x = ndvi_classified@extent@xmax, y=ndvi_classified@extent@ymax,\n",
    "\n",
    "       legend=c(\"Healthy vegetation\", \"Less healthy vegetation\", \"No vegetation\"),\n",
    "\n",
    "       bty=\"n\", # turn off legend border\n",
    "\n",
    "       cex=.8, # make the legend font a bit smaller\n",
    "\n",
    "       fill= rev(the_colors)) # use rev to reverse the order of colors for the legend\n",
    "\n",
    "```\n"
   ]
  },
  {
   "cell_type": "markdown",
   "metadata": {},
   "source": [
    "\n",
    "\n",
    "Again - always reset dev when you've been adjusting `par()` values for\n",
    "\n",
    "plots!\n",
    "\n",
    "\n"
   ]
  },
  {
   "cell_type": "code",
   "execution_count": 1,
   "metadata": {
    "collapsed": true
   },
   "outputs": [],
   "source": [
    "```{r dev-off-pls3, message=F, warning=F, results=\"hide\"}\n",
    "\n",
    "dev.off()\n",
    "\n",
    "```\n"
   ]
  }
 ],
 "metadata": {
  "kernelspec": {
   "display_name": "Python 3",
   "language": "python",
   "name": "python3"
  },
  "language_info": {
   "codemirror_mode": {
    "name": "ipython",
    "version": 3
   },
   "file_extension": ".py",
   "mimetype": "text/x-python",
   "name": "python",
   "nbconvert_exporter": "python",
   "pygments_lexer": "ipython3",
   "version": "3.6.0"
  }
 },
 "nbformat": 4,
 "nbformat_minor": 2
}
