{
 "cells": [
  {
   "cell_type": "raw",
   "metadata": {},
   "source": [
    "---\n",
    "layout: single\n",
    "title: \"Add variables to an RMD report R.\"\n",
    "excerpt: \" \"\n",
    "authors: ['Leah Wasser']\n",
    "modified: '{:%Y-%m-%d}'.format(datetime.now())\n",
    "category: [course-materials]\n",
    "class-lesson: ['how-to-hints-week7']\n",
    "permalink: /course-materials/earth-analytics/week-7/add-variables-to-rmarkdown-report/\n",
    "nav-title: 'Variables in rmarkdown report'\n",
    "module-title: 'Refine plots & add variables to knirt reports'\n",
    "module-description: 'This tutorial set covers some basic things you can do to refine your plots in Rmarkdown document. It covers plotting in grids, adding titles to plotRGB() plots\n",
    "and refining the width and height of plots to optimize space.'\n",
    "module-nav-title: 'Refine Rmarkdown reports'\n",
    "module-type: 'homework'\n",
    "week: 7\n",
    "sidebar:\n",
    "  nav:\n",
    "author_profile: false\n",
    "comments: true\n",
    "order: 1\n",
    "---\n"
   ]
  },
  {
   "cell_type": "markdown",
   "metadata": {},
   "source": [
    "\n",
    "\n",
    "{% include toc title=\"In This Lesson\" icon=\"file-text\" %}\n",
    "\n",
    "\n",
    "\n",
    "<div class='notice--success' markdown=\"1\">\n",
    "\n",
    "\n",
    "\n",
    "## <i class=\"fa fa-graduation-cap\" aria-hidden=\"true\"></i> Learning Objectives\n",
    "\n",
    "\n",
    "\n",
    "After completing this tutorial, you will be able to:\n",
    "\n",
    "\n",
    "\n",
    "* Add a variable to the markdown chunk in your rmd report.\n",
    "\n",
    "\n",
    "\n",
    "## <i class=\"fa fa-check-square-o fa-2\" aria-hidden=\"true\"></i> What you need\n",
    "\n",
    "\n",
    "\n",
    "You will need a computer with internet access to complete this lesson and the\n",
    "\n",
    "data for week 6 of the course.\n",
    "\n",
    "\n",
    "\n",
    "[<i class=\"fa fa-download\" aria-hidden=\"true\"></i> Download Week 6 Data (~500 MB)](https://ndownloader.figshare.com/files/7677208){:data-proofer-ignore='' .btn }\n",
    "\n",
    "</div>\n",
    "\n",
    "\n",
    "\n",
    "\n"
   ]
  },
  {
   "cell_type": "code",
   "execution_count": 1,
   "metadata": {
    "collapsed": true
   },
   "outputs": [],
   "source": [
    "```{r crop-naip-imagey, echo=F, results='hide', message=F, warning=F}\n",
    "\n",
    "library(raster)\n",
    "\n",
    "library(rgeos)\n",
    "\n",
    "library(rgdal)\n",
    "\n",
    "# import stack\n",
    "\n",
    "# import vector that we used to crop the data\n",
    "\n",
    "# csf_crop <- readOGR(\"data/week6/vector_layers/fire_crop_box_500m.shp\")\n",
    "\n",
    "\n",
    "\n",
    "```\n"
   ]
  },
  {
   "cell_type": "markdown",
   "metadata": {},
   "source": [
    "\n",
    "\n",
    "## Automating report content\n",
    "\n",
    "\n",
    "\n",
    "Let's pretend that we've calculated a value in our code and we want to include\n",
    "\n",
    "it in our R markdown report but we don't want to include the code. Maybe it's a\n",
    "\n",
    "number that we want to appear in the TEXT of our report - not as a code chunk\n",
    "\n",
    "output. How do we do that?\n",
    "\n",
    "\n",
    "\n",
    "\n"
   ]
  },
  {
   "cell_type": "code",
   "execution_count": 1,
   "metadata": {
    "collapsed": true
   },
   "outputs": [],
   "source": [
    "```{r create-variable}\n",
    "\n",
    "\n",
    "\n",
    "total_area <- (800 * 7) / 2\n",
    "\n",
    "```\n"
   ]
  }
 ],
 "metadata": {
  "kernelspec": {
   "display_name": "Python 3",
   "language": "python",
   "name": "python3"
  },
  "language_info": {
   "codemirror_mode": {
    "name": "ipython",
    "version": 3
   },
   "file_extension": ".py",
   "mimetype": "text/x-python",
   "name": "python",
   "nbconvert_exporter": "python",
   "pygments_lexer": "ipython3",
   "version": "3.6.0"
  }
 },
 "nbformat": 4,
 "nbformat_minor": 2
}
