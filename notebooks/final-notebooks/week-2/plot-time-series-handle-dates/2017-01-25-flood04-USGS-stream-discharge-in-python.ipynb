{
 "cells": [
  {
   "cell_type": "raw",
   "metadata": {},
   "source": [
    "---\n",
    "layout: single\n",
    "title: \"Plot Stream Discharge Data in R\"\n",
    "excerpt: \"This lesson is a challenge exercise that asks you to use all of the skills used during the week 2 set of lessons in the earth analytics course. Here you will import data and subset it to create a final plot of stream discharge over time.\"\n",
    "authors: ['Leah Wasser', 'NEON Data Skills']\n",
    "modified: '{:%Y-%m-%d}'.format(datetime.now())\n",
    "category: [course-materials]\n",
    "class-lesson: ['time-series-python']\n",
    "course: 'earth-analytics-python'\n",
    "week: 2\n",
    "permalink: /course-materials/earth-analytics-python/week-2/plot-stream-discharge-timeseries-challenge-python/\n",
    "nav-title: 'Subset & plot timeseries data'\n",
    "sidebar:\n",
    "  nav:\n",
    "author_profile: false\n",
    "comments: true\n",
    "order: 4\n",
    "topics:\n",
    "  reproducible-science-and-programming: ['Jupyter notebook']\n",
    "  time-series:\n",
    "  data-exploration-and-analysis: ['data-visualization']\n",
    "---\n"
   ]
  },
  {
   "cell_type": "markdown",
   "metadata": {},
   "source": [
    "# look into https://seaborn.pydata.org/tutorial/aesthetics.html\n",
    "\n",
    "{% include toc title=\"In This Lesson\" icon=\"file-text\" %}\n",
    "\n",
    "In this data lesson, we explore and visualize stream discharge time series\n",
    "data collected by the United States Geological Survey (USGS). You will use everything\n",
    "that you learned in the previous lessons to create your plots. You will use these\n",
    "plots in the report that you submit for your homework.\n",
    "\n",
    "Note: this page just shows you what the plots should look like. You will need\n",
    "to use your programming skills to create the plots!\n",
    "\n",
    "<div class='notice--success' markdown=\"1\">\n",
    "\n",
    "## <i class=\"fa fa-graduation-cap\" aria-hidden=\"true\"></i> Learning Objectives\n",
    "\n",
    "After completing this tutorial, you will be able to:\n",
    "\n",
    "* Plot USGS Stream Discharge time series data in `Python`.\n",
    "\n",
    "## <i class=\"fa fa-check-square-o fa-2\" aria-hidden=\"true\"></i> What you need\n",
    "\n",
    "You need `Python` and `Jupyter notebooks` to complete this tutorial. Also you should have\n",
    "an `earth-analytics` directory setup on your computer with a `/data`\n",
    "directory with it.\n",
    "\n",
    "* [How to Setup R / RStudio](/course-materials/earth-analytics/week-1/setup-r-rstudio/)\n",
    "* [Setup your working directory](/course-materials/earth-analytics/week-1/setup-working-directory/)\n",
    "* [Intro to the R & RStudio Interface](/course-materials/earth-analytics/week-1/intro-to-r-and-rstudio)\n",
    "\n",
    "Please download the data (used throughout this series of lessons) if you don't already have it on your computer.\n",
    "\n",
    "[<i class=\"fa fa-download\" aria-hidden=\"true\"></i> Download Week 2 Data](https://ndownloader.figshare.com/files/7426738){:data-proofer-ignore='' .btn }\n",
    "\n",
    "</div>\n",
    "\n",
    "## About the Data - USGS Stream Discharge Data\n",
    "\n",
    "The USGS has a distributed network of aquatic sensors located in streams across\n",
    "the United States. This network monitors a suit of variables that are important\n",
    "to stream morphology and health. One of the metrics that this sensor network\n",
    "monitors is **Stream Discharge**, a metric which quantifies the volume of water\n",
    "moving down a stream. Discharge is an ideal metric to quantify flow, which\n",
    "increases significantly during a flood event.\n",
    "\n",
    "> As defined by USGS: Discharge is the volume of water moving down a stream or\n",
    "> river per unit of time, commonly expressed in cubic feet per second or gallons\n",
    "> per day. In general, river discharge is computed by multiplying the area of\n",
    "> water in a channel cross section by the average velocity of the water in that\n",
    "> cross section.\n",
    ">\n",
    "> <a href=\"http://water.usgs.gov/edu/streamflow2.html\" target=\"_blank\">\n",
    "Read more about stream discharge data collected by USGS.</a>\n",
    "\n",
    "<figure>\n",
    "<a href=\"{{ site.url }}/images/course-materials/earth-analytics/week-2/USGS-peak-discharge.gif\">\n",
    "<img src=\"{{ site.url }}/images/course-materials/earth-analytics/week-2/USGS-peak-discharge.gif\" alt=\"Plot of stream discharge from the USGS boulder creek stream gage\"></a>\n",
    "<figcaption>\n",
    "The USGS tracks stream discharge through time at locations across the United\n",
    "States. Note the pattern observed in the plot above. The peak recorded discharge\n",
    "value in 2013 was significantly larger than what was observed in other years.\n",
    "Source: <a href=\"http://nwis.waterdata.usgs.gov/usa/nwis/peak/?site_no=06730200\" target=\"_blank\"> USGS, National Water Information System. </a>\n",
    "</figcaption>\n",
    "</figure>\n",
    "\n"
   ]
  },
  {
   "cell_type": "markdown",
   "metadata": {},
   "source": [
    "## Work with USGS Stream Gage Data\n",
    "\n",
    "Let's begin by loading the required libraries and setting our working directory.\n"
   ]
  },
  {
   "cell_type": "code",
   "execution_count": 21,
   "metadata": {
    "collapsed": true
   },
   "outputs": [],
   "source": [
    "import numpy as np\n",
    "import pandas as pd\n",
    "import matplotlib.pyplot as plt\n",
    "import os\n",
    "plt.ion()\n",
    "# set working directory -- can i set this as a hidden line of code and then have my usual teaser commented out set your wd line??\n",
    "os.chdir(\"/Users/lewa8222/Documents/earth-analytics/\")\n",
    "\n",
    "plt.style.use('seaborn-white')"
   ]
  },
  {
   "cell_type": "markdown",
   "metadata": {},
   "source": [
    "##  Import USGS Stream Discharge Data Into Python\n",
    "\n",
    "Let's first import our data using the pandas `read.csv()` function.\n"
   ]
  },
  {
   "cell_type": "code",
   "execution_count": 22,
   "metadata": {},
   "outputs": [
    {
     "data": {
      "text/html": [
       "<div>\n",
       "<table border=\"1\" class=\"dataframe\">\n",
       "  <thead>\n",
       "    <tr style=\"text-align: right;\">\n",
       "      <th></th>\n",
       "      <th>agency_cd</th>\n",
       "      <th>site_no</th>\n",
       "      <th>datetime</th>\n",
       "      <th>disValue</th>\n",
       "      <th>qualCode</th>\n",
       "    </tr>\n",
       "  </thead>\n",
       "  <tbody>\n",
       "    <tr>\n",
       "      <th>0</th>\n",
       "      <td>USGS</td>\n",
       "      <td>6730200</td>\n",
       "      <td>1986-10-01</td>\n",
       "      <td>30.0</td>\n",
       "      <td>A</td>\n",
       "    </tr>\n",
       "    <tr>\n",
       "      <th>1</th>\n",
       "      <td>USGS</td>\n",
       "      <td>6730200</td>\n",
       "      <td>1986-10-02</td>\n",
       "      <td>30.0</td>\n",
       "      <td>A</td>\n",
       "    </tr>\n",
       "    <tr>\n",
       "      <th>2</th>\n",
       "      <td>USGS</td>\n",
       "      <td>6730200</td>\n",
       "      <td>1986-10-03</td>\n",
       "      <td>30.0</td>\n",
       "      <td>A</td>\n",
       "    </tr>\n",
       "    <tr>\n",
       "      <th>3</th>\n",
       "      <td>USGS</td>\n",
       "      <td>6730200</td>\n",
       "      <td>1986-10-04</td>\n",
       "      <td>30.0</td>\n",
       "      <td>A</td>\n",
       "    </tr>\n",
       "    <tr>\n",
       "      <th>4</th>\n",
       "      <td>USGS</td>\n",
       "      <td>6730200</td>\n",
       "      <td>1986-10-05</td>\n",
       "      <td>30.0</td>\n",
       "      <td>A</td>\n",
       "    </tr>\n",
       "  </tbody>\n",
       "</table>\n",
       "</div>"
      ],
      "text/plain": [
       "  agency_cd  site_no   datetime  disValue qualCode\n",
       "0      USGS  6730200 1986-10-01      30.0        A\n",
       "1      USGS  6730200 1986-10-02      30.0        A\n",
       "2      USGS  6730200 1986-10-03      30.0        A\n",
       "3      USGS  6730200 1986-10-04      30.0        A\n",
       "4      USGS  6730200 1986-10-05      30.0        A"
      ]
     },
     "execution_count": 22,
     "metadata": {},
     "output_type": "execute_result"
    }
   ],
   "source": [
    "discharge = pd.read_csv('data/week2/discharge/06730200-discharge-daily-1986-2013.csv', \n",
    "                        parse_dates=['datetime'])\n",
    "discharge.head()"
   ]
  },
  {
   "cell_type": "code",
   "execution_count": 23,
   "metadata": {},
   "outputs": [
    {
     "data": {
      "text/plain": [
       "agency_cd            object\n",
       "site_no               int64\n",
       "datetime     datetime64[ns]\n",
       "disValue            float64\n",
       "qualCode             object\n",
       "dtype: object"
      ]
     },
     "execution_count": 23,
     "metadata": {},
     "output_type": "execute_result"
    }
   ],
   "source": [
    "discharge.dtypes"
   ]
  },
  {
   "cell_type": "markdown",
   "metadata": {},
   "source": [
    "<div class=\"notice--warning\" markdown=\"1\">\n",
    "\n",
    "## <i class=\"fa fa-pencil-square-o\" aria-hidden=\"true\"></i> Optional challenge\n",
    "\n",
    "Now that the data are imported, plot disValue (discharge value) over time.\n",
    "To do this, you will need to use\n",
    "everything that you learned in the previous lessons.\n",
    "\n",
    "Hint: when converting the date, take a close look at the format of the date -\n",
    "is the year 4 digits (including the century) or just 2? Use `?XXXstrptime` to figure\n",
    "out what format elements you'll need to include to get the date right.\n",
    "</div>\n",
    "\n"
   ]
  },
  {
   "cell_type": "code",
   "execution_count": 24,
   "metadata": {
    "collapsed": true
   },
   "outputs": [],
   "source": [
    "# i'm guessing you don't have to do this step?\n",
    "# discharge['datetime'] = pd.to_datetime(discharge['datetime'])"
   ]
  },
  {
   "cell_type": "markdown",
   "metadata": {},
   "source": [
    "\n",
    "\n",
    "\n",
    "\n",
    "Your plot should look something like the one below:\n",
    "\n",
    "\n"
   ]
  },
  {
   "cell_type": "code",
   "execution_count": 25,
   "metadata": {
    "tags": [
     "hide"
    ]
   },
   "outputs": [
    {
     "data": {
      "image/png": "[encoded data removed]",
      "text/plain": [
       "<matplotlib.figure.Figure at 0x10c3bf898>"
      ]
     },
     "metadata": {},
     "output_type": "display_data"
    }
   ],
   "source": [
    "# this is a challenge so this should be hidden.  \n",
    "fig, ax = plt.subplots()\n",
    "ax.plot('datetime', 'disValue', 'o', data=discharge)\n",
    "ax.set(title=\"Stream Discharge (CFS) - Boulder Creek, 1986-2016\",\n",
    "       xlabel=\"Year\", ylabel=\"Discharge (CFS)\");"
   ]
  },
  {
   "cell_type": "markdown",
   "metadata": {},
   "source": [
    "<div class=\"notice--warning\" markdown=\"1\">\n",
    "\n",
    "## <i class=\"fa fa-pencil-square-o\" aria-hidden=\"true\"></i> Optional challenge\n",
    "\n",
    "Similar to the previous lesson, take the cleaned discharge data that you just\n",
    "plotted and subset it to the time span\n",
    "of **2013-08-15 to 2013-10-15**.  \n",
    "\n",
    "Finally plot the data using `matplotlib`. Your plot should look like the one below.\n",
    "</div>\n"
   ]
  },
  {
   "cell_type": "code",
   "execution_count": 26,
   "metadata": {
    "tags": [
     "hide"
    ]
   },
   "outputs": [
    {
     "data": {
      "image/png": "[encoded data removed]",
      "text/plain": [
       "<matplotlib.figure.Figure at 0x10c2f1860>"
      ]
     },
     "metadata": {},
     "output_type": "display_data"
    }
   ],
   "source": [
    "# Subset the data using regulary bollean approach \n",
    "discharge_augSept_2013 = discharge[(discharge['datetime'] >= \"2013-08-15\") & \n",
    "                                   (discharge['datetime'] <= \"2013-10-15\")]\n",
    "# plot the data \n",
    "# again i think that we need to hide this cdoe...\n",
    "fig, ax = plt.subplots()\n",
    "ax.plot('datetime', 'disValue', 'o', \n",
    "        data=discharge_augSept_2013)\n",
    "ax.set(title=\"Daily Stream Discharge (CFS) for Boulder Creek 8/15 - 10/15 2013\",\n",
    "       xlabel=\"Month / Day\", ylabel=\"Discharge (CFS)\")\n",
    "plt.setp(ax.get_xticklabels(), rotation=30);"
   ]
  },
  {
   "cell_type": "code",
   "execution_count": null,
   "metadata": {
    "collapsed": true
   },
   "outputs": [],
   "source": [
    "\n"
   ]
  }
 ],
 "metadata": {
  "celltoolbar": "Tags",
  "kernelspec": {
   "display_name": "Python 3",
   "language": "python",
   "name": "python3"
  },
  "language_info": {
   "codemirror_mode": {
    "name": "ipython",
    "version": 3
   },
   "file_extension": ".py",
   "mimetype": "text/x-python",
   "name": "python",
   "nbconvert_exporter": "python",
   "pygments_lexer": "ipython3",
   "version": "3.6.0"
  },
  "toc": {
   "toc_cell": false,
   "toc_number_sections": false,
   "toc_threshold": "2",
   "toc_window_display": false
  }
 },
 "nbformat": 4,
 "nbformat_minor": 2
}
