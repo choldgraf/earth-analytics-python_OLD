{
 "cells": [
  {
   "cell_type": "code",
   "execution_count": 1,
   "metadata": {
    "collapsed": true
   },
   "outputs": [],
   "source": [
    "# Add earthlab to path\n",
    "import sys\n",
    "sys.path.append('../../')\n",
    "\n",
    "import earthlab as et\n",
    "from glob import glob"
   ]
  },
  {
   "cell_type": "code",
   "execution_count": 2,
   "metadata": {},
   "outputs": [
    {
     "name": "stdout",
     "output_type": "stream",
     "text": [
      "Extracting zip file...\n"
     ]
    }
   ],
   "source": [
    "path_data = et.data.get_data('week_05', replace=False, zipfile=True)"
   ]
  },
  {
   "cell_type": "code",
   "execution_count": 4,
   "metadata": {},
   "outputs": [
    {
     "name": "stdout",
     "output_type": "stream",
     "text": [
      "/Users/choldgraf/data_earthlab/week_05/\n",
      "  california\n",
      "    madera-county-roads\n",
      "    SJER\n",
      "  global\n",
      "    readme.txt\n",
      "    ne_110m_graticules_all\n",
      "    ne_110m_land\n",
      "  usa-boundary-layers\n",
      "    Boundary-US-State-Mass.cpg\n",
      "    Boundary-US-State-Mass.dbf\n",
      "    Boundary-US-State-Mass.prj\n",
      "    Boundary-US-State-Mass.qpj\n",
      "    Boundary-US-State-Mass.shp\n",
      "    Boundary-US-State-Mass.shx\n",
      "    Boundary-US-State-NEast.cpg\n",
      "    Boundary-US-State-NEast.dbf\n",
      "    Boundary-US-State-NEast.prj\n",
      "    Boundary-US-State-NEast.qpj\n",
      "    Boundary-US-State-NEast.shp\n",
      "    Boundary-US-State-NEast.shx\n",
      "    US-Boundary-Dissolved-States.cpg\n",
      "    US-Boundary-Dissolved-States.dbf\n",
      "    US-Boundary-Dissolved-States.prj\n",
      "    US-Boundary-Dissolved-States.qpj\n",
      "    US-Boundary-Dissolved-States.shp\n",
      "    US-Boundary-Dissolved-States.shx\n",
      "    US-State-Boundaries-Census-2014.cpg\n",
      "    US-State-Boundaries-Census-2014.dbf\n",
      "    US-State-Boundaries-Census-2014.prj\n",
      "    US-State-Boundaries-Census-2014.qpj\n",
      "    US-State-Boundaries-Census-2014.shp\n",
      "    US-State-Boundaries-Census-2014.shp.xml\n",
      "    US-State-Boundaries-Census-2014.shx\n"
     ]
    }
   ],
   "source": [
    "et.list_files(path_data, 2)"
   ]
  }
 ],
 "metadata": {
  "kernelspec": {
   "display_name": "Python [default]",
   "language": "python",
   "name": "python3"
  },
  "language_info": {
   "codemirror_mode": {
    "name": "ipython",
    "version": 3
   },
   "file_extension": ".py",
   "mimetype": "text/x-python",
   "name": "python",
   "nbconvert_exporter": "python",
   "pygments_lexer": "ipython3",
   "version": "3.5.2"
  },
  "toc": {
   "toc_cell": false,
   "toc_number_sections": false,
   "toc_threshold": "2",
   "toc_window_display": false
  }
 },
 "nbformat": 4,
 "nbformat_minor": 2
}
