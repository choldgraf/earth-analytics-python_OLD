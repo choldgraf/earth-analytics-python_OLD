{
 "cells": [
  {
   "cell_type": "raw",
   "metadata": {},
   "source": [
    "---\n",
    "layout: single\n",
    "title: \"TESTING\"\n",
    "excerpt: \"This lesson provides students wiht an example of a data driven report to emphsize the importance of connecting data, documentation and results.\"\n",
    "authors: ['Leah Wasser', 'NEON Data Skills', 'Mariela Perignon']\n",
    "modified: '{:%Y-%m-%d}'.format(datetime.now())\n",
    "category: [course-materials]\n",
    "class-lesson: ['TESTING']\n",
    "permalink: /course-materials/earth-analytics-python/week-1/TESTING/\n",
    "nav-title: 'CO Floods Data Example'\n",
    "week: 1\n",
    "sidebar:\n",
    "  nav:\n",
    "author_profile: false\n",
    "comments: true\n",
    "order: 3\n",
    "---\n"
   ]
  },
  {
   "cell_type": "markdown",
   "metadata": {},
   "source": [
    "Hard-linked images\n",
    "---\n",
    "\n",
    "First we'll show a linked image. This has the following relative file path:\n",
    "\n",
    "`../../../../images/course-materials/earth-analytics/week-2/week2-data.png`\n",
    "\n",
    "And is shown here:\n",
    "\n",
    "![](../../../../images/course-materials/earth-analytics/week-2/week2-data.png)\n",
    "\n",
    "The path above *will not* be changed when we run `nbconvert`.\n",
    "\n",
    "If we want to edit the path upon building the site so that it becomes:\n",
    "\n",
    "`{{ site.url }}/images/course-materials/...`\n",
    "\n",
    "could do something like:"
   ]
  },
  {
   "cell_type": "code",
   "execution_count": 1,
   "metadata": {
    "collapsed": true
   },
   "outputs": [],
   "source": [
    "import nbformat as nb"
   ]
  },
  {
   "cell_type": "code",
   "execution_count": 2,
   "metadata": {
    "collapsed": true
   },
   "outputs": [],
   "source": [
    "ntbk = nb.read('./image_demo.ipynb', nb.NO_CONVERT)"
   ]
  },
  {
   "cell_type": "code",
   "execution_count": 1,
   "metadata": {},
   "outputs": [
    {
     "name": "stdout",
     "output_type": "stream",
     "text": [
      "---------\n",
      "ORIGINAL\n",
      " some text\n",
      "![](../../../../images/course-materials/earth-analytics/week-2/week2-data.png)\n",
      "some more text\n",
      "---------\n",
      "MODIFIED\n",
      " some text\n",
      "![]({{ site.url }}/images/course-materials/earth-analytics/week-2/week2-data.png)\n",
      "some more text\n"
     ]
    }
   ],
   "source": [
    "import os\n",
    "\n",
    "# Path to the site root\n",
    "SITE_ROOT = \"/Users/choldgraf/Dropbox/github/forks/python/earth-analytics-python\"\n",
    "\n",
    "# Path relative to root for the notebook\n",
    "rel_path = os.path.relpath(SITE_ROOT, '../../../../images/course-materials/earth-analytics/week-2/week2-data.png')\n",
    "\n",
    "# Here's the text within a cell\n",
    "hard_coded_path = 'some text\\n![](../../../../images/course-materials/earth-analytics/week-2/week2-data.png)\\nsome more text'\n",
    "print(\"---------\\nORIGINAL\\n\", hard_coded_path)\n",
    "\n",
    "# This would then replace the path\n",
    "print(\"---------\\nMODIFIED\\n\", hard_coded_path.replace(rel_path[:-2], \"{{ site.url }}%s\" %os.sep))"
   ]
  },
  {
   "cell_type": "markdown",
   "metadata": {},
   "source": [
    "MPL-generated images\n",
    "---\n",
    "Next we'll show off a plot that is *created* in the notebook by Matplotlib:"
   ]
  },
  {
   "cell_type": "code",
   "execution_count": 2,
   "metadata": {},
   "outputs": [
    {
     "data": {
      "text/plain": [
       "[<matplotlib.lines.Line2D at 0x112f25438>]"
      ]
     },
     "execution_count": 2,
     "metadata": {},
     "output_type": "execute_result"
    },
    {
     "data": {
      "image/png": "[encoded data removed]",
      "text/plain": [
       "<matplotlib.figure.Figure at 0x109829f28>"
      ]
     },
     "metadata": {},
     "output_type": "display_data"
    }
   ],
   "source": [
    "import numpy as np\n",
    "from matplotlib import pyplot as plt\n",
    "plt.ion()\n",
    "plt.plot(np.random.randn(10))"
   ]
  },
  {
   "cell_type": "markdown",
   "metadata": {},
   "source": [
    "The plot above will be automatically moved to the `images` folder we give `nbconvert`, and the path in the final `md` file will be relative (and should work on the website)"
   ]
  },
  {
   "cell_type": "code",
   "execution_count": null,
   "metadata": {
    "collapsed": true
   },
   "outputs": [],
   "source": []
  }
 ],
 "metadata": {
  "kernelspec": {
   "display_name": "Python 3",
   "language": "python",
   "name": "python3"
  },
  "language_info": {
   "codemirror_mode": {
    "name": "ipython",
    "version": 3
   },
   "file_extension": ".py",
   "mimetype": "text/x-python",
   "name": "python",
   "nbconvert_exporter": "python",
   "pygments_lexer": "ipython3",
   "version": "3.6.1"
  }
 },
 "nbformat": 4,
 "nbformat_minor": 2
}
