{
 "cells": [
  {
   "cell_type": "raw",
   "metadata": {},
   "source": [
    "---\n",
    "layout: single\n",
    "title: \"Get to Know Python & Jupyter Notebooks\"\n",
    "excerpt: \"This tutorial introduces the Python scientific programming language. It is\n",
    "designed for someone who has not used Python before. We will work with precipitation and\n",
    "stream discharge data for Boulder County in Python but also learn the basics of working with python.\"\n",
    "authors: ['Chris Holdgraf', 'Leah Wasser', 'Data Carpentry']\n",
    "category: [course-materials]\n",
    "class-lesson: ['get-to-know-python']\n",
    "permalink: /course-materials/earth-analytics-python/week-2/python-syntax-and-using-functions/\n",
    "nav-title: 'Get to Know Python'\n",
    "dateCreated: 2017-05-23\n",
    "modified: '{:%Y-%m-%d}'.format(datetime.now())\n",
    "module-title: 'Get to Know the Python programming language'\n",
    "module-nav-title: 'Get to Know Python'\n",
    "module-description: 'This module introduces the Python scientific programming language.\n",
    "We will work with precipitation and stream discharge data for Boulder County\n",
    "to better understand the Python syntax, various data types and data import and plotting.'\n",
    "module-type: 'class'\n",
    "course: \"earth-analytics-python\"\n",
    "week: 2\n",
    "sidebar:\n",
    "  nav:\n",
    "author_profile: false\n",
    "comments: true\n",
    "order: 1\n",
    "topics:\n",
    "  reproducible-science-and-programming: ['Jupyter-notebooks']\n",
    "---\n",
    "\n"
   ]
  },
  {
   "cell_type": "markdown",
   "metadata": {},
   "source": [
    "{% include toc title=\"In This Lesson\" icon=\"file-text\" %}\n",
    "\n",
    "In this tutorial, we will explore the basic syntax (structure) of the `Python` programming\n",
    "language. We will introduce assignment operators (`=`), comments (`#`) and functions\n",
    "as used in `Python`. \n",
    "\n",
    "<div class='notice--success' markdown=\"1\">\n",
    "\n",
    "## <i class=\"fa fa-graduation-cap\" aria-hidden=\"true\"></i> Learning Objectives\n",
    "At the end of this activity, you will be able to:\n",
    "\n",
    "* Understand the basic concept of a function and be able to use a function in your code.\n",
    "* Use the assignment operator in Python (`=`) to create a new variable or object.\n",
    "\n",
    "## <i class=\"fa fa-check-square-o fa-2\" aria-hidden=\"true\"></i> What you need\n",
    "\n",
    "You need `Python 3.x` and `Jupyter notebooks` to complete this tutorial. Also you should have\n",
    "an `earth-analytics` directory setup on your computer with a `/data`\n",
    "directory with it.\n",
    "\n",
    "* [How to Setup R / RStudio](/course-materials/earth-analytics-python/week-1/setup-r-rstudio/)\n",
    "* [Setup your working directory](/course-materials/earth-analytics-python/week-1/setup-working-directory/)\n",
    "* [Intro to the R & RStudio Interface](/course-materials/earth-analytics-python/week-1/intro-to-r-and-rstudio)\n",
    "\n",
    "</div>\n",
    "\n",
    "[Last week](/course-materials/earth-analytics-python/week-1/), we\n",
    "setup `Jupyter notebook` and `python` by installing the Anaconda distribution. We also got to know the \n",
    "`Jupyter notebook` interface. Finally, we created a basic\n",
    "`Jupyter notebook` report by exporting the contents of a notebook to `html`. In this \n",
    "module, we will explore the basic\n",
    "syntax of the `Python` programming language. We will learn how to:\n",
    "\n",
    "1. import and work with python libraries and associated functions\n",
    "2. work with vector objects in `python` and\n",
    "3. import data into a pandas `data.frame` which is the `python` equivalent of a spreadsheet.\n",
    "\n",
    "Let's start by looking at the code we used last week. Here, we\n",
    "\n",
    "1. Downloaded some data from figshare using the `urllib.request.urlretrieve` function which is a part of the `urllib` library that comes with python 3.x .\n",
    "2. Imported the data into r using the `pd.read_csv` function\n",
    "3. Plotted the data using the `.plot()` function (which is a part of the `pandas` library and utilizes matplotlib plotting)\n",
    "\n",
    "We used the following libraries to perform these tasks:\n",
    "\n",
    "* pandas\n",
    "* urllib\n",
    "* os (used to ensure our working directory was correct).\n",
    "\n",
    "In this lesson we will also use numpy - a library that is commonly used in python to support mathametical operations. "
   ]
  },
  {
   "cell_type": "code",
   "execution_count": 16,
   "metadata": {
    "collapsed": true
   },
   "outputs": [],
   "source": [
    "#import earthlab as et\n",
    "import pandas as pd\n",
    "import numpy as np\n",
    "import urllib\n",
    "import os\n",
    "from matplotlib import pyplot as plt"
   ]
  },
  {
   "cell_type": "markdown",
   "metadata": {},
   "source": [
    "Notice that at the top of our script we also set the working directory. We use the `.chdir()` function from the `os` library to set the working directory in python. Set your working directory to the earth-analytics directory that you created last week. Your path should look something like this:\n",
    "\n",
    "`/Users/your-user-name/Documents/earth-analytics/`\n",
    "\n",
    "`os.getcwd()` can be used to check your current working directory to ensure that you are working where you think you are!  \n"
   ]
  },
  {
   "cell_type": "code",
   "execution_count": 17,
   "metadata": {},
   "outputs": [
    {
     "data": {
      "text/plain": [
       "'/Users/lewa8222/Documents/earth-analytics'"
      ]
     },
     "execution_count": 17,
     "metadata": {},
     "output_type": "execute_result"
    }
   ],
   "source": [
    "# be sure to set your working directory\\n\",\n",
    "os.chdir(\"/Users/lewa8222/Documents/earth-analytics/\")\n",
    "# check to ensure your working directory is set properly\n",
    "os.getcwd()"
   ]
  },
  {
   "cell_type": "markdown",
   "metadata": {},
   "source": [
    "Finally we want to ensure that our plots are visible in jupyter notebooks. To force python to render them in the notebook, we can use \n",
    "\n",
    "`plt.ion()`"
   ]
  },
  {
   "cell_type": "code",
   "execution_count": 18,
   "metadata": {
    "collapsed": true
   },
   "outputs": [],
   "source": [
    "# Force notebooks to plot figures inline (in the notebook)\n",
    "plt.ion()"
   ]
  },
  {
   "cell_type": "markdown",
   "metadata": {},
   "source": [
    "Let's next break our script down. \n",
    "After we imported all of the required libraries, we used the `urllib.request.urlretrieve` function to download a data file from figshare, into the data/ directory within our earth-analytics working directory. \n",
    "\n",
    "Notice that the `urllib.request.urlretrieve` **function** has two arguments\n",
    "\n",
    "1. **url=** the url where our data is located online\n",
    "2. **filename=** the location and name of the file that we are downloading. Here we downloaded the data to the directory path/filename: data/boulder-precip.csv. Thus the file will be called boulder-precip.csv and it will be located in the data directory of our working directory.\n",
    "\n",
    "NOTE: downloading the file using this function won't work if the `data/` directory that you tell it to save the file in doesn't already exist! "
   ]
  },
  {
   "cell_type": "code",
   "execution_count": 19,
   "metadata": {},
   "outputs": [
    {
     "data": {
      "text/plain": [
       "('data/boulder-precip.csv', <http.client.HTTPMessage at 0x1117179e8>)"
      ]
     },
     "execution_count": 19,
     "metadata": {},
     "output_type": "execute_result"
    }
   ],
   "source": [
    "#db = et.EarthlabData()\n",
    "# download file from Earth Lab figshare repository\n",
    "urllib.request.urlretrieve(url='https://ndownloader.figshare.com/files/7010681', \n",
    "                           filename= 'data/boulder-precip.csv')"
   ]
  },
  {
   "cell_type": "markdown",
   "metadata": {},
   "source": [
    "If the data downloaded correctly, you will recieve a message from python \n",
    "\n",
    "`('data/boulder-precip.csv', <http.client.HTTPMessage at 0x1186c06d8>)` confirming that the data were downloaded.\n",
    "\n",
    "Next, we opened the data in python using the `read_csv` function from the pandas library. "
   ]
  },
  {
   "cell_type": "code",
   "execution_count": 20,
   "metadata": {
    "collapsed": true
   },
   "outputs": [],
   "source": [
    "# open data\n",
    "data = pd.read_csv('data/boulder-precip.csv')"
   ]
  },
  {
   "cell_type": "markdown",
   "metadata": {},
   "source": [
    "Once we have opened the data, we can begin to explore it. In python / pandas we can access 'columns' in our data using the syntax:\n",
    "\n",
    "`dataFrameName['column-name-here']`\n",
    "\n",
    "By adding `.head()` to the command we tell python to only return the first 6 rows of the DATE column. "
   ]
  },
  {
   "cell_type": "code",
   "execution_count": 21,
   "metadata": {},
   "outputs": [
    {
     "data": {
      "text/plain": [
       "0     2013-08-21\n",
       "1     2013-08-26\n",
       "2     2013-08-27\n",
       "3     2013-09-01\n",
       "4     2013-09-09\n",
       "5     2013-09-10\n",
       "6     2013-09-11\n",
       "7     2013-09-12\n",
       "8     2013-09-13\n",
       "9     2013-09-15\n",
       "10    2013-09-16\n",
       "11    2013-09-22\n",
       "12    2013-09-23\n",
       "13    2013-09-27\n",
       "14    2013-09-28\n",
       "15    2013-10-01\n",
       "16    2013-10-04\n",
       "17    2013-10-11\n",
       "Name: DATE, dtype: object"
      ]
     },
     "execution_count": 21,
     "metadata": {},
     "output_type": "execute_result"
    }
   ],
   "source": [
    "# view the entire column (all rows) \n",
    "data['DATE'] "
   ]
  },
  {
   "cell_type": "code",
   "execution_count": 22,
   "metadata": {},
   "outputs": [
    {
     "data": {
      "text/plain": [
       "0    2013-08-21\n",
       "1    2013-08-26\n",
       "2    2013-08-27\n",
       "3    2013-09-01\n",
       "4    2013-09-09\n",
       "Name: DATE, dtype: object"
      ]
     },
     "execution_count": 22,
     "metadata": {},
     "output_type": "execute_result"
    }
   ],
   "source": [
    "# view the first 6 rows of data in the DATE column\n",
    "data['DATE'].head()"
   ]
  },
  {
   "cell_type": "code",
   "execution_count": 23,
   "metadata": {},
   "outputs": [
    {
     "data": {
      "text/html": [
       "<div>\n",
       "<table border=\"1\" class=\"dataframe\">\n",
       "  <thead>\n",
       "    <tr style=\"text-align: right;\">\n",
       "      <th></th>\n",
       "      <th>Unnamed: 0</th>\n",
       "      <th>DATE</th>\n",
       "      <th>PRECIP</th>\n",
       "    </tr>\n",
       "  </thead>\n",
       "  <tbody>\n",
       "    <tr>\n",
       "      <th>0</th>\n",
       "      <td>756</td>\n",
       "      <td>2013-08-21</td>\n",
       "      <td>0.1</td>\n",
       "    </tr>\n",
       "    <tr>\n",
       "      <th>1</th>\n",
       "      <td>757</td>\n",
       "      <td>2013-08-26</td>\n",
       "      <td>0.1</td>\n",
       "    </tr>\n",
       "    <tr>\n",
       "      <th>2</th>\n",
       "      <td>758</td>\n",
       "      <td>2013-08-27</td>\n",
       "      <td>0.1</td>\n",
       "    </tr>\n",
       "    <tr>\n",
       "      <th>3</th>\n",
       "      <td>759</td>\n",
       "      <td>2013-09-01</td>\n",
       "      <td>0.0</td>\n",
       "    </tr>\n",
       "    <tr>\n",
       "      <th>4</th>\n",
       "      <td>760</td>\n",
       "      <td>2013-09-09</td>\n",
       "      <td>0.1</td>\n",
       "    </tr>\n",
       "  </tbody>\n",
       "</table>\n",
       "</div>"
      ],
      "text/plain": [
       "   Unnamed: 0        DATE  PRECIP\n",
       "0         756  2013-08-21     0.1\n",
       "1         757  2013-08-26     0.1\n",
       "2         758  2013-08-27     0.1\n",
       "3         759  2013-09-01     0.0\n",
       "4         760  2013-09-09     0.1"
      ]
     },
     "execution_count": 23,
     "metadata": {},
     "output_type": "execute_result"
    }
   ],
   "source": [
    "# view first 6 lines of the entire data frame\n",
    "data.head()"
   ]
  },
  {
   "cell_type": "markdown",
   "metadata": {},
   "source": [
    "We can view the structure or type of data in each column using the `dtypes` attribute. \n",
    "Notice below that our data have 2 columns. One is of type object and the other is a numeric type - float64. \n"
   ]
  },
  {
   "cell_type": "code",
   "execution_count": 24,
   "metadata": {},
   "outputs": [
    {
     "data": {
      "text/plain": [
       "Unnamed: 0      int64\n",
       "DATE           object\n",
       "PRECIP        float64\n",
       "dtype: object"
      ]
     },
     "execution_count": 24,
     "metadata": {},
     "output_type": "execute_result"
    }
   ],
   "source": [
    "# view the structure of the data \n",
    "data.dtypes"
   ]
  },
  {
   "cell_type": "markdown",
   "metadata": {},
   "source": [
    "Finally, we can create a quick plot of the data using the `.plot` function. "
   ]
  },
  {
   "cell_type": "code",
   "execution_count": 26,
   "metadata": {},
   "outputs": [
    {
     "data": {
      "text/plain": [
       "<matplotlib.axes._subplots.AxesSubplot at 0x1117b3cc0>"
      ]
     },
     "execution_count": 26,
     "metadata": {},
     "output_type": "execute_result"
    },
    {
     "data": {
      "image/png": "[encoded data removed]",
      "text/plain": [
       "<matplotlib.figure.Figure at 0x11203a8d0>"
      ]
     },
     "metadata": {},
     "output_type": "display_data"
    }
   ],
   "source": [
    "data.plot(x='DATE', \n",
    "          y='PRECIP')"
   ]
  },
  {
   "cell_type": "markdown",
   "metadata": {},
   "source": [
    "Notice that the plot above doesn't look exactly the way we may want it to look. We'll learn how to further customize plots in a later lesson. \n",
    "\n",
    "## About code syntax\n",
    "\n",
    "The code above, uses syntax that is unique the `Python` programming language.\n",
    "\n",
    "Syntax represents the characters or commands that `Python` understands and associated\n",
    "organization / format of the code including spacing and comments. So, for example if you've used the `R` programming language before then you know that assignment operators in R use `<-` rather than the equals `=` sign. \n",
    "\n",
    "Let's break down the syntax of the python code above, to better understand what it's doing.\n",
    "\n",
    "## Intro to the Python Syntax\n",
    "\n",
    "### Assignment operator =\n",
    "\n",
    "First, notice the use of `=`. `=` is the assignment operator. It is similar to\n",
    "the `<-` sign in `R`. The equals sign assigns values on the right to objects on the left. So, after executing `x = 3`, the\n",
    "value of `x` is `3` (`x=3`). The arrow can be read as 3 **goes into** `x`.\n",
    "\n",
    "In the example below, we assigned the data file that we read into Python named `boulder-precip.csv`\n",
    "to the variable name `boulder_precip`. After you run the line of code below,\n",
    "what happens in Python?"
   ]
  },
  {
   "cell_type": "code",
   "execution_count": 27,
   "metadata": {},
   "outputs": [
    {
     "data": {
      "text/html": [
       "<div>\n",
       "<table border=\"1\" class=\"dataframe\">\n",
       "  <thead>\n",
       "    <tr style=\"text-align: right;\">\n",
       "      <th></th>\n",
       "      <th>Unnamed: 0</th>\n",
       "      <th>DATE</th>\n",
       "      <th>PRECIP</th>\n",
       "    </tr>\n",
       "  </thead>\n",
       "  <tbody>\n",
       "    <tr>\n",
       "      <th>0</th>\n",
       "      <td>756</td>\n",
       "      <td>2013-08-21</td>\n",
       "      <td>0.1</td>\n",
       "    </tr>\n",
       "    <tr>\n",
       "      <th>1</th>\n",
       "      <td>757</td>\n",
       "      <td>2013-08-26</td>\n",
       "      <td>0.1</td>\n",
       "    </tr>\n",
       "    <tr>\n",
       "      <th>2</th>\n",
       "      <td>758</td>\n",
       "      <td>2013-08-27</td>\n",
       "      <td>0.1</td>\n",
       "    </tr>\n",
       "    <tr>\n",
       "      <th>3</th>\n",
       "      <td>759</td>\n",
       "      <td>2013-09-01</td>\n",
       "      <td>0.0</td>\n",
       "    </tr>\n",
       "    <tr>\n",
       "      <th>4</th>\n",
       "      <td>760</td>\n",
       "      <td>2013-09-09</td>\n",
       "      <td>0.1</td>\n",
       "    </tr>\n",
       "    <tr>\n",
       "      <th>5</th>\n",
       "      <td>761</td>\n",
       "      <td>2013-09-10</td>\n",
       "      <td>1.0</td>\n",
       "    </tr>\n",
       "    <tr>\n",
       "      <th>6</th>\n",
       "      <td>762</td>\n",
       "      <td>2013-09-11</td>\n",
       "      <td>2.3</td>\n",
       "    </tr>\n",
       "    <tr>\n",
       "      <th>7</th>\n",
       "      <td>763</td>\n",
       "      <td>2013-09-12</td>\n",
       "      <td>9.8</td>\n",
       "    </tr>\n",
       "    <tr>\n",
       "      <th>8</th>\n",
       "      <td>764</td>\n",
       "      <td>2013-09-13</td>\n",
       "      <td>1.9</td>\n",
       "    </tr>\n",
       "    <tr>\n",
       "      <th>9</th>\n",
       "      <td>765</td>\n",
       "      <td>2013-09-15</td>\n",
       "      <td>1.4</td>\n",
       "    </tr>\n",
       "    <tr>\n",
       "      <th>10</th>\n",
       "      <td>766</td>\n",
       "      <td>2013-09-16</td>\n",
       "      <td>0.4</td>\n",
       "    </tr>\n",
       "    <tr>\n",
       "      <th>11</th>\n",
       "      <td>767</td>\n",
       "      <td>2013-09-22</td>\n",
       "      <td>0.1</td>\n",
       "    </tr>\n",
       "    <tr>\n",
       "      <th>12</th>\n",
       "      <td>768</td>\n",
       "      <td>2013-09-23</td>\n",
       "      <td>0.3</td>\n",
       "    </tr>\n",
       "    <tr>\n",
       "      <th>13</th>\n",
       "      <td>769</td>\n",
       "      <td>2013-09-27</td>\n",
       "      <td>0.3</td>\n",
       "    </tr>\n",
       "    <tr>\n",
       "      <th>14</th>\n",
       "      <td>770</td>\n",
       "      <td>2013-09-28</td>\n",
       "      <td>0.1</td>\n",
       "    </tr>\n",
       "    <tr>\n",
       "      <th>15</th>\n",
       "      <td>771</td>\n",
       "      <td>2013-10-01</td>\n",
       "      <td>0.0</td>\n",
       "    </tr>\n",
       "    <tr>\n",
       "      <th>16</th>\n",
       "      <td>772</td>\n",
       "      <td>2013-10-04</td>\n",
       "      <td>0.9</td>\n",
       "    </tr>\n",
       "    <tr>\n",
       "      <th>17</th>\n",
       "      <td>773</td>\n",
       "      <td>2013-10-11</td>\n",
       "      <td>0.1</td>\n",
       "    </tr>\n",
       "  </tbody>\n",
       "</table>\n",
       "</div>"
      ],
      "text/plain": [
       "    Unnamed: 0        DATE  PRECIP\n",
       "0          756  2013-08-21     0.1\n",
       "1          757  2013-08-26     0.1\n",
       "2          758  2013-08-27     0.1\n",
       "3          759  2013-09-01     0.0\n",
       "4          760  2013-09-09     0.1\n",
       "5          761  2013-09-10     1.0\n",
       "6          762  2013-09-11     2.3\n",
       "7          763  2013-09-12     9.8\n",
       "8          764  2013-09-13     1.9\n",
       "9          765  2013-09-15     1.4\n",
       "10         766  2013-09-16     0.4\n",
       "11         767  2013-09-22     0.1\n",
       "12         768  2013-09-23     0.3\n",
       "13         769  2013-09-27     0.3\n",
       "14         770  2013-09-28     0.1\n",
       "15         771  2013-10-01     0.0\n",
       "16         772  2013-10-04     0.9\n",
       "17         773  2013-10-11     0.1"
      ]
     },
     "execution_count": 27,
     "metadata": {},
     "output_type": "execute_result"
    }
   ],
   "source": [
    "data = pd.read_csv('data/boulder-precip.csv')\n",
    "data"
   ]
  },
  {
   "cell_type": "markdown",
   "metadata": {},
   "source": [
    "<i class=\"fa fa-star\"></i> **Data Tip:**  In Jupyter notebooks, typing <kbd>Esc</kbd> + <kbd>A</kbd> at the\n",
    "same time will write add a new cell AFTER the cell that you're currently working in.  Similarly, typing <kbd>Esc</kbd> + <kbd>B</kbd> at the\n",
    "same time will write add a new cell AFTER the cell that you're currently working in. Hint: B is for BEFORE and A is for AFTER.\n",
    "{: .notice--success}\n",
    "\n",
    "\n",
    "### Comments in Python (`#`)\n",
    "\n",
    "Next, notice the use of the `#` sign in our code example above.\n",
    "Use `#` sign is used to add comments to your code. A comment is a line of information\n",
    "in your code that is not executed by R. Anything to the right of a `#` is ignored\n",
    "by `Python`. Comments are a way for you\n",
    "to DOCUMENT the steps of your code - both for yourself and for others who may\n",
    "use your script."
   ]
  },
  {
   "cell_type": "code",
   "execution_count": 28,
   "metadata": {
    "collapsed": true
   },
   "outputs": [],
   "source": [
    "# this is a comment. Python will not try to run this line\n",
    "# comments are useful when we want to document the steps in our code\n"
   ]
  },
  {
   "cell_type": "markdown",
   "metadata": {},
   "source": [
    "### Functions and their arguments\n",
    "\n",
    "Finally we have functions. Functions are \"canned scripts\" that automate a task\n",
    "that may other take several lines of code that you have to type in.\n",
    "\n",
    "For example:"
   ]
  },
  {
   "cell_type": "code",
   "execution_count": 29,
   "metadata": {},
   "outputs": [
    {
     "data": {
      "text/plain": [
       "4.0"
      ]
     },
     "execution_count": 29,
     "metadata": {},
     "output_type": "execute_result"
    }
   ],
   "source": [
    "# calculate the square root of 16\n",
    "np.sqrt(16)"
   ]
  },
  {
   "cell_type": "code",
   "execution_count": 30,
   "metadata": {},
   "outputs": [
    {
     "data": {
      "text/plain": [
       "16.0"
      ]
     },
     "execution_count": 30,
     "metadata": {},
     "output_type": "execute_result"
    }
   ],
   "source": [
    "np.round(16.345)\n"
   ]
  },
  {
   "cell_type": "markdown",
   "metadata": {},
   "source": [
    "In the example above, the `sqrt` function is built into `python` and takes the square\n",
    "root of any number that you provide to it. Similarly the `round()` function can be used to round numbers.\n",
    "\n",
    "### Functions that return values\n",
    "The  `sqrt()` function is a numpy function. The input (the\n",
    "argument) is a number, and the return value (the output)\n",
    "is the square root of that number. Executing a function ('running it') is called\n",
    "*calling* the function. An example of a function call is:\n",
    "\n",
    "`b <- np.sqrt(a)`\n",
    "\n",
    "Here, the value of `a` is given to the `np.sqrt()` function, the `np.sqrt()` function\n",
    "calculates the square root, and returns the value which is then assigned to\n",
    "variable `b`. This function is very simple, because it takes just one argument.\n",
    "\n",
    "Let's run a function that can take multiple arguments: `np.round()`.\n",
    "\n",
    "### Function arguments\n",
    "\n",
    "An argument is a specified input to a function. This input needs to be in a particular format for the function to run properly. For instance, the round function requires a NUMERIC input. For example we can't round the letter A.\n"
   ]
  },
  {
   "cell_type": "code",
   "execution_count": 31,
   "metadata": {},
   "outputs": [
    {
     "data": {
      "text/plain": [
       "3.0"
      ]
     },
     "execution_count": 31,
     "metadata": {},
     "output_type": "execute_result"
    }
   ],
   "source": [
    "np.round(a=3.14159)"
   ]
  },
  {
   "cell_type": "markdown",
   "metadata": {},
   "source": [
    "Here, we've called `round()` with just one argument, `3.14159`, and it has\n",
    "returned the value `3`.  That's because the default is to round to the nearest\n",
    "whole number. If we want more digits we can see how to do that by getting\n",
    "information about the `round` function.  We can use `help(round)` to look at the\n",
    "help for this function using `?round`.\n",
    "\n",
    "\n",
    "# is there a quick way to see all of the arguments available for a function and the methods /attributes available for an object?"
   ]
  },
  {
   "cell_type": "code",
   "execution_count": 5,
   "metadata": {},
   "outputs": [
    {
     "name": "stdout",
     "output_type": "stream",
     "text": [
      "Help on function round_ in module numpy.core.fromnumeric:\n",
      "\n",
      "round_(a, decimals=0, out=None)\n",
      "    Round an array to the given number of decimals.\n",
      "    \n",
      "    Refer to `around` for full documentation.\n",
      "    \n",
      "    See Also\n",
      "    --------\n",
      "    around : equivalent function\n",
      "\n"
     ]
    }
   ],
   "source": [
    "# view documentation for the round() function in python\n",
    "help(np.round)"
   ]
  },
  {
   "cell_type": "markdown",
   "metadata": {},
   "source": [
    "### hello tab complete!\n",
    "\n",
    "We can also use tab complete to discover arguments. For instance type\n",
    "np.round(<tab-here> so see the arguments that are available for the round function in numpy. "
   ]
  },
  {
   "cell_type": "markdown",
   "metadata": {
    "collapsed": true
   },
   "source": [
    "Note above that we see there is a **decimals** argument that we can add to our round function that will specify the number of decimal places that the function returns. If we specify `decimals=3` then python will round the data to 3 decimal points. \n",
    "\n",
    "# why does 3 return so many decimal places??!! 2 works but nothing else"
   ]
  },
  {
   "cell_type": "code",
   "execution_count": 32,
   "metadata": {},
   "outputs": [
    {
     "data": {
      "text/plain": [
       "3.2349999999999999"
      ]
     },
     "execution_count": 32,
     "metadata": {},
     "output_type": "execute_result"
    }
   ],
   "source": [
    "# what does this argument value return?\n",
    "np.round(3.23457457, \n",
    "         decimals=3)\n"
   ]
  },
  {
   "cell_type": "markdown",
   "metadata": {},
   "source": [
    "\n"
   ]
  },
  {
   "cell_type": "code",
   "execution_count": 7,
   "metadata": {},
   "outputs": [
    {
     "data": {
      "text/plain": [
       "3.1000000000000001"
      ]
     },
     "execution_count": 7,
     "metadata": {},
     "output_type": "execute_result"
    }
   ],
   "source": [
    "np.round(3.14159, \n",
    "         decimals=1)"
   ]
  },
  {
   "cell_type": "markdown",
   "metadata": {},
   "source": [
    "If we provide the arguments in the exact same order as they are defined in the function documentation, then you don't have to explicetly call the argument name: \n",
    "\n",
    "\n"
   ]
  },
  {
   "cell_type": "code",
   "execution_count": 33,
   "metadata": {},
   "outputs": [
    {
     "data": {
      "text/plain": [
       "3.1400000000000001"
      ]
     },
     "execution_count": 33,
     "metadata": {},
     "output_type": "execute_result"
    }
   ],
   "source": [
    "np.round(3.14159, 2)"
   ]
  },
  {
   "cell_type": "code",
   "execution_count": 34,
   "metadata": {},
   "outputs": [
    {
     "ename": "TypeError",
     "evalue": "integer argument expected, got float",
     "output_type": "error",
     "traceback": [
      "\u001b[0;31m---------------------------------------------------------------------------\u001b[0m",
      "\u001b[0;31mAttributeError\u001b[0m                            Traceback (most recent call last)",
      "\u001b[0;32m/Users/lewa8222/anaconda/lib/python3.6/site-packages/numpy/core/fromnumeric.py\u001b[0m in \u001b[0;36m_wrapfunc\u001b[0;34m(obj, method, *args, **kwds)\u001b[0m\n\u001b[1;32m     56\u001b[0m     \u001b[0;32mtry\u001b[0m\u001b[0;34m:\u001b[0m\u001b[0;34m\u001b[0m\u001b[0m\n\u001b[0;32m---> 57\u001b[0;31m         \u001b[0;32mreturn\u001b[0m \u001b[0mgetattr\u001b[0m\u001b[0;34m(\u001b[0m\u001b[0mobj\u001b[0m\u001b[0;34m,\u001b[0m \u001b[0mmethod\u001b[0m\u001b[0;34m)\u001b[0m\u001b[0;34m(\u001b[0m\u001b[0;34m*\u001b[0m\u001b[0margs\u001b[0m\u001b[0;34m,\u001b[0m \u001b[0;34m**\u001b[0m\u001b[0mkwds\u001b[0m\u001b[0;34m)\u001b[0m\u001b[0;34m\u001b[0m\u001b[0m\n\u001b[0m\u001b[1;32m     58\u001b[0m \u001b[0;34m\u001b[0m\u001b[0m\n",
      "\u001b[0;31mAttributeError\u001b[0m: 'int' object has no attribute 'round'",
      "\nDuring handling of the above exception, another exception occurred:\n",
      "\u001b[0;31mTypeError\u001b[0m                                 Traceback (most recent call last)",
      "\u001b[0;32m<ipython-input-34-47fcf09b3043>\u001b[0m in \u001b[0;36m<module>\u001b[0;34m()\u001b[0m\n\u001b[1;32m      1\u001b[0m \u001b[0;31m# but what happens here?\u001b[0m\u001b[0;34m\u001b[0m\u001b[0;34m\u001b[0m\u001b[0m\n\u001b[0;32m----> 2\u001b[0;31m \u001b[0mnp\u001b[0m\u001b[0;34m.\u001b[0m\u001b[0mround\u001b[0m\u001b[0;34m(\u001b[0m\u001b[0;36m2\u001b[0m\u001b[0;34m,\u001b[0m \u001b[0;36m3.14159\u001b[0m\u001b[0;34m)\u001b[0m\u001b[0;34m\u001b[0m\u001b[0m\n\u001b[0m",
      "\u001b[0;32m/Users/lewa8222/anaconda/lib/python3.6/site-packages/numpy/core/fromnumeric.py\u001b[0m in \u001b[0;36mround_\u001b[0;34m(a, decimals, out)\u001b[0m\n\u001b[1;32m   2781\u001b[0m \u001b[0;34m\u001b[0m\u001b[0m\n\u001b[1;32m   2782\u001b[0m     \"\"\"\n\u001b[0;32m-> 2783\u001b[0;31m     \u001b[0;32mreturn\u001b[0m \u001b[0maround\u001b[0m\u001b[0;34m(\u001b[0m\u001b[0ma\u001b[0m\u001b[0;34m,\u001b[0m \u001b[0mdecimals\u001b[0m\u001b[0;34m=\u001b[0m\u001b[0mdecimals\u001b[0m\u001b[0;34m,\u001b[0m \u001b[0mout\u001b[0m\u001b[0;34m=\u001b[0m\u001b[0mout\u001b[0m\u001b[0;34m)\u001b[0m\u001b[0;34m\u001b[0m\u001b[0m\n\u001b[0m\u001b[1;32m   2784\u001b[0m \u001b[0;34m\u001b[0m\u001b[0m\n\u001b[1;32m   2785\u001b[0m \u001b[0;34m\u001b[0m\u001b[0m\n",
      "\u001b[0;32m/Users/lewa8222/anaconda/lib/python3.6/site-packages/numpy/core/fromnumeric.py\u001b[0m in \u001b[0;36maround\u001b[0;34m(a, decimals, out)\u001b[0m\n\u001b[1;32m   2767\u001b[0m \u001b[0;34m\u001b[0m\u001b[0m\n\u001b[1;32m   2768\u001b[0m     \"\"\"\n\u001b[0;32m-> 2769\u001b[0;31m     \u001b[0;32mreturn\u001b[0m \u001b[0m_wrapfunc\u001b[0m\u001b[0;34m(\u001b[0m\u001b[0ma\u001b[0m\u001b[0;34m,\u001b[0m \u001b[0;34m'round'\u001b[0m\u001b[0;34m,\u001b[0m \u001b[0mdecimals\u001b[0m\u001b[0;34m=\u001b[0m\u001b[0mdecimals\u001b[0m\u001b[0;34m,\u001b[0m \u001b[0mout\u001b[0m\u001b[0;34m=\u001b[0m\u001b[0mout\u001b[0m\u001b[0;34m)\u001b[0m\u001b[0;34m\u001b[0m\u001b[0m\n\u001b[0m\u001b[1;32m   2770\u001b[0m \u001b[0;34m\u001b[0m\u001b[0m\n\u001b[1;32m   2771\u001b[0m \u001b[0;34m\u001b[0m\u001b[0m\n",
      "\u001b[0;32m/Users/lewa8222/anaconda/lib/python3.6/site-packages/numpy/core/fromnumeric.py\u001b[0m in \u001b[0;36m_wrapfunc\u001b[0;34m(obj, method, *args, **kwds)\u001b[0m\n\u001b[1;32m     65\u001b[0m     \u001b[0;31m# a downstream library like 'pandas'.\u001b[0m\u001b[0;34m\u001b[0m\u001b[0;34m\u001b[0m\u001b[0m\n\u001b[1;32m     66\u001b[0m     \u001b[0;32mexcept\u001b[0m \u001b[0;34m(\u001b[0m\u001b[0mAttributeError\u001b[0m\u001b[0;34m,\u001b[0m \u001b[0mTypeError\u001b[0m\u001b[0;34m)\u001b[0m\u001b[0;34m:\u001b[0m\u001b[0;34m\u001b[0m\u001b[0m\n\u001b[0;32m---> 67\u001b[0;31m         \u001b[0;32mreturn\u001b[0m \u001b[0m_wrapit\u001b[0m\u001b[0;34m(\u001b[0m\u001b[0mobj\u001b[0m\u001b[0;34m,\u001b[0m \u001b[0mmethod\u001b[0m\u001b[0;34m,\u001b[0m \u001b[0;34m*\u001b[0m\u001b[0margs\u001b[0m\u001b[0;34m,\u001b[0m \u001b[0;34m**\u001b[0m\u001b[0mkwds\u001b[0m\u001b[0;34m)\u001b[0m\u001b[0;34m\u001b[0m\u001b[0m\n\u001b[0m\u001b[1;32m     68\u001b[0m \u001b[0;34m\u001b[0m\u001b[0m\n\u001b[1;32m     69\u001b[0m \u001b[0;34m\u001b[0m\u001b[0m\n",
      "\u001b[0;32m/Users/lewa8222/anaconda/lib/python3.6/site-packages/numpy/core/fromnumeric.py\u001b[0m in \u001b[0;36m_wrapit\u001b[0;34m(obj, method, *args, **kwds)\u001b[0m\n\u001b[1;32m     45\u001b[0m     \u001b[0;32mexcept\u001b[0m \u001b[0mAttributeError\u001b[0m\u001b[0;34m:\u001b[0m\u001b[0;34m\u001b[0m\u001b[0m\n\u001b[1;32m     46\u001b[0m         \u001b[0mwrap\u001b[0m \u001b[0;34m=\u001b[0m \u001b[0;32mNone\u001b[0m\u001b[0;34m\u001b[0m\u001b[0m\n\u001b[0;32m---> 47\u001b[0;31m     \u001b[0mresult\u001b[0m \u001b[0;34m=\u001b[0m \u001b[0mgetattr\u001b[0m\u001b[0;34m(\u001b[0m\u001b[0masarray\u001b[0m\u001b[0;34m(\u001b[0m\u001b[0mobj\u001b[0m\u001b[0;34m)\u001b[0m\u001b[0;34m,\u001b[0m \u001b[0mmethod\u001b[0m\u001b[0;34m)\u001b[0m\u001b[0;34m(\u001b[0m\u001b[0;34m*\u001b[0m\u001b[0margs\u001b[0m\u001b[0;34m,\u001b[0m \u001b[0;34m**\u001b[0m\u001b[0mkwds\u001b[0m\u001b[0;34m)\u001b[0m\u001b[0;34m\u001b[0m\u001b[0m\n\u001b[0m\u001b[1;32m     48\u001b[0m     \u001b[0;32mif\u001b[0m \u001b[0mwrap\u001b[0m\u001b[0;34m:\u001b[0m\u001b[0;34m\u001b[0m\u001b[0m\n\u001b[1;32m     49\u001b[0m         \u001b[0;32mif\u001b[0m \u001b[0;32mnot\u001b[0m \u001b[0misinstance\u001b[0m\u001b[0;34m(\u001b[0m\u001b[0mresult\u001b[0m\u001b[0;34m,\u001b[0m \u001b[0mmu\u001b[0m\u001b[0;34m.\u001b[0m\u001b[0mndarray\u001b[0m\u001b[0;34m)\u001b[0m\u001b[0;34m:\u001b[0m\u001b[0;34m\u001b[0m\u001b[0m\n",
      "\u001b[0;31mTypeError\u001b[0m: integer argument expected, got float"
     ]
    }
   ],
   "source": [
    "# but what happens here?\n",
    "np.round(2, 3.14159)\n"
   ]
  },
  {
   "cell_type": "markdown",
   "metadata": {},
   "source": [
    "Notice above python returned an error. At the very bottom of the error notice:\n",
    "`TypeError: integer argument expected, got float`. Why do you think this happened?\n",
    "\n",
    "Notice that we provided the arguments as follows:\n",
    "\n",
    "`np.round(2, 3.14159)`\n",
    "\n",
    "Python tried to round the value 2 to 3.14159 which is a decimal rather than an integer value. However, if we explicetly name each argument and assign it it's appropriate value, then we can switch the order:"
   ]
  },
  {
   "cell_type": "code",
   "execution_count": 35,
   "metadata": {},
   "outputs": [
    {
     "data": {
      "text/plain": [
       "3.1400000000000001"
      ]
     },
     "execution_count": 35,
     "metadata": {},
     "output_type": "execute_result"
    }
   ],
   "source": [
    "np.round(decimals=2, a=3.14159)"
   ]
  },
  {
   "cell_type": "markdown",
   "metadata": {},
   "source": [
    "### The plot function\n",
    "\n",
    "Below, we use the `.plot()` function which is a part of the `pandas` library to plot our data.\n",
    "`.plot()` needs two arguments to execute properly:\n",
    "\n",
    "1. The value that you want to plot on the `x=` axis and\n",
    "2. The value that you want to plot on the `y=` axis\n",
    "\n",
    "Note below that if we don't tell python what to plot on the x and y axis it tries to \n",
    "guess which variables to plot on which axis. This isn't quite what we want"
   ]
  },
  {
   "cell_type": "code",
   "execution_count": 36,
   "metadata": {},
   "outputs": [
    {
     "data": {
      "text/plain": [
       "<matplotlib.axes._subplots.AxesSubplot at 0x112189eb8>"
      ]
     },
     "execution_count": 36,
     "metadata": {},
     "output_type": "execute_result"
    },
    {
     "data": {
      "image/png": "[encoded data removed]",
      "text/plain": [
       "<matplotlib.figure.Figure at 0x1121912b0>"
      ]
     },
     "metadata": {},
     "output_type": "display_data"
    }
   ],
   "source": [
    "# what happens if we plot without any arguments?\n",
    "data.plot()"
   ]
  },
  {
   "cell_type": "code",
   "execution_count": 37,
   "metadata": {},
   "outputs": [
    {
     "data": {
      "text/plain": [
       "<matplotlib.axes._subplots.AxesSubplot at 0x1122f9c88>"
      ]
     },
     "execution_count": 37,
     "metadata": {},
     "output_type": "execute_result"
    },
    {
     "data": {
      "image/png": "[encoded data removed]",
      "text/plain": [
       "<matplotlib.figure.Figure at 0x11203a630>"
      ]
     },
     "metadata": {},
     "output_type": "display_data"
    }
   ],
   "source": [
    "# what happens if we plot with the x and y arguments?\n",
    "data.plot(x='DATE', \n",
    "         y='PRECIP')"
   ]
  },
  {
   "cell_type": "markdown",
   "metadata": {},
   "source": [
    "### Base functions vs. packages\n",
    "There are a\n",
    "set of functions that come with `Python 3.x` when you download it. These are called `base Python`\n",
    "functions. Other functions are add-ons to base `Python`. These functions can be loaded by\n",
    "\n",
    "1. Installing a particular library (using conda install library-name at the command line\n",
    "2. Loading the library in our script using `import library as nickname` eg: import pandas as pd \n",
    "\n",
    "We can also write our own functions. We will learn how to write functions later in this course. \n",
    "\n",
    "### Function outputs\n",
    "Functions return an output. Sometimes that output is a *figure* like the example\n",
    "above. Sometimes it is a *value* or a set of values or even something else."
   ]
  },
  {
   "cell_type": "markdown",
   "metadata": {},
   "source": [
    "It's good practice to put the non-optional arguments (like the number you're\n",
    "rounding) first in your function call, and to specify the names of all optional\n",
    "arguments.  If you don't, someone reading your code might have to look up\n",
    "definition of a function with unfamiliar arguments to understand what you're\n",
    "doing.\n",
    "\n",
    "## Get Information About A Function\n",
    "\n",
    "If you need help with a specific function, let's say `barplot()`, you can type:"
   ]
  },
  {
   "cell_type": "code",
   "execution_count": 38,
   "metadata": {
    "collapsed": true
   },
   "outputs": [],
   "source": [
    "plt.bar?"
   ]
  },
  {
   "cell_type": "code",
   "execution_count": null,
   "metadata": {
    "collapsed": true
   },
   "outputs": [],
   "source": [
    "# plt.bar<tab>"
   ]
  },
  {
   "cell_type": "markdown",
   "metadata": {
    "collapsed": true
   },
   "source": [
    "<div class=\"notice--warning\" markdown=\"1\">\n",
    "\n",
    "## <i class=\"fa fa-pencil-square-o\" aria-hidden=\"true\"></i> Optional challenge activity\n",
    "\n",
    "Use the `RMarkdown` document that we created as homework for today's class. If\n",
    "you don't have a document already, create a new one, naming it: \"lastname-firstname-wk2.Rmd.\n",
    "Add the code below in a code chunk. Edit the code that you just pasted into\n",
    "your `.Rmd` document as follows\n",
    "\n",
    "1. The plot isn't pretty. Let's fix the x and y labels.\n",
    "Look up the arguments for the `qplot()` function using either args(qplot) OR `?qplot`\n",
    "in the R console. Then fix the labels of your plot in your script.\n",
    "\n",
    "HINT: google is your friend. Feel free to use it to help edit the code.\n",
    "\n",
    "2. What other things can you modify to make the plot look prettier. Explore. Are\n",
    "there things that you'd like to do that you can't?\n",
    "</div>\n",
    "\n",
    "# notice the code below needs to be the answer to the challenge above \n",
    "<!--\n",
    "\n",
    "\n",
    "# load libraries \n",
    "library(ggplot2)\n",
    "\n",
    "# download data from figshare\n",
    "# note that we are downloaded the data into your\n",
    "download.file(url = \"https://ndownloader.figshare.com/files/7010681\",\n",
    "              destfile = \"data/boulder-precip.csv\")\n",
    "\n",
    "# import data\n",
    "boulder_precip <- read.csv(file=\"data/boulder-precip.csv\")\n",
    "\n",
    "# view first few rows of the data\n",
    "head(boulder_precip)\n",
    "\n",
    "# when we download the data we create a dataframe\n",
    "# view each column of the data frame using it's name (or header)\n",
    "boulder_precip$DATE\n",
    "\n",
    "# view the precip column\n",
    "boulder_precip$PRECIP\n",
    "\n",
    "# q plot stands for quick plot. Let's use it to plot our data\n",
    "qplot(x=boulder_precip$DATE,\n",
    "      y=boulder_precip$PRECIP)\n",
    "\n",
    "-->"
   ]
  }
 ],
 "metadata": {
  "kernelspec": {
   "display_name": "Python 3",
   "language": "python",
   "name": "python3"
  },
  "language_info": {
   "codemirror_mode": {
    "name": "ipython",
    "version": 3
   },
   "file_extension": ".py",
   "mimetype": "text/x-python",
   "name": "python",
   "nbconvert_exporter": "python",
   "pygments_lexer": "ipython3",
   "version": "3.6.0"
  },
  "toc": {
   "toc_cell": false,
   "toc_number_sections": true,
   "toc_threshold": 6,
   "toc_window_display": false
  }
 },
 "nbformat": 4,
 "nbformat_minor": 2
}
