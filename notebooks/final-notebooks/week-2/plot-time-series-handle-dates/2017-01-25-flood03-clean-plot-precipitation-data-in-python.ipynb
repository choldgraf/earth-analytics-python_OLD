{
 "cells": [
  {
   "cell_type": "raw",
   "metadata": {},
   "source": [
    "---\n",
    "layout: single\n",
    "title: \"Subset time series data in R - introduction to dplyr pipes and tidyverse coding approaches - Flooding & erosion data\"\n",
    "excerpt: \"This lesson walks through extracting temporal subsets of time series data using dplyr pipes. In the previous lesson we learned how to convert data containing a data field into a data class. In this lesson we use pipes to extract temporal subsets so that we can refine our time series data analysis. Finally we plot the data using ggplot.\"\n",
    "authors: ['Leah Wasser']\n",
    "modified: '{:%Y-%m-%d}'.format(datetime.now())\n",
    "category: [course-materials]\n",
    "class-lesson: ['time-series-python']\n",
    "course: 'earth-analytics-python'\n",
    "permalink: /course-materials/earth-analytics-python/week-2/precip-in-r/\n",
    "nav-title: 'Subset time series data in Python'\n",
    "week: 2\n",
    "sidebar:\n",
    "  nav:\n",
    "author_profile: false\n",
    "comments: true\n",
    "order: 3\n",
    "topics:\n",
    "  reproducible-science-and-programming: ['RStudio']\n",
    "  time-series:\n",
    "  data-exploration-and-analysis: ['data-visualization']\n",
    "---\n"
   ]
  },
  {
   "cell_type": "markdown",
   "metadata": {},
   "source": [
    "{% include toc title=\"In This Lesson\" icon=\"file-text\" %}\n",
    "\n",
    "\n",
    "In this lesson, we will learn how to import a larger dataset, and test our\n",
    "skills cleaning and plotting the data.\n",
    "\n",
    "\n",
    "<div class='notice--success' markdown=\"1\">\n",
    "\n",
    "## <i class=\"fa fa-graduation-cap\" aria-hidden=\"true\"></i> Learning Objectives\n",
    "\n",
    "After completing this tutorial, you will be able to:\n",
    "\n",
    "* Import a text file into R.\n",
    "* Plot quantitative time series data using ggplot\n",
    "* Ensure that NoData values do not interfere with quantitative analysis by setting them to `NA` in `R`.\n",
    "* Use the `na.rm` argument when performing math with large datasets.\n",
    "* Subset data using the dplyr `filter()` function\n",
    "* Use dplyr pipes to filter data in R.\n",
    "\n",
    "## <i class=\"fa fa-check-square-o fa-2\" aria-hidden=\"true\"></i> What you need\n",
    "\n",
    "You need `R` and `RStudio` to complete this tutorial. Also you should have\n",
    "an `earth-analytics` directory setup on your computer with a `/data`\n",
    "directory with it.\n",
    "\n",
    "* [How to Setup R / RStudio](/course-materials/earth-analytics/week-1/setup-r-rstudio/)\n",
    "* [Setup your working directory](/course-materials/earth-analytics/week-1/setup-working-directory/)\n",
    "* [Intro to the R & RStudio Interface](/course-materials/earth-analytics/week-1/intro-to-r-and-rstudio)\n",
    "\n",
    "### R Libraries to Install:\n",
    "\n",
    "* **ggplot2:** `install.packages(\"ggplot2\")`\n",
    "* **dplyr:** `install.packages(\"dplyr\")`\n",
    "\n",
    "\n",
    "[<i class=\"fa fa-download\" aria-hidden=\"true\"></i> Download Week 2 Data](https://ndownloader.figshare.com/files/7426738){:data-proofer-ignore='' .btn }\n",
    "\n",
    "</div>\n",
    "\n",
    "## Important - Data Organization\n",
    "Before you begin this lesson, be sure that you've downloaded the dataset above.\n",
    "You will need to UNZIP the zip file. When you do this, be sure that your directory\n",
    "looks like the image below: note that all of the data are within the week2\n",
    "directory. They are not nested within another directory. You may have to copy and\n",
    "paste your files to make this look right.\n",
    "\n",
    "<figure>\n",
    "<a href=\"{{ site.baseurl }}/images/course-materials/earth-analytics/week-2/week2-data.png\">\n",
    "<img src=\"{{ site.baseurl }}/images/course-materials/earth-analytics/week-2/week2-data.png\" alt=\"week 2 file organization\">\n",
    "</a>\n",
    "<figcaption>Your `week2` file directory should look like the one above. Note that\n",
    "the data directly under the week-2 folder.</figcaption>\n",
    "</figure>\n",
    "\n",
    "## Get started with time series data\n",
    "Let's get started by loading the `ggplot2` and `dplyr` libraries. Also, let's set\n",
    "our working directory. Finally, set `stringsAsFactors` to `FALSE` globally as\n",
    "shown below.\n",
    "\n",
    "\n"
   ]
  },
  {
   "cell_type": "code",
   "execution_count": 16,
   "metadata": {
    "collapsed": true
   },
   "outputs": [],
   "source": [
    "# load libraries\n",
    "import numpy as np\n",
    "import pandas as pd\n",
    "import matplotlib.pyplot as plt\n",
    "import os\n",
    "import urllib\n",
    "plt.ion()\n",
    "# be sure to set your working directory\\n\",\n",
    "os.chdir(\"/Users/lewa8222/Documents/earth-analytics/\")"
   ]
  },
  {
   "cell_type": "code",
   "execution_count": 32,
   "metadata": {},
   "outputs": [
    {
     "data": {
      "text/plain": [
       "DATE\n",
       "2003-01-01 01:00:00    2003-01-01\n",
       "2003-02-01 01:00:00    2003-02-01\n",
       "2003-02-02 19:00:00    2003-02-02\n",
       "2003-02-02 22:00:00    2003-02-02\n",
       "2003-02-03 02:00:00    2003-02-03\n",
       "Name: JULIAN, dtype: object"
      ]
     },
     "execution_count": 32,
     "metadata": {},
     "output_type": "execute_result"
    }
   ],
   "source": [
    "# This is the code that i used to process the data -- can we hide this chunk?\n",
    "precip_boulder = pd.read_csv('data/week2/precipitation/805325-precip-daily-2003-2013.csv', \n",
    "                             parse_dates=['DATE'])\n",
    "# aggregate the data by date\n",
    "precip_boulder_daily = precip_boulder.groupby('DATE').aggregate(\n",
    "    {'HPCP': 'sum', 'STATION': 'first', 'ELEVATION': 'first',\n",
    "     'STATION_NAME': 'first', 'LATITUDE': 'first', 'LONGITUDE': 'first'})\n",
    "# rename the HPCP column to a human readable column name\n",
    "precip_boulder_daily = precip_boulder_daily.rename(columns={'HPCP': 'DAILY_PRECIP'})\n",
    "# add the year column\n",
    "precip_boulder_daily['YEAR'] = precip_boulder_daily.index.year\n",
    "# julian is wrong?? - \n",
    "precip_boulder_daily['JULIAN'] = precip_boulder_daily.index.date\n",
    "# is this really jday??\n",
    "precip_boulder_daily['JULIAN'].head()"
   ]
  },
  {
   "cell_type": "code",
   "execution_count": 8,
   "metadata": {
    "collapsed": true
   },
   "outputs": [],
   "source": [
    "# this is exporting to a csv... i'm not sure if we still need to do this. \n",
    "# precip_boulder_daily.to_csv('./data/week_02-hw/precipitation/805325-precip-dailysum-2003-2013.csv')"
   ]
  },
  {
   "cell_type": "code",
   "execution_count": 13,
   "metadata": {
    "collapsed": true
   },
   "outputs": [],
   "source": [
    "# import the data\n",
    "precip_boulder = pd.read_csv('data/week2/precipitation/805325-precip-dailysum-2003-2013.csv', \n",
    "                             parse_dates=['DATE'])"
   ]
  },
  {
   "cell_type": "markdown",
   "metadata": {},
   "source": [
    "## Import precipitation time series\n",
    "\n",
    "We will use a precipitation dataset derived from data accessed through the\n",
    "National Centers for Environmental Information (formerly\n",
    "National Climate Data Center) Cooperative Observer Network (COOP)\n",
    "station 050843 in Boulder, CO. The data time span is: 1 January 2003 through 31\n",
    "December 2013.\n",
    "\n",
    "We can use pandas `ps.read_csv()` to import the `.csv` file."
   ]
  },
  {
   "cell_type": "code",
   "execution_count": 36,
   "metadata": {},
   "outputs": [],
   "source": [
    "#boulder_daily_precip = pd.read_csv('data/week2/precipitation/805325-precip-dailysum-2003-2013.csv', parse_dates=['DATE'])\n",
    "#boulder_daily_precip.head(6)"
   ]
  },
  {
   "cell_type": "code",
   "execution_count": 35,
   "metadata": {},
   "outputs": [
    {
     "data": {
      "text/html": [
       "<div>\n",
       "<table border=\"1\" class=\"dataframe\">\n",
       "  <thead>\n",
       "    <tr style=\"text-align: right;\">\n",
       "      <th></th>\n",
       "      <th>DAILY_PRECIP</th>\n",
       "      <th>ELEVATION</th>\n",
       "      <th>LATITUDE</th>\n",
       "      <th>LONGITUDE</th>\n",
       "      <th>YEAR</th>\n",
       "      <th>JULIAN</th>\n",
       "    </tr>\n",
       "  </thead>\n",
       "  <tbody>\n",
       "    <tr>\n",
       "      <th>count</th>\n",
       "      <td>792.000000</td>\n",
       "      <td>792.0</td>\n",
       "      <td>792.000000</td>\n",
       "      <td>792.000000</td>\n",
       "      <td>792.000000</td>\n",
       "      <td>792.000000</td>\n",
       "    </tr>\n",
       "    <tr>\n",
       "      <th>mean</th>\n",
       "      <td>5.297045</td>\n",
       "      <td>1650.5</td>\n",
       "      <td>40.033850</td>\n",
       "      <td>-105.281106</td>\n",
       "      <td>2007.967172</td>\n",
       "      <td>175.541667</td>\n",
       "    </tr>\n",
       "    <tr>\n",
       "      <th>std</th>\n",
       "      <td>70.915223</td>\n",
       "      <td>0.0</td>\n",
       "      <td>0.000045</td>\n",
       "      <td>0.000005</td>\n",
       "      <td>3.149287</td>\n",
       "      <td>98.536373</td>\n",
       "    </tr>\n",
       "    <tr>\n",
       "      <th>min</th>\n",
       "      <td>0.000000</td>\n",
       "      <td>1650.5</td>\n",
       "      <td>40.033800</td>\n",
       "      <td>-105.281110</td>\n",
       "      <td>2003.000000</td>\n",
       "      <td>1.000000</td>\n",
       "    </tr>\n",
       "    <tr>\n",
       "      <th>25%</th>\n",
       "      <td>0.100000</td>\n",
       "      <td>1650.5</td>\n",
       "      <td>40.033800</td>\n",
       "      <td>-105.281110</td>\n",
       "      <td>2005.000000</td>\n",
       "      <td>96.000000</td>\n",
       "    </tr>\n",
       "    <tr>\n",
       "      <th>50%</th>\n",
       "      <td>0.100000</td>\n",
       "      <td>1650.5</td>\n",
       "      <td>40.033890</td>\n",
       "      <td>-105.281110</td>\n",
       "      <td>2008.000000</td>\n",
       "      <td>167.000000</td>\n",
       "    </tr>\n",
       "    <tr>\n",
       "      <th>75%</th>\n",
       "      <td>0.300000</td>\n",
       "      <td>1650.5</td>\n",
       "      <td>40.033890</td>\n",
       "      <td>-105.281100</td>\n",
       "      <td>2011.000000</td>\n",
       "      <td>255.250000</td>\n",
       "    </tr>\n",
       "    <tr>\n",
       "      <th>max</th>\n",
       "      <td>999.990000</td>\n",
       "      <td>1650.5</td>\n",
       "      <td>40.033890</td>\n",
       "      <td>-105.281100</td>\n",
       "      <td>2013.000000</td>\n",
       "      <td>365.000000</td>\n",
       "    </tr>\n",
       "  </tbody>\n",
       "</table>\n",
       "</div>"
      ],
      "text/plain": [
       "       DAILY_PRECIP  ELEVATION    LATITUDE   LONGITUDE         YEAR  \\\n",
       "count    792.000000      792.0  792.000000  792.000000   792.000000   \n",
       "mean       5.297045     1650.5   40.033850 -105.281106  2007.967172   \n",
       "std       70.915223        0.0    0.000045    0.000005     3.149287   \n",
       "min        0.000000     1650.5   40.033800 -105.281110  2003.000000   \n",
       "25%        0.100000     1650.5   40.033800 -105.281110  2005.000000   \n",
       "50%        0.100000     1650.5   40.033890 -105.281110  2008.000000   \n",
       "75%        0.300000     1650.5   40.033890 -105.281100  2011.000000   \n",
       "max      999.990000     1650.5   40.033890 -105.281100  2013.000000   \n",
       "\n",
       "           JULIAN  \n",
       "count  792.000000  \n",
       "mean   175.541667  \n",
       "std     98.536373  \n",
       "min      1.000000  \n",
       "25%     96.000000  \n",
       "50%    167.000000  \n",
       "75%    255.250000  \n",
       "max    365.000000  "
      ]
     },
     "execution_count": 35,
     "metadata": {},
     "output_type": "execute_result"
    }
   ],
   "source": [
    "# view data summary statistics\n",
    "#boulder_daily_precip.describe()"
   ]
  },
  {
   "cell_type": "code",
   "execution_count": 37,
   "metadata": {},
   "outputs": [
    {
     "data": {
      "text/html": [
       "<div>\n",
       "<table border=\"1\" class=\"dataframe\">\n",
       "  <thead>\n",
       "    <tr style=\"text-align: right;\">\n",
       "      <th></th>\n",
       "      <th>DATE</th>\n",
       "      <th>DAILY_PRECIP</th>\n",
       "      <th>STATION</th>\n",
       "      <th>STATION_NAME</th>\n",
       "      <th>ELEVATION</th>\n",
       "      <th>LATITUDE</th>\n",
       "      <th>LONGITUDE</th>\n",
       "      <th>YEAR</th>\n",
       "      <th>JULIAN</th>\n",
       "    </tr>\n",
       "  </thead>\n",
       "  <tbody>\n",
       "    <tr>\n",
       "      <th>0</th>\n",
       "      <td>2003-01-01</td>\n",
       "      <td>0.00</td>\n",
       "      <td>COOP:050843</td>\n",
       "      <td>BOULDER 2 CO US</td>\n",
       "      <td>1650.5</td>\n",
       "      <td>40.03389</td>\n",
       "      <td>-105.28111</td>\n",
       "      <td>2003</td>\n",
       "      <td>1</td>\n",
       "    </tr>\n",
       "    <tr>\n",
       "      <th>1</th>\n",
       "      <td>2003-01-05</td>\n",
       "      <td>999.99</td>\n",
       "      <td>COOP:050843</td>\n",
       "      <td>BOULDER 2 CO US</td>\n",
       "      <td>1650.5</td>\n",
       "      <td>40.03389</td>\n",
       "      <td>-105.28111</td>\n",
       "      <td>2003</td>\n",
       "      <td>5</td>\n",
       "    </tr>\n",
       "    <tr>\n",
       "      <th>2</th>\n",
       "      <td>2003-02-01</td>\n",
       "      <td>0.00</td>\n",
       "      <td>COOP:050843</td>\n",
       "      <td>BOULDER 2 CO US</td>\n",
       "      <td>1650.5</td>\n",
       "      <td>40.03389</td>\n",
       "      <td>-105.28111</td>\n",
       "      <td>2003</td>\n",
       "      <td>32</td>\n",
       "    </tr>\n",
       "    <tr>\n",
       "      <th>3</th>\n",
       "      <td>2003-02-02</td>\n",
       "      <td>999.99</td>\n",
       "      <td>COOP:050843</td>\n",
       "      <td>BOULDER 2 CO US</td>\n",
       "      <td>1650.5</td>\n",
       "      <td>40.03389</td>\n",
       "      <td>-105.28111</td>\n",
       "      <td>2003</td>\n",
       "      <td>33</td>\n",
       "    </tr>\n",
       "    <tr>\n",
       "      <th>4</th>\n",
       "      <td>2003-02-03</td>\n",
       "      <td>0.40</td>\n",
       "      <td>COOP:050843</td>\n",
       "      <td>BOULDER 2 CO US</td>\n",
       "      <td>1650.5</td>\n",
       "      <td>40.03389</td>\n",
       "      <td>-105.28111</td>\n",
       "      <td>2003</td>\n",
       "      <td>34</td>\n",
       "    </tr>\n",
       "  </tbody>\n",
       "</table>\n",
       "</div>"
      ],
      "text/plain": [
       "        DATE  DAILY_PRECIP      STATION     STATION_NAME  ELEVATION  LATITUDE  \\\n",
       "0 2003-01-01          0.00  COOP:050843  BOULDER 2 CO US     1650.5  40.03389   \n",
       "1 2003-01-05        999.99  COOP:050843  BOULDER 2 CO US     1650.5  40.03389   \n",
       "2 2003-02-01          0.00  COOP:050843  BOULDER 2 CO US     1650.5  40.03389   \n",
       "3 2003-02-02        999.99  COOP:050843  BOULDER 2 CO US     1650.5  40.03389   \n",
       "4 2003-02-03          0.40  COOP:050843  BOULDER 2 CO US     1650.5  40.03389   \n",
       "\n",
       "   LONGITUDE  YEAR  JULIAN  \n",
       "0 -105.28111  2003       1  \n",
       "1 -105.28111  2003       5  \n",
       "2 -105.28111  2003      32  \n",
       "3 -105.28111  2003      33  \n",
       "4 -105.28111  2003      34  "
      ]
     },
     "execution_count": 37,
     "metadata": {},
     "output_type": "execute_result"
    }
   ],
   "source": [
    "# in class i think i had them download the data -- so the code above would be hidden and not run.\n",
    "\n",
    "# download data from figshare (note - we did this in a previous lesson)\n",
    "urllib.request.urlretrieve(url='https://ndownloader.figshare.com/files/7283285', \n",
    "                           filename= 'data/week2/805325-precip-dailysum_2003-2013.csv')\n",
    "\n",
    "\n",
    "# read the data into python\n",
    "boulder_daily_precip = pd.read_csv('data/week2/precipitation/805325-precip-dailysum-2003-2013.csv', \n",
    "                                   parse_dates=['DATE'])\n",
    "# view first 5 rows\n",
    "boulder_daily_precip.head()"
   ]
  },
  {
   "cell_type": "code",
   "execution_count": 38,
   "metadata": {},
   "outputs": [
    {
     "data": {
      "text/plain": [
       "DATE            datetime64[ns]\n",
       "DAILY_PRECIP           float64\n",
       "STATION                 object\n",
       "STATION_NAME            object\n",
       "ELEVATION              float64\n",
       "LATITUDE               float64\n",
       "LONGITUDE              float64\n",
       "YEAR                     int64\n",
       "JULIAN                   int64\n",
       "dtype: object"
      ]
     },
     "execution_count": 38,
     "metadata": {},
     "output_type": "execute_result"
    }
   ],
   "source": [
    "# view structure of data\n",
    "boulder_daily_precip.dtypes"
   ]
  },
  {
   "cell_type": "code",
   "execution_count": 39,
   "metadata": {},
   "outputs": [
    {
     "data": {
      "text/plain": [
       "count    792.000000\n",
       "mean       5.297045\n",
       "std       70.915223\n",
       "min        0.000000\n",
       "25%        0.100000\n",
       "50%        0.100000\n",
       "75%        0.300000\n",
       "max      999.990000\n",
       "Name: DAILY_PRECIP, dtype: float64"
      ]
     },
     "execution_count": 39,
     "metadata": {},
     "output_type": "execute_result"
    }
   ],
   "source": [
    "# view summary stats for the precip data - note the max value\n",
    "boulder_daily_precip['DAILY_PRECIP'].describe()\n"
   ]
  },
  {
   "cell_type": "markdown",
   "metadata": {},
   "source": [
    "### About the Data\n",
    "\n",
    "Viewing the structure of these data, we can see that different types of data are included in\n",
    "this file.\n",
    "\n",
    "* **STATION** and **STATION_NAME**: Identification of the COOP station.\n",
    "* **ELEVATION, LATITUDE** and **LONGITUDE**: The spatial location of the station.\n",
    "* **DATE**: The date when the data were collected in the format: YYYYMMDD. Notice that DATE is\n",
    "currently class `chr`, meaning the data is interpreted as a character class and\n",
    "not as a date.\n",
    "* **DAILY_PRECIP**: The total precipitation in inches. Important: the metadata\n",
    "notes that the value 999.99 indicates missing data. Also important,\n",
    "hours with no precipitation are not recorded.\n",
    "* **YEAR**: the year the data were collected\n",
    "* **JULIAN**: the JULIAN DAY the data were collected.\n",
    "\n",
    "\n",
    "Additional information about the data, known as metadata, is available in the\n",
    "<a href=\"https://ndownloader.figshare.com/files/7283453\">PRECIP_HLY_documentation.pdf</a>.\n",
    "The metadata tell us that the noData value for these data is 999.99. IMPORTANT:\n",
    "we have modified these data a bit for ease of teaching and learning. Specifically,\n",
    "we've aggregated the data to represent daily sum values and added some noData\n",
    "values to ensure you learn how to clean them!\n",
    "\n",
    "You can download the original complete data subset with additional documentation\n",
    "<a href=\"https://figshare.com/articles/NEON_Remote_Sensing_Boulder_Flood_2013_Teaching_Data_Subset_Lee_Hill_Road/3146284\">here. </a>\n",
    "\n",
    "<div class=\"notice--warning\" markdown=\"1\">\n",
    "\n",
    "## <i class=\"fa fa-pencil-square-o\" aria-hidden=\"true\"></i> Optional challenge\n",
    "\n",
    "Using everything you've learned in the previous lessons:\n",
    "\n",
    "* Import the dataset: `data/week2/precipitation/805325-precip-dailysum-2003-2013.csv`\n",
    "* Clean the data by assigning noData values to `NA`\n",
    "* Make sure the date column is a date class\n",
    "* When you are done, plot it using `ggplot()`.\n",
    "  * Be sure to include a TITLE, and label the X and Y axes.\n",
    "  * Change the color of the plotted points\n",
    "\n",
    "Some notes to help you along:\n",
    "\n",
    "* Date: be sure to take of the date format when you import the data.\n",
    "* NoData Values: We know that the no data value = 999.99. We can account for this\n",
    "when we read in the data. Remember how?\n",
    "\n",
    "Your final plot should look something like the plot below.\n",
    "</div>"
   ]
  },
  {
   "cell_type": "code",
   "execution_count": 42,
   "metadata": {},
   "outputs": [
    {
     "data": {
      "text/html": [
       "<div>\n",
       "<table border=\"1\" class=\"dataframe\">\n",
       "  <thead>\n",
       "    <tr style=\"text-align: right;\">\n",
       "      <th></th>\n",
       "      <th>DATE</th>\n",
       "      <th>DAILY_PRECIP</th>\n",
       "      <th>STATION</th>\n",
       "      <th>STATION_NAME</th>\n",
       "      <th>ELEVATION</th>\n",
       "      <th>LATITUDE</th>\n",
       "      <th>LONGITUDE</th>\n",
       "      <th>YEAR</th>\n",
       "      <th>JULIAN</th>\n",
       "    </tr>\n",
       "  </thead>\n",
       "  <tbody>\n",
       "    <tr>\n",
       "      <th>0</th>\n",
       "      <td>2003-01-01</td>\n",
       "      <td>0.0</td>\n",
       "      <td>COOP:050843</td>\n",
       "      <td>BOULDER 2 CO US</td>\n",
       "      <td>1650.5</td>\n",
       "      <td>40.03389</td>\n",
       "      <td>-105.28111</td>\n",
       "      <td>2003</td>\n",
       "      <td>1</td>\n",
       "    </tr>\n",
       "    <tr>\n",
       "      <th>1</th>\n",
       "      <td>2003-01-05</td>\n",
       "      <td>NaN</td>\n",
       "      <td>COOP:050843</td>\n",
       "      <td>BOULDER 2 CO US</td>\n",
       "      <td>1650.5</td>\n",
       "      <td>40.03389</td>\n",
       "      <td>-105.28111</td>\n",
       "      <td>2003</td>\n",
       "      <td>5</td>\n",
       "    </tr>\n",
       "    <tr>\n",
       "      <th>2</th>\n",
       "      <td>2003-02-01</td>\n",
       "      <td>0.0</td>\n",
       "      <td>COOP:050843</td>\n",
       "      <td>BOULDER 2 CO US</td>\n",
       "      <td>1650.5</td>\n",
       "      <td>40.03389</td>\n",
       "      <td>-105.28111</td>\n",
       "      <td>2003</td>\n",
       "      <td>32</td>\n",
       "    </tr>\n",
       "    <tr>\n",
       "      <th>3</th>\n",
       "      <td>2003-02-02</td>\n",
       "      <td>NaN</td>\n",
       "      <td>COOP:050843</td>\n",
       "      <td>BOULDER 2 CO US</td>\n",
       "      <td>1650.5</td>\n",
       "      <td>40.03389</td>\n",
       "      <td>-105.28111</td>\n",
       "      <td>2003</td>\n",
       "      <td>33</td>\n",
       "    </tr>\n",
       "    <tr>\n",
       "      <th>4</th>\n",
       "      <td>2003-02-03</td>\n",
       "      <td>0.4</td>\n",
       "      <td>COOP:050843</td>\n",
       "      <td>BOULDER 2 CO US</td>\n",
       "      <td>1650.5</td>\n",
       "      <td>40.03389</td>\n",
       "      <td>-105.28111</td>\n",
       "      <td>2003</td>\n",
       "      <td>34</td>\n",
       "    </tr>\n",
       "    <tr>\n",
       "      <th>5</th>\n",
       "      <td>2003-02-05</td>\n",
       "      <td>0.2</td>\n",
       "      <td>COOP:050843</td>\n",
       "      <td>BOULDER 2 CO US</td>\n",
       "      <td>1650.5</td>\n",
       "      <td>40.03389</td>\n",
       "      <td>-105.28111</td>\n",
       "      <td>2003</td>\n",
       "      <td>36</td>\n",
       "    </tr>\n",
       "  </tbody>\n",
       "</table>\n",
       "</div>"
      ],
      "text/plain": [
       "        DATE  DAILY_PRECIP      STATION     STATION_NAME  ELEVATION  LATITUDE  \\\n",
       "0 2003-01-01           0.0  COOP:050843  BOULDER 2 CO US     1650.5  40.03389   \n",
       "1 2003-01-05           NaN  COOP:050843  BOULDER 2 CO US     1650.5  40.03389   \n",
       "2 2003-02-01           0.0  COOP:050843  BOULDER 2 CO US     1650.5  40.03389   \n",
       "3 2003-02-02           NaN  COOP:050843  BOULDER 2 CO US     1650.5  40.03389   \n",
       "4 2003-02-03           0.4  COOP:050843  BOULDER 2 CO US     1650.5  40.03389   \n",
       "5 2003-02-05           0.2  COOP:050843  BOULDER 2 CO US     1650.5  40.03389   \n",
       "\n",
       "   LONGITUDE  YEAR  JULIAN  \n",
       "0 -105.28111  2003       1  \n",
       "1 -105.28111  2003       5  \n",
       "2 -105.28111  2003      32  \n",
       "3 -105.28111  2003      33  \n",
       "4 -105.28111  2003      34  \n",
       "5 -105.28111  2003      36  "
      ]
     },
     "execution_count": 42,
     "metadata": {},
     "output_type": "execute_result"
    }
   ],
   "source": [
    "# this code chunk needs to be hidden\n",
    "# import the data specifying the na_value \n",
    "boulder_daily_precip = pd.read_csv('data/week2/precipitation/805325-precip-dailysum-2003-2013.csv', parse_dates=['DATE'],\n",
    "                                   na_values=[999.99])\n",
    "boulder_daily_precip.head(6)"
   ]
  },
  {
   "cell_type": "code",
   "execution_count": 43,
   "metadata": {},
   "outputs": [
    {
     "data": {
      "text/plain": [
       "count    788.000000\n",
       "mean       0.247843\n",
       "std        0.462558\n",
       "min        0.000000\n",
       "25%        0.100000\n",
       "50%        0.100000\n",
       "75%        0.300000\n",
       "max        9.800000\n",
       "Name: DAILY_PRECIP, dtype: float64"
      ]
     },
     "execution_count": 43,
     "metadata": {},
     "output_type": "execute_result"
    }
   ],
   "source": [
    "# is the max value different now?\n",
    "boulder_daily_precip['DAILY_PRECIP'].describe()"
   ]
  },
  {
   "cell_type": "code",
   "execution_count": 44,
   "metadata": {},
   "outputs": [
    {
     "data": {
      "image/png": "[encoded data removed]",
      "text/plain": [
       "<matplotlib.figure.Figure at 0x1139ebf60>"
      ]
     },
     "metadata": {},
     "output_type": "display_data"
    }
   ],
   "source": [
    "# plot the data -- i need to revisit as some of this was hidden\n",
    "# this plot seems weird now - not sure why\n",
    "fig, ax = plt.subplots()\n",
    "# note the use of .values here...\n",
    "ax.scatter(boulder_daily_precip['DATE'].values, boulder_daily_precip['DAILY_PRECIP'].values)\n",
    "ax.set(xlabel=\"Date\", \n",
    "       ylabel=\"Precipitation (Inches)\", \n",
    "       title=\"Hourly Precipitation - Boulder Station\\n 2003-2013\");"
   ]
  },
  {
   "cell_type": "markdown",
   "metadata": {},
   "source": [
    "\n",
    "<i fa fa-star></i>**Data Tip:**For a more thorough review of date/time classes, see the NEON tutorial\n",
    "<a href=\"http://www.neondataskills.org/R/time-series-convert-date-time-class-POSIX/\" target=\"_blank\"> *Dealing With Dates & Times in R - as.Date, POSIXct, POSIXlt*</a>.\n",
    "{: .notice--success}\n",
    "\n",
    "\n",
    "<div class=\"notice--warning\" markdown=\"1\">\n",
    "## <i class=\"fa fa-pencil-square-o\" aria-hidden=\"true\"></i> Optional challenge\n",
    "\n",
    "Take a close look at the plot.\n",
    "\n",
    "* What does each point represent?\n",
    "* Use the `min()` and `max()` functions to determine the minimum and maximum precipitation values for the 10 year span?\n",
    "\n",
    "</div>\n",
    "\n",
    "## Subset the Data\n",
    "\n",
    "If we wanted to zoom in and look at some data over a smaller time period, we can\n",
    "subset it. Let create a subset of data for the time period around the flood between 15\n",
    "August to 15 October 2013. We will use the pandas `.query()` function\n",
    "to do this.\n",
    "\n",
    "To subset by a range of dates, we specify the range as follows\n",
    "\n",
    "`DATE > \"2013-08-15\" and DATE <= \"2013-10-15\"`\n",
    "\n",
    "In the code above we are asking python to only select rows where the DATE value is greater than 2013-08-15 and less than 2013-10-15"
   ]
  },
  {
   "cell_type": "code",
   "execution_count": 45,
   "metadata": {
    "collapsed": true
   },
   "outputs": [],
   "source": [
    "# subset the data \n",
    "precip_boulder_AugOct = boulder_daily_precip.query('DATE >= \"2013-08-15\" and DATE <= \"2013-10-15\"')"
   ]
  },
  {
   "cell_type": "markdown",
   "metadata": {},
   "source": [
    "# is there a pipes equivalent in python?\n"
   ]
  },
  {
   "cell_type": "code",
   "execution_count": 46,
   "metadata": {},
   "outputs": [
    {
     "name": "stdout",
     "output_type": "stream",
     "text": [
      "2013-08-21 00:00:00\n",
      "2013-10-11 00:00:00\n"
     ]
    }
   ],
   "source": [
    "# did it work? \n",
    "print(precip_boulder_AugOct['DATE'].min())\n",
    "print(precip_boulder_AugOct['DATE'].max())"
   ]
  },
  {
   "cell_type": "code",
   "execution_count": 17,
   "metadata": {
    "collapsed": true
   },
   "outputs": [],
   "source": [
    "# ```{r check-subset, fig.cap=\"precip plot subset\" }\n",
    "\n",
    "# # check the first & last dates\n",
    "\n",
    "# min(precip_boulder_AugOct$DATE)\n",
    "\n",
    "# max(precip_boulder_AugOct$DATE)"
   ]
  },
  {
   "cell_type": "code",
   "execution_count": 18,
   "metadata": {},
   "outputs": [
    {
     "data": {
      "image/png": "[encoded data removed]",
      "text/plain": [
       "<matplotlib.figure.Figure at 0x109b5de48>"
      ]
     },
     "metadata": {},
     "output_type": "display_data"
    }
   ],
   "source": [
    "fig, ax = plt.subplots()\n",
    "ax.plot(precip_boulder_AugOct['DATE'], precip_boulder_AugOct['DAILY_PRECIP'], 'o')\n",
    "plt.setp(ax.get_xticklabels(), rotation=30)\n",
    "ax.set(xlabel=\"Date\", ylabel=\"Precipitation (inches)\",\n",
    "       title=\"Daily Total Precipitation Aug - Oct 2013 for Boulder Creek\",\n",
    "       xlim=[\"2013-08-01\", \"2013-11-01\"]);"
   ]
  },
  {
   "cell_type": "code",
   "execution_count": 19,
   "metadata": {
    "collapsed": true
   },
   "outputs": [],
   "source": [
    "# # create new plot\n",
    "\n",
    "# precPlot_flood2 <- ggplot(data=precip_boulder_AugOct, aes(DATE,DAILY_PRECIP)) +\n",
    "\n",
    "#   geom_bar(stat=\"identity\") +\n",
    "\n",
    "#   xlab(\"Date\") + ylab(\"Precipitation (inches)\") +\n",
    "\n",
    "#   ggtitle(\"Daily Total Precipitation Aug - Oct 2013 for Boulder Creek\")\n",
    "\n",
    "\n",
    "\n",
    "# precPlot_flood2\n",
    "\n",
    "\n",
    "\n",
    "# ```"
   ]
  },
  {
   "cell_type": "markdown",
   "metadata": {},
   "source": [
    "<div class=\"notice--warning\" markdown=\"1\">\n",
    "\n",
    "## <i class=\"fa fa-pencil-square-o\" aria-hidden=\"true\"></i> Challenge\n",
    "\n",
    "Create a subset from the same dates in 2012 to compare to the 2013 plot.\n",
    "Use the ylim() argument to ensure the y axis range is the SAME as the previous\n",
    "plot - from 0 to 10\".\n",
    "\n",
    "How different was the rainfall in 2012?\n",
    "\n",
    "HINT: type `?lims` in the console to see how the `xlim` and `ylim` arguments work.\n",
    "\n",
    "\n",
    "</div>"
   ]
  },
  {
   "cell_type": "code",
   "execution_count": 20,
   "metadata": {
    "collapsed": true
   },
   "outputs": [],
   "source": [
    "precip_boulder_AugOct_2012 = boulder_daily_precip.query('DATE > \"2012-08-15\" and DATE <= \"2012-10-15\"')"
   ]
  },
  {
   "cell_type": "code",
   "execution_count": 21,
   "metadata": {},
   "outputs": [
    {
     "data": {
      "text/plain": [
       "[<matplotlib.text.Text at 0x1171c3fd0>,\n",
       " (734716.0, 734808.0),\n",
       " <matplotlib.text.Text at 0x1170d52b0>,\n",
       " <matplotlib.text.Text at 0x1171e02e8>]"
      ]
     },
     "execution_count": 21,
     "metadata": {},
     "output_type": "execute_result"
    },
    {
     "data": {
      "image/png": "[encoded data removed]",
      "text/plain": [
       "<matplotlib.figure.Figure at 0x1170a0be0>"
      ]
     },
     "metadata": {},
     "output_type": "display_data"
    }
   ],
   "source": [
    "fig, ax = plt.subplots()\n",
    "ax.plot(precip_boulder_AugOct_2012['DATE'], precip_boulder_AugOct_2012['DAILY_PRECIP'], 'o')\n",
    "plt.setp(ax.get_xticklabels(), rotation=30)\n",
    "ax.set(xlabel=\"Date\", ylabel=\"Precipitation (inches)\",\n",
    "       title=\"Daily Total Precipitation Aug - Oct 2012 for Boulder Creek\",\n",
    "       xlim=[\"2012-08-01\", \"2012-11-01\"])"
   ]
  },
  {
   "cell_type": "code",
   "execution_count": 22,
   "metadata": {
    "collapsed": true
   },
   "outputs": [],
   "source": [
    "# ```{r challenge, echo=FALSE, warning=\"hide\", fig.cap=\"precip plot subset 2\" }\n",
    "\n",
    "\n",
    "\n",
    "# # subset 2 months around flood\n",
    "\n",
    "# precip_boulder_AugOct_2012 <- boulder_daily_precip %>%\n",
    "\n",
    "#                         filter(DATE >= as.Date('2012-08-15') & DATE <= as.Date('2012-10-15'))\n",
    "\n",
    "\n",
    "\n",
    "# # create new plot\n",
    "\n",
    "# precPlot_flood_2012 <- ggplot(data=precip_boulder_AugOct_2012, aes(DATE,DAILY_PRECIP)) +\n",
    "\n",
    "#   geom_bar(stat=\"identity\") +\n",
    "\n",
    "#   xlab(\"Date\") + ylab(\"Precipitation (inches)\") +\n",
    "\n",
    "#   ggtitle(\"Daily Total Precipitation Aug - Oct 2012 for Boulder Creek\") +\n",
    "\n",
    "#   ylim(0,10)\n",
    "\n",
    "\n",
    "\n",
    "# precPlot_flood_2012\n",
    "\n",
    "\n",
    "\n",
    "# ```\n"
   ]
  },
  {
   "cell_type": "code",
   "execution_count": null,
   "metadata": {
    "collapsed": true
   },
   "outputs": [],
   "source": []
  }
 ],
 "metadata": {
  "kernelspec": {
   "display_name": "Python 3",
   "language": "python",
   "name": "python3"
  },
  "language_info": {
   "codemirror_mode": {
    "name": "ipython",
    "version": 3
   },
   "file_extension": ".py",
   "mimetype": "text/x-python",
   "name": "python",
   "nbconvert_exporter": "python",
   "pygments_lexer": "ipython3",
   "version": "3.6.0"
  },
  "toc": {
   "toc_cell": false,
   "toc_number_sections": false,
   "toc_threshold": "2",
   "toc_window_display": false
  }
 },
 "nbformat": 4,
 "nbformat_minor": 2
}
