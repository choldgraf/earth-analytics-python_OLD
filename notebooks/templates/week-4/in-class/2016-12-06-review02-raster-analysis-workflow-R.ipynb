{
 "cells": [
  {
   "cell_type": "raw",
   "metadata": {},
   "source": [
    "---\n",
    "layout: single\n",
    "title: \"Raster analysis workflow in R.\"\n",
    "excerpt: \".\"\n",
    "authors: ['Leah Wasser']\n",
    "modified: '{:%Y-%m-%d}'.format(datetime.now())\n",
    "category: [course-materials]\n",
    "class-lesson: ['week4-review-r']\n",
    "permalink: /course-materials/earth-analytics/week-4/raster-analysis-workflow-r/\n",
    "nav-title: 'Raster analysis in R'\n",
    "week: 4\n",
    "sidebar:\n",
    "  nav:\n",
    "author_profile: false\n",
    "comments: true\n",
    "order: 2\n",
    "---\n"
   ]
  },
  {
   "cell_type": "markdown",
   "metadata": {},
   "source": [
    "\n",
    "\n",
    "{% include toc title=\"In This Lesson\" icon=\"file-text\" %}\n",
    "\n",
    "\n",
    "\n",
    "<div class='notice--success' markdown=\"1\">\n",
    "\n",
    "\n",
    "\n",
    "## <i class=\"fa fa-graduation-cap\" aria-hidden=\"true\"></i> Learning Objectives\n",
    "\n",
    "\n",
    "\n",
    "After completing this tutorial, you will be able to:\n",
    "\n",
    "\n",
    "\n",
    "* Effectively classify a raster dataset using classes determined by exploring a histogram of the data.\n",
    "\n",
    "\n",
    "\n",
    "## <i class=\"fa fa-check-square-o fa-2\" aria-hidden=\"true\"></i> What you need\n",
    "\n",
    "\n",
    "\n",
    "You will need a computer with internet access to complete this lesson and the data for week 4 of the course.\n",
    "\n",
    "\n",
    "\n",
    "[<i class=\"fa fa-download\" aria-hidden=\"true\"></i> Download Week 4 Data (~500 MB)](https://ndownloader.figshare.com/files/7525363){:data-proofer-ignore='' .btn }\n",
    "\n",
    "\n",
    "\n",
    "</div>\n",
    "\n",
    "\n",
    "\n",
    "We can break our data analysis workflow into several steps as follows:\n",
    "\n",
    "\n",
    "\n",
    "* **Data Processing:** load and \"clean\" the data. This may include cropping, dealing with NA values, etc\n",
    "\n",
    "* **Data Exploration:** understand the range and distribution of values in your data. This may involve plotting histograms scatter plots, etc\n",
    "\n",
    "* **More Data Processing & Analysis:** This may include the final data processing steps that you determined based upon the data exploration phase.\n",
    "\n",
    "* **Final Data Analysis:** The final steps of your analysis - often performed using information gathered in the early data processing / exploration stages of your workflow.\n",
    "\n",
    "* **Presentation:** Refining your results into a final plot or set of plots that are cleaned up, labeled, etc.\n",
    "\n",
    "\n",
    "\n",
    "Please note - working with data is not a linear process. There are no defined\n",
    "\n",
    "steps. As you work with data more, you will develop your own workflow and approach.\n",
    "\n",
    "\n"
   ]
  },
  {
   "cell_type": "code",
   "execution_count": 1,
   "metadata": {
    "collapsed": true
   },
   "outputs": [],
   "source": [
    "```{r setup}\n",
    "\n",
    "# load libraries\n",
    "\n",
    "library(raster)\n",
    "\n",
    "library(rgdal)\n",
    "\n",
    "library(ggplot2)\n",
    "\n",
    "\n",
    "\n",
    "# set working directory\n",
    "\n",
    "setwd(\"~/Documents/earth-analytics\")\n",
    "\n",
    "options(stringsAsFactors = F)\n",
    "\n",
    "```\n"
   ]
  },
  {
   "cell_type": "markdown",
   "metadata": {},
   "source": [
    "\n",
    "\n",
    "Note: try mapview() is a function that allows you to create interactive maps of\n",
    "\n",
    "spatial data using leaflet as a base.\n",
    "\n",
    "\n",
    "\n",
    "https://cran.r-project.org/web/packages/mapview/index.html\n",
    "\n",
    "\n"
   ]
  },
  {
   "cell_type": "code",
   "execution_count": 1,
   "metadata": {
    "collapsed": true
   },
   "outputs": [],
   "source": [
    "```{r load-data}\n",
    "\n",
    "# load data\n",
    "\n",
    "pre_dtm <- raster(\"data/week3/BLDR_LeeHill/pre-flood/lidar/pre_DTM.tif\")\n",
    "\n",
    "pre_dsm <- raster(\"data/week3/BLDR_LeeHill/pre-flood/lidar/pre_DSM.tif\")\n",
    "\n",
    "\n",
    "\n",
    "post_dtm <- raster(\"data/week3/BLDR_LeeHill/post-flood/lidar/post_DTM.tif\")\n",
    "\n",
    "post_dsm <- raster(\"data/week3/BLDR_LeeHill/post-flood/lidar/post_DSM.tif\")\n",
    "\n",
    "\n",
    "\n",
    "# import crop extent\n",
    "\n",
    "crop_ext <- readOGR(\"data/week3/BLDR_LeeHill\", \"clip-extent\")\n",
    "\n",
    "\n",
    "\n",
    "```\n"
   ]
  },
  {
   "cell_type": "markdown",
   "metadata": {},
   "source": [
    "\n",
    "\n",
    "Calculate the difference.\n",
    "\n",
    "\n"
   ]
  },
  {
   "cell_type": "code",
   "execution_count": 1,
   "metadata": {
    "collapsed": true
   },
   "outputs": [],
   "source": [
    "```{r diff-data, fig.cap=\"difference between pre and post flood dtm.\" }\n",
    "\n",
    "# calculate dtm difference\n",
    "\n",
    "dtm_diff_uncropped <- post_dtm - pre_dtm\n",
    "\n",
    "plot(dtm_diff_uncropped)\n",
    "\n",
    "```\n"
   ]
  },
  {
   "cell_type": "markdown",
   "metadata": {},
   "source": [
    "\n",
    "\n",
    "Next, crop the data.\n",
    "\n",
    "\n"
   ]
  },
  {
   "cell_type": "code",
   "execution_count": 1,
   "metadata": {
    "collapsed": true
   },
   "outputs": [],
   "source": [
    "```{r crop-data, fig.cap=\"cropped data\"}\n",
    "\n",
    "# crop the data\n",
    "\n",
    "dtm_diff <- crop(dtm_diff_uncropped, crop_ext)\n",
    "\n",
    "plot(dtm_diff,\n",
    "\n",
    "     main=\"cropped data\")\n",
    "\n",
    "\n",
    "\n",
    "# get a quick glimpse at some of the values for a particular \"row\"\n",
    "\n",
    "# note there are a LOT of values in this raster so this won't print all values.\n",
    "\n",
    "# below i used the head() function to limit the n umber of values returned to 6.\n",
    "\n",
    "# that way a lot of numbers don't print out in my final knitr output.\n",
    "\n",
    "head(getValues(dtm_diff, row = 5))\n",
    "\n",
    "\n",
    "\n",
    "# view max data values\n",
    "\n",
    "dtm_diff@data@max\n",
    "\n",
    "dtm_diff@data@min\n",
    "\n",
    "```\n"
   ]
  },
  {
   "cell_type": "markdown",
   "metadata": {},
   "source": [
    "\n",
    "\n",
    "\n"
   ]
  },
  {
   "cell_type": "code",
   "execution_count": 1,
   "metadata": {
    "collapsed": true
   },
   "outputs": [],
   "source": [
    "```{r plot-histogram, fig.cap=\"initial histogram\"}\n",
    "\n",
    "# plot histogram of data\n",
    "\n",
    "hist(dtm_diff,\n",
    "\n",
    "     main=\"Distribution of raster cell values in the DTM difference data\",\n",
    "\n",
    "     xlab=\"Height (m)\", ylab=\"Number of Pixels\",\n",
    "\n",
    "     col=\"springgreen\")\n",
    "\n",
    "```\n"
   ]
  },
  {
   "cell_type": "markdown",
   "metadata": {},
   "source": [
    "\n"
   ]
  },
  {
   "cell_type": "code",
   "execution_count": 1,
   "metadata": {
    "collapsed": true
   },
   "outputs": [],
   "source": [
    "```{r plot-histogram-xlim, fig.cap=\"initial histogram w xlim to zoom in\"}\n",
    "\n",
    "hist(dtm_diff,\n",
    "\n",
    "     xlim=c(-2,2),\n",
    "\n",
    "     main=\"Histogram of pre-post flood DTM differences \\nZoomed in to -2 to 2 on the x axis\",\n",
    "\n",
    "     col=\"brown\")\n",
    "\n",
    "\n",
    "\n",
    "# see how R is breaking up the data\n",
    "\n",
    "histinfo <- hist(dtm_diff)\n",
    "\n",
    "histinfo\n",
    "\n",
    "\n",
    "\n",
    "# how many breaks does R use in the default histogram\n",
    "\n",
    "length(histinfo$breaks)\n",
    "\n",
    "\n",
    "\n",
    "# summarize values in the data\n",
    "\n",
    "summary(dtm_diff, na.rm=T)\n",
    "\n",
    "\n",
    "\n",
    "```\n"
   ]
  },
  {
   "cell_type": "markdown",
   "metadata": {},
   "source": [
    "\n",
    "\n",
    "## Breaks\n",
    "\n",
    "\n",
    "\n",
    "Above, we saw that we can see how R breaks up our data to create a histogram.\n",
    "\n",
    "R, by default, creates 35 bins to plot a histogram of our raster data. We can increase the number of breaks or bins that the hist0gram uses with the\n",
    "\n",
    "argument:\n",
    "\n",
    "\n",
    "\n",
    "`breaks=number`\n",
    "\n",
    "\n",
    "\n",
    "In the example below, I used a very large number - 500 so we can see the bins.\n",
    "\n",
    "\n"
   ]
  },
  {
   "cell_type": "code",
   "execution_count": 1,
   "metadata": {
    "collapsed": true
   },
   "outputs": [],
   "source": [
    "```{r plot-histogram-breaks, fig.cap=\"initial histogram w xlim to zoom in and breaks\" }\n",
    "\n",
    "# where are most of our values?\n",
    "\n",
    "hist(dtm_diff,\n",
    "\n",
    "     xlim=c(-2,2),\n",
    "\n",
    "     breaks=500,\n",
    "\n",
    "     main=\"Histogram \\n Zoomed in to -2-2 on the x axis w more breaks\",\n",
    "\n",
    "     xlab=\"Height (m)\", ylab=\"Number of Pixels\",\n",
    "\n",
    "     col=\"springgreen\")\n",
    "\n",
    "```\n"
   ]
  },
  {
   "cell_type": "markdown",
   "metadata": {},
   "source": [
    "\n",
    "\n",
    "### Histogram with custom breaks\n",
    "\n",
    "\n",
    "\n",
    "We can create custom breaks or bins in a histogram too. To do this, we pass the same `breaks`\n",
    "\n",
    "argument a vector of numbers that represent the range for each bin in our histogram.\n",
    "\n",
    "\n",
    "\n",
    "\n"
   ]
  },
  {
   "cell_type": "code",
   "execution_count": 1,
   "metadata": {
    "collapsed": true
   },
   "outputs": [],
   "source": [
    "```{r plot-histogram-breaks2, fig.cap=\"histogram w custom breaks\"}\n",
    "\n",
    "# We may want to explore breaks in our histogram before plotting our data\n",
    "\n",
    "hist(dtm_diff,\n",
    "\n",
    "     breaks=c(-20, -10, -3, -.3, .3, 3, 10, 50),\n",
    "\n",
    "     main=\"Histogram with custom breaks\",\n",
    "\n",
    "     xlab=\"Height (m)\" , ylab=\"Number of Pixels\",\n",
    "\n",
    "     col=\"springgreen\")\n",
    "\n",
    "\n",
    "\n",
    "```\n"
   ]
  },
  {
   "cell_type": "markdown",
   "metadata": {},
   "source": [
    "\n",
    "\n",
    "Finally, let's plot the data using the breaks that we created for our histogram\n",
    "\n",
    "above. We know that there is a high number of cells with a value between -1 and 1.\n",
    "\n",
    "So let's consider that when we select the colors for our plot.\n",
    "\n",
    "\n"
   ]
  },
  {
   "cell_type": "code",
   "execution_count": 1,
   "metadata": {
    "collapsed": true
   },
   "outputs": [],
   "source": [
    "```{r plot-data, fig.cap=\"Plot difference dtm.\"}\n",
    "\n",
    "# plot dtm difference with breaks\n",
    "\n",
    "plot(dtm_diff,\n",
    "\n",
    "     breaks=c(-20, -10, -3, -.3, .3, 3, 10, 50),\n",
    "\n",
    "     col=terrain.colors(7),\n",
    "\n",
    "     main=\"DTM Difference \\n Using manual breaks\")\n",
    "\n",
    "```\n"
   ]
  },
  {
   "cell_type": "markdown",
   "metadata": {},
   "source": [
    "\n",
    "\n",
    "## Custom plot colors\n",
    "\n",
    "\n",
    "\n",
    "Next, let's adjust the colors that we use to plot our raster. to do that we will\n",
    "\n",
    "create a vector of colors, each or which will represent one of our numeric \"bins\"\n",
    "\n",
    "of raster values.\n",
    "\n",
    "\n",
    "\n",
    "This mimics a classified map - we are still exploring our data!\n",
    "\n",
    "\n"
   ]
  },
  {
   "cell_type": "code",
   "execution_count": 1,
   "metadata": {
    "collapsed": true
   },
   "outputs": [],
   "source": [
    "```{r set-colors}\n",
    "\n",
    "# how many breaks do we have?\n",
    "\n",
    "# NOTE: we will have one less break than the length of this vector\n",
    "\n",
    "length(c(-20,-10,-3,-1, 1, 3, 10, 50))\n",
    "\n",
    "```\n"
   ]
  },
  {
   "cell_type": "markdown",
   "metadata": {},
   "source": [
    "\n",
    "\n",
    "Set number of colors based upon how many breaks or bins we have in our data\n",
    "\n",
    "above we have 8 numbers in our breaks vector. this translates to 7 bins each or which requires a unique color.\n",
    "\n",
    "\n"
   ]
  },
  {
   "cell_type": "code",
   "execution_count": 1,
   "metadata": {
    "collapsed": true
   },
   "outputs": [],
   "source": [
    "```{r plot-with-unique-colors, fig.cap=\"Plot difference dtm with custom colors.\"}\n",
    "\n",
    "# create a vector of colors - one for each \"bin\" of raster cells\n",
    "\n",
    "diff_colors <- c(\"palevioletred4\", \"palevioletred2\", \"palevioletred1\", \"ivory1\",\n",
    "\n",
    "                \"seagreen1\",\"seagreen2\",\"seagreen4\")\n",
    "\n",
    "plot(dtm_diff,\n",
    "\n",
    "     breaks=c(-20, -3, -.3, .3, 3, 50),\n",
    "\n",
    "     col=diff_colors,\n",
    "\n",
    "     legend=F,\n",
    "\n",
    "     main=\"Plot of DTM differences\\n custom colors & manual breaks\")\n",
    "\n",
    "\n",
    "\n",
    "# make sure legend plots outside of the plot area\n",
    "\n",
    "par(xpd=T)\n",
    "\n",
    "# add the legend to the plot\n",
    "\n",
    "legend(x=dtm_diff@extent@xmax, y=dtm_diff@extent@ymax, # legend location\n",
    "\n",
    "       legend=c(\"-20 to -3\", \"-3 to -.3\",\n",
    "\n",
    "                \"-.3 to .3\", \".3 to 3\", \"3 to 50\"),\n",
    "\n",
    "       fill=diff_colors,\n",
    "\n",
    "       bty=\"n\",\n",
    "\n",
    "       cex=.7)\n",
    "\n",
    "\n",
    "\n",
    "```\n"
   ]
  },
  {
   "cell_type": "markdown",
   "metadata": {},
   "source": [
    "\n",
    "\n",
    "## Crop and replot\n",
    "\n",
    "\n",
    "\n",
    "We can zoom into a part of the raster manually - by first cropping the data\n",
    "\n",
    "using a manually created plot extent. Then plotting the newly cropped raster subset.\n",
    "\n",
    "\n"
   ]
  },
  {
   "cell_type": "code",
   "execution_count": 1,
   "metadata": {
    "collapsed": true
   },
   "outputs": [],
   "source": [
    "```{r create-new-extent, fig.cap=\"cropped dtm subset\" }\n",
    "\n",
    "\n",
    "\n",
    "# new_extent <- drawExtent()\n",
    "\n",
    "new_extent <- extent(473690, 474155.2, 4434849, 4435204)\n",
    "\n",
    "new_extent\n",
    "\n",
    "\n",
    "\n",
    "# crop the raster to a smaller area\n",
    "\n",
    "dtm_diff_crop <- crop(dtm_diff, new_extent)\n",
    "\n",
    "\n",
    "\n",
    "# Plot the cropped raster\n",
    "\n",
    "plot(dtm_diff_crop,\n",
    "\n",
    "     breaks=c(-20, -3, -.3, .3, 3, 50),\n",
    "\n",
    "     col=diff_colors,\n",
    "\n",
    "     legend=F,\n",
    "\n",
    "     main=\"Lidar DTM Difference \\n cropped subset\")\n",
    "\n",
    "\n",
    "\n",
    "# grab the upper right hand corner coordinates to place the legend.\n",
    "\n",
    "legendx <- dtm_diff_crop@extent@xmax\n",
    "\n",
    "legendy <- dtm_diff_crop@extent@ymax\n",
    "\n",
    "\n",
    "\n",
    "par(xpd=TRUE)\n",
    "\n",
    "legend(legendx, legendy,\n",
    "\n",
    "       legend=c(\"-20 to -3\", \"-3 to -.3\", \"-.3 to .3\",\n",
    "\n",
    "                \".3 to 3\", \"3 to 50\"),\n",
    "\n",
    "       fill=diff_colors,\n",
    "\n",
    "       bty=\"n\",\n",
    "\n",
    "       cex=.8)\n",
    "\n",
    "\n",
    "\n",
    "```\n"
   ]
  },
  {
   "cell_type": "markdown",
   "metadata": {},
   "source": [
    "\n"
   ]
  },
  {
   "cell_type": "code",
   "execution_count": 1,
   "metadata": {
    "collapsed": true
   },
   "outputs": [],
   "source": [
    "```{r clear-par-settings }\n",
    "\n",
    "dev.off()\n",
    "\n",
    "```\n"
   ]
  },
  {
   "cell_type": "markdown",
   "metadata": {},
   "source": [
    "\n",
    "\n",
    "## Create a final classified dataset\n",
    "\n",
    "\n",
    "\n",
    "When we have decided what break points work best for our data, then we may chose\n",
    "\n",
    "to classify the data.\n",
    "\n",
    "\n"
   ]
  },
  {
   "cell_type": "code",
   "execution_count": 1,
   "metadata": {
    "collapsed": true
   },
   "outputs": [],
   "source": [
    "```{r classify-data }\n",
    "\n",
    "\n",
    "\n",
    "# create reclass vector\n",
    "\n",
    "reclass_vector <- c(-20,-3, -2,\n",
    "\n",
    "                    -3, -.5, -1,\n",
    "\n",
    "                    -.5, .5, 0,\n",
    "\n",
    "                    .5, 3, 1,\n",
    "\n",
    "                    3, 50, 2)\n",
    "\n",
    "\n",
    "\n",
    "reclass_matrix <- matrix(reclass_vector,\n",
    "\n",
    "                         ncol=3,\n",
    "\n",
    "                         byrow = T)\n",
    "\n",
    "\n",
    "\n",
    "reclass_matrix\n",
    "\n",
    "\n",
    "\n",
    "```\n"
   ]
  },
  {
   "cell_type": "markdown",
   "metadata": {},
   "source": [
    "\n",
    "\n",
    "## Reclassify difference raster\n",
    "\n",
    "\n"
   ]
  },
  {
   "cell_type": "code",
   "execution_count": 1,
   "metadata": {
    "collapsed": true
   },
   "outputs": [],
   "source": [
    "```{r reclassify-raster-diff, fig.cap=\"final plot\" }\n",
    "\n",
    "\n",
    "\n",
    "diff_dtm_rcl <- reclassify(dtm_diff, reclass_matrix)\n",
    "\n",
    "\n",
    "\n",
    "plot(diff_dtm_rcl,\n",
    "\n",
    "     col=diff_colors,\n",
    "\n",
    "     legend=F,\n",
    "\n",
    "     main=\"Reclassified, Cropped Difference DTM \\n difference in meters\")\n",
    "\n",
    "par(xpd=T)\n",
    "\n",
    "legend(dtm_diff@extent@xmax, dtm_diff@extent@ymax,\n",
    "\n",
    "       legend=c(\"-20 to -10\", \"-10 to -3\", \"-3 to -.5\",\n",
    "\n",
    "                \"-.5 to .5\", \"1 to 3\", \"3 to 10\", \"10 to 50\"),\n",
    "\n",
    "       fill=diff_colors,\n",
    "\n",
    "       bty=\"n\",\n",
    "\n",
    "       cex=.8)\n",
    "\n",
    "```\n"
   ]
  },
  {
   "cell_type": "markdown",
   "metadata": {},
   "source": [
    "\n",
    "\n",
    "Finally view the final histogram\n",
    "\n",
    "\n"
   ]
  },
  {
   "cell_type": "code",
   "execution_count": 1,
   "metadata": {
    "collapsed": true
   },
   "outputs": [],
   "source": [
    "```{r histogram-of-diff-rcl, fig.cap=\"histogram of differences\"}\n",
    "\n",
    "hist(diff_dtm_rcl,\n",
    "\n",
    "     main=\"Histogram of reclassified data\",\n",
    "\n",
    "     xlab=\"Height Class (meters)\",\n",
    "\n",
    "     ylab=\"Number of Pixels\")\n",
    "\n",
    "\n",
    "\n",
    "```\n"
   ]
  },
  {
   "cell_type": "markdown",
   "metadata": {},
   "source": [
    "\n",
    "\n",
    "\n",
    "\n",
    "The above histogram looks odd. This is because we are trying to force our discrete\n",
    "\n",
    "data into bins. A barplot is a more appropriate plot.\n",
    "\n",
    "\n"
   ]
  },
  {
   "cell_type": "code",
   "execution_count": 1,
   "metadata": {
    "collapsed": true
   },
   "outputs": [],
   "source": [
    "```{r barplot-of-diff-rcl, fig.cap=\"histogram of differences\"}\n",
    "\n",
    "barplot(diff_dtm_rcl,\n",
    "\n",
    "     main=\"Barplot of reclassified data\",\n",
    "\n",
    "     xlab=\"Height Class (meters)\",\n",
    "\n",
    "     ylab=\"Frequency of Pixels\",\n",
    "\n",
    "     col=diff_colors)\n",
    "\n",
    "\n",
    "\n",
    "```\n"
   ]
  },
  {
   "cell_type": "markdown",
   "metadata": {},
   "source": [
    "\n",
    "\n",
    "\n",
    "\n",
    "\n",
    "\n",
    "Now let's look at one last thing. What would the distribution look like if\n",
    "\n",
    "we set all values between -.5 to .5 to NA?\n",
    "\n",
    "\n"
   ]
  },
  {
   "cell_type": "code",
   "execution_count": 1,
   "metadata": {
    "collapsed": true
   },
   "outputs": [],
   "source": [
    "```{r reclass, fig.cap=\"histogram of final cleaned data\"}\n",
    "\n",
    "# create a new raster object\n",
    "\n",
    "diff_dtm_rcl_na <- diff_dtm_rcl\n",
    "\n",
    "# assign values between -.5 and .5 to NA\n",
    "\n",
    "diff_dtm_rcl_na[diff_dtm_rcl_na >= -.5 & diff_dtm_rcl_na <= .5] <- NA\n",
    "\n",
    "# view histogram\n",
    "\n",
    "barplot(diff_dtm_rcl_na,\n",
    "\n",
    "     main=\"Histogram of data \\n values between -.5 and .5 set to NA\",\n",
    "\n",
    "     xlab=\"Difference Class\",\n",
    "\n",
    "     col=diff_colors)\n",
    "\n",
    "\n",
    "\n",
    "# view summary of data\n",
    "\n",
    "summary(diff_dtm_rcl_na)\n",
    "\n",
    "```\n"
   ]
  }
 ],
 "metadata": {
  "kernelspec": {
   "display_name": "Python 3",
   "language": "python",
   "name": "python3"
  },
  "language_info": {
   "codemirror_mode": {
    "name": "ipython",
    "version": 3
   },
   "file_extension": ".py",
   "mimetype": "text/x-python",
   "name": "python",
   "nbconvert_exporter": "python",
   "pygments_lexer": "ipython3",
   "version": "3.6.0"
  }
 },
 "nbformat": 4,
 "nbformat_minor": 2
}
