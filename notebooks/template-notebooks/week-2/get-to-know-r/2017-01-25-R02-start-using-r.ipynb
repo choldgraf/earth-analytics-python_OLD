{
 "cells": [
  {
   "cell_type": "raw",
   "metadata": {},
   "source": [
    "---\n",
    "layout: single\n",
    "title: \"Creating variables in R and the string vs numeric data type or class - Data Science for scientists 101\"\n",
    "excerpt: \"This lesson covers creating variables or objects in R. It also introduces some of the basic data types or classes including strings and numbers. This lesson is\n",
    "designed for someone who has not used R before.\"\n",
    "authors: ['Leah Wasser', 'Data Carpentry']\n",
    "category: [course-materials]\n",
    "class-lesson: ['get-to-know-r']\n",
    "permalink: /course-materials/earth-analytics/week-2/objects-in-r/\n",
    "nav-title: 'Objects in R'\n",
    "dateCreated: 2016-12-13\n",
    "modified: '{:%Y-%m-%d}'.format(datetime.now())\n",
    "week: 2\n",
    "sidebar:\n",
    "  nav:\n",
    "author_profile: false\n",
    "comments: true\n",
    "course: \"earth-analytics\"\n",
    "order: 2\n",
    "topics:\n",
    "  reproducible-science-and-programming: ['RStudio']\n",
    "---\n"
   ]
  },
  {
   "cell_type": "markdown",
   "metadata": {},
   "source": [
    "\n",
    "\n",
    "{% include toc title=\"In This Lesson\" icon=\"file-text\" %}\n",
    "\n",
    "\n",
    "\n",
    "\n",
    "\n",
    "<div class='notice--success' markdown=\"1\">\n",
    "\n",
    "\n",
    "\n",
    "## <i class=\"fa fa-graduation-cap\" aria-hidden=\"true\"></i> Learning Objectives\n",
    "\n",
    "At the end of this activity, you will be able to:\n",
    "\n",
    "\n",
    "\n",
    "* Be able to create, modify and use objects or variables in `R`.\n",
    "\n",
    "* Be able to define the key differences between the str (string) and num (number) classes in `R` in terms of how R can or can not perform calculations with each.\n",
    "\n",
    "\n",
    "\n",
    "## <i class=\"fa fa-check-square-o fa-2\" aria-hidden=\"true\"></i> What you need\n",
    "\n",
    "\n",
    "\n",
    "You need R and RStudio to complete this tutorial. Also we recommend have you\n",
    "\n",
    "have an `earth-analytics` directory setup on your computer with a `/data`\n",
    "\n",
    "directory with it.\n",
    "\n",
    "\n",
    "\n",
    "* [How to Setup R / R Studio](/course-materials/earth-analytics/week-1/setup-r-rstudio/)\n",
    "\n",
    "* [Setup your working directory](/course-materials/earth-analytics/week-1/setup-working-directory/)\n",
    "\n",
    "\n",
    "\n",
    "</div>\n",
    "\n",
    "\n",
    "\n",
    "\n",
    "\n",
    "## Creating objects\n",
    "\n",
    "\n",
    "\n",
    "You can get output from `R` by typing a mathematical equation into the console -\n",
    "\n",
    "For example, if you type in `3 + 5`, `R` will calculate the output value.\n",
    "\n",
    "\n"
   ]
  },
  {
   "cell_type": "code",
   "execution_count": 1,
   "metadata": {
    "collapsed": true
   },
   "outputs": [],
   "source": [
    "```{r basic-math }\n",
    "\n",
    "# add 3 + 5\n",
    "\n",
    "3 + 5\n",
    "\n",
    "# divide 12 by 7\n",
    "\n",
    "12/7\n",
    "\n",
    "\n",
    "\n",
    "```\n"
   ]
  },
  {
   "cell_type": "markdown",
   "metadata": {},
   "source": [
    "\n",
    "\n",
    "However, is it more useful to assign _values_ to\n",
    "\n",
    "_objects_. To create an object, we need to give it a name followed by the\n",
    "\n",
    "assignment operator `<-`, and the value we want to give it:\n",
    "\n",
    "\n"
   ]
  },
  {
   "cell_type": "code",
   "execution_count": 1,
   "metadata": {
    "collapsed": true
   },
   "outputs": [],
   "source": [
    "```{r assign-object }\n",
    "\n",
    "# assign weight_kg to the value of 55\n",
    "\n",
    "weight_kg <- 55\n",
    "\n",
    "\n",
    "\n",
    "# view object value\n",
    "\n",
    "weight_kg\n",
    "\n",
    "\n",
    "\n",
    "```\n"
   ]
  },
  {
   "cell_type": "markdown",
   "metadata": {},
   "source": [
    "\n",
    "\n",
    "## Use Useful Object Names\n",
    "\n",
    "Objects can be given any name such as `x`, `current_temperature`, or\n",
    "\n",
    "`subject_id`. However, it is best to use clear and descriptive words when naming\n",
    "\n",
    "objects to ensure your code is easy to follow.\n",
    "\n",
    "\n",
    "\n",
    "We will discuss best practicing for coding in this module - in the [clean coding\n",
    "\n",
    "lesson](/course-materials/earth-analytics/week-2/write-clean-code-with-r/).\n",
    "\n",
    "\n",
    "\n",
    "1. **Keep object names short:** this makes them easier to read when scanning through code.\n",
    "\n",
    "2. **Use meaningful names:** For example: `precip` is a more useful name that tells us something about the object compared to `x`\n",
    "\n",
    "3. **Don't start names with numbers!** Objects that start with a number are NOT VALID in R.\n",
    "\n",
    "4. **Avoid names that are existing functions in R:** e.g.,\n",
    "\n",
    "`if`, `else`, `for`, see\n",
    "\n",
    "[here](https://stat.ethz.ch/R-manual/R-devel/library/base/html/Reserved.html)\n",
    "\n",
    "\n",
    "\n",
    "A few other notes about object names in `R`:\n",
    "\n",
    "\n",
    "\n",
    "* `R` is case sensitive (e.g., `weight_kg` is different from `Weight_kg`).\n",
    "\n",
    "* Avoid other function names (e.g., `c`, `T`, `mean`, `data`, `df`, `weights`).\n",
    "\n",
    "* Use nouns for variable names, and verbs for function names.\n",
    "\n",
    "* Avoid using dots in object names - e.g. `my.dataset` - dots have a special meaning in R (for methods) and other programming languages. Instead use underscores `my_dataset`.\n",
    "\n",
    "\n",
    "\n",
    "## View object value\n",
    "\n",
    "When assigning a value to an object, `R` does not print anything. You can force\n",
    "\n",
    "it to print the value by using parentheses or by typing the name:\n",
    "\n",
    "\n"
   ]
  },
  {
   "cell_type": "code",
   "execution_count": 1,
   "metadata": {
    "collapsed": true
   },
   "outputs": [],
   "source": [
    "```{r, purl=FALSE}\n",
    "\n",
    "weight_kg <- 55    # doesn't print anything\n",
    "\n",
    "(weight_kg <- 55)  # but putting parenthesis around the call prints the value of `weight_kg`\n",
    "\n",
    "weight_kg          # and so does typing the name of the object\n",
    "\n",
    "```\n"
   ]
  },
  {
   "cell_type": "markdown",
   "metadata": {},
   "source": [
    "\n",
    "\n",
    "Now that `R` has `weight_kg` in memory, we can do arithmetic with it. For\n",
    "\n",
    "instance, we may want to convert this weight in pounds (weight in pounds is 2.2\n",
    "\n",
    "times the weight in kg):\n",
    "\n",
    "\n"
   ]
  },
  {
   "cell_type": "code",
   "execution_count": 1,
   "metadata": {
    "collapsed": true
   },
   "outputs": [],
   "source": [
    "```{r, purl=FALSE}\n",
    "\n",
    "2.2 * weight_kg\n",
    "\n",
    "```\n"
   ]
  },
  {
   "cell_type": "markdown",
   "metadata": {},
   "source": [
    "\n",
    "\n",
    "We can also change a variable's value by assigning it a new one:\n",
    "\n",
    "\n"
   ]
  },
  {
   "cell_type": "code",
   "execution_count": 1,
   "metadata": {
    "collapsed": true
   },
   "outputs": [],
   "source": [
    "```{r, purl=FALSE}\n",
    "\n",
    "weight_kg <- 57.5\n",
    "\n",
    "2.2 * weight_kg\n",
    "\n",
    "```\n"
   ]
  },
  {
   "cell_type": "markdown",
   "metadata": {},
   "source": [
    "\n",
    "\n",
    "This means that assigning a value to one variable does not change the values of\n",
    "\n",
    "other variables.  For example, let's store the animal's weight in pounds in a new\n",
    "\n",
    "variable, `weight_lb`:\n",
    "\n",
    "\n"
   ]
  },
  {
   "cell_type": "code",
   "execution_count": 1,
   "metadata": {
    "collapsed": true
   },
   "outputs": [],
   "source": [
    "```{r, purl=FALSE}\n",
    "\n",
    "weight_lb <- 2.2 * weight_kg\n",
    "\n",
    "```\n"
   ]
  },
  {
   "cell_type": "markdown",
   "metadata": {},
   "source": [
    "\n",
    "\n",
    "and then change `weight_kg` to 100.\n",
    "\n",
    "\n"
   ]
  },
  {
   "cell_type": "code",
   "execution_count": 1,
   "metadata": {
    "collapsed": true
   },
   "outputs": [],
   "source": [
    "```{r, purl=FALSE}\n",
    "\n",
    "weight_kg <- 100\n",
    "\n",
    "```\n"
   ]
  },
  {
   "cell_type": "markdown",
   "metadata": {},
   "source": [
    "\n",
    "\n",
    "What do you think is the current content of the object `weight_lb`? 126.5 or 200?\n",
    "\n",
    "\n",
    "\n",
    "<div class=\"notice--warning\" markdown=\"1\">\n",
    "\n",
    "\n",
    "\n",
    "## <i class=\"fa fa-pencil-square-o\" aria-hidden=\"true\"></i> Optional challenge activity\n",
    "\n",
    "\n",
    "\n",
    "What are the values of each object defined in EACH LINE OF code below?\n",
    "\n",
    "\n"
   ]
  },
  {
   "cell_type": "code",
   "execution_count": 1,
   "metadata": {
    "collapsed": true
   },
   "outputs": [],
   "source": [
    "```{r challenge-activity }\n",
    "\n",
    "mass <- 47.5            # mass?\n",
    "\n",
    "age  <- 122             # age?\n",
    "\n",
    "mass <- mass * 2.0      # mass?\n",
    "\n",
    "age  <- age - 20        # age?\n",
    "\n",
    "mass_index <- mass/age  # mass_index?\n",
    "\n",
    "```\n"
   ]
  }
 ],
 "metadata": {
  "kernelspec": {
   "display_name": "Python 3",
   "language": "python",
   "name": "python3"
  },
  "language_info": {
   "codemirror_mode": {
    "name": "ipython",
    "version": 3
   },
   "file_extension": ".py",
   "mimetype": "text/x-python",
   "name": "python",
   "nbconvert_exporter": "python",
   "pygments_lexer": "ipython3",
   "version": "3.6.0"
  },
  "toc": {
   "toc_cell": false,
   "toc_number_sections": false,
   "toc_threshold": "2",
   "toc_window_display": false
  }
 },
 "nbformat": 4,
 "nbformat_minor": 2
}
