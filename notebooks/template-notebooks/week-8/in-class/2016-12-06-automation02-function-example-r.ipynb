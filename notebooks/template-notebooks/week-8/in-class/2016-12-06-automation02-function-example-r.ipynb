{
 "cells": [
  {
   "cell_type": "raw",
   "metadata": {},
   "source": [
    "---\n",
    "layout: single\n",
    "title: \"An example of creating modular code in R - Efficient scientific programming\"\n",
    "excerpt: \"This lesson provides an example of modularizing code in R. \"\n",
    "authors: ['Max Joseph', 'Software Carpentry', 'Leah Wasser']\n",
    "modified: '{:%Y-%m-%d}'.format(datetime.now())\n",
    "category: [course-materials]\n",
    "class-lesson: ['automating-your-science-r']\n",
    "permalink: /course-materials/earth-analytics/week-8/function-example-modular-code-r/\n",
    "nav-title: 'Applying functions'\n",
    "week: 8\n",
    "sidebar:\n",
    "  nav:\n",
    "author_profile: false\n",
    "comments: true\n",
    "order: 2\n",
    "---\n"
   ]
  },
  {
   "cell_type": "markdown",
   "metadata": {},
   "source": [
    "\n",
    "\n",
    "\n",
    "\n",
    "{% include toc title=\"In This Lesson\" icon=\"file-text\" %}\n",
    "\n",
    "\n",
    "\n",
    "<div class='notice--success' markdown=\"1\">\n",
    "\n",
    "\n",
    "\n",
    "## <i class=\"fa fa-graduation-cap\" aria-hidden=\"true\"></i> Learning Objectives\n",
    "\n",
    "\n",
    "\n",
    "After completing this tutorial, you will be able to:\n",
    "\n",
    "\n",
    "\n",
    "* Describe how functions can make your code easier to read / follow\n",
    "\n",
    "\n",
    "\n",
    "## <i class=\"fa fa-check-square-o fa-2\" aria-hidden=\"true\"></i> What you need\n",
    "\n",
    "\n",
    "\n",
    "You will need a computer with internet access to complete this lesson and the\n",
    "\n",
    "data that we already downloaded for week 6 of the course.\n",
    "\n",
    "\n",
    "\n",
    "{% include/data_subsets/course_earth_analytics/_data-week6-7.md %}\n",
    "\n",
    "</div>\n",
    "\n",
    "\n",
    "\n",
    "\n"
   ]
  },
  {
   "cell_type": "code",
   "execution_count": 1,
   "metadata": {
    "collapsed": true
   },
   "outputs": [],
   "source": [
    "```{r setup-dir}\n",
    "\n",
    "\n",
    "\n",
    "# set working dir\n",
    "\n",
    "setwd(\"~/Documents/earth-analytics\")\n",
    "\n",
    "\n",
    "\n",
    "# load spatial packages\n",
    "\n",
    "library(raster)\n",
    "\n",
    "library(rgdal)\n",
    "\n",
    "# turn off factors\n",
    "\n",
    "options(stringsAsFactors = F)\n",
    "\n",
    "```\n"
   ]
  },
  {
   "cell_type": "markdown",
   "metadata": {},
   "source": [
    "\n",
    "\n",
    "\n"
   ]
  },
  {
   "cell_type": "code",
   "execution_count": 1,
   "metadata": {
    "collapsed": true
   },
   "outputs": [],
   "source": [
    "```{r plot-landsat-first, , fig.cap=\"landsat pre fire raster stack plot\"}\n",
    "\n",
    "# get list of tif files\n",
    "\n",
    "all_landsat_bands <- list.files(\"data/week6/Landsat/LC80340322016189-SC20170128091153/crop\",\n",
    "\n",
    "                                pattern=glob2rx(\"*band*.tif$\"),\n",
    "\n",
    "                                full.names = T)\n",
    "\n",
    "\n",
    "\n",
    "# stack the data (create spatial object)\n",
    "\n",
    "landsat_stack_csf <- stack(all_landsat_bands)\n",
    "\n",
    "\n",
    "\n",
    "par(col.axis=\"white\", col.lab=\"white\", tck=0)\n",
    "\n",
    "# plot brick\n",
    "\n",
    "plotRGB(landsat_stack_csf,\n",
    "\n",
    "  r=4,g=3, b=2,\n",
    "\n",
    "  main=\"RGB Landsat Stack \\n pre-fire\",\n",
    "\n",
    "  axes=T,\n",
    "\n",
    "  stretch=\"hist\")\n",
    "\n",
    "box(col=\"white\") # turn all of the lines to white\n",
    "\n",
    "\n",
    "\n",
    "\n",
    "\n",
    "```\n"
   ]
  },
  {
   "cell_type": "markdown",
   "metadata": {},
   "source": [
    "\n",
    "\n",
    "\n"
   ]
  },
  {
   "cell_type": "code",
   "execution_count": 1,
   "metadata": {
    "collapsed": true
   },
   "outputs": [],
   "source": [
    "```{r }\n",
    "\n",
    "\n",
    "\n",
    "# we can do the same things with functions\n",
    "\n",
    "get_stack_bands <- function(the_dir_path, the_pattern){\n",
    "\n",
    "  # get list of tif files\n",
    "\n",
    "  all_landsat_bands <- list.files(the_dir_path,\n",
    "\n",
    "                                pattern=glob2rx(the_pattern),\n",
    "\n",
    "                                full.names = T)\n",
    "\n",
    "\n",
    "\n",
    "  # stack the data (create spatial object)\n",
    "\n",
    "  landsat_stack_csf <- stack(all_landsat_bands)\n",
    "\n",
    "  return(landsat_stack_csf)\n",
    "\n",
    "\n",
    "\n",
    "}\n",
    "\n",
    "\n",
    "\n",
    "\n",
    "\n",
    "\n",
    "\n",
    "```\n"
   ]
  },
  {
   "cell_type": "markdown",
   "metadata": {},
   "source": [
    "\n",
    "\n",
    "\n",
    "\n",
    "# Example using functions\n",
    "\n",
    "\n",
    "\n",
    "Here's we've reduced the code by a few lines using a get bands function. Then we\n",
    "\n",
    "can plot like we did before.\n",
    "\n",
    "\n"
   ]
  },
  {
   "cell_type": "code",
   "execution_count": 1,
   "metadata": {
    "collapsed": true
   },
   "outputs": [],
   "source": [
    "```{r plot-landsat-pre, fig.cap=\"landsat pre fire raster stack plot\"}\n",
    "\n",
    "landsat_pre_fire <- get_stack_bands(the_dir_path = \"data/week6/Landsat/LC80340322016189-SC20170128091153/crop\",\n",
    "\n",
    "                the_pattern = \"*band*.tif$\")\n",
    "\n",
    "\n",
    "\n",
    "par(col.axis=\"white\", col.lab=\"white\", tck=0)\n",
    "\n",
    "# plot brick\n",
    "\n",
    "plotRGB(landsat_pre_fire,\n",
    "\n",
    "  r=4,g=3, b=2,\n",
    "\n",
    "  main=\"RGB Landsat Stack \\n pre-fire\",\n",
    "\n",
    "  axes=T,\n",
    "\n",
    "  stretch=\"lin\")\n",
    "\n",
    "box(col=\"white\") # turn all of the lines to white\n",
    "\n",
    "\n",
    "\n",
    "```\n"
   ]
  },
  {
   "cell_type": "markdown",
   "metadata": {},
   "source": [
    "\n",
    "\n",
    "\n",
    "\n",
    "Now, what if we created a function that adjusted\n",
    "\n",
    "all of the parameters that we wanted to set to plot an RGB image? Here we\n",
    "\n",
    "will require the user to send the function a stack with the bands in the order\n",
    "\n",
    "that they want to plot the data.\n",
    "\n",
    "\n"
   ]
  },
  {
   "cell_type": "code",
   "execution_count": 1,
   "metadata": {
    "collapsed": true
   },
   "outputs": [],
   "source": [
    "```{r create-plot-function}\n",
    "\n",
    "create_rgb_plot <-function(a_raster_stack, the_plot_title, r=3, g=2, b=1, the_stretch=NULL){\n",
    "\n",
    "  # this function plots an RGB image with a title\n",
    "\n",
    "  # it sets the plot border and box to white\n",
    "\n",
    "  # Inputs a_raster_stack - a given raster stack with multiple spectral bands\n",
    "\n",
    "  # the_plot_title - teh title of the plot - text string format in quotes\n",
    "\n",
    "  # red, green, blue - the numeric index location of the bands that you want\n",
    "\n",
    "  #  to plot on the red, green and blue channels respectively\n",
    "\n",
    "  # the_stretch -- defaults to NULL - can take \"hist\" or \"lin\" as an option\n",
    "\n",
    "  par(col.axis=\"white\", col.lab=\"white\", tck=0)\n",
    "\n",
    "  # plot brick\n",
    "\n",
    "  plotRGB(a_raster_stack,\n",
    "\n",
    "    main=the_plot_title,\n",
    "\n",
    "    r=r, g=g, b=b,\n",
    "\n",
    "    axes=T,\n",
    "\n",
    "    stretch=the_stretch)\n",
    "\n",
    "  box(col=\"white\") # turn all of the lines to white\n",
    "\n",
    "}\n",
    "\n",
    "\n",
    "\n",
    "```\n"
   ]
  },
  {
   "cell_type": "markdown",
   "metadata": {},
   "source": [
    "\n",
    "\n",
    "Let's use the code to plot pre-fire RGB image.\n",
    "\n",
    "\n"
   ]
  },
  {
   "cell_type": "code",
   "execution_count": 1,
   "metadata": {
    "collapsed": true
   },
   "outputs": [],
   "source": [
    "```{r plot-rgb-function, fig.cap=\"raster stack plot - rgb\"}\n",
    "\n",
    "landsat_pre_fire <- get_stack_bands(the_dir_path = \"data/week6/Landsat/LC80340322016189-SC20170128091153/crop\",\n",
    "\n",
    "                the_pattern = \"*band*.tif$\")\n",
    "\n",
    "\n",
    "\n",
    "# plot the data\n",
    "\n",
    "create_rgb_plot(a_raster_stack = landsat_pre_fire,\n",
    "\n",
    "                r=4, g = 3, b=2,\n",
    "\n",
    "                the_plot_title = \"RGB image\",\n",
    "\n",
    "                the_stretch=\"hist\")\n",
    "\n",
    "```\n"
   ]
  },
  {
   "cell_type": "markdown",
   "metadata": {},
   "source": [
    "\n",
    "\n",
    "Once our plot parameters are setup, we can use the same code to plot our data\n",
    "\n",
    "over and over without having to set parameters each time!\n",
    "\n",
    "\n",
    "\n",
    "Now we can plot a CIR fire image with one function!\n",
    "\n",
    "\n"
   ]
  },
  {
   "cell_type": "code",
   "execution_count": 1,
   "metadata": {
    "collapsed": true
   },
   "outputs": [],
   "source": [
    "```{r plot-one-cir, fig.cap=\"pre-fire cir image\"}\n",
    "\n",
    "# plot the data\n",
    "\n",
    "create_rgb_plot(a_raster_stack = landsat_pre_fire,\n",
    "\n",
    "                r=5, g = 4, b = 3,\n",
    "\n",
    "                the_plot_title = \"RGB image\",\n",
    "\n",
    "                the_stretch=\"hist\")\n",
    "\n",
    "```\n"
   ]
  },
  {
   "cell_type": "markdown",
   "metadata": {},
   "source": [
    "\n",
    "\n",
    "Let's run the same functions on another landsat dataset  - post fire.\n",
    "\n",
    "\n"
   ]
  },
  {
   "cell_type": "code",
   "execution_count": 1,
   "metadata": {
    "collapsed": true
   },
   "outputs": [],
   "source": [
    "```{r plot-landsat-post, fig.cap=\"landsat post fire raster stack plot\"}\n",
    "\n",
    "# create stack\n",
    "\n",
    "landsat_post_fire <- get_stack_bands(the_dir_path = \"data/week6/Landsat/LC80340322016205-SC20170127160728/crop\",\n",
    "\n",
    "                the_pattern = \"*band*.tif$\")\n",
    "\n",
    "\n",
    "\n",
    "# plot the 3 band image of the data\n",
    "\n",
    "create_rgb_plot(a_raster_stack = landsat_post_fire,\n",
    "\n",
    "                r=4, g = 3, b=2,\n",
    "\n",
    "                the_plot_title = \"RGB image\",\n",
    "\n",
    "                the_stretch=\"hist\")\n",
    "\n",
    "\n",
    "\n",
    "```\n"
   ]
  },
  {
   "cell_type": "markdown",
   "metadata": {},
   "source": [
    "\n",
    "\n",
    "What if we want to plot a CIR image post fire?\n",
    "\n",
    "\n"
   ]
  },
  {
   "cell_type": "code",
   "execution_count": 1,
   "metadata": {
    "collapsed": true
   },
   "outputs": [],
   "source": [
    "```{r plot-landsat-post-CIR, fig.cap=\"landsat CIR post fire raster stack plot\"}\n",
    "\n",
    "# plot the 3 band image of the data\n",
    "\n",
    "create_rgb_plot(a_raster_stack = landsat_post_fire,\n",
    "\n",
    "                r=5, g = 4, b = 3,\n",
    "\n",
    "                the_plot_title = \"Landsat post fire CIR image\",\n",
    "\n",
    "                the_stretch=\"hist\")\n",
    "\n",
    "\n",
    "\n",
    "```\n"
   ]
  },
  {
   "cell_type": "markdown",
   "metadata": {},
   "source": [
    "\n",
    "\n",
    "Are our functions general enough to work with MODIS?\n",
    "\n",
    "\n"
   ]
  },
  {
   "cell_type": "code",
   "execution_count": 1,
   "metadata": {
    "collapsed": true
   },
   "outputs": [],
   "source": [
    "```{r plot-modis, fig.cap=\"pre-fire rgb image MODIS\"}\n",
    "\n",
    "# import MODIS\n",
    "\n",
    "modis_pre_fire <- get_stack_bands(the_dir_path = \"data/week6/modis/reflectance/07_july_2016/crop\",\n",
    "\n",
    "                the_pattern = \"*sur_refl*.tif$\")\n",
    "\n",
    "\n",
    "\n",
    "# plot the data\n",
    "\n",
    "create_rgb_plot(a_raster_stack = modis_pre_fire,\n",
    "\n",
    "                r=1, g = 4, b=3,\n",
    "\n",
    "                the_plot_title = \"MODIS RGB image\",\n",
    "\n",
    "                the_stretch=\"hist\")\n",
    "\n",
    "```\n"
   ]
  }
 ],
 "metadata": {
  "kernelspec": {
   "display_name": "Python 3",
   "language": "python",
   "name": "python3"
  },
  "language_info": {
   "codemirror_mode": {
    "name": "ipython",
    "version": 3
   },
   "file_extension": ".py",
   "mimetype": "text/x-python",
   "name": "python",
   "nbconvert_exporter": "python",
   "pygments_lexer": "ipython3",
   "version": "3.6.0"
  }
 },
 "nbformat": 4,
 "nbformat_minor": 2
}
