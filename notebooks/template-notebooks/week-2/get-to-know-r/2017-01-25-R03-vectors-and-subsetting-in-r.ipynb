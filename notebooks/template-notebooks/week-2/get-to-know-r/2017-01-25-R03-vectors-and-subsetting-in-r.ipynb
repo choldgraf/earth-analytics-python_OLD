{
 "cells": [
  {
   "cell_type": "raw",
   "metadata": {},
   "source": [
    "---\n",
    "layout: single\n",
    "title: \"Understand the vector data type in R and classes including strings, numbers and logicals - Data Science for scientists 101\"\n",
    "excerpt: \"This tutorial introduces vectors in R. It also introduces the differences between strings, numbers and logical or boolean values (True / False) in R.\"\n",
    "authors: ['Data Carpentry', 'Leah Wasser']\n",
    "category: [course-materials]\n",
    "class-lesson: ['get-to-know-r']\n",
    "permalink: /course-materials/earth-analytics/week-2/work-with-data-types-r/\n",
    "nav-title: 'Vectors in R'\n",
    "dateCreated: 2016-12-13\n",
    "modified: '{:%Y-%m-%d}'.format(datetime.now())\n",
    "week: 2\n",
    "sidebar:\n",
    "  nav:\n",
    "author_profile: false\n",
    "comments: true\n",
    "order: 3\n",
    "course: \"earth-analytics\"\n",
    "topics:\n",
    "  reproducible-science-and-programming: ['RStudio']\n",
    "---\n"
   ]
  },
  {
   "cell_type": "markdown",
   "metadata": {},
   "source": [
    "{% include toc title=\"In This Lesson\" icon=\"file-text\" %}\n",
    "\n",
    "\n",
    "\n",
    "\n",
    "\n",
    "<div class='notice--success' markdown=\"1\">\n",
    "\n",
    "\n",
    "\n",
    "## <i class=\"fa fa-graduation-cap\" aria-hidden=\"true\"></i> Learning Objectives\n",
    "\n",
    "At the end of this activity, you will be able to:\n",
    "\n",
    "\n",
    "\n",
    "* Understand the structure of and be able to create a vector object in R.\n",
    "\n",
    "\n",
    "\n",
    "## <i class=\"fa fa-check-square-o fa-2\" aria-hidden=\"true\"></i> What you need\n",
    "\n",
    "\n",
    "\n",
    "You need R and RStudio to complete this tutorial. Also we recommend have you\n",
    "\n",
    "have an `earth-analytics` directory setup on your computer with a `/data`\n",
    "\n",
    "directory with it.\n",
    "\n",
    "\n",
    "\n",
    "* [How to Setup R / R Studio](/course-materials/earth-analytics/week-1/setup-r-rstudio/)\n",
    "\n",
    "* [Setup your working directory](/course-materials/earth-analytics/week-1/setup-working-directory/)\n",
    "\n",
    "\n",
    "\n",
    "\n",
    "\n",
    "</div>\n",
    "\n",
    "\n",
    "\n",
    "\n",
    "\n",
    "## Vectors and data types\n",
    "\n",
    "\n",
    "\n",
    "A vector is the most common data structure in `R`. A vector is defined as a\n",
    "\n",
    "group of values, which most often are either numbers or characters. You can\n",
    "\n",
    "assign this list of values to an object or variable, just like you\n",
    "\n",
    "can for a single value. For example we can create a vector of animal weights:\n",
    "\n",
    "\n"
   ]
  },
  {
   "cell_type": "code",
   "execution_count": 1,
   "metadata": {
    "collapsed": true
   },
   "outputs": [],
   "source": [
    "```{r weight-vector }\n",
    "\n",
    "weight_g <- c(50, 60, 65, 82)\n",
    "\n",
    "weight_g\n",
    "\n",
    "\n",
    "\n",
    "```\n"
   ]
  },
  {
   "cell_type": "markdown",
   "metadata": {},
   "source": [
    "\n",
    "\n",
    "A vector can also contain characters:\n",
    "\n",
    "\n"
   ]
  },
  {
   "cell_type": "code",
   "execution_count": 1,
   "metadata": {
    "collapsed": true
   },
   "outputs": [],
   "source": [
    "```{r, purl=FALSE}\n",
    "\n",
    "animals <- c(\"mouse\", \"rat\", \"dog\")\n",
    "\n",
    "animals\n",
    "\n",
    "```\n"
   ]
  },
  {
   "cell_type": "markdown",
   "metadata": {},
   "source": [
    "\n",
    "\n",
    "There are many functions that allow you to inspect the content of a\n",
    "\n",
    "vector. `length()` tells you how many elements are in a particular vector:\n",
    "\n",
    "\n"
   ]
  },
  {
   "cell_type": "code",
   "execution_count": 1,
   "metadata": {
    "collapsed": true
   },
   "outputs": [],
   "source": [
    "```{r, purl=FALSE}\n",
    "\n",
    "length(weight_g)\n",
    "\n",
    "length(animals)\n",
    "\n",
    "```\n"
   ]
  },
  {
   "cell_type": "markdown",
   "metadata": {},
   "source": [
    "\n",
    "\n",
    "## Vector data types\n",
    "\n",
    "\n",
    "\n",
    "An important feature of a vector, is that all of the elements are the same data\n",
    "\n",
    "type. The function `class()` shows us the class (the data type) of an object:\n",
    "\n",
    "\n"
   ]
  },
  {
   "cell_type": "code",
   "execution_count": 1,
   "metadata": {
    "collapsed": true
   },
   "outputs": [],
   "source": [
    "```{r, purl=FALSE}\n",
    "\n",
    "class(weight_g)\n",
    "\n",
    "class(animals)\n",
    "\n",
    "```\n"
   ]
  },
  {
   "cell_type": "markdown",
   "metadata": {},
   "source": [
    "\n",
    "\n",
    "The function `str()` shows us the **structure** of the object and the elements it\n",
    "\n",
    "contains. `str()` is a really useful function when working with large and complex\n",
    "\n",
    "objects:\n",
    "\n",
    "\n"
   ]
  },
  {
   "cell_type": "code",
   "execution_count": 1,
   "metadata": {
    "collapsed": true
   },
   "outputs": [],
   "source": [
    "```{r, purl=FALSE}\n",
    "\n",
    "str(weight_g)\n",
    "\n",
    "str(animals)\n",
    "\n",
    "```\n"
   ]
  },
  {
   "cell_type": "markdown",
   "metadata": {},
   "source": [
    "\n",
    "\n",
    "You can add elements to your vector by using the `c()` function:\n",
    "\n",
    "\n"
   ]
  },
  {
   "cell_type": "code",
   "execution_count": 1,
   "metadata": {
    "collapsed": true
   },
   "outputs": [],
   "source": [
    "```{r, purl=FALSE}\n",
    "\n",
    "\n",
    "\n",
    "# add the number 90 to the end of the vector\n",
    "\n",
    "weight_g <- c(weight_g, 90)\n",
    "\n",
    "\n",
    "\n",
    "# add the number 30 to the beginning of the vector\n",
    "\n",
    "weight_g <- c(30, weight_g)\n",
    "\n",
    "weight_g\n",
    "\n",
    "```\n"
   ]
  },
  {
   "cell_type": "markdown",
   "metadata": {},
   "source": [
    "\n",
    "\n",
    "In the examples above, we saw 2 of the 6 **atomic vector** types that `R` uses:\n",
    "\n",
    "\n",
    "\n",
    "1. `\"character\"` and\n",
    "\n",
    "2. `\"numeric\"`.\n",
    "\n",
    "\n",
    "\n",
    "These are the basic data tpes that all `R` objects are built\n",
    "\n",
    "from. The other 4 are:\n",
    "\n",
    "\n",
    "\n",
    "* `\"logical\"` for `TRUE` and `FALSE` (the boolean data type)\n",
    "\n",
    "* `\"integer\"` for integer numbers (e.g., `2L`, the `L` indicates to R that it's an integer)\n",
    "\n",
    "* `\"complex\"` to represent complex numbers with real and imaginary parts (e.g.,\n",
    "\n",
    "  `1+4i`) and that's all we're going to say about them\n",
    "\n",
    "* `\"raw\"` that we won't discuss further\n",
    "\n",
    "\n",
    "\n",
    "## Data type vs. data structure\n",
    "\n",
    "Vectors are one of the many **data structures** that `R` uses. Other important\n",
    "\n",
    "ones include: lists (`list`), matrices (`matrix`), data frames (`data.frame`) and\n",
    "\n",
    "factors (`factor`). We will look at `data.frames` when we open our `boulder_precip`\n",
    "\n",
    "data in the next lesson!\n",
    "\n",
    "\n",
    "\n",
    "<div class=\"notice--warning\" markdown=\"1\">\n",
    "\n",
    "\n",
    "\n",
    "## <i class=\"fa fa-pencil-square-o\" aria-hidden=\"true\"></i> Optional challenge activity\n",
    "\n",
    "\n",
    "\n",
    "* **Question**: What happens when we create a vector that contains both numbers\n",
    "\n",
    "and character values? Give it a try and write down the answer.\n",
    "\n",
    "<!-- * _Answer_: R implicitly converts them to all be the same type -->\n",
    "\n",
    "\n",
    "\n",
    "* **Question**: What will happen in each of these examples? (hint: use `class()`\n",
    "\n",
    "  to check the data type of your objects):\n",
    "\n",
    "\n",
    "\n",
    "```r\n",
    "\n",
    "num_char <- c(1, 2, 3, 'a')\n",
    "\n",
    "num_logical <- c(1, 2, 3, '2.45')\n",
    "\n",
    "char_logical <- c('a', 'b', 'c', frog)\n",
    "\n",
    "tricky <- c(1, 2, 3, '4')\n",
    "\n",
    "```\n",
    "\n",
    "* **Question**: Why do you think it happens?\n",
    "\n",
    "<!-- * _Answer_: Vectors can be of only one data type. R tries to convert (=coerce)\n",
    "\n",
    "  the content of this vector to find a \"common denominator\". -->\n",
    "\n",
    "\n",
    "\n",
    "* **Question**: Can you draw a diagram that represents the hierarchy of the data\n",
    "\n",
    "  types?\n",
    "\n",
    "<!-- * _Answer_: `logical -> numeric -> character <-- logical` -->\n",
    "\n",
    "\n",
    "\n",
    "</div>\n",
    "\n",
    "\n",
    "\n",
    "\n",
    "\n",
    "\n"
   ]
  },
  {
   "cell_type": "code",
   "execution_count": 1,
   "metadata": {
    "collapsed": true
   },
   "outputs": [],
   "source": [
    "```{r, echo=FALSE, eval=FALSE, purl=TRUE}\n",
    "\n",
    "## We’ve seen that atomic vectors can be of type character, numeric, integer, and\n",
    "\n",
    "## logical. But what happens if we try to mix these types in a single\n",
    "\n",
    "## vector?\n",
    "\n",
    "\n",
    "\n",
    "## What will happen in each of these examples? (hint: use `class()` to\n",
    "\n",
    "## check the data type of your object)\n",
    "\n",
    "num_char <- c(1, 2, 3, 'a')\n",
    "\n",
    "\n",
    "\n",
    "num_logical <- c(1, 2, 3, TRUE)\n",
    "\n",
    "\n",
    "\n",
    "char_logical <- c('a', 'b', 'c', TRUE)\n",
    "\n",
    "\n",
    "\n",
    "tricky <- c(1, 2, 3, '4')\n",
    "\n",
    "\n",
    "\n",
    "## Why do you think it happens?\n",
    "\n",
    "\n",
    "\n",
    "## Can you draw a diagram that represents the hierarchy of the data\n",
    "\n",
    "## types?\n",
    "\n",
    "```\n"
   ]
  },
  {
   "cell_type": "markdown",
   "metadata": {},
   "source": [
    "\n",
    "\n",
    "\n",
    "\n",
    "## Subsetting vectors\n",
    "\n",
    "\n",
    "\n",
    "If we want to extract one or several values from a vector, we must provide one\n",
    "\n",
    "or several indices in square brackets. For instance:\n",
    "\n",
    "\n"
   ]
  },
  {
   "cell_type": "code",
   "execution_count": 1,
   "metadata": {
    "collapsed": true
   },
   "outputs": [],
   "source": [
    "```{r, results='show', purl=FALSE}\n",
    "\n",
    "animals <- c(\"mouse\", \"rat\", \"dog\", \"cat\")\n",
    "\n",
    "animals[2]\n",
    "\n",
    "animals[c(3, 2)]\n",
    "\n",
    "```\n"
   ]
  },
  {
   "cell_type": "markdown",
   "metadata": {},
   "source": [
    "\n",
    "\n",
    "<i fa fa-star></i>**Data Tip:** R indexes start at 1. Programming languages like\n",
    "\n",
    "Fortran, MATLAB, and R start\n",
    "\n",
    "counting at 1, because that's what human beings typically do. Languages in the C\n",
    "\n",
    "family (including C++, Java, Perl, and Python) count from 0 because that's\n",
    "\n",
    "simpler for computers to do.\n",
    "\n",
    "{: .notice--success}\n",
    "\n",
    "\n",
    "\n",
    "## Subset Vectors\n",
    "\n",
    "\n",
    "\n",
    "We can subset vectors too. For instance, if you wanted to select only the\n",
    "\n",
    "values above 50:\n",
    "\n",
    "\n"
   ]
  },
  {
   "cell_type": "code",
   "execution_count": 1,
   "metadata": {
    "collapsed": true
   },
   "outputs": [],
   "source": [
    "```{r, results='show', purl=FALSE}\n",
    "\n",
    "weight_g > 50    # will return logicals with TRUE for the indices that meet the condition\n",
    "\n",
    "## so we can use this to select only the values above 50\n",
    "\n",
    "weight_g[weight_g > 50]\n",
    "\n",
    "```\n"
   ]
  },
  {
   "cell_type": "markdown",
   "metadata": {},
   "source": [
    "\n",
    "\n",
    "You can combine multiple tests using `&` (both conditions are true, AND) or `|`\n",
    "\n",
    "(at least one of the conditions is true, OR):\n",
    "\n",
    "\n"
   ]
  },
  {
   "cell_type": "code",
   "execution_count": 1,
   "metadata": {
    "collapsed": true
   },
   "outputs": [],
   "source": [
    "```{r, results='show', purl=FALSE}\n",
    "\n",
    "weight_g[weight_g < 30 | weight_g > 50]\n",
    "\n",
    "weight_g[weight_g >= 30 & weight_g == 21]\n",
    "\n",
    "```\n"
   ]
  },
  {
   "cell_type": "markdown",
   "metadata": {},
   "source": [
    "\n",
    "\n",
    "When working with vectors of characters, if you are trying to combine many\n",
    "\n",
    "conditions it can become tedious to type. The function `%in%` allows you to test\n",
    "\n",
    "if a value is found in a vector:\n",
    "\n",
    "\n"
   ]
  },
  {
   "cell_type": "code",
   "execution_count": 1,
   "metadata": {
    "collapsed": true
   },
   "outputs": [],
   "source": [
    "```{r, results='show', purl=FALSE}\n",
    "\n",
    "animals <- c(\"mouse\", \"rat\", \"dog\", \"cat\")\n",
    "\n",
    "animals[animals == \"cat\" | animals == \"rat\"] # returns both rat and cat\n",
    "\n",
    "animals %in% c(\"rat\", \"cat\", \"dog\", \"duck\")\n",
    "\n",
    "animals[animals %in% c(\"rat\", \"cat\", \"dog\", \"duck\")]\n",
    "\n",
    "```\n"
   ]
  },
  {
   "cell_type": "markdown",
   "metadata": {},
   "source": [
    "\n",
    "\n",
    "<div class=\"notice--warning\" markdown=\"1\">\n",
    "\n",
    "\n",
    "\n",
    "## <i class=\"fa fa-pencil-square-o\" aria-hidden=\"true\"></i> Optional challenge\n",
    "\n",
    "\n",
    "\n",
    "* Can you figure out why `\"four\" > \"five\"` returns `TRUE`?\n",
    "\n",
    "</div>\n",
    "\n",
    "\n"
   ]
  },
  {
   "cell_type": "code",
   "execution_count": 1,
   "metadata": {
    "collapsed": true
   },
   "outputs": [],
   "source": [
    "```{r, echo=FALSE, purl=TRUE}\n",
    "\n",
    "# * Can you figure out why `\"four\" > \"five\"` returns `TRUE`?\n",
    "\n",
    "```\n"
   ]
  },
  {
   "cell_type": "markdown",
   "metadata": {},
   "source": [
    "\n",
    "\n",
    "<!--\n"
   ]
  },
  {
   "cell_type": "code",
   "execution_count": 1,
   "metadata": {
    "collapsed": true
   },
   "outputs": [],
   "source": [
    "```{r, purl=FALSE}\n",
    "\n",
    "## Answers\n",
    "\n",
    "## * When using \">\" or \"<\" on strings, R compares their alphabetical order. Here\n",
    "\n",
    "##   \"four\" comes after \"five\", and therefore is \"greater than\" it.\n",
    "\n",
    "```\n"
   ]
  }
 ],
 "metadata": {
  "kernelspec": {
   "display_name": "Python 3",
   "language": "python",
   "name": "python3"
  },
  "language_info": {
   "codemirror_mode": {
    "name": "ipython",
    "version": 3
   },
   "file_extension": ".py",
   "mimetype": "text/x-python",
   "name": "python",
   "nbconvert_exporter": "python",
   "pygments_lexer": "ipython3",
   "version": "3.6.0"
  },
  "toc": {
   "toc_cell": false,
   "toc_number_sections": false,
   "toc_threshold": "2",
   "toc_window_display": false
  }
 },
 "nbformat": 4,
 "nbformat_minor": 2
}
