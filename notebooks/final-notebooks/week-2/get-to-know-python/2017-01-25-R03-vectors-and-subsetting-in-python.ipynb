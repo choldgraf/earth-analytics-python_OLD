{
 "cells": [
  {
   "cell_type": "raw",
   "metadata": {},
   "source": [
    "---\n",
    "layout: single\n",
    "title: \"About arrays in python and data types including strings, numbers and logicals - Data Science for scientists 101\"\n",
    "excerpt: \"This tutorial introduces numpy arrays in Python. It also introduces the differences between strings, numbers and logical or boolean values (True / False) in Python.\"\n",
    "authors: ['Chris Holdgraf', 'Data Carpentry', 'Leah Wasser']\n",
    "category: [course-materials]\n",
    "class-lesson: ['get-to-know-python']\n",
    "course: \"earth-analytics-python\"\n",
    "permalink: /course-materials/earth-analytics-python/week-2/work-with-data-types-python/\n",
    "nav-title: 'Numpy arrays'\n",
    "dateCreated: 2017-05-23\n",
    "modified: '{:%Y-%m-%d}'.format(datetime.now())\n",
    "week: 2\n",
    "sidebar:\n",
    "  nav:\n",
    "author_profile: false\n",
    "comments: true\n",
    "order: 3\n",
    "---\n",
    "\n"
   ]
  },
  {
   "cell_type": "markdown",
   "metadata": {},
   "source": [
    "{% include toc title=\"In This Lesson\" icon=\"file-text\" %}\n",
    "\n",
    "\n",
    "<div class='notice--success' markdown=\"1\">\n",
    "\n",
    "## <i class=\"fa fa-graduation-cap\" aria-hidden=\"true\"></i> Learning Objectives\n",
    "At the end of this activity, you will be able to:\n",
    "\n",
    "* Understand the structure of and be able to create a vector object in Python.\n",
    "\n",
    "## <i class=\"fa fa-check-square-o fa-2\" aria-hidden=\"true\"></i> What you need\n",
    "\n",
    "You need `Python 3.x` and `Jupyter notebooks` to complete this tutorial. Also you should have\n",
    "an `earth-analytics` directory setup on your computer with a `/data`\n",
    "directory with it.\n",
    "\n",
    "# need to fix these links to be python...\n",
    "* [How to Setup R / R Studio](/course-materials/earth-analytics/week-1/setup-r-rstudio/)\n",
    "* [Setup your working directory](/course-materials/earth-analytics/week-1/setup-working-directory/)\n",
    "\n",
    "\n",
    "</div>\n",
    "\n",
    "To begin working with arrays in `python` we will first load the `numpy` library. "
   ]
  },
  {
   "cell_type": "code",
   "execution_count": null,
   "metadata": {
    "collapsed": true
   },
   "outputs": [],
   "source": [
    "import numpy as np"
   ]
  },
  {
   "cell_type": "markdown",
   "metadata": {},
   "source": [
    "## Numpy arrays and data types\n",
    "\n",
    "An array is a common data structure used in `python`. An array is defined as a\n",
    "group of values, which most often are either numbers or characters. You can\n",
    "assign this list of values to an object or variable, just like you\n",
    "can for a single value. For example we can create a vector of animal weights:"
   ]
  },
  {
   "cell_type": "code",
   "execution_count": 3,
   "metadata": {},
   "outputs": [
    {
     "data": {
      "text/plain": [
       "array([50, 60, 65, 82])"
      ]
     },
     "execution_count": 3,
     "metadata": {},
     "output_type": "execute_result"
    }
   ],
   "source": [
    "weight_g = np.array([50, 60, 65, 82])\n",
    "weight_g"
   ]
  },
  {
   "cell_type": "markdown",
   "metadata": {},
   "source": [
    "An array can also contain characters:"
   ]
  },
  {
   "cell_type": "code",
   "execution_count": 4,
   "metadata": {},
   "outputs": [
    {
     "data": {
      "text/plain": [
       "array(['mouse', 'rat', 'dog'], \n",
       "      dtype='<U5')"
      ]
     },
     "execution_count": 4,
     "metadata": {},
     "output_type": "execute_result"
    }
   ],
   "source": [
    "animals = np.array(['mouse', 'rat', 'dog'])\n",
    "animals"
   ]
  },
  {
   "cell_type": "markdown",
   "metadata": {},
   "source": [
    "There are many functions that allow you to inspect the content and structure of an\n",
    "array. For instance, `len()` (short for **len**gth) tells you how many elements are in a particular vector:"
   ]
  },
  {
   "cell_type": "code",
   "execution_count": 5,
   "metadata": {},
   "outputs": [
    {
     "data": {
      "text/plain": [
       "4"
      ]
     },
     "execution_count": 5,
     "metadata": {},
     "output_type": "execute_result"
    }
   ],
   "source": [
    "len(weight_g)"
   ]
  },
  {
   "cell_type": "code",
   "execution_count": 5,
   "metadata": {},
   "outputs": [
    {
     "data": {
      "text/plain": [
       "3"
      ]
     },
     "execution_count": 5,
     "metadata": {},
     "output_type": "execute_result"
    }
   ],
   "source": [
    "len(animals)"
   ]
  },
  {
   "cell_type": "markdown",
   "metadata": {},
   "source": [
    "## Array data types\n",
    "\n",
    "An important feature of an array, is that all of the elements are the same data\n",
    "type. The attribute `.dtype` shows us the the data type stored within an array:"
   ]
  },
  {
   "cell_type": "code",
   "execution_count": 10,
   "metadata": {
    "scrolled": true
   },
   "outputs": [
    {
     "data": {
      "text/plain": [
       "dtype('int64')"
      ]
     },
     "execution_count": 10,
     "metadata": {},
     "output_type": "execute_result"
    }
   ],
   "source": [
    "weight_g.dtype"
   ]
  },
  {
   "cell_type": "code",
   "execution_count": 9,
   "metadata": {},
   "outputs": [
    {
     "data": {
      "text/plain": [
       "dtype('<U5')"
      ]
     },
     "execution_count": 9,
     "metadata": {},
     "output_type": "execute_result"
    }
   ],
   "source": [
    "animals.dtype"
   ]
  },
  {
   "cell_type": "markdown",
   "metadata": {},
   "source": [
    "The function `type()` shows us the **structure** of the object. "
   ]
  },
  {
   "cell_type": "code",
   "execution_count": 8,
   "metadata": {},
   "outputs": [
    {
     "data": {
      "text/plain": [
       "numpy.ndarray"
      ]
     },
     "execution_count": 8,
     "metadata": {},
     "output_type": "execute_result"
    }
   ],
   "source": [
    "# View the python object type\n",
    "type(weight_g)"
   ]
  },
  {
   "cell_type": "markdown",
   "metadata": {},
   "source": [
    "You can add elements to an array using the `.hstack()` function. \n",
    "Below, we add the value 90 to the end of the `weight_g` object."
   ]
  },
  {
   "cell_type": "code",
   "execution_count": 13,
   "metadata": {
    "collapsed": true
   },
   "outputs": [],
   "source": [
    "# add the number 90 to the end of the vector\n",
    "weight_g = np.hstack([weight_g, 90])"
   ]
  },
  {
   "cell_type": "code",
   "execution_count": 15,
   "metadata": {
    "collapsed": true
   },
   "outputs": [],
   "source": [
    "# add the number 30 to the beginning of the vector\n",
    "weight_g = np.hstack([30, weight_g])"
   ]
  },
  {
   "cell_type": "code",
   "execution_count": 16,
   "metadata": {},
   "outputs": [
    {
     "data": {
      "text/plain": [
       "array([30, 50, 60, 65, 82, 90])"
      ]
     },
     "execution_count": 16,
     "metadata": {},
     "output_type": "execute_result"
    }
   ],
   "source": [
    "weight_g"
   ]
  },
  {
   "cell_type": "markdown",
   "metadata": {},
   "source": [
    "In the examples above, we saw 2 of the 6 **data** types that `Python` uses:\n",
    "\n",
    "1. `\"character\"` and\n",
    "2. `\"numeric\"`.\n",
    "\n",
    "These are the basic data tpes that all `R` objects are built\n",
    "from. The other 4 are:\n",
    "\n",
    "* `\"logical\"` for `TRUE` and `FALSE` (the boolean data type)\n",
    "* `\"integer\"` for integer numbers (e.g., `2L`, the `L` indicates to R that it's an integer)\n",
    "* `\"complex\"` to represent complex numbers with real and imaginary parts (e.g.,\n",
    "  `1+4i`) and that's all we're going to say about them\n",
    "* `\"raw\"` that we won't discuss further\n",
    "\n",
    "\n",
    "## Data type vs. data structure\n",
    "\n",
    "Vectors are one of the many **data structures** that `R` uses. Other important\n",
    "ones include: lists (`list`), matrices (`matrix`), data frames (`data.frame`) and\n",
    "factors (`factor`). We will look at `data.frames` when we open our `boulder_precip`\n",
    "data in the next lesson!\n",
    "\n",
    "\n",
    "<div class=\"notice--warning\" markdown=\"1\">\n",
    "\n",
    "## <i class=\"fa fa-pencil-square-o\" aria-hidden=\"true\"></i> Optional challenge activity\n",
    "\n",
    "* **Question**: What happens when we create a vector that contains both numbers\n",
    "and character values? Give it a try and write down the answer.\n",
    "\n",
    "<!-- * _Answer_: R implicitly converts them to all be the same type -->\n",
    "\n",
    "\n",
    "* **Question**: What will happen in each of these examples? (hint: use `class()`\n",
    "  to check the data type of your objects):\n",
    "\n",
    "\n",
    "```python\n",
    "num_char <- c(1, 2, 3, 'a')\n",
    "num_logical <- c(1, 2, 3, '2.45')\n",
    "char_logical <- c('a', 'b', 'c', frog)\n",
    "tricky <- c(1, 2, 3, '4')\n",
    "```\n",
    "\n",
    "* **Question**: Why do you think it happens?\n",
    "\n",
    "<!-- * _Answer_: Vectors can be of only one data type. Python tries to convert (=coerce)\n",
    "  the content of this vector to find a \"common denominator\". -->\n",
    "\n",
    "* **Question**: Can you draw a diagram that represents the hierarchy of the data\n",
    "  types?\n",
    "\n",
    "<!-- * _Answer_: `logical -> numeric -> character <-- logical` -->\n",
    "\n",
    "</div>"
   ]
  },
  {
   "cell_type": "code",
   "execution_count": 7,
   "metadata": {
    "collapsed": true
   },
   "outputs": [],
   "source": [
    "num_char = np.array([1, 2, 3, 'a'])\n",
    "\n",
    "num_logical = np.array([1, 2, 3, True])\n",
    "\n",
    "char_logical = np.array(['a', 'b', 'c', True])\n",
    "\n",
    "tricky = np.array([1, 2, 3, '4'])"
   ]
  },
  {
   "cell_type": "markdown",
   "metadata": {},
   "source": [
    "## Subset arrays\n",
    "\n",
    "If we want to extract one or several values from a vector, we must provide one\n",
    "or several indices in square brackets. For instance:"
   ]
  },
  {
   "cell_type": "code",
   "execution_count": 11,
   "metadata": {},
   "outputs": [
    {
     "data": {
      "text/plain": [
       "'dog'"
      ]
     },
     "execution_count": 11,
     "metadata": {},
     "output_type": "execute_result"
    }
   ],
   "source": [
    "animals = np.array([\"mouse\", \"rat\", \"dog\", \"cat\"])\n",
    "animals[2]\n"
   ]
  },
  {
   "cell_type": "code",
   "execution_count": 12,
   "metadata": {},
   "outputs": [
    {
     "data": {
      "text/plain": [
       "array(['dog', 'cat'], \n",
       "      dtype='<U5')"
      ]
     },
     "execution_count": 12,
     "metadata": {},
     "output_type": "execute_result"
    }
   ],
   "source": [
    "animals[[2, 3]]"
   ]
  },
  {
   "cell_type": "markdown",
   "metadata": {},
   "source": [
    "<i fa fa-star></i>**Data Tip:** R indexes start at 1. Programming languages like\n",
    "Fortran, MATLAB, and R start counting at 1, because that's what human beings typically do. Languages in the C\n",
    "family (including C++, Java, Perl, and Python) count from 0 because that's \n",
    "simpler for computers to do.\n",
    "{: .notice }\n",
    "\n",
    "# ChrisH Note: this is a big oversimplification of 0 vs. 1 based indexing. :-)\n",
    "\n",
    "## Subset arrays\n",
    "\n",
    "We can subset arrays too. For instance, if you want to select only the\n",
    "values that are greater than 50:"
   ]
  },
  {
   "cell_type": "code",
   "execution_count": 21,
   "metadata": {},
   "outputs": [
    {
     "data": {
      "text/plain": [
       "array([False, False,  True,  True,  True,  True], dtype=bool)"
      ]
     },
     "execution_count": 21,
     "metadata": {},
     "output_type": "execute_result"
    }
   ],
   "source": [
    "weight_g > 50"
   ]
  },
  {
   "cell_type": "markdown",
   "metadata": {},
   "source": [
    "Notice that the command above returns a BOOLEAN (TRUE / FALSE) array. We can then use \n",
    "that array to select all objects in our weight_g array that are greater than 50 as follows:\n"
   ]
  },
  {
   "cell_type": "code",
   "execution_count": 13,
   "metadata": {},
   "outputs": [
    {
     "data": {
      "text/plain": [
       "array([60, 65, 82])"
      ]
     },
     "execution_count": 13,
     "metadata": {},
     "output_type": "execute_result"
    }
   ],
   "source": [
    "# select only the values greater than 50\n",
    "weight_g[weight_g > 50]"
   ]
  },
  {
   "cell_type": "markdown",
   "metadata": {},
   "source": [
    "You can combine multiple tests using `&` (both conditions are true, AND) or `|`\n",
    "(at least one of the conditions is true, OR):\n"
   ]
  },
  {
   "cell_type": "code",
   "execution_count": 14,
   "metadata": {},
   "outputs": [
    {
     "data": {
      "text/plain": [
       "array([60, 65, 82])"
      ]
     },
     "execution_count": 14,
     "metadata": {},
     "output_type": "execute_result"
    }
   ],
   "source": [
    "# select objects that are EITHER less than 30 OR greater than 50\n",
    "weight_g[(weight_g < 30) | (weight_g > 50)]"
   ]
  },
  {
   "cell_type": "code",
   "execution_count": 27,
   "metadata": {},
   "outputs": [
    {
     "data": {
      "text/plain": [
       "array([], dtype=int64)"
      ]
     },
     "execution_count": 27,
     "metadata": {},
     "output_type": "execute_result"
    }
   ],
   "source": [
    "# select objects that are greater than or equal to 30 OR equal to 21\n",
    "weight_g[(weight_g >= 30) & (weight_g == 21)]"
   ]
  },
  {
   "cell_type": "markdown",
   "metadata": {
    "collapsed": true
   },
   "source": [
    "\n"
   ]
  },
  {
   "cell_type": "markdown",
   "metadata": {},
   "source": [
    "Notice that we use two `==` signs to designate `equal to` so as not to confuse equals to with the assignment operator which is also `=` in Python.\n",
    "\n",
    "When working with vectors of characters, if you are trying to combine many\n",
    "conditions it can become tedious to type. "
   ]
  },
  {
   "cell_type": "code",
   "execution_count": 34,
   "metadata": {},
   "outputs": [
    {
     "data": {
      "text/plain": [
       "array(['rat', 'cat'], \n",
       "      dtype='<U5')"
      ]
     },
     "execution_count": 34,
     "metadata": {},
     "output_type": "execute_result"
    }
   ],
   "source": [
    "animals = np.array(['mouse', 'rat', 'dog', 'cat'])\n",
    "animals[(animals == 'cat') | (animals == 'rat')]"
   ]
  },
  {
   "cell_type": "markdown",
   "metadata": {},
   "source": [
    "The function `intersection()` allows you to test\n",
    "if a value is found in an array of values:\n"
   ]
  },
  {
   "cell_type": "code",
   "execution_count": 15,
   "metadata": {},
   "outputs": [
    {
     "data": {
      "text/plain": [
       "{'cat', 'dog', 'rat'}"
      ]
     },
     "execution_count": 15,
     "metadata": {},
     "output_type": "execute_result"
    }
   ],
   "source": [
    "# select objects in the animals array that are within the array [`rat`, `cat`, `dog`, `duck`]\n",
    "set(animals).intersection(set(['rat', 'cat', 'dog', 'duck']))"
   ]
  },
  {
   "cell_type": "markdown",
   "metadata": {},
   "source": [
    "# chris is the example below just another way of doing what you did above?"
   ]
  },
  {
   "cell_type": "code",
   "execution_count": 36,
   "metadata": {},
   "outputs": [
    {
     "data": {
      "text/plain": [
       "array(['mouse', 'rat', 'dog'], \n",
       "      dtype='<U5')"
      ]
     },
     "execution_count": 36,
     "metadata": {},
     "output_type": "execute_result"
    }
   ],
   "source": [
    "animal_bool = [animal in animals for animal in ['rat', 'cat', 'dog', 'duck']]\n",
    "animals[animal_bool]"
   ]
  },
  {
   "cell_type": "markdown",
   "metadata": {},
   "source": [
    "\n",
    "<div class=\"notice--warning\" markdown=\"1\">\n",
    "\n",
    "## <i class=\"fa fa-pencil-square-o\" aria-hidden=\"true\"></i> Optional challenge\n",
    "\n",
    "* Can you figure out why `\"four\" > \"five\"` returns `TRUE`?\n",
    "\n",
    "</div>"
   ]
  },
  {
   "cell_type": "markdown",
   "metadata": {},
   "source": [
    "## Answers\n",
    "\n",
    "<!-- When using \">\" or \"<\" on strings, R compares their alphabetical order. Here \"four\" comes after \"five\", and therefore is \"greater than\" it. -->"
   ]
  }
 ],
 "metadata": {
  "kernelspec": {
   "display_name": "Python 3",
   "language": "python",
   "name": "python3"
  },
  "language_info": {
   "codemirror_mode": {
    "name": "ipython",
    "version": 3
   },
   "file_extension": ".py",
   "mimetype": "text/x-python",
   "name": "python",
   "nbconvert_exporter": "python",
   "pygments_lexer": "ipython3",
   "version": "3.6.0"
  },
  "toc": {
   "toc_cell": false,
   "toc_number_sections": false,
   "toc_threshold": "2",
   "toc_window_display": false
  }
 },
 "nbformat": 4,
 "nbformat_minor": 2
}
