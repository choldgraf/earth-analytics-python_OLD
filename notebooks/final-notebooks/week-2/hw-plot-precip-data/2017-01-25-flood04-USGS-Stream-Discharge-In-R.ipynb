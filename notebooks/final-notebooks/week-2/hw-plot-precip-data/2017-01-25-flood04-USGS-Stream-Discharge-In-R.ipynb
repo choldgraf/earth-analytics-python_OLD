{
 "cells": [
  {
   "cell_type": "raw",
   "metadata": {},
   "source": [
    "---\n",
    "layout: single\n",
    "title: \"Plot Stream Discharge Data in R\"\n",
    "excerpt: \"This lesson is a challenge exercise that asks you to use all of the skills used during the week 2 set of lessons in the earth analytics course. Here you will import data and subset it to create a final plot of stream discharge over time.\"\n",
    "authors: ['Leah Wasser', 'NEON Data Skills']\n",
    "modified: '{:%Y-%m-%d}'.format(datetime.now())\n",
    "category: [course-materials]\n",
    "class-lesson: ['hw-ggplot2-r']\n",
    "week: 2\n",
    "permalink: /course-materials/earth-analytics/week-2/plot-stream-discharge-timeseries-challenge-r/\n",
    "nav-title: 'Plot Stream Discharge Data R'\n",
    "sidebar:\n",
    "  nav:\n",
    "author_profile: false\n",
    "comments: true\n",
    "order: 4\n",
    "course: \"earth-analytics\"\n",
    "topics:\n",
    "  reproducible-science-and-programming: ['RStudio']\n",
    "  time-series:\n",
    "  data-exploration-and-analysis: ['data-visualization']\n",
    "---\n"
   ]
  },
  {
   "cell_type": "markdown",
   "metadata": {},
   "source": [
    "\n",
    "\n",
    "{% include toc title=\"In This Lesson\" icon=\"file-text\" %}\n",
    "\n",
    "\n",
    "\n",
    "In this data lesson, we explore and visualize stream discharge time series\n",
    "\n",
    "data collected by the United States Geological Survey (USGS). You will use everything\n",
    "\n",
    "that you learned in the previous lessons to create your plots. You will use these\n",
    "\n",
    "plots in the report that you submit for your homework.\n",
    "\n",
    "\n",
    "\n",
    "Note: this page just shows you what the plots should look like. You will need\n",
    "\n",
    "to use your programming skills to create the plots!\n",
    "\n",
    "\n",
    "\n",
    "<div class='notice--success' markdown=\"1\">\n",
    "\n",
    "\n",
    "\n",
    "## <i class=\"fa fa-graduation-cap\" aria-hidden=\"true\"></i> Learning Objectives\n",
    "\n",
    "\n",
    "\n",
    "After completing this tutorial, you will be able to:\n",
    "\n",
    "\n",
    "\n",
    "* Plot USGS Stream Discharge time series data in `R`.\n",
    "\n",
    "\n",
    "\n",
    "## <i class=\"fa fa-check-square-o fa-2\" aria-hidden=\"true\"></i> What you need\n",
    "\n",
    "\n",
    "\n",
    "You need `R` and `RStudio` to complete this tutorial. Also you should have\n",
    "\n",
    "an `earth-analytics` directory setup on your computer with a `/data`\n",
    "\n",
    "directory with it.\n",
    "\n",
    "\n",
    "\n",
    "* [How to Setup R / RStudio](/course-materials/earth-analytics/week-1/setup-r-rstudio/)\n",
    "\n",
    "* [Setup your working directory](/course-materials/earth-analytics/week-1/setup-working-directory/)\n",
    "\n",
    "* [Intro to the R & RStudio Interface](/course-materials/earth-analytics/week-1/intro-to-r-and-rstudio)\n",
    "\n",
    "\n",
    "\n",
    "### R Libraries to Install:\n",
    "\n",
    "\n",
    "\n",
    "* **ggplot2:** `install.packages(\"ggplot2\")`\n",
    "\n",
    "* **dplyr:** `install.packages(\"dplyr\")`\n",
    "\n",
    "\n",
    "\n",
    "If you haven't already downloaded this data (from the previous lesson), do so now.\n",
    "\n",
    "\n",
    "\n",
    "[<i class=\"fa fa-download\" aria-hidden=\"true\"></i> Download Week 2 Data](https://ndownloader.figshare.com/files/7426738){:data-proofer-ignore='' .btn }\n",
    "\n",
    "\n",
    "\n",
    "</div>\n",
    "\n",
    "\n",
    "\n",
    "## About the Data - USGS Stream Discharge Data\n",
    "\n",
    "\n",
    "\n",
    "The USGS has a distributed network of aquatic sensors located in streams across\n",
    "\n",
    "the United States. This network monitors a suit of variables that are important\n",
    "\n",
    "to stream morphology and health. One of the metrics that this sensor network\n",
    "\n",
    "monitors is **Stream Discharge**, a metric which quantifies the volume of water\n",
    "\n",
    "moving down a stream. Discharge is an ideal metric to quantify flow, which\n",
    "\n",
    "increases significantly during a flood event.\n",
    "\n",
    "\n",
    "\n",
    "> As defined by USGS: Discharge is the volume of water moving down a stream or\n",
    "\n",
    "> river per unit of time, commonly expressed in cubic feet per second or gallons\n",
    "\n",
    "> per day. In general, river discharge is computed by multiplying the area of\n",
    "\n",
    "> water in a channel cross section by the average velocity of the water in that\n",
    "\n",
    "> cross section.\n",
    "\n",
    ">\n",
    "\n",
    "> <a href=\"http://water.usgs.gov/edu/streamflow2.html\" target=\"_blank\">\n",
    "\n",
    "Read more about stream discharge data collected by USGS.</a>\n",
    "\n",
    "\n",
    "\n",
    "<figure>\n",
    "\n",
    "<a href=\"{{ site.url }}/images/course-materials/earth-analytics/week-2/USGS-peak-discharge.gif\">\n",
    "\n",
    "<img src=\"{{ site.url }}/images/course-materials/earth-analytics/week-2/USGS-peak-discharge.gif\" alt=\"Plot of stream discharge from the USGS boulder creek stream gage\"></a>\n",
    "\n",
    "<figcaption>\n",
    "\n",
    "The USGS tracks stream discharge through time at locations across the United\n",
    "\n",
    "States. Note the pattern observed in the plot above. The peak recorded discharge\n",
    "\n",
    "value in 2013 was significantly larger than what was observed in other years.\n",
    "\n",
    "Source: <a href=\"http://nwis.waterdata.usgs.gov/usa/nwis/peak/?site_no=06730200\" target=\"_blank\"> USGS, National Water Information System. </a>\n",
    "\n",
    "</figcaption>\n",
    "\n",
    "</figure>\n",
    "\n",
    "\n",
    "\n",
    "\n"
   ]
  },
  {
   "cell_type": "code",
   "execution_count": 1,
   "metadata": {
    "collapsed": true
   },
   "outputs": [],
   "source": [
    "# ```{r echo=FALSE}\n",
    "\n",
    "# knitr::opts_chunk$set(echo = TRUE, message = FALSE, warning=FALSE)\n",
    "\n",
    "\n",
    "\n",
    "# ```\n"
   ]
  },
  {
   "cell_type": "markdown",
   "metadata": {},
   "source": [
    "\n",
    "\n",
    "## Work with USGS Stream Gage Data\n",
    "\n",
    "\n",
    "\n",
    "Let's begin by loading our libraries and setting our working directory.\n",
    "\n",
    "\n"
   ]
  },
  {
   "cell_type": "code",
   "execution_count": 1,
   "metadata": {
    "collapsed": true
   },
   "outputs": [],
   "source": [
    "import numpy as np\n",
    "import pandas as pd\n",
    "import matplotlib.pyplot as plt\n",
    "import earthlab as et\n",
    "%matplotlib inline"
   ]
  },
  {
   "cell_type": "code",
   "execution_count": 2,
   "metadata": {
    "collapsed": true
   },
   "outputs": [],
   "source": [
    "# ```{r load-libraries}\n",
    "\n",
    "# # set your working directory\n",
    "\n",
    "# # setwd(\"working-dir-path-here\")\n",
    "\n",
    "\n",
    "\n",
    "# # load packages\n",
    "\n",
    "# library(ggplot2) # create efficient, professional plots\n",
    "\n",
    "# library(dplyr) # data manipulation\n",
    "\n",
    "\n",
    "\n",
    "# # set strings as factors to false\n",
    "\n",
    "# options(stringsAsFactors = FALSE)\n",
    "\n",
    "# ```\n"
   ]
  },
  {
   "cell_type": "markdown",
   "metadata": {},
   "source": [
    "\n",
    "\n",
    "##  Import USGS Stream Discharge Data Into R\n",
    "\n",
    "\n",
    "\n",
    "Let's first import our data using the `read.csv()` function.\n",
    "\n",
    "\n",
    "\n",
    "\n"
   ]
  },
  {
   "cell_type": "code",
   "execution_count": 3,
   "metadata": {},
   "outputs": [
    {
     "name": "stdout",
     "output_type": "stream",
     "text": [
      "Replace is False and data exists, so doing nothing. Use replace==True to re-download the data.\n"
     ]
    },
    {
     "data": {
      "text/html": [
       "<div>\n",
       "<style>\n",
       "    .dataframe thead tr:only-child th {\n",
       "        text-align: right;\n",
       "    }\n",
       "\n",
       "    .dataframe thead th {\n",
       "        text-align: left;\n",
       "    }\n",
       "\n",
       "    .dataframe tbody tr th {\n",
       "        vertical-align: top;\n",
       "    }\n",
       "</style>\n",
       "<table border=\"1\" class=\"dataframe\">\n",
       "  <thead>\n",
       "    <tr style=\"text-align: right;\">\n",
       "      <th></th>\n",
       "      <th>agency_cd</th>\n",
       "      <th>site_no</th>\n",
       "      <th>datetime</th>\n",
       "      <th>disValue</th>\n",
       "      <th>qualCode</th>\n",
       "    </tr>\n",
       "  </thead>\n",
       "  <tbody>\n",
       "    <tr>\n",
       "      <th>0</th>\n",
       "      <td>USGS</td>\n",
       "      <td>6730200</td>\n",
       "      <td>1986-10-01</td>\n",
       "      <td>30.0</td>\n",
       "      <td>A</td>\n",
       "    </tr>\n",
       "    <tr>\n",
       "      <th>1</th>\n",
       "      <td>USGS</td>\n",
       "      <td>6730200</td>\n",
       "      <td>1986-10-02</td>\n",
       "      <td>30.0</td>\n",
       "      <td>A</td>\n",
       "    </tr>\n",
       "    <tr>\n",
       "      <th>2</th>\n",
       "      <td>USGS</td>\n",
       "      <td>6730200</td>\n",
       "      <td>1986-10-03</td>\n",
       "      <td>30.0</td>\n",
       "      <td>A</td>\n",
       "    </tr>\n",
       "    <tr>\n",
       "      <th>3</th>\n",
       "      <td>USGS</td>\n",
       "      <td>6730200</td>\n",
       "      <td>1986-10-04</td>\n",
       "      <td>30.0</td>\n",
       "      <td>A</td>\n",
       "    </tr>\n",
       "    <tr>\n",
       "      <th>4</th>\n",
       "      <td>USGS</td>\n",
       "      <td>6730200</td>\n",
       "      <td>1986-10-05</td>\n",
       "      <td>30.0</td>\n",
       "      <td>A</td>\n",
       "    </tr>\n",
       "  </tbody>\n",
       "</table>\n",
       "</div>"
      ],
      "text/plain": [
       "  agency_cd  site_no   datetime  disValue qualCode\n",
       "0      USGS  6730200 1986-10-01      30.0        A\n",
       "1      USGS  6730200 1986-10-02      30.0        A\n",
       "2      USGS  6730200 1986-10-03      30.0        A\n",
       "3      USGS  6730200 1986-10-04      30.0        A\n",
       "4      USGS  6730200 1986-10-05      30.0        A"
      ]
     },
     "execution_count": 3,
     "metadata": {},
     "output_type": "execute_result"
    }
   ],
   "source": [
    "path = et.data.get_data('week_02-hw')\n",
    "discharge = pd.read_csv(path + '/discharge/06730200-discharge-daily-1986-2013.csv', parse_dates=['datetime'])\n",
    "discharge.head()"
   ]
  },
  {
   "cell_type": "code",
   "execution_count": 1,
   "metadata": {
    "collapsed": true
   },
   "outputs": [],
   "source": [
    "# ```{r import-discharge-2 }\n",
    "\n",
    "# discharge <- read.csv(\"data/week2/discharge/06730200-discharge-daily-1986-2013.csv\",\n",
    "\n",
    "#                       header=TRUE)\n",
    "\n",
    "\n",
    "\n",
    "# # view first 6 lines of data\n",
    "\n",
    "# head(discharge)\n",
    "\n",
    "\n",
    "\n",
    "# ```\n"
   ]
  },
  {
   "cell_type": "markdown",
   "metadata": {},
   "source": [
    "\n",
    "\n",
    "\n",
    "\n",
    "<div class=\"notice--warning\" markdown=\"1\">\n",
    "\n",
    "\n",
    "\n",
    "## <i class=\"fa fa-pencil-square-o\" aria-hidden=\"true\"></i> Challenge\n",
    "\n",
    "\n",
    "\n",
    "Now that the data are imported, plot disValue (discharge value) over time.\n",
    "\n",
    "To do this, you will need to use\n",
    "\n",
    "everything that you learned in the previous lessons.\n",
    "\n",
    "\n",
    "\n",
    "Hint: when converting the date, take a close look at the format of the date -\n",
    "\n",
    "is the year 4 digits (including the century) or just 2? Use `?strptime` to figure\n",
    "\n",
    "out what format elements you'll need to include to get the date right.\n",
    "\n",
    "\n",
    "\n",
    "</div>\n",
    "\n",
    "\n",
    "\n",
    "\n"
   ]
  },
  {
   "cell_type": "code",
   "execution_count": 4,
   "metadata": {
    "collapsed": true
   },
   "outputs": [],
   "source": [
    "discharge['datetime'] = pd.to_datetime(discharge['datetime'])"
   ]
  },
  {
   "cell_type": "code",
   "execution_count": 5,
   "metadata": {
    "collapsed": true
   },
   "outputs": [],
   "source": [
    "# ```{r convert-time, echo=F }\n",
    "\n",
    "# # convert to date class -\n",
    "\n",
    "# discharge$datetime <- as.Date(discharge$datetime, format=\"%m/%d/%y\")\n",
    "\n",
    "\n",
    "\n",
    "# # looks like there aren't any no data values to deal with.\n",
    "\n",
    "# ```\n"
   ]
  },
  {
   "cell_type": "markdown",
   "metadata": {},
   "source": [
    "\n",
    "\n",
    "\n",
    "\n",
    "Your plot should look something like the one below:\n",
    "\n",
    "\n"
   ]
  },
  {
   "cell_type": "code",
   "execution_count": 6,
   "metadata": {},
   "outputs": [
    {
     "data": {
      "image/png": "[encoded data removed]",
      "text/plain": [
       "<matplotlib.figure.Figure at 0x11638d978>"
      ]
     },
     "metadata": {},
     "output_type": "display_data"
    }
   ],
   "source": [
    "fig, ax = plt.subplots()\n",
    "ax.plot('datetime', 'disValue', 'o', data=discharge)\n",
    "ax.set(title=\"Stream Discharge (CFS) - Boulder Creek, 1986-2016\",\n",
    "       xlabel=\"Year\", ylabel=\"Discharge (CFS)\");"
   ]
  },
  {
   "cell_type": "code",
   "execution_count": 7,
   "metadata": {
    "collapsed": true
   },
   "outputs": [],
   "source": [
    "# ```{r plot-flood-data, echo=F, fig.cap=\"plot of discharge vs time\" }\n",
    "\n",
    "# # check out our date range\n",
    "\n",
    "# stream_discharge_30yrs  <- ggplot(discharge, aes(datetime, disValue)) +\n",
    "\n",
    "#               geom_point() +\n",
    "\n",
    "#               ggtitle(\"Stream Discharge (CFS) - Boulder Creek, 1986-2016\") +\n",
    "\n",
    "#               xlab(\"Year\") + ylab(\"Discharge (CFS)\")\n",
    "\n",
    "\n",
    "\n",
    "# stream_discharge_30yrs\n",
    "\n",
    "\n",
    "\n",
    "# ```\n"
   ]
  },
  {
   "cell_type": "markdown",
   "metadata": {},
   "source": [
    "\n",
    "\n",
    "<div class=\"notice--warning\" markdown=\"1\">\n",
    "\n",
    "\n",
    "\n",
    "## <i class=\"fa fa-pencil-square-o\" aria-hidden=\"true\"></i> Challenge\n",
    "\n",
    "\n",
    "\n",
    "Similar to the previous lesson, take the cleaned discharge data that you just\n",
    "\n",
    "plotted and subset it to the time span\n",
    "\n",
    "of 2013-08-15 to 2013-10-15. Use `dplyr` pipes and the `filter()` function\n",
    "\n",
    "to perform the subset.\n",
    "\n",
    "\n",
    "\n",
    "Plot the data with `ggplot()`. Your plot should look like the one below.\n",
    "\n",
    "</div>\n",
    "\n",
    "\n",
    "\n",
    "\n"
   ]
  },
  {
   "cell_type": "code",
   "execution_count": 25,
   "metadata": {
    "scrolled": true
   },
   "outputs": [],
   "source": [
    "# Pandas is giving a weird error when using query so we can just use regular bools\n",
    "discharge_augSept_2013 = discharge[(discharge['datetime'] >= \"2013-08-015\") & (discharge['datetime'] <= \"2013-10-015\")]"
   ]
  },
  {
   "cell_type": "code",
   "execution_count": 1,
   "metadata": {
    "collapsed": true
   },
   "outputs": [],
   "source": [
    "# ```{r define-time-subset, echo=F}\n",
    "\n",
    "# discharge_augSept_2013 <- discharge %>%\n",
    "\n",
    "#                   filter((datetime >= as.Date('2013-08-15') & datetime <= as.Date('2013-10-15')))\n",
    "\n",
    "\n",
    "\n",
    "# ```\n"
   ]
  },
  {
   "cell_type": "markdown",
   "metadata": {},
   "source": [
    "\n"
   ]
  },
  {
   "cell_type": "code",
   "execution_count": 32,
   "metadata": {},
   "outputs": [
    {
     "data": {
      "image/png": "[encoded data removed]",
      "text/plain": [
       "<matplotlib.figure.Figure at 0x1166f7f98>"
      ]
     },
     "metadata": {},
     "output_type": "display_data"
    }
   ],
   "source": [
    "fig, ax = plt.subplots()\n",
    "ax.plot('datetime', 'disValue', 'o', data=discharge_augSept_2013)\n",
    "ax.set(title=\"Daily Stream Discharge (CFS) for Boulder Creek 8/15 - 10/15 2013\",\n",
    "       xlabel=\"Month / Day\", ylabel=\"Discharge (CFS)\")\n",
    "plt.setp(ax.get_xticklabels(), rotation=30);"
   ]
  },
  {
   "cell_type": "code",
   "execution_count": 1,
   "metadata": {
    "collapsed": true
   },
   "outputs": [],
   "source": [
    "# ```{r plot-challenge, echo=F, fig.cap=\"ggplot subsetted discharge data\"}\n",
    "\n",
    "# # plot the data - Aug 15-October 15\n",
    "\n",
    "# stream.discharge_3mo <- ggplot(discharge_augSept_2013,\n",
    "\n",
    "#           aes(datetime, disValue)) +\n",
    "\n",
    "#           geom_point() +\n",
    "\n",
    "#           xlab(\"Month / Day\") + ylab(\"Discharge (Cubic Feet per Second)\") +\n",
    "\n",
    "#           ggtitle(\"Daily Stream Discharge (CFS) for Boulder Creek 8/15 - 10/15 2013\")\n",
    "\n",
    "\n",
    "\n",
    "# stream.discharge_3mo\n",
    "\n",
    "# ```\n"
   ]
  }
 ],
 "metadata": {
  "kernelspec": {
   "display_name": "Python 3",
   "language": "python",
   "name": "python3"
  },
  "language_info": {
   "codemirror_mode": {
    "name": "ipython",
    "version": 3
   },
   "file_extension": ".py",
   "mimetype": "text/x-python",
   "name": "python",
   "nbconvert_exporter": "python",
   "pygments_lexer": "ipython3",
   "version": "3.6.0"
  },
  "toc": {
   "toc_cell": false,
   "toc_number_sections": false,
   "toc_threshold": "2",
   "toc_window_display": false
  }
 },
 "nbformat": 4,
 "nbformat_minor": 2
}
