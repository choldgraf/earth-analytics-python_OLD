{
 "cells": [
  {
   "cell_type": "raw",
   "metadata": {},
   "source": [
    "---\n",
    "layout: single\n",
    "title: \"Work with tabular spreadsheet data in Python\"\n",
    "excerpt: \"About.\"\n",
    "authors: ['Data Carpentry', 'Leah Wasser']\n",
    "category: [course-materials]\n",
    "class-lesson: ['get-to-know-python']\n",
    "course: \"earth-analytics-python\"\n",
    "permalink: /course-materials/earth-analytics-python/week-2/spreadsheet-data-in-python/\n",
    "nav-title: 'Spreadsheet Data in Python'\n",
    "dateCreated: 2016-12-13\n",
    "modified: '{:%Y-%m-%d}'.format(datetime.now())\n",
    "week: 2\n",
    "sidebar:\n",
    "  nav:\n",
    "author_profile: false\n",
    "comments: true\n",
    "order: 5\n",
    "---\n"
   ]
  },
  {
   "cell_type": "markdown",
   "metadata": {},
   "source": [
    "\n",
    "{% include toc title=\"In This Lesson\" icon=\"file-text\" %}\n",
    "\n",
    "This lesson introduces the `data.frame` which is very similar to working with\n",
    "a spreadsheet in `Python`.\n",
    "\n",
    "<div class='notice--success' markdown=\"1\">\n",
    "\n",
    "## <i class=\"fa fa-graduation-cap\" aria-hidden=\"true\"></i> Learning Objectives\n",
    "At the end of this activity, you will be able to:\n",
    "\n",
    "* Open `.csv` or text file containing tabular (spreadsheet) formatted data in `Python`.\n",
    "* Quickly plot the data using the Pandas function `.plot()`\n",
    "* Quickly plot the data using Matplotlib plotting\n",
    "\n",
    "## <i class=\"fa fa-check-square-o fa-2\" aria-hidden=\"true\"></i> What you need\n",
    "\n",
    "You need `Python 3.x` and `Jupyter notebooks` to complete this tutorial. Also you should have\n",
    "an `earth-analytics` directory setup on your computer with a `/data`\n",
    "directory with it.\n",
    "\n",
    "* [How to Setup R / R Studio](/course-materials/earth-analytics/week-1/setup-r-rstudio/)\n",
    "* [Setup your working directory](/course-materials/earth-analytics/week-1/setup-working-directory/)\n",
    "\n",
    "\n",
    "</div>\n",
    "\n",
    "In the homework from week 1, we used the code below to create a report with `knitr`\n",
    "in `Notebooks`. "
   ]
  },
  {
   "cell_type": "code",
   "execution_count": 3,
   "metadata": {},
   "outputs": [
    {
     "data": {
      "text/plain": [
       "'/Users/lewa8222/Documents/earth-analytics'"
      ]
     },
     "execution_count": 3,
     "metadata": {},
     "output_type": "execute_result"
    }
   ],
   "source": [
    "#import earthlab as et\n",
    "# import python libraries\n",
    "import numpy as np\n",
    "import pandas as pd\n",
    "import urllib\n",
    "import os\n",
    "from matplotlib import pyplot as plt\n",
    "\n",
    "# Force notebooks to plot figures inline (in the notebook)\n",
    "plt.ion()\n",
    "\n",
    "# be sure to set your working directory \n",
    "os.chdir(\"/Users/lewa8222/Documents/earth-analytics/\")\n",
    "os.getcwd()"
   ]
  },
  {
   "cell_type": "code",
   "execution_count": 4,
   "metadata": {},
   "outputs": [
    {
     "data": {
      "text/plain": [
       "('data/boulder-precip.csv', <http.client.HTTPMessage at 0x110028390>)"
      ]
     },
     "execution_count": 4,
     "metadata": {},
     "output_type": "execute_result"
    }
   ],
   "source": [
    "# download data from figshare (note - we did this in a previous lesson)\n",
    "urllib.request.urlretrieve(url='https://ndownloader.figshare.com/files/7010681', \n",
    "                           filename= 'data/boulder-precip.csv')"
   ]
  },
  {
   "cell_type": "markdown",
   "metadata": {},
   "source": [
    "Remember that earlier in the lessons we learned that the code above  `urllib.request.urlretrieve()` is used to \n",
    "download a datafile. In this case, the data are stored on\n",
    "<a href=\"http://www.figshare.com\" target=\"_blank\">Figshare</a> - a\n",
    "popular data repository that is free to use if your data are cumulatively\n",
    "smaller than 20gb.\n",
    "\n",
    "Remember that `urllib.request.urlretrieve()` function has two function **ARGUMENTS**:\n",
    "\n",
    "1. **url**: this is the path to the data file that you wish to download\n",
    "2. **filename**: this is the location on your computer (in this case: `/data`) and name of the\n",
    "file when saved (in this case: boulder-precip.csv). So we downloaded a file from\n",
    "a url on figshare do our data directory. We named that file `boulder-precip.csv`.\n",
    "\n",
    "Next, we read in the data using the function: `pd.read_csv()`."
   ]
  },
  {
   "cell_type": "code",
   "execution_count": 5,
   "metadata": {},
   "outputs": [
    {
     "data": {
      "text/html": [
       "<div>\n",
       "<table border=\"1\" class=\"dataframe\">\n",
       "  <thead>\n",
       "    <tr style=\"text-align: right;\">\n",
       "      <th></th>\n",
       "      <th>Unnamed: 0</th>\n",
       "      <th>DATE</th>\n",
       "      <th>PRECIP</th>\n",
       "    </tr>\n",
       "  </thead>\n",
       "  <tbody>\n",
       "    <tr>\n",
       "      <th>0</th>\n",
       "      <td>756</td>\n",
       "      <td>2013-08-21</td>\n",
       "      <td>0.1</td>\n",
       "    </tr>\n",
       "    <tr>\n",
       "      <th>1</th>\n",
       "      <td>757</td>\n",
       "      <td>2013-08-26</td>\n",
       "      <td>0.1</td>\n",
       "    </tr>\n",
       "    <tr>\n",
       "      <th>2</th>\n",
       "      <td>758</td>\n",
       "      <td>2013-08-27</td>\n",
       "      <td>0.1</td>\n",
       "    </tr>\n",
       "    <tr>\n",
       "      <th>3</th>\n",
       "      <td>759</td>\n",
       "      <td>2013-09-01</td>\n",
       "      <td>0.0</td>\n",
       "    </tr>\n",
       "    <tr>\n",
       "      <th>4</th>\n",
       "      <td>760</td>\n",
       "      <td>2013-09-09</td>\n",
       "      <td>0.1</td>\n",
       "    </tr>\n",
       "  </tbody>\n",
       "</table>\n",
       "</div>"
      ],
      "text/plain": [
       "   Unnamed: 0        DATE  PRECIP\n",
       "0         756  2013-08-21     0.1\n",
       "1         757  2013-08-26     0.1\n",
       "2         758  2013-08-27     0.1\n",
       "3         759  2013-09-01     0.0\n",
       "4         760  2013-09-09     0.1"
      ]
     },
     "execution_count": 5,
     "metadata": {},
     "output_type": "execute_result"
    }
   ],
   "source": [
    "boulder_precip = pd.read_csv('data/boulder-precip.csv')\n",
    "boulder_precip.head()"
   ]
  },
  {
   "cell_type": "code",
   "execution_count": 6,
   "metadata": {},
   "outputs": [
    {
     "data": {
      "text/plain": [
       "Unnamed: 0      int64\n",
       "DATE           object\n",
       "PRECIP        float64\n",
       "dtype: object"
      ]
     },
     "execution_count": 6,
     "metadata": {},
     "output_type": "execute_result"
    }
   ],
   "source": [
    "# view the structure of the data.frame \n",
    "boulder_precip.dtypes\n"
   ]
  },
  {
   "cell_type": "markdown",
   "metadata": {},
   "source": [
    "<div class=\"notice--warning\" markdown=\"1\">\n",
    "\n",
    "## <i class=\"fa fa-pencil-square-o\" aria-hidden=\"true\"></i> Optional challenge\n",
    "What is the format associated with each column for the `boulder_precip`\n",
    "data.frame? Describe the attributes of each format. Can you perform math\n",
    "on each column? Why or why not?\n",
    "\n",
    "\n",
    "<!--\n",
    "integer - numbers without decimal points,\n",
    "character: text strings\n",
    "number: numeric values (can contain decimals places)\n",
    "-->\n",
    "\n",
    "</div>\n",
    "\n",
    "\n",
    "## Introduction to the DataFrame\n",
    "\n",
    "When we read data into Python using `pd.read_csv()` it imports it into a DataFrame format.\n",
    "A DataFrame is a 2-dimensional data structure that can store data of different types (including characters, integers, floating point values and more) in columns. It is similar to a spreadsheet or an SQL database table. \n",
    "\n",
    "A dataframe is composed of columns and rows. Each column in a dataFrame object has the same number of rows.\n",
    "Each cell in a dataframe is located or defined by a x,y (column, row) index value. \n",
    "\n",
    "Remember that in python, this index value begins at 0!  \n",
    "\n",
    "A data frame can be created manually, however most commonly they are generated when\n",
    "you important a text file or spreadsheet into Python using the Pandas function `pd.read_csv`.\n",
    "\n",
    "\n",
    "## Extracting / Specifying \"columns\" By Name\n",
    "\n",
    "We can extract one single column from a dataFrame using the syntax:\n",
    "\n",
    "`data_frame_name['columnNameHere']`\n",
    "\n",
    "as follows:\n"
   ]
  },
  {
   "cell_type": "code",
   "execution_count": 7,
   "metadata": {},
   "outputs": [
    {
     "data": {
      "text/plain": [
       "0     2013-08-21\n",
       "1     2013-08-26\n",
       "2     2013-08-27\n",
       "3     2013-09-01\n",
       "4     2013-09-09\n",
       "5     2013-09-10\n",
       "6     2013-09-11\n",
       "7     2013-09-12\n",
       "8     2013-09-13\n",
       "9     2013-09-15\n",
       "10    2013-09-16\n",
       "11    2013-09-22\n",
       "12    2013-09-23\n",
       "13    2013-09-27\n",
       "14    2013-09-28\n",
       "15    2013-10-01\n",
       "16    2013-10-04\n",
       "17    2013-10-11\n",
       "Name: DATE, dtype: object"
      ]
     },
     "execution_count": 7,
     "metadata": {},
     "output_type": "execute_result"
    }
   ],
   "source": [
    "# view the date column of the data frame using its name (or header)\n",
    "boulder_precip['DATE']"
   ]
  },
  {
   "cell_type": "code",
   "execution_count": 8,
   "metadata": {},
   "outputs": [
    {
     "data": {
      "text/plain": [
       "0     0.1\n",
       "1     0.1\n",
       "2     0.1\n",
       "3     0.0\n",
       "4     0.1\n",
       "5     1.0\n",
       "6     2.3\n",
       "7     9.8\n",
       "8     1.9\n",
       "9     1.4\n",
       "10    0.4\n",
       "11    0.1\n",
       "12    0.3\n",
       "13    0.3\n",
       "14    0.1\n",
       "15    0.0\n",
       "16    0.9\n",
       "17    0.1\n",
       "Name: PRECIP, dtype: float64"
      ]
     },
     "execution_count": 8,
     "metadata": {},
     "output_type": "execute_result"
    }
   ],
   "source": [
    "# view the precip column\n",
    "boulder_precip['PRECIP']"
   ]
  },
  {
   "cell_type": "markdown",
   "metadata": {},
   "source": [
    "## View Structure of a Data Frame\n",
    "\n",
    "We can explore the format of our data frame too. For instance, we can see how many rows and columns our dataframe has using the shape attribute. Here the shape of the object is returned as an array containing two numbers (# of rows, # of columns)"
   ]
  },
  {
   "cell_type": "code",
   "execution_count": 9,
   "metadata": {},
   "outputs": [
    {
     "data": {
      "text/plain": [
       "(18, 3)"
      ]
     },
     "execution_count": 9,
     "metadata": {},
     "output_type": "execute_result"
    }
   ],
   "source": [
    "# view the number of rows and columns in our dataframe\n",
    "boulder_precip.shape"
   ]
  },
  {
   "cell_type": "markdown",
   "metadata": {},
   "source": [
    "<div class=\"notice--warning\" markdown=\"1\">\n",
    "\n",
    "## <i class=\"fa fa-pencil-square-o\" aria-hidden=\"true\"></i> ## Optional challenge\n",
    "\n",
    "Using our DataFrame `boulder_precip`, try out the attributes & methods below to see what they return.\n",
    "\n",
    "* boulder_precip.columns\n",
    "* boulder_precip.shape \n",
    "\n",
    "Take note of the output of shape - what format does it return the shape of the DataFrame in? HINT: More on tuples, here.\n",
    "\n",
    "* `boulder_precip.head()` \n",
    "* What does `boulder_precip.head(15)` do?\n",
    "* `boulder_precip.tail()`\n",
    "\n",
    "</div>"
   ]
  },
  {
   "cell_type": "code",
   "execution_count": 10,
   "metadata": {},
   "outputs": [
    {
     "data": {
      "text/plain": [
       "Unnamed: 0      int64\n",
       "DATE           object\n",
       "PRECIP        float64\n",
       "dtype: object"
      ]
     },
     "execution_count": 10,
     "metadata": {},
     "output_type": "execute_result"
    }
   ],
   "source": [
    "# view the data structure of the data frame\n",
    "boulder_precip.dtypes"
   ]
  },
  {
   "cell_type": "markdown",
   "metadata": {},
   "source": [
    "## Calculate dataframe statistics\n",
    "We can quickly calculate summary statistics too. First let's explore the column names using `.columns.values`. We can use the `.describe()` function to get summary statistics about numeric columns in our data.\n"
   ]
  },
  {
   "cell_type": "code",
   "execution_count": 11,
   "metadata": {},
   "outputs": [
    {
     "data": {
      "text/plain": [
       "array(['Unnamed: 0', 'DATE', 'PRECIP'], dtype=object)"
      ]
     },
     "execution_count": 11,
     "metadata": {},
     "output_type": "execute_result"
    }
   ],
   "source": [
    "# view column names\n",
    "boulder_precip.columns.values"
   ]
  },
  {
   "cell_type": "code",
   "execution_count": 12,
   "metadata": {},
   "outputs": [
    {
     "data": {
      "text/html": [
       "<div>\n",
       "<table border=\"1\" class=\"dataframe\">\n",
       "  <thead>\n",
       "    <tr style=\"text-align: right;\">\n",
       "      <th></th>\n",
       "      <th>Unnamed: 0</th>\n",
       "      <th>PRECIP</th>\n",
       "    </tr>\n",
       "  </thead>\n",
       "  <tbody>\n",
       "    <tr>\n",
       "      <th>count</th>\n",
       "      <td>18.000000</td>\n",
       "      <td>18.000000</td>\n",
       "    </tr>\n",
       "    <tr>\n",
       "      <th>mean</th>\n",
       "      <td>764.500000</td>\n",
       "      <td>1.055556</td>\n",
       "    </tr>\n",
       "    <tr>\n",
       "      <th>std</th>\n",
       "      <td>5.338539</td>\n",
       "      <td>2.288905</td>\n",
       "    </tr>\n",
       "    <tr>\n",
       "      <th>min</th>\n",
       "      <td>756.000000</td>\n",
       "      <td>0.000000</td>\n",
       "    </tr>\n",
       "    <tr>\n",
       "      <th>25%</th>\n",
       "      <td>760.250000</td>\n",
       "      <td>0.100000</td>\n",
       "    </tr>\n",
       "    <tr>\n",
       "      <th>50%</th>\n",
       "      <td>764.500000</td>\n",
       "      <td>0.200000</td>\n",
       "    </tr>\n",
       "    <tr>\n",
       "      <th>75%</th>\n",
       "      <td>768.750000</td>\n",
       "      <td>0.975000</td>\n",
       "    </tr>\n",
       "    <tr>\n",
       "      <th>max</th>\n",
       "      <td>773.000000</td>\n",
       "      <td>9.800000</td>\n",
       "    </tr>\n",
       "  </tbody>\n",
       "</table>\n",
       "</div>"
      ],
      "text/plain": [
       "       Unnamed: 0     PRECIP\n",
       "count   18.000000  18.000000\n",
       "mean   764.500000   1.055556\n",
       "std      5.338539   2.288905\n",
       "min    756.000000   0.000000\n",
       "25%    760.250000   0.100000\n",
       "50%    764.500000   0.200000\n",
       "75%    768.750000   0.975000\n",
       "max    773.000000   9.800000"
      ]
     },
     "execution_count": 12,
     "metadata": {},
     "output_type": "execute_result"
    }
   ],
   "source": [
    "# view summary statistics  - for all columns\n",
    "boulder_precip.describe()"
   ]
  },
  {
   "cell_type": "code",
   "execution_count": 13,
   "metadata": {},
   "outputs": [
    {
     "data": {
      "text/plain": [
       "count    18.000000\n",
       "mean      1.055556\n",
       "std       2.288905\n",
       "min       0.000000\n",
       "25%       0.100000\n",
       "50%       0.200000\n",
       "75%       0.975000\n",
       "max       9.800000\n",
       "Name: PRECIP, dtype: float64"
      ]
     },
     "execution_count": 13,
     "metadata": {},
     "output_type": "execute_result"
    }
   ],
   "source": [
    "# view summary statistics  - for just the precip column\n",
    "boulder_precip['PRECIP'].describe()"
   ]
  },
  {
   "cell_type": "code",
   "execution_count": 14,
   "metadata": {},
   "outputs": [
    {
     "data": {
      "text/plain": [
       "array([ 0.1,  0. ,  1. ,  2.3,  9.8,  1.9,  1.4,  0.4,  0.3,  0.9])"
      ]
     },
     "execution_count": 14,
     "metadata": {},
     "output_type": "execute_result"
    }
   ],
   "source": [
    "# view a list of just the unique precipitation values\n",
    "pd.unique(boulder_precip['PRECIP'])"
   ]
  },
  {
   "cell_type": "markdown",
   "metadata": {},
   "source": [
    "## Plot data\n",
    "\n",
    "We can quickly plot our data too. Note that we are using the `.plot()` function."
   ]
  },
  {
   "cell_type": "code",
   "execution_count": 15,
   "metadata": {},
   "outputs": [
    {
     "data": {
      "text/plain": [
       "<matplotlib.axes._subplots.AxesSubplot at 0x110072208>"
      ]
     },
     "execution_count": 15,
     "metadata": {},
     "output_type": "execute_result"
    },
    {
     "data": {
      "image/png": "[encoded data removed]",
      "text/plain": [
       "<matplotlib.figure.Figure at 0x110028240>"
      ]
     },
     "metadata": {},
     "output_type": "display_data"
    }
   ],
   "source": [
    "# setup the plot\n",
    "boulder_precip.plot('DATE', 'PRECIP')"
   ]
  },
  {
   "cell_type": "code",
   "execution_count": 16,
   "metadata": {},
   "outputs": [
    {
     "data": {
      "image/png": "[encoded data removed]",
      "text/plain": [
       "<matplotlib.figure.Figure at 0x11018d048>"
      ]
     },
     "metadata": {},
     "output_type": "display_data"
    }
   ],
   "source": [
    "# create a barplot\n",
    "ax = boulder_precip.plot('DATE', 'PRECIP', kind='bar')\n",
    "# add labels to the plot on a 45 degree angle - this doesn't seem to be necessary \n",
    "plt.setp(ax.get_xticklabels(), rotation=45);"
   ]
  },
  {
   "cell_type": "code",
   "execution_count": 17,
   "metadata": {},
   "outputs": [
    {
     "data": {
      "text/plain": [
       "Unnamed: 0             int64\n",
       "DATE          datetime64[ns]\n",
       "PRECIP               float64\n",
       "dtype: object"
      ]
     },
     "execution_count": 17,
     "metadata": {},
     "output_type": "execute_result"
    }
   ],
   "source": [
    "# convert DATE field to a datetime structure\n",
    "boulder_precip['DATE'] = pd.to_datetime(boulder_precip['DATE'])\n",
    "boulder_precip.dtypes\n"
   ]
  },
  {
   "cell_type": "markdown",
   "metadata": {},
   "source": [
    "Let's take a little time to customize our plots. Below we add the following arguments to our plot:\n",
    "\n",
    "* **title:** add a title to your plot\n",
    "* **legend = False:** turn off the legend for hte plot\n",
    "* **kind = bar**: create a bar plot\n",
    "\n",
    "\n",
    "## need to better understand this. the code below now works but maybe this is a difference between pandas plot and matplotlib?"
   ]
  },
  {
   "cell_type": "code",
   "execution_count": 21,
   "metadata": {},
   "outputs": [
    {
     "data": {
      "image/png": "[encoded data removed]",
      "text/plain": [
       "<matplotlib.figure.Figure at 0x1143bfe80>"
      ]
     },
     "metadata": {},
     "output_type": "display_data"
    }
   ],
   "source": [
    "# here it seems that pandas understand dates?? does it by default?\n",
    "fig, ax = plt.subplots()\n",
    "\n",
    "ax.bar(boulder_precip['DATE'].values, boulder_precip['PRECIP'].values, data=boulder_precip)\n",
    "ax.set_title(\"Total Daily Precipitation\")\n",
    "\n",
    "#ax = boulder_precip.plot('DATE', 'PRECIP', kind='bar')\n",
    "ax.set_xlabel(\"Hour\", fontsize=12)\n",
    "ax.set_ylabel(\"Total Precip (inches)\", fontsize=12)\n",
    "#ax.plot('DATE', 'PRECIP', data=boulder_precip)\n",
    "#ax.xaxis.set_major_locator(dates.MonthLocator())\n",
    "plt.setp(ax.get_xticklabels(), rotation=45);\n"
   ]
  }
 ],
 "metadata": {
  "kernelspec": {
   "display_name": "Python 3",
   "language": "python",
   "name": "python3"
  },
  "language_info": {
   "codemirror_mode": {
    "name": "ipython",
    "version": 3
   },
   "file_extension": ".py",
   "mimetype": "text/x-python",
   "name": "python",
   "nbconvert_exporter": "python",
   "pygments_lexer": "ipython3",
   "version": "3.6.0"
  },
  "toc": {
   "toc_cell": false,
   "toc_number_sections": false,
   "toc_threshold": "2",
   "toc_window_display": false
  }
 },
 "nbformat": 4,
 "nbformat_minor": 2
}
