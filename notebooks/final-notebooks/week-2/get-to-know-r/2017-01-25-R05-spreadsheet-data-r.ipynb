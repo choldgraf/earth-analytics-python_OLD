{
 "cells": [
  {
   "cell_type": "raw",
   "metadata": {},
   "source": [
    "---\n",
    "layout: single\n",
    "title: \"Working with spreadsheet (tabular) data in R\"\n",
    "excerpt: \".\"\n",
    "authors: ['Data Carpentry', 'Leah Wasser']\n",
    "category: [course-materials]\n",
    "class-lesson: ['get-to-know-r']\n",
    "permalink: /course-materials/earth-analytics/week-2/spreadsheet-data-in-R/\n",
    "nav-title: 'Spreadsheet Data in R'\n",
    "dateCreated: 2016-12-13\n",
    "modified: '{:%Y-%m-%d}'.format(datetime.now())\n",
    "week: 2\n",
    "sidebar:\n",
    "  nav:\n",
    "author_profile: false\n",
    "comments: true\n",
    "order: 5\n",
    "---\n"
   ]
  },
  {
   "cell_type": "markdown",
   "metadata": {},
   "source": [
    "\n",
    "\n",
    "{% include toc title=\"In This Lesson\" icon=\"file-text\" %}\n",
    "\n",
    "\n",
    "\n",
    "This lesson introduces the data.frame which is very similar to working with\n",
    "\n",
    "a spreadsheet in `R`.\n",
    "\n",
    "\n",
    "\n",
    "<div class='notice--success' markdown=\"1\">\n",
    "\n",
    "\n",
    "\n",
    "## <i class=\"fa fa-graduation-cap\" aria-hidden=\"true\"></i> Learning Objectives\n",
    "\n",
    "At the end of this activity, you will be able to:\n",
    "\n",
    "\n",
    "\n",
    "* Open .csv or text file containing tabular (spreadsheet) formatted data in R.\n",
    "\n",
    "* Quickly plot the data using the GGPLOT2 function qplot()\n",
    "\n",
    "\n",
    "\n",
    "## <i class=\"fa fa-check-square-o fa-2\" aria-hidden=\"true\"></i> What you need\n",
    "\n",
    "\n",
    "\n",
    "You need R and RStudio to complete this tutorial. Also we recommend have you\n",
    "\n",
    "have an `earth-analytics` directory setup on your computer with a `/data`\n",
    "\n",
    "directory with it.\n",
    "\n",
    "\n",
    "\n",
    "* [How to Setup R / R Studio](/course-materials/earth-analytics/week-1/setup-r-rstudio/)\n",
    "\n",
    "* [Setup your working directory](/course-materials/earth-analytics/week-1/setup-working-directory/)\n",
    "\n",
    "\n",
    "\n",
    "\n",
    "\n",
    "</div>\n",
    "\n",
    "\n",
    "\n",
    "In the homework from week 1, we used the code below to create a report with `knitr`\n",
    "\n",
    "in `RStudio`.\n",
    "\n",
    "\n"
   ]
  },
  {
   "cell_type": "code",
   "execution_count": 1,
   "metadata": {
    "collapsed": true
   },
   "outputs": [],
   "source": [
    "import earthlab as et\n",
    "import numpy as np\n",
    "import pandas as pd"
   ]
  },
  {
   "cell_type": "code",
   "execution_count": 4,
   "metadata": {},
   "outputs": [
    {
     "name": "stdout",
     "output_type": "stream",
     "text": [
      "Replace is False and data exists, so doing nothing. Use replace==True to re-download the data.\n",
      "Replace is False and data exists, so doing nothing. Use replace==True to re-download the data.\n",
      "['/Users/choldgraf/data_earthlab/week_02/boulder-precip.csv', '/Users/choldgraf/data_earthlab/week_02/temperature_example.csv']\n"
     ]
    }
   ],
   "source": [
    "paths = et.data.get_data('week_02')\n",
    "print(paths)"
   ]
  },
  {
   "cell_type": "code",
   "execution_count": 1,
   "metadata": {
    "collapsed": true
   },
   "outputs": [],
   "source": [
    "# ```{r open-file }\n",
    "\n",
    "\n",
    "\n",
    "# # load the ggplot2 library for plotting\n",
    "\n",
    "# library(ggplot2)\n",
    "\n",
    "\n",
    "\n",
    "# # turn off factors\n",
    "\n",
    "# options(stringsAsFactors = FALSE)\n",
    "\n",
    "\n",
    "\n",
    "# # download data from figshare\n",
    "\n",
    "# # note that we are downloaded the data into your\n",
    "\n",
    "# download.file(url = \"https://ndownloader.figshare.com/files/7010681\",\n",
    "\n",
    "#               destfile = \"data/boulder-precip.csv\")\n",
    "\n",
    "# ```\n"
   ]
  },
  {
   "cell_type": "markdown",
   "metadata": {},
   "source": [
    "\n",
    "\n",
    "Let's break the code above down. First, we use the `download.file` function to\n",
    "\n",
    "download a datafile. In this case, the data are housed on\n",
    "\n",
    "<a href=\"http://www.figshare.com\" target=\"_blank\">Figshare</a> - a\n",
    "\n",
    "popular data repository that is free to use if your data are cumulatively\n",
    "\n",
    "smaller than 20gb.\n",
    "\n",
    "\n",
    "\n",
    "Notice that download.file() function has two **ARGUMENTS**:\n",
    "\n",
    "\n",
    "\n",
    "1. **url**: this is the path to the data file that you wish to download\n",
    "\n",
    "2. **destfile**: this is the location on your computer (in this case: `/data`) and name of the\n",
    "\n",
    "file when saved (in this case: boulder-precip.csv). So we downloaded a file from\n",
    "\n",
    "a url on figshare do our data directory. We named that file `boulder-precip.csv`.\n",
    "\n",
    "\n",
    "\n",
    "Next, we read in the data using the function: `read.csv()`.\n",
    "\n",
    "\n"
   ]
  },
  {
   "cell_type": "code",
   "execution_count": 6,
   "metadata": {},
   "outputs": [
    {
     "data": {
      "text/html": [
       "<div>\n",
       "<table border=\"1\" class=\"dataframe\">\n",
       "  <thead>\n",
       "    <tr style=\"text-align: right;\">\n",
       "      <th></th>\n",
       "      <th>DATE</th>\n",
       "      <th>PRECIP</th>\n",
       "    </tr>\n",
       "  </thead>\n",
       "  <tbody>\n",
       "    <tr>\n",
       "      <th>756</th>\n",
       "      <td>2013-08-21</td>\n",
       "      <td>0.1</td>\n",
       "    </tr>\n",
       "    <tr>\n",
       "      <th>757</th>\n",
       "      <td>2013-08-26</td>\n",
       "      <td>0.1</td>\n",
       "    </tr>\n",
       "    <tr>\n",
       "      <th>758</th>\n",
       "      <td>2013-08-27</td>\n",
       "      <td>0.1</td>\n",
       "    </tr>\n",
       "    <tr>\n",
       "      <th>759</th>\n",
       "      <td>2013-09-01</td>\n",
       "      <td>0.0</td>\n",
       "    </tr>\n",
       "    <tr>\n",
       "      <th>760</th>\n",
       "      <td>2013-09-09</td>\n",
       "      <td>0.1</td>\n",
       "    </tr>\n",
       "  </tbody>\n",
       "</table>\n",
       "</div>"
      ],
      "text/plain": [
       "           DATE  PRECIP\n",
       "756  2013-08-21     0.1\n",
       "757  2013-08-26     0.1\n",
       "758  2013-08-27     0.1\n",
       "759  2013-09-01     0.0\n",
       "760  2013-09-09     0.1"
      ]
     },
     "execution_count": 6,
     "metadata": {},
     "output_type": "execute_result"
    }
   ],
   "source": [
    "boulder_precip = pd.read_csv(paths[0], index_col=0)\n",
    "boulder_precip.head()"
   ]
  },
  {
   "cell_type": "code",
   "execution_count": 7,
   "metadata": {
    "collapsed": true
   },
   "outputs": [],
   "source": [
    "# Not sure what `str` should be mapped to in python"
   ]
  },
  {
   "cell_type": "code",
   "execution_count": 1,
   "metadata": {
    "collapsed": true
   },
   "outputs": [],
   "source": [
    "# ```{r import-data }\n",
    "\n",
    "# # import data\n",
    "\n",
    "# boulder_precip <- read.csv(file=\"data/boulder-precip.csv\")\n",
    "\n",
    "\n",
    "\n",
    "# # view first few rows of the data\n",
    "\n",
    "# head(boulder_precip)\n",
    "\n",
    "\n",
    "\n",
    "# # view the format of the boulder_precip object in R\n",
    "\n",
    "# str(boulder_precip)\n",
    "\n",
    "# ```\n"
   ]
  },
  {
   "cell_type": "markdown",
   "metadata": {},
   "source": [
    "<div class=\"notice--warning\" markdown=\"1\">\n",
    "\n",
    "\n",
    "\n",
    "## <i class=\"fa fa-pencil-square-o\" aria-hidden=\"true\"></i> Challenge\n",
    "\n",
    "What is the format associated with each column for the `boulder_precip`\n",
    "\n",
    "data.frame? Describe the attributes of each format. Can you perform math\n",
    "\n",
    "on each column? Why or why not?\n",
    "\n",
    "\n",
    "\n",
    "<!--\n",
    "\n",
    "integer - numbers without decimal points,\n",
    "\n",
    "character: text strings\n",
    "\n",
    "number: numeric values (can contain decimals places)\n",
    "\n",
    " -->\n",
    "\n",
    "\n",
    "\n",
    "</div>\n",
    "\n",
    "\n",
    "\n",
    "## Introduction to the Data.Frame\n",
    "\n",
    "\n",
    "\n",
    "When we read data into R using read.csv() it imports it into a data frame format.\n",
    "\n",
    "Data frames are the _de facto_ data structure for most tabular data, and what we\n",
    "\n",
    "use for statistics and plotting.\n",
    "\n",
    "\n",
    "\n",
    "A data frame is a collection of vectors of identical lengths. Each vector\n",
    "\n",
    "represents a column, and each vector can be of a different data type (e.g.,\n",
    "\n",
    "characters, integers, factors). The `str()` function is useful to inspect the\n",
    "\n",
    "data types of the columns.\n",
    "\n",
    "\n",
    "\n",
    "A data frame can be created by hand, but most commonly they are generated when\n",
    "\n",
    "you important a text file or spreadsheet into R using the\n",
    "\n",
    "functions `read.csv()` or `read.table()`.\n",
    "\n",
    "\n",
    "\n",
    "## Extracting / Specifying \"columns\" By Name\n",
    "\n",
    "\n",
    "\n",
    "You can extract just one single column from your data.frame using the `$` symbol\n",
    "\n",
    "followed by the name of the column (or the column header):\n",
    "\n",
    "\n"
   ]
  },
  {
   "cell_type": "code",
   "execution_count": 9,
   "metadata": {},
   "outputs": [
    {
     "data": {
      "text/plain": [
       "756    2013-08-21\n",
       "757    2013-08-26\n",
       "758    2013-08-27\n",
       "759    2013-09-01\n",
       "760    2013-09-09\n",
       "761    2013-09-10\n",
       "762    2013-09-11\n",
       "763    2013-09-12\n",
       "764    2013-09-13\n",
       "765    2013-09-15\n",
       "766    2013-09-16\n",
       "767    2013-09-22\n",
       "768    2013-09-23\n",
       "769    2013-09-27\n",
       "770    2013-09-28\n",
       "771    2013-10-01\n",
       "772    2013-10-04\n",
       "773    2013-10-11\n",
       "Name: DATE, dtype: object"
      ]
     },
     "execution_count": 9,
     "metadata": {},
     "output_type": "execute_result"
    }
   ],
   "source": [
    "# when we download the data we create a dataframe\n",
    "# view each column of the data frame using its name (or header)\n",
    "boulder_precip['DATE']"
   ]
  },
  {
   "cell_type": "code",
   "execution_count": null,
   "metadata": {
    "collapsed": true
   },
   "outputs": [],
   "source": [
    "# view the precip column\n",
    "\n",
    "boulder_precip['PRECIP']"
   ]
  },
  {
   "cell_type": "code",
   "execution_count": 1,
   "metadata": {
    "collapsed": true
   },
   "outputs": [],
   "source": [
    "# ```{r view-column }\n",
    "\n",
    "# # when we download the data we create a dataframe\n",
    "\n",
    "# # view each column of the data frame using its name (or header)\n",
    "\n",
    "# boulder_precip$DATE\n",
    "\n",
    "\n",
    "\n",
    "# # view the precip column\n",
    "\n",
    "# boulder_precip$PRECIP\n",
    "\n",
    "# ```\n"
   ]
  },
  {
   "cell_type": "markdown",
   "metadata": {},
   "source": [
    "\n",
    "\n",
    "\n",
    "\n",
    "## View Structure of a Data Frame\n",
    "\n",
    "\n",
    "\n",
    "We can explore the format of our data frame in a similar way to how we explored\n",
    "\n",
    "vectors in the third lesson of this module. Let's take a look.\n",
    "\n",
    "\n",
    "\n",
    "\n"
   ]
  },
  {
   "cell_type": "code",
   "execution_count": 10,
   "metadata": {},
   "outputs": [
    {
     "data": {
      "text/plain": [
       "(18, 2)"
      ]
     },
     "execution_count": 10,
     "metadata": {},
     "output_type": "execute_result"
    }
   ],
   "source": [
    "boulder_precip.shape"
   ]
  },
  {
   "cell_type": "code",
   "execution_count": 1,
   "metadata": {
    "collapsed": true
   },
   "outputs": [],
   "source": [
    "# ```{r view-structure }\n",
    "\n",
    "# # when we download the data we create a dataframe\n",
    "\n",
    "# # view each column of the data frame using its name (or header)\n",
    "\n",
    "# # how many rows does the data frame have\n",
    "\n",
    "# nrow(boulder_precip)\n",
    "\n",
    "\n",
    "\n",
    "# # view the precip column\n",
    "\n",
    "# boulder_precip$PRECIP\n",
    "\n",
    "# ```\n"
   ]
  },
  {
   "cell_type": "markdown",
   "metadata": {},
   "source": [
    "\n",
    "\n",
    "## Plotting our Data\n",
    "\n",
    "\n",
    "\n",
    "We can quickly plot our data too. Note that we are using the `ggplot2` function\n",
    "\n",
    "qplot() rather than the R base plot functionality. We are doing this because\n",
    "\n",
    "`ggplot2` is generally more powerful and efficient to use for plotting.\n",
    "\n",
    "\n"
   ]
  },
  {
   "cell_type": "code",
   "execution_count": 13,
   "metadata": {
    "collapsed": true
   },
   "outputs": [],
   "source": [
    "%matplotlib inline"
   ]
  },
  {
   "cell_type": "code",
   "execution_count": 18,
   "metadata": {},
   "outputs": [
    {
     "data": {
      "image/png": "[encoded data removed]",
      "text/plain": [
       "<matplotlib.figure.Figure at 0x11a0d7198>"
      ]
     },
     "metadata": {},
     "output_type": "display_data"
    }
   ],
   "source": [
    "ax = boulder_precip.plot('DATE', 'PRECIP')\n",
    "plt.setp(ax.get_xticklabels(), rotation=45);"
   ]
  },
  {
   "cell_type": "code",
   "execution_count": 19,
   "metadata": {},
   "outputs": [
    {
     "data": {
      "image/png": "[encoded data removed]",
      "text/plain": [
       "<matplotlib.figure.Figure at 0x11a340d30>"
      ]
     },
     "metadata": {},
     "output_type": "display_data"
    }
   ],
   "source": [
    "import matplotlib.pyplot as plt\n",
    "fig, ax = plt.subplots()\n",
    "boulder_precip['DATE'] = pd.to_datetime(boulder_precip['DATE'])\n",
    "ax.plot('DATE', 'PRECIP', data=boulder_precip)\n",
    "plt.setp(ax.get_xticklabels(), rotation=45);"
   ]
  },
  {
   "cell_type": "code",
   "execution_count": 1,
   "metadata": {
    "collapsed": true
   },
   "outputs": [],
   "source": [
    "# ```{r quick-plot, fig.cap=\"plot precipitation data\" }\n",
    "\n",
    "# # q plot stands for quick plot. Let's use it to plot our data\n",
    "\n",
    "# qplot(x=boulder_precip$DATE,\n",
    "\n",
    "#       y=boulder_precip$PRECIP)\n",
    "\n",
    "\n",
    "\n",
    "# ```\n"
   ]
  }
 ],
 "metadata": {
  "kernelspec": {
   "display_name": "Python 3",
   "language": "python",
   "name": "python3"
  },
  "language_info": {
   "codemirror_mode": {
    "name": "ipython",
    "version": 3
   },
   "file_extension": ".py",
   "mimetype": "text/x-python",
   "name": "python",
   "nbconvert_exporter": "python",
   "pygments_lexer": "ipython3",
   "version": "3.6.0"
  },
  "toc": {
   "toc_cell": false,
   "toc_number_sections": false,
   "toc_threshold": "2",
   "toc_window_display": false
  }
 },
 "nbformat": 4,
 "nbformat_minor": 2
}
