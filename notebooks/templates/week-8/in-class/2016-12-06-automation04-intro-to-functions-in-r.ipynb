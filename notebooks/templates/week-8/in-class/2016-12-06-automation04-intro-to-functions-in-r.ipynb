{
 "cells": [
  {
   "cell_type": "raw",
   "metadata": {},
   "source": [
    "---\n",
    "layout: single\n",
    "title: \"Build a function in R - Efficient scientific programming\"\n",
    "excerpt: \"This lesson introduces how to create a function in R.\"\n",
    "authors: ['Max Joseph', 'Software Carpentry', 'Leah Wasser']\n",
    "modified: '{:%Y-%m-%d}'.format(datetime.now())\n",
    "category: [course-materials]\n",
    "class-lesson: ['automating-your-science-r']\n",
    "permalink: /course-materials/earth-analytics/week-8/intro-to-functions-r/\n",
    "nav-title: 'Write functions in R'\n",
    "week: 8\n",
    "sidebar:\n",
    "  nav:\n",
    "author_profile: false\n",
    "comments: true\n",
    "order: 4\n",
    "---\n"
   ]
  },
  {
   "cell_type": "markdown",
   "metadata": {},
   "source": [
    "\n",
    "\n",
    "\n",
    "\n",
    "{% include toc title=\"In This Lesson\" icon=\"file-text\" %}\n",
    "\n",
    "\n",
    "\n",
    "<div class='notice--success' markdown=\"1\">\n",
    "\n",
    "\n",
    "\n",
    "## <i class=\"fa fa-graduation-cap\" aria-hidden=\"true\"></i> Learning Objectives\n",
    "\n",
    "\n",
    "\n",
    "After completing this tutorial, you will be able to:\n",
    "\n",
    "\n",
    "\n",
    "* Create a new function in R\n",
    "\n",
    "* Understand the concept of a function argument.\n",
    "\n",
    "\n",
    "\n",
    "## <i class=\"fa fa-check-square-o fa-2\" aria-hidden=\"true\"></i> What you need\n",
    "\n",
    "\n",
    "\n",
    "You will need a computer with internet access to complete this lesson.\n",
    "\n",
    "\n",
    "\n",
    "</div>\n",
    "\n",
    "\n",
    "\n",
    "\n",
    "\n",
    "\n",
    "\n",
    "In this lesson, we'll learn how to write a function so that we can repeat several\n",
    "\n",
    "operations with a single command.\n",
    "\n",
    "\n",
    "\n",
    "### Defining a Function\n",
    "\n",
    "\n",
    "\n",
    "Let's start by defining a function `fahr_to_kelvin` that converts temperatures\n",
    "\n",
    "from Fahrenheit to Kelvin:\n",
    "\n",
    "\n"
   ]
  },
  {
   "cell_type": "code",
   "execution_count": 1,
   "metadata": {
    "collapsed": true
   },
   "outputs": [],
   "source": [
    "```{r}\n",
    "\n",
    "fahr_to_kelvin <- function(fahr) {\n",
    "\n",
    "  kelvin <- ((fahr - 32) * (5 / 9)) + 273.15\n",
    "\n",
    "  kelvin\n",
    "\n",
    "}\n",
    "\n",
    "```\n"
   ]
  },
  {
   "cell_type": "markdown",
   "metadata": {},
   "source": [
    "\n",
    "\n",
    "We define `fahr_to_kelvin` by assigning it to the output of `function`.\n",
    "\n",
    "The list of argument names are contained within parentheses - in this case `temp`\n",
    "\n",
    "is the only argument that this function requires.\n",
    "\n",
    "\n",
    "\n",
    "Next, the body of the function--the\n",
    "\n",
    "statements that are executed when it runs--is contained within curly braces (`{}`).\n",
    "\n",
    "The statements in the body are indented by two spaces, which makes the code easier\n",
    "\n",
    "to read but does not affect how the code operates.\n",
    "\n",
    "\n",
    "\n",
    "When we call the function, the values we pass to it are assigned to those\n",
    "\n",
    "variables so that we can use them inside the function.\n",
    "\n",
    "\n",
    "\n",
    "Inside the function, we use a return statement\n",
    "\n",
    "to send a result back to whoever asked for it.\n",
    "\n",
    "\n",
    "\n",
    "> ## Automatic Returns\n",
    "\n",
    ">\n",
    "\n",
    "> In R, it is not necessary to include the return statement.\n",
    "\n",
    "> R automatically returns whichever variable is on the last line of the body\n",
    "\n",
    "> of the function.\n",
    "\n",
    "{: .notice}\n",
    "\n",
    "\n",
    "\n",
    "Let's try running our function.\n",
    "\n",
    "Calling our own function is no different from calling any other function:\n",
    "\n",
    "\n"
   ]
  },
  {
   "cell_type": "code",
   "execution_count": 1,
   "metadata": {
    "collapsed": true
   },
   "outputs": [],
   "source": [
    "```{r}\n",
    "\n",
    "# freezing point of water\n",
    "\n",
    "fahr_to_kelvin(32)\n",
    "\n",
    "# boiling point of water\n",
    "\n",
    "fahr_to_kelvin(212)\n",
    "\n",
    "```\n"
   ]
  },
  {
   "cell_type": "markdown",
   "metadata": {},
   "source": [
    "\n",
    "\n",
    "We've successfully called the function that we defined, and we have access to the value that we returned.\n",
    "\n",
    "\n",
    "\n",
    "### Composing Functions\n",
    "\n",
    "\n",
    "\n",
    "Now that we've seen how to turn Fahrenheit into Kelvin, it's easy to turn Kelvin into Celsius:\n",
    "\n",
    "\n"
   ]
  },
  {
   "cell_type": "code",
   "execution_count": 1,
   "metadata": {
    "collapsed": true
   },
   "outputs": [],
   "source": [
    "```{r kelv-to-cens}\n",
    "\n",
    "kelvin_to_celsius <- function(kelvin) {\n",
    "\n",
    "  celsius <- kelvin - 273.15\n",
    "\n",
    "  celsius\n",
    "\n",
    "}\n",
    "\n",
    "\n",
    "\n",
    "# absolute zero in Celsius\n",
    "\n",
    "kelvin_to_celsius(0)\n",
    "\n",
    "```\n"
   ]
  },
  {
   "cell_type": "markdown",
   "metadata": {},
   "source": [
    "\n",
    "\n",
    "What about converting Fahrenheit to Celsius?\n",
    "\n",
    "We could write out the formula, but we don't need to.\n",
    "\n",
    "Instead, we can compose the\n",
    "\n",
    "two functions we have already created:\n",
    "\n",
    "\n"
   ]
  },
  {
   "cell_type": "code",
   "execution_count": 1,
   "metadata": {
    "collapsed": true
   },
   "outputs": [],
   "source": [
    "```{r}\n",
    "\n",
    "fahr_to_celsius <- function(fahr) {\n",
    "\n",
    "  kelvin <- fahr_to_kelvin(fahr)\n",
    "\n",
    "  celsius <- kelvin_to_celsius(kelvin)\n",
    "\n",
    "  celsius\n",
    "\n",
    "}\n",
    "\n",
    "\n",
    "\n",
    "# freezing point of water in Celsius\n",
    "\n",
    "fahr_to_celsius(32.0)\n",
    "\n",
    "```\n"
   ]
  },
  {
   "cell_type": "markdown",
   "metadata": {},
   "source": [
    "\n",
    "\n",
    "This is our first taste of how larger programs are built: we define basic\n",
    "\n",
    "operations, then combine them in ever-larger chunks to get the effect we want.\n",
    "\n",
    "Real-life functions will usually be larger than the ones shown here--typically half a dozen to a few dozen lines--but they shouldn't ever be much longer than that, or the next person who reads it won't be able to understand what's going on.\n",
    "\n",
    "Even more important than avoiding long functions is ensuring that the logic of your function is expressed by the code that comprises your function.\n",
    "\n",
    "For instance, it is nearly always better to use meaningful variable names such as `fahr` instead of simply `temp`, which could be taken to mean temporary, or temperature (in what units?).\n",
    "\n",
    "You might be surprised at the human mental expense required to comprehend all of the objects and operations in long functions.\n",
    "\n",
    "\n",
    "\n",
    "## Chaining Functions\n",
    "\n",
    "\n",
    "\n",
    "This example showed the output of `fahr_to_kelvin` assigned to `temp_k`, which\n",
    "\n",
    "is then passed to `kelvin_to_celsius` to get the final result. It is also possible\n",
    "\n",
    "to perform this calculation in one line of code, by \"chaining\" functions\n",
    "\n",
    "together, like so:\n",
    "\n",
    "\n"
   ]
  },
  {
   "cell_type": "code",
   "execution_count": 1,
   "metadata": {
    "collapsed": true
   },
   "outputs": [],
   "source": [
    "```{r chained-example}\n",
    "\n",
    "# freezing point of water in Celsius\n",
    "\n",
    "kelvin_to_celsius(fahr_to_kelvin(32.0))\n",
    "\n",
    "```\n"
   ]
  },
  {
   "cell_type": "markdown",
   "metadata": {},
   "source": [
    "\n",
    "\n",
    "\n",
    "\n",
    "## Create a Function\n",
    "\n",
    "\n",
    "\n",
    "We can use the `c` function to **c**oncatenate elements. We have done this when\n",
    "\n",
    "we classified rasters. For example\n",
    "\n",
    "\n",
    "\n",
    "`x <- c(\"A\", \"B\", \"C\")` creates a vector `x`\n",
    "\n",
    "with three elements. Furthermore, we can extend that vector again using `c`.\n",
    "\n",
    "\n",
    "\n",
    "For example,\n",
    "\n",
    "\n",
    "\n",
    "`y <- c(x, \"D\")` creates a vector `y` with four elements.\n",
    "\n",
    "\n",
    "\n",
    "<div class=\"notice--warning\" markdown=\"1\">\n",
    "\n",
    "\n",
    "\n",
    "## <i class=\"fa fa-pencil-square-o\" aria-hidden=\"true\"></i> Optional challenge\n",
    "\n",
    "\n",
    "\n",
    "Write a function called `fence` that takes two vectors as arguments, called\n",
    "\n",
    "original` and `wrapper`, and returns a new vector that has the wrapper vector\n",
    "\n",
    "at the beginning and end of the original. An example of how the function\n",
    "\n",
    "should run is below.\n",
    "\n",
    "\n",
    "\n",
    "</div>\n",
    "\n",
    "\n"
   ]
  },
  {
   "cell_type": "code",
   "execution_count": 1,
   "metadata": {
    "collapsed": true
   },
   "outputs": [],
   "source": [
    "```{r challenge, echo=F}\n",
    "\n",
    "## Solution\n",
    "\n",
    "fence <- function(original, wrapper) {\n",
    "\n",
    " answer <- c(wrapper, original, wrapper)\n",
    "\n",
    " return(answer)\n",
    "\n",
    " }\n",
    "\n",
    "\n",
    "\n",
    "```\n"
   ]
  },
  {
   "cell_type": "markdown",
   "metadata": {},
   "source": [
    "\n"
   ]
  },
  {
   "cell_type": "code",
   "execution_count": 1,
   "metadata": {
    "collapsed": true
   },
   "outputs": [],
   "source": [
    "```{r challenge-2, echo=T}\n",
    "\n",
    "best_practice <- c(\"Write\", \"programs\", \"for\", \"people\", \"not\", \"computers\")\n",
    "\n",
    "asterisk <- \"***\"  # R interprets a variable with a single value as a vector\n",
    "\n",
    "                    # with one element.\n",
    "\n",
    "fence(best_practice, asterisk)\n",
    "\n",
    "```\n"
   ]
  },
  {
   "cell_type": "markdown",
   "metadata": {},
   "source": [
    "\n",
    "\n",
    "<div class=\"notice--warning\" markdown=\"1\">\n",
    "\n",
    "\n",
    "\n",
    "## <i class=\"fa fa-pencil-square-o\" aria-hidden=\"true\"></i> Optional challenge 2\n",
    "\n",
    "If the variable `v` refers to a vector, then `v[1]` is the vector's first element and `v[length(v)]` is its last (the function `length` returns the number of elements in a vector).\n",
    "\n",
    "Write a function called `outside` that returns a vector made up of just the first and last elements of its input:\n",
    "\n",
    "\n",
    "\n",
    "</div>\n",
    "\n",
    "\n"
   ]
  },
  {
   "cell_type": "code",
   "execution_count": 1,
   "metadata": {
    "collapsed": true
   },
   "outputs": [],
   "source": [
    "```{r, echo=F}\n",
    "\n",
    "outside <- function(v) {\n",
    "\n",
    "   first <- v[1]\n",
    "\n",
    "    last <- v[length(v)]\n",
    "\n",
    "    answer <- c(first, last)\n",
    "\n",
    "    return(answer)\n",
    "\n",
    "}\n",
    "\n",
    "```\n"
   ]
  },
  {
   "cell_type": "markdown",
   "metadata": {},
   "source": [
    "\n"
   ]
  },
  {
   "cell_type": "code",
   "execution_count": 1,
   "metadata": {
    "collapsed": true
   },
   "outputs": [],
   "source": [
    "```{r challenge-example}\n",
    "\n",
    " dry_principle <- c(\"Don't\", \"repeat\", \"yourself\", \"or\", \"others\")\n",
    "\n",
    " outside(dry_principle)\n",
    "\n",
    "```\n"
   ]
  }
 ],
 "metadata": {
  "kernelspec": {
   "display_name": "Python 3",
   "language": "python",
   "name": "python3"
  },
  "language_info": {
   "codemirror_mode": {
    "name": "ipython",
    "version": 3
   },
   "file_extension": ".py",
   "mimetype": "text/x-python",
   "name": "python",
   "nbconvert_exporter": "python",
   "pygments_lexer": "ipython3",
   "version": "3.6.0"
  }
 },
 "nbformat": 4,
 "nbformat_minor": 2
}
