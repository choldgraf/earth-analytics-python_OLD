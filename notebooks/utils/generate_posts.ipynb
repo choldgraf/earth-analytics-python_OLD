{
 "cells": [
  {
   "cell_type": "code",
   "execution_count": 2,
   "metadata": {
    "collapsed": true
   },
   "outputs": [],
   "source": [
    "import nbformat as nf\n",
    "import nbconvert as nc\n",
    "import os\n",
    "import subprocess\n",
    "from glob import glob\n",
    "from tqdm import tqdm\n",
    "from datetime import datetime\n",
    "import shutil as sh"
   ]
  },
  {
   "cell_type": "code",
   "execution_count": 17,
   "metadata": {
    "collapsed": true
   },
   "outputs": [],
   "source": [
    "# Finds the ipynb files\n",
    "files = glob('../live/*/*/*.ipynb')\n",
    "\n",
    "# A dictionary that runs the function with the value as input\n",
    "run_keys = {'modified': lambda a: a.format(datetime.today())}\n",
    "\n",
    "# Where to save the MD posts\n",
    "save_path = '../../_posts/earth-analytics-python/'"
   ]
  },
  {
   "cell_type": "code",
   "execution_count": 18,
   "metadata": {},
   "outputs": [
    {
     "name": "stderr",
     "output_type": "stream",
     "text": [
      "100%|██████████| 19/19 [01:04<00:00,  3.59s/it]\n"
     ]
    }
   ],
   "source": [
    "if os.path.exists(save_path):\n",
    "    sh.rmtree(save_path)\n",
    "\n",
    "for ifile in tqdm(files):\n",
    "    # Find file names etc\n",
    "    path = ifile.split('live/')[-1]\n",
    "    path_tmp_file = os.path.basename(path)\n",
    "    file_name = os.path.splitext(path_tmp_file)[0]\n",
    "    path_folders = os.path.dirname(path)\n",
    "    \n",
    "    # Read in notebook, pull meta cell\n",
    "    ntbk = nf.read(ifile, nf.NO_CONVERT)\n",
    "    meta = ntbk['cells'][0]\n",
    "    if meta['cell_type'] == 'raw':\n",
    "\n",
    "        # Only use lines with key: val pairs\n",
    "        metalines = meta['source'].split('\\n') \n",
    "        for ii, ln in enumerate(metalines):\n",
    "            if '---' in ln:\n",
    "                continue\n",
    "            split = ln.split(': ')\n",
    "            if len(split) < 2:\n",
    "                continue\n",
    "            if len(split) > 2:\n",
    "                ln_type = split[0]\n",
    "                ln_val = ': '.join(split[1:])\n",
    "            else:\n",
    "                ln_type, ln_val = split  \n",
    "                \n",
    "            # If we have a function for one of the keys, run it and replace the value\n",
    "            if ln_type not in run_keys.keys():\n",
    "                continue\n",
    "            new_val = eval(run_keys[ln_type](ln_val))\n",
    "            metalines[ii] = ': '.join([ln_type, new_val])\n",
    "        \n",
    "        # Replace the meta cell\n",
    "        meta['source'] = '\\n'.join(metalines)\n",
    "        ntbk['cells'][0] = meta\n",
    "\n",
    "    # Write the file\n",
    "    path_save_tmp_file = os.path.join('./tmp', path_tmp_file)\n",
    "    nf.write(ntbk, path_save_tmp_file)\n",
    "    \n",
    "    # Call nbconvert\n",
    "    subprocess.call(['jupyter', 'nbconvert', '--to', 'markdown', path_save_tmp_file])\n",
    "    os.remove(path_save_tmp_file)\n",
    "    \n",
    "    # Make new folders if they don't exist\n",
    "    new_path_folders = os.path.join(save_path, path_folders)\n",
    "    if not os.path.exists(new_path_folders):\n",
    "        os.makedirs(new_path_folders)\n",
    "    \n",
    "    # Find the folder and the md files that were created, move them to _posts\n",
    "    for jfile in glob('./tmp/{}*'.format(file_name)):\n",
    "        sh.move(jfile, new_path_folders)"
   ]
  },
  {
   "cell_type": "code",
   "execution_count": null,
   "metadata": {
    "collapsed": true
   },
   "outputs": [],
   "source": []
  }
 ],
 "metadata": {
  "kernelspec": {
   "display_name": "Python 3",
   "language": "python",
   "name": "python3"
  },
  "language_info": {
   "codemirror_mode": {
    "name": "ipython",
    "version": 3
   },
   "file_extension": ".py",
   "mimetype": "text/x-python",
   "name": "python",
   "nbconvert_exporter": "python",
   "pygments_lexer": "ipython3",
   "version": "3.6.0"
  },
  "toc": {
   "toc_cell": false,
   "toc_number_sections": false,
   "toc_threshold": "2",
   "toc_window_display": false
  }
 },
 "nbformat": 4,
 "nbformat_minor": 2
}
