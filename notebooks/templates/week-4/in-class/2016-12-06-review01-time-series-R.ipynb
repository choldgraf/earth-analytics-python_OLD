{
 "cells": [
  {
   "cell_type": "raw",
   "metadata": {},
   "source": [
    "---\n",
    "layout: single\n",
    "title: \"Week 4 Review\"\n",
    "excerpt: \".\"\n",
    "authors: ['Leah Wasser']\n",
    "modified: '{:%Y-%m-%d}'.format(datetime.now())\n",
    "category: [course-materials]\n",
    "class-lesson: ['week4-review-r']\n",
    "permalink: /course-materials/earth-analytics/week-4/week4-review-r/\n",
    "nav-title: 'Week 4 review'\n",
    "module-title: 'Review of key concepts in R'\n",
    "module-description: 'In this module, we will review some key concepts associated with both\n",
    "time series data and raster data in R. '\n",
    "module-nav-title: 'Spatial Data in R'\n",
    "module-type: 'class'\n",
    "week: 4\n",
    "sidebar:\n",
    "  nav:\n",
    "author_profile: false\n",
    "comments: true\n",
    "order: 1\n",
    "---\n"
   ]
  },
  {
   "cell_type": "markdown",
   "metadata": {},
   "source": [
    "\n",
    "\n",
    "{% include toc title=\"In This Lesson\" icon=\"file-text\" %}\n",
    "\n",
    "\n",
    "\n",
    "<div class='notice--success' markdown=\"1\">\n",
    "\n",
    "\n",
    "\n",
    "## <i class=\"fa fa-graduation-cap\" aria-hidden=\"true\"></i> Learning Objectives\n",
    "\n",
    "\n",
    "\n",
    "After completing this tutorial, you will be able to:\n",
    "\n",
    "\n",
    "\n",
    "*\n",
    "\n",
    "\n",
    "\n",
    "## <i class=\"fa fa-check-square-o fa-2\" aria-hidden=\"true\"></i> What you need\n",
    "\n",
    "\n",
    "\n",
    "You will need a computer with internet access to complete this lesson and the data for week 4 of the course.\n",
    "\n",
    "\n",
    "\n",
    "[<i class=\"fa fa-download\" aria-hidden=\"true\"></i> Download Week 4 Data (~500 MB)](https://ndownloader.figshare.com/files/7525363){:data-proofer-ignore='' .btn }\n",
    "\n",
    "\n",
    "\n",
    "</div>\n",
    "\n",
    "\n",
    "\n",
    "\n",
    "\n",
    "# Exploring Data\n",
    "\n",
    "\n",
    "\n",
    "Is there a visual change in the data over time that may not be related to changes\n",
    "\n",
    "in precipitation?\n",
    "\n",
    "\n",
    "\n",
    "\n"
   ]
  },
  {
   "cell_type": "code",
   "execution_count": 1,
   "metadata": {
    "collapsed": true
   },
   "outputs": [],
   "source": [
    "```{r setup, fig.cap=\"plot precip data using ggplot\"}\n",
    "\n",
    "library(ggplot2)\n",
    "\n",
    "# bonus lesson\n",
    "\n",
    "precip_file <- \"data/week2/precipitation/805333-precip-daily-1948-2013.csv\"\n",
    "\n",
    "\n",
    "\n",
    "# import precip data into R data.frame\n",
    "\n",
    "precip.boulder <- read.csv(precip_file,\n",
    "\n",
    "                           header = TRUE,\n",
    "\n",
    "                           na.strings = 999.99)\n",
    "\n",
    "\n",
    "\n",
    "# convert to date/time and retain as a new field\n",
    "\n",
    "precip.boulder$DATE <- as.POSIXct(precip.boulder$DATE,\n",
    "\n",
    "                                  format=\"%Y%m%d %H:%M\")\n",
    "\n",
    "                                  # date in the format: YearMonthDay Hour:Minute\n",
    "\n",
    "\n",
    "\n",
    "# double check structure\n",
    "\n",
    "str(precip.boulder$DATE)\n",
    "\n",
    "\n",
    "\n",
    "# plot the data using ggplot2\n",
    "\n",
    "precPlot_hourly <- ggplot(precip.boulder, aes(DATE, HPCP)) +   # the variables of interest\n",
    "\n",
    "      geom_point(stat=\"identity\") +   # create a bar graph\n",
    "\n",
    "      xlab(\"Date\") + ylab(\"Precipitation (Inches)\") +  # label the x & y axes\n",
    "\n",
    "      ggtitle(\"Hourly Precipitation - Boulder Station\\n 1948-2013\")  # add a title\n",
    "\n",
    "\n",
    "\n",
    "precPlot_hourly\n",
    "\n",
    "```\n"
   ]
  },
  {
   "cell_type": "markdown",
   "metadata": {},
   "source": [
    "\n",
    "\n",
    "# interactive plotting\n",
    "\n",
    "\n",
    "\n",
    "Note - don't run this in ggplot\n",
    "\n",
    "\n"
   ]
  },
  {
   "cell_type": "code",
   "execution_count": 1,
   "metadata": {
    "collapsed": true
   },
   "outputs": [],
   "source": [
    "```{r interactive-plot, warning=F, message=F, eval=F }\n",
    "\n",
    "library(plotly)\n",
    "\n",
    "\n",
    "\n",
    "ggplotly(precPlot_hourly)\n",
    "\n",
    "\n",
    "\n",
    "```\n"
   ]
  },
  {
   "cell_type": "markdown",
   "metadata": {},
   "source": [
    "\n",
    "\n",
    "## talk about adding arguments to code chunks\n",
    "\n",
    "\n",
    "\n",
    "\n"
   ]
  },
  {
   "cell_type": "code",
   "execution_count": 1,
   "metadata": {
    "collapsed": true
   },
   "outputs": [],
   "source": [
    "```{r plot-ggplot, fig.cap=\"time series plot of precipitation 1948-2013\"}\n",
    "\n",
    "precip.boulder$HPCP_round <- round(precip.boulder$HPCP, digits = 1)\n",
    "\n",
    "\n",
    "\n",
    "# plot the data using ggplot2\n",
    "\n",
    "precPlot_hourly_round <- ggplot(precip.boulder, aes(DATE, HPCP_round)) +   # the variables of interest\n",
    "\n",
    "      geom_point(stat=\"identity\") +   # create a bar graph\n",
    "\n",
    "      xlab(\"Date\") + ylab(\"Precipitation (Inches)\") +  # label the x & y axes\n",
    "\n",
    "      ggtitle(\"Hourly Precipitation - Boulder Station\\n 1948-2013\")  # add a title\n",
    "\n",
    "\n",
    "\n",
    "precPlot_hourly_round\n",
    "\n",
    "\n",
    "\n",
    "```\n"
   ]
  },
  {
   "cell_type": "markdown",
   "metadata": {},
   "source": [
    "\n",
    "\n",
    "## Time series - Dygraph\n",
    "\n",
    "\n",
    "\n",
    "\n"
   ]
  },
  {
   "cell_type": "code",
   "execution_count": 1,
   "metadata": {
    "collapsed": true
   },
   "outputs": [],
   "source": [
    "```{r pressure, echo=FALSE, eval=F}\n",
    "\n",
    "# interactive time series\n",
    "\n",
    "library(dygraphs)\n",
    "\n",
    "# create time series objects (class xs)\n",
    "\n",
    "library(xts)\n",
    "\n",
    "options(stringsAsFactors = F)\n",
    "\n",
    "\n",
    "\n",
    "\n",
    "\n",
    "discharge_time <- read.csv(\"data/week2/discharge/06730200-discharge-daily-1986-2013.csv\")\n",
    "\n",
    "\n",
    "\n",
    "discharge_time$datetime <- as.Date(discharge_time$datetime, format=\"%m/%d/%y\")\n",
    "\n",
    "# create time series object\n",
    "\n",
    "discharge_timeSeries <- xts(x = discharge_time$disValue,\n",
    "\n",
    "                            order.by = discharge_time$datetime)\n",
    "\n",
    "\n",
    "\n",
    "# create a basic interactive element\n",
    "\n",
    "dygraph(discharge_timeSeries)\n",
    "\n",
    "```\n"
   ]
  },
  {
   "cell_type": "markdown",
   "metadata": {},
   "source": [
    "\n",
    "\n",
    "\n"
   ]
  },
  {
   "cell_type": "code",
   "execution_count": 1,
   "metadata": {
    "collapsed": true
   },
   "outputs": [],
   "source": [
    "```{r interactive-plot-2, eval=F }\n",
    "\n",
    "# create a basic interactive element\n",
    "\n",
    "dygraph(discharge_timeSeries) %>% dyRangeSelector()\n",
    "\n",
    "\n",
    "\n",
    "```\n"
   ]
  },
  {
   "cell_type": "markdown",
   "metadata": {},
   "source": [
    "\n",
    "\n",
    "## Factors\n",
    "\n",
    "\n"
   ]
  },
  {
   "cell_type": "code",
   "execution_count": 1,
   "metadata": {
    "collapsed": true
   },
   "outputs": [],
   "source": [
    "```{r factors}\n",
    "\n",
    "\n",
    "\n",
    "new_vector <- c(\"dog\", \"cat\", \"mouse\",\"cat\", \"mouse\", \"cat\", \"mouse\")\n",
    "\n",
    "str(new_vector)\n",
    "\n",
    "\n",
    "\n",
    "new_vector <- factor(new_vector)\n",
    "\n",
    "str(new_vector)\n",
    "\n",
    "\n",
    "\n",
    "# set the order\n",
    "\n",
    "fa_levels <- c(\"dog\", \"cat\", \"mouse\")\n",
    "\n",
    "# reorder factors\n",
    "\n",
    "new_vector_reordered = factor(new_vector,\n",
    "\n",
    "           levels = fa_levels)\n",
    "\n",
    "new_vector_reordered\n",
    "\n",
    "```\n"
   ]
  }
 ],
 "metadata": {
  "kernelspec": {
   "display_name": "Python 3",
   "language": "python",
   "name": "python3"
  },
  "language_info": {
   "codemirror_mode": {
    "name": "ipython",
    "version": 3
   },
   "file_extension": ".py",
   "mimetype": "text/x-python",
   "name": "python",
   "nbconvert_exporter": "python",
   "pygments_lexer": "ipython3",
   "version": "3.6.0"
  }
 },
 "nbformat": 4,
 "nbformat_minor": 2
}
