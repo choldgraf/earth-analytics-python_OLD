{
 "cells": [
  {
   "cell_type": "raw",
   "metadata": {},
   "source": [
    "---\n",
    "layout: single\n",
    "title: \"Work With Date - Time formats in R - Time Series Data \"\n",
    "excerpt: \"This lesson covers how to deal with dates in R. It reviews how to apply the as.Date() function to a column containing date or data-time data. This function converts a field containing dates in a standard format, to a date class that R can understand and plot efficiently.\"\n",
    "authors: ['Leah Wasser', 'Data Carpentry']\n",
    "modified: '{:%Y-%m-%d}'.format(datetime.now())\n",
    "category: [course-materials]\n",
    "class-lesson: ['hw-ggplot2-r']\n",
    "permalink: /course-materials/earth-analytics/week-2/date-class-in-r/\n",
    "nav-title: 'Dates in R'\n",
    "week: 2\n",
    "sidebar:\n",
    "  nav:\n",
    "author_profile: false\n",
    "comments: true\n",
    "order: 2\n",
    "course: \"earth-analytics\"\n",
    "topics:\n",
    "  reproducible-science-and-programming: ['RStudio']\n",
    "  time-series:\n",
    "  data-exploration-and-analysis: ['data-visualization']\n",
    "---\n"
   ]
  },
  {
   "cell_type": "markdown",
   "metadata": {},
   "source": [
    "\n",
    "\n",
    "{% include toc title=\"In This Lesson\" icon=\"file-text\" %}\n",
    "\n",
    "\n",
    "\n",
    "## Get started with date formats in R\n",
    "\n",
    "\n",
    "\n",
    "In this tutorial, we will look at the date time format - which is important for\n",
    "\n",
    "plotting and working with time series data in R.\n",
    "\n",
    "\n",
    "\n",
    "<div class='notice--success' markdown=\"1\">\n",
    "\n",
    "\n",
    "\n",
    "## <i class=\"fa fa-graduation-cap\" aria-hidden=\"true\"></i> Learning Objectives\n",
    "\n",
    "\n",
    "\n",
    "At the end of this activity, you will be able to:\n",
    "\n",
    "\n",
    "\n",
    "* Convert column in a dataframe containing dates / times to a date/time object that can be used in R.\n",
    "\n",
    "* Be able to describe how we can use the data class 'date' to create easier to read time series plots in `R`.\n",
    "\n",
    "\n",
    "\n",
    "## <i class=\"fa fa-check-square-o fa-2\" aria-hidden=\"true\"></i> What you need\n",
    "\n",
    "\n",
    "\n",
    "You need `R` and `RStudio` to complete this tutorial. Also you should have\n",
    "\n",
    "an `earth-analytics` directory setup on your computer with a `/data`\n",
    "\n",
    "directory with it.\n",
    "\n",
    "\n",
    "\n",
    "* [How to Setup R / RStudio](/course-materials/earth-analytics/week-1/setup-r-rstudio/)\n",
    "\n",
    "* [Setup your working directory](/course-materials/earth-analytics/week-1/setup-working-directory/)\n",
    "\n",
    "* [Intro to the R & RStudio Interface](/course-materials/earth-analytics/week-1/intro-to-r-and-rstudio)\n",
    "\n",
    "\n",
    "\n",
    "</div>\n",
    "\n",
    "\n",
    "\n",
    "\n",
    "\n",
    "In this tutorial, we will learn how to convert data that contain dates and times\n",
    "\n",
    "into a date / time format in R.\n",
    "\n",
    "\n",
    "\n",
    "First let's revisit the boulder precip data that we've been working with in\n",
    "\n",
    "this module.\n",
    "\n",
    "\n"
   ]
  },
  {
   "cell_type": "code",
   "execution_count": 1,
   "metadata": {
    "collapsed": true
   },
   "outputs": [],
   "source": [
    "import earthlab as et\n",
    "import numpy as np\n",
    "import pandas as pd\n",
    "import matplotlib.pyplot as plt\n",
    "import os\n",
    "plt.ion()"
   ]
  },
  {
   "cell_type": "code",
   "execution_count": 2,
   "metadata": {
    "collapsed": true
   },
   "outputs": [],
   "source": [
    "os.chdir('/Users/choldgraf/earth-analytics/')"
   ]
  },
  {
   "cell_type": "code",
   "execution_count": 3,
   "metadata": {},
   "outputs": [
    {
     "data": {
      "text/plain": [
       "<matplotlib.axes._subplots.AxesSubplot at 0x116919908>"
      ]
     },
     "execution_count": 3,
     "metadata": {},
     "output_type": "execute_result"
    },
    {
     "data": {
      "image/png": "[encoded data removed]",
      "text/plain": [
       "<matplotlib.figure.Figure at 0x1168f9f60>"
      ]
     },
     "metadata": {},
     "output_type": "display_data"
    }
   ],
   "source": [
    "boulder_precip = pd.read_csv('./data/week_02/boulder-precip.csv', parse_dates=['DATE'], index_col=0)\n",
    "boulder_precip.plot('DATE', 'PRECIP')"
   ]
  },
  {
   "cell_type": "code",
   "execution_count": 4,
   "metadata": {
    "collapsed": true
   },
   "outputs": [],
   "source": [
    "# ```{r import-data, fig.cap=\"quick plot of precip data\"}\n",
    "\n",
    "# # load the ggplot2 library for plotting\n",
    "\n",
    "# library(ggplot2)\n",
    "\n",
    "\n",
    "\n",
    "# # download data from figshare\n",
    "\n",
    "# # note that we already downloaded the data in the previous exercises so this line\n",
    "\n",
    "# # is commented out. If you want to redownload the data, umcomment the line below.\n",
    "\n",
    "# # download.file(url = \"https://ndownloader.figshare.com/files/7010681\",\n",
    "\n",
    "# #             destfile = \"data/boulder-precip.csv\")\n",
    "\n",
    "\n",
    "\n",
    "# # import data\n",
    "\n",
    "# boulder_precip <- read.csv(file=\"data/boulder-precip.csv\")\n",
    "\n",
    "\n",
    "\n",
    "# # view first few rows of the data\n",
    "\n",
    "# head(boulder_precip)\n",
    "\n",
    "\n",
    "\n",
    "# qplot(x=boulder_precip$DATE,\n",
    "\n",
    "#       y=boulder_precip$PRECIP)\n",
    "\n",
    "# ```\n"
   ]
  },
  {
   "cell_type": "markdown",
   "metadata": {},
   "source": [
    "\n",
    "\n",
    "We know how to use `ggplot()` now so let's use that instead.\n",
    "\n",
    "\n"
   ]
  },
  {
   "cell_type": "code",
   "execution_count": 5,
   "metadata": {},
   "outputs": [
    {
     "data": {
      "image/png": "[encoded data removed]",
      "text/plain": [
       "<matplotlib.figure.Figure at 0x11698c6d8>"
      ]
     },
     "metadata": {},
     "output_type": "display_data"
    }
   ],
   "source": [
    "fig, ax= plt.subplots()\n",
    "ax.plot('DATE', 'PRECIP', data=boulder_precip)\n",
    "plt.setp(ax.get_xticklabels(), rotation=45)\n",
    "ax.set(xlabel=\"Date\",\n",
    "       ylabel=\"Total Precipitation (Inches)\",\n",
    "       title=\"Precipitation Data\\nBoulder, Colorado 2013\");"
   ]
  },
  {
   "cell_type": "code",
   "execution_count": 6,
   "metadata": {
    "collapsed": true
   },
   "outputs": [],
   "source": [
    "# ```{r ggplot-plot, fig.cap=\"ggplot of precip data\" }\n",
    "\n",
    "# # plot the data using ggplot\n",
    "\n",
    "# ggplot(data=boulder_precip, aes(x=DATE, y=PRECIP)) +\n",
    "\n",
    "#   geom_point() +\n",
    "\n",
    "#   glabs(x=\"Date\",\n",
    "\n",
    "#     y=\"Total Precipitation (Inches)\",\n",
    "\n",
    "#     title=\"Precipitation Data\"\n",
    "\n",
    "#     subtitle=\"Boulder, Colorado 2013\")\n",
    "\n",
    "\n",
    "\n",
    "# ```\n"
   ]
  },
  {
   "cell_type": "markdown",
   "metadata": {},
   "source": [
    "\n",
    "\n",
    "Notice when we plot the data, the x axis is \"messy\". It would be easier to read\n",
    "\n",
    "if we only had ticks on the x axis for dates incrementally - every few weeks. Or\n",
    "\n",
    "once a month even.\n",
    "\n",
    "\n",
    "\n",
    "Let's look closely at the STRUCTURE of the data to understand why R is placing\n",
    "\n",
    "so many labels on the x axis.\n",
    "\n",
    "\n",
    "\n",
    "\n"
   ]
  },
  {
   "cell_type": "code",
   "execution_count": 7,
   "metadata": {
    "collapsed": true
   },
   "outputs": [],
   "source": [
    "# not sure how this maps onto python"
   ]
  },
  {
   "cell_type": "code",
   "execution_count": 8,
   "metadata": {
    "collapsed": true
   },
   "outputs": [],
   "source": [
    "# ```{r structure}\n",
    "\n",
    "# str(boulder_precip)\n",
    "\n",
    "\n",
    "\n",
    "# ```\n"
   ]
  },
  {
   "cell_type": "markdown",
   "metadata": {},
   "source": [
    "\n",
    "\n",
    "\n",
    "\n",
    "## Data types (classes) in R\n",
    "\n",
    "\n",
    "\n",
    "The structure results above tell us that the data columns in our `data.frame`\n",
    "\n",
    "are stored as several different data types or `classes` as follows:\n",
    "\n",
    "\n",
    "\n",
    "* **chr - Character:** It holds strings that are composed of letters and\n",
    "\n",
    "words. Character class data can not be interpreted numerically - that is to say\n",
    "\n",
    "we can not perform math on these values even if they contain only numbers.\n",
    "\n",
    "* **int - Integer:**  It holds numbers that are whole integers without decimals.\n",
    "\n",
    "Mathematical operations can be performed on integers.\n",
    "\n",
    "* **num - Numeric:**  It accepts data that are a wide variety of numeric formats\n",
    "\n",
    "including decimals (floating point values) and integers. Numeric also accept\n",
    "\n",
    "larger numbers than **int** will.\n",
    "\n",
    "\n",
    "\n",
    "### Data frame columns can only contain one data class\n",
    "\n",
    "\n",
    "\n",
    "A `data.frame` column can only store on type. This means that a column can not\n",
    "\n",
    "store both numbers and strings. If a column contains a list of numbers and one\n",
    "\n",
    "letter, then the entire column will stored as a `chr` (character).\n",
    "\n",
    "\n",
    "\n",
    "Storing\n",
    "\n",
    "variables using different `classes` is a strategic decision by `R` (and\n",
    "\n",
    "other programming languages) that optimizes processing and storage. It allows:\n",
    "\n",
    "\n",
    "\n",
    "* data to be processed more quickly & efficiently.\n",
    "\n",
    "* the program (`R`) to minimize the storage size.\n",
    "\n",
    "\n",
    "\n",
    "Remember, that we also discussed classes during class in these lessons: [vectors in R - data classes](/course-materials/earth-analytics/week-2/work-with-data-types-r/)\n",
    "\n",
    "\n",
    "\n",
    "## Dates stored as characters\n",
    "\n",
    "Note that the Date column in our data.frame is of class character (chr). This\n",
    "\n",
    "means that R  is reading it in as letters and numbers rather than dates that\n",
    "\n",
    "contain a value that is sequential.\n",
    "\n",
    "\n"
   ]
  },
  {
   "cell_type": "code",
   "execution_count": 14,
   "metadata": {},
   "outputs": [
    {
     "data": {
      "text/plain": [
       "DATE      datetime64[ns]\n",
       "PRECIP           float64\n",
       "dtype: object"
      ]
     },
     "execution_count": 14,
     "metadata": {},
     "output_type": "execute_result"
    }
   ],
   "source": [
    "boulder_precip.dtypes"
   ]
  },
  {
   "cell_type": "code",
   "execution_count": 1,
   "metadata": {
    "collapsed": true
   },
   "outputs": [],
   "source": [
    "# ```{r view-class }\n",
    "\n",
    "# # View data class for each column that we wish to plot\n",
    "\n",
    "# class(boulder_precip$DATE)\n",
    "\n",
    "\n",
    "\n",
    "# class(boulder_precip$PRECIP)\n",
    "\n",
    "\n",
    "\n",
    "# ```\n"
   ]
  },
  {
   "cell_type": "markdown",
   "metadata": {},
   "source": [
    "\n",
    "\n",
    "Thus, when we plot, `R` tries to plot EVERY date value in our data, on\n",
    "\n",
    "the x-axis. This makes it hard to read. But also it makes it hard to work with\n",
    "\n",
    "the data. For instance - what if we wanted to subset out a particular time period\n",
    "\n",
    "from our data? We can't do that if the data are stored as characters.\n",
    "\n",
    "\n",
    "\n",
    "The `PRECIP` data is numeric so that variable plots just fine.\n",
    "\n",
    "\n",
    "\n",
    "## Convert date to an R date class\n",
    "\n",
    "\n",
    "\n",
    "We need to convert our `date` column, which is currently stored as a character\n",
    "\n",
    "to a `date` class that can be displayed as a continuous variable. Lucky\n",
    "\n",
    "for us, `R` has a `date` class. We can convert the `date` field to a `date class`\n",
    "\n",
    "using the function `as.Date()`.\n",
    "\n",
    "\n",
    "\n",
    "When we convert, we need to tell R how the date is formated - where it can find\n",
    "\n",
    "the month, day and year and what format each element is in.\n",
    "\n",
    "\n",
    "\n",
    "For example: 1/1/10 vs 1-1-2010\n",
    "\n",
    "\n",
    "\n",
    "Looking at the results above, we see that our data are stored in the format:\n",
    "\n",
    "Year-Month-Day (2003-08-21). Each part of the date is separated in this case with\n",
    "\n",
    "a `-`. We can use this information to populate our format\n",
    "\n",
    "string using the following designations for the components of the date-time data:\n",
    "\n",
    "\n",
    "\n",
    "* %Y - year\n",
    "\n",
    "* %m - month\n",
    "\n",
    "* %d - day\n",
    "\n",
    "\n",
    "\n",
    "Our format string will look like this: `%Y-%m-%d`. Notice that we are telling\n",
    "\n",
    "R where to find the year (%Y), month (%m) and day (%d). Also notice that we\n",
    "\n",
    "include the dashes that separate each component in each date cell of our data.\n",
    "\n",
    "\n",
    "\n",
    "NOTE: look up `?strptime` to see all of the date \"elements\" that you can use to\n",
    "\n",
    "describe the format of a date string in R.\n",
    "\n",
    "{: .notice--success}\n",
    "\n",
    "\n",
    "\n",
    "\n"
   ]
  },
  {
   "cell_type": "code",
   "execution_count": null,
   "metadata": {
    "collapsed": true
   },
   "outputs": [],
   "source": [
    "# These are already parsed as dates in python...maybe we don't wanna do that?"
   ]
  },
  {
   "cell_type": "code",
   "execution_count": 1,
   "metadata": {
    "collapsed": true
   },
   "outputs": [],
   "source": [
    "# ```{r convert-date-time }\n",
    "\n",
    "# # convert date column to date class\n",
    "\n",
    "# boulder_precip$DATE <- as.Date(boulder_precip$DATE,\n",
    "\n",
    "#                         format=\"%Y-%m-%d\")\n",
    "\n",
    "\n",
    "\n",
    "# # view R class of data\n",
    "\n",
    "# class(boulder_precip$DATE)\n",
    "\n",
    "\n",
    "\n",
    "# # view results\n",
    "\n",
    "# head(boulder_precip$DATE)\n",
    "\n",
    "# ```\n"
   ]
  },
  {
   "cell_type": "markdown",
   "metadata": {},
   "source": [
    "\n",
    "\n",
    "Now that we have adjusted the date, let's plot again. Notice that it plots\n",
    "\n",
    "much more quickly now that R recognizes `date` as a date class. `R` can\n",
    "\n",
    "aggregate ticks on the x-axis by year instead of trying to plot every day!\n",
    "\n",
    "\n"
   ]
  },
  {
   "cell_type": "code",
   "execution_count": 1,
   "metadata": {
    "collapsed": true
   },
   "outputs": [],
   "source": [
    "# ```{r qplot-data, fig.cap=\"precip bar plot\"}\n",
    "\n",
    "# # quickly plot the data and include a title using main=\"\"\n",
    "\n",
    "# # In title string we can use '\\n' to force the string to break onto a new line\n",
    "\n",
    "\n",
    "\n",
    "# ggplot(data=boulder_precip, aes(x=DATE, y=PRECIP)) +\n",
    "\n",
    "#       geom_bar(stat=\"identity\") +\n",
    "\n",
    "#       ggtitle(\"Precipitation\")\n",
    "\n",
    "\n",
    "\n",
    "# ```\n"
   ]
  }
 ],
 "metadata": {
  "kernelspec": {
   "display_name": "Python [default]",
   "language": "python",
   "name": "python3"
  },
  "language_info": {
   "codemirror_mode": {
    "name": "ipython",
    "version": 3
   },
   "file_extension": ".py",
   "mimetype": "text/x-python",
   "name": "python",
   "nbconvert_exporter": "python",
   "pygments_lexer": "ipython3",
   "version": "3.5.2"
  },
  "toc": {
   "toc_cell": false,
   "toc_number_sections": false,
   "toc_threshold": "2",
   "toc_window_display": false
  }
 },
 "nbformat": 4,
 "nbformat_minor": 2
}
